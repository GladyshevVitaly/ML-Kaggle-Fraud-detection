{
 "cells": [
  {
   "cell_type": "markdown",
   "metadata": {
    "id": "vKMNdupZ6Y-_",
    "papermill": {
     "duration": 0.130704,
     "end_time": "2020-10-04T17:46:07.942775",
     "exception": false,
     "start_time": "2020-10-04T17:46:07.812071",
     "status": "completed"
    },
    "tags": []
   },
   "source": [
    "# Обнаружение мошенничества"
   ]
  },
  {
   "cell_type": "code",
   "execution_count": 1,
   "metadata": {
    "execution": {
     "iopub.execute_input": "2020-10-04T17:46:08.185370Z",
     "iopub.status.busy": "2020-10-04T17:46:08.184706Z",
     "iopub.status.idle": "2020-10-04T17:46:11.131099Z",
     "shell.execute_reply": "2020-10-04T17:46:11.131948Z"
    },
    "id": "nC5PXTCu6Y_D",
    "outputId": "18c8743e-175e-427d-ee9c-c60432a6b017",
    "papermill": {
     "duration": 3.072839,
     "end_time": "2020-10-04T17:46:11.132169",
     "exception": false,
     "start_time": "2020-10-04T17:46:08.059330",
     "status": "completed"
    },
    "tags": []
   },
   "outputs": [],
   "source": [
    "import numpy as np\n",
    "import pandas as pd\n",
    "import matplotlib.pyplot as plt\n",
    "import math\n",
    "\n",
    "import seaborn as sns\n",
    "from sklearn.model_selection import train_test_split\n",
    "\n",
    "from tqdm import tqdm\n",
    "\n",
    "from sklearn.metrics import accuracy_score\n",
    "from sklearn.metrics import confusion_matrix\n",
    "from sklearn.metrics import precision_score\n",
    "from sklearn.metrics import recall_score\n",
    "from sklearn.metrics import roc_auc_score\n",
    "from sklearn.metrics import f1_score\n",
    "from sklearn.metrics import mean_absolute_error\n",
    "from sklearn.metrics import mean_squared_error\n",
    "from sklearn.metrics import roc_curve\n",
    "from sklearn.metrics import classification_report\n",
    "\n",
    "\n",
    "from sklearn.model_selection import GridSearchCV\n",
    "import xgboost as xgb\n",
    "from scipy.stats import ttest_rel\n",
    "\n",
    "from sklearn.model_selection import KFold, StratifiedKFold, train_test_split, cross_val_score, cross_validate\n",
    "\n",
    "from typing import List, Optional, Dict, Tuple"
   ]
  },
  {
   "cell_type": "code",
   "execution_count": 2,
   "metadata": {
    "execution": {
     "iopub.execute_input": "2020-10-04T17:46:11.407241Z",
     "iopub.status.busy": "2020-10-04T17:46:11.406268Z",
     "iopub.status.idle": "2020-10-04T17:46:11.414311Z",
     "shell.execute_reply": "2020-10-04T17:46:11.413810Z"
    },
    "papermill": {
     "duration": 0.147261,
     "end_time": "2020-10-04T17:46:11.414457",
     "exception": false,
     "start_time": "2020-10-04T17:46:11.267196",
     "status": "completed"
    },
    "tags": []
   },
   "outputs": [
    {
     "name": "stdout",
     "output_type": "stream",
     "text": [
      "/kaggle/input/geekbrains-competitive-data-analysis/applications_history.csv\n",
      "/kaggle/input/geekbrains-competitive-data-analysis/payments.csv\n",
      "/kaggle/input/geekbrains-competitive-data-analysis/sample_submit.csv\n",
      "/kaggle/input/geekbrains-competitive-data-analysis/bki.csv\n",
      "/kaggle/input/geekbrains-competitive-data-analysis/client_profile.csv\n",
      "/kaggle/input/geekbrains-competitive-data-analysis/test.csv\n",
      "/kaggle/input/geekbrains-competitive-data-analysis/train.csv\n"
     ]
    }
   ],
   "source": [
    "import os\n",
    "for dirname, _, filenames in os.walk('/kaggle/input'):\n",
    "    for filename in filenames:\n",
    "        print(os.path.join(dirname, filename))\n",
    "\n",
    "data_dir = dirname + \"/\"\n",
    "working_dir = \"/kaggle/working/\""
   ]
  },
  {
   "cell_type": "code",
   "execution_count": 3,
   "metadata": {
    "execution": {
     "iopub.execute_input": "2020-10-04T17:46:11.681913Z",
     "iopub.status.busy": "2020-10-04T17:46:11.680947Z",
     "iopub.status.idle": "2020-10-04T17:46:11.739278Z",
     "shell.execute_reply": "2020-10-04T17:46:11.738678Z"
    },
    "id": "P2DPQzwc6fbx",
    "papermill": {
     "duration": 0.195742,
     "end_time": "2020-10-04T17:46:11.739413",
     "exception": false,
     "start_time": "2020-10-04T17:46:11.543671",
     "status": "completed"
    },
    "tags": []
   },
   "outputs": [],
   "source": [
    "import lightgbm as lgbm"
   ]
  },
  {
   "cell_type": "code",
   "execution_count": 4,
   "metadata": {
    "execution": {
     "iopub.execute_input": "2020-10-04T17:46:11.995269Z",
     "iopub.status.busy": "2020-10-04T17:46:11.994525Z",
     "iopub.status.idle": "2020-10-04T17:46:12.160478Z",
     "shell.execute_reply": "2020-10-04T17:46:12.159961Z"
    },
    "id": "FX7oE9wAPar3",
    "papermill": {
     "duration": 0.29369,
     "end_time": "2020-10-04T17:46:12.160620",
     "exception": false,
     "start_time": "2020-10-04T17:46:11.866930",
     "status": "completed"
    },
    "tags": []
   },
   "outputs": [],
   "source": [
    "import catboost as catb"
   ]
  },
  {
   "cell_type": "markdown",
   "metadata": {
    "id": "r31123il6Y_J",
    "papermill": {
     "duration": 0.123237,
     "end_time": "2020-10-04T17:46:12.408006",
     "exception": false,
     "start_time": "2020-10-04T17:46:12.284769",
     "status": "completed"
    },
    "tags": []
   },
   "source": [
    "## Загрузка данных"
   ]
  },
  {
   "cell_type": "code",
   "execution_count": 5,
   "metadata": {
    "execution": {
     "iopub.execute_input": "2020-10-04T17:46:12.654795Z",
     "iopub.status.busy": "2020-10-04T17:46:12.654088Z",
     "iopub.status.idle": "2020-10-04T17:46:12.656934Z",
     "shell.execute_reply": "2020-10-04T17:46:12.656496Z"
    },
    "id": "3joPSrp66Y_V",
    "papermill": {
     "duration": 0.126253,
     "end_time": "2020-10-04T17:46:12.657077",
     "exception": false,
     "start_time": "2020-10-04T17:46:12.530824",
     "status": "completed"
    },
    "tags": []
   },
   "outputs": [],
   "source": [
    "src_list = [\"train\", \"test\", \"client_profile\", \"applications_history\", \"bki\", \"payments\"]"
   ]
  },
  {
   "cell_type": "code",
   "execution_count": 6,
   "metadata": {
    "execution": {
     "iopub.execute_input": "2020-10-04T17:46:12.952913Z",
     "iopub.status.busy": "2020-10-04T17:46:12.952288Z",
     "iopub.status.idle": "2020-10-04T17:46:22.909484Z",
     "shell.execute_reply": "2020-10-04T17:46:22.908832Z"
    },
    "id": "zZ8mnI636Y_b",
    "papermill": {
     "duration": 10.132988,
     "end_time": "2020-10-04T17:46:22.909597",
     "exception": false,
     "start_time": "2020-10-04T17:46:12.776609",
     "status": "completed"
    },
    "tags": []
   },
   "outputs": [],
   "source": [
    "source = {}\n",
    "for name in src_list:\n",
    "    source[name] = pd.read_csv(data_dir + name + \".csv\")"
   ]
  },
  {
   "cell_type": "markdown",
   "metadata": {
    "id": "-rnLW6kA6Y_r",
    "papermill": {
     "duration": 0.114864,
     "end_time": "2020-10-04T17:46:23.139921",
     "exception": false,
     "start_time": "2020-10-04T17:46:23.025057",
     "status": "completed"
    },
    "tags": []
   },
   "source": [
    "## Ключевые характеристики"
   ]
  },
  {
   "cell_type": "code",
   "execution_count": 7,
   "metadata": {
    "execution": {
     "iopub.execute_input": "2020-10-04T17:46:23.372920Z",
     "iopub.status.busy": "2020-10-04T17:46:23.372053Z",
     "iopub.status.idle": "2020-10-04T17:46:23.375631Z",
     "shell.execute_reply": "2020-10-04T17:46:23.376040Z"
    },
    "id": "EaGnUXOv6Y_z",
    "papermill": {
     "duration": 0.120723,
     "end_time": "2020-10-04T17:46:23.376181",
     "exception": false,
     "start_time": "2020-10-04T17:46:23.255458",
     "status": "completed"
    },
    "tags": []
   },
   "outputs": [],
   "source": [
    "pd.set_option('display.max_columns', 400)"
   ]
  },
  {
   "cell_type": "code",
   "execution_count": 8,
   "metadata": {
    "execution": {
     "iopub.execute_input": "2020-10-04T17:46:23.612667Z",
     "iopub.status.busy": "2020-10-04T17:46:23.611733Z",
     "iopub.status.idle": "2020-10-04T17:46:23.616958Z",
     "shell.execute_reply": "2020-10-04T17:46:23.616448Z"
    },
    "id": "d6H07HSJ6Y_t",
    "outputId": "8cc3c503-f4c6-41c1-c907-7ac24857e4f1",
    "papermill": {
     "duration": 0.12527,
     "end_time": "2020-10-04T17:46:23.617066",
     "exception": false,
     "start_time": "2020-10-04T17:46:23.491796",
     "status": "completed"
    },
    "tags": []
   },
   "outputs": [
    {
     "name": "stdout",
     "output_type": "stream",
     "text": [
      "train \n",
      " (110093, 3) \n",
      "\n",
      "test \n",
      " (165141, 2) \n",
      "\n",
      "client_profile \n",
      " (250000, 24) \n",
      "\n",
      "applications_history \n",
      " (1670214, 26) \n",
      "\n",
      "bki \n",
      " (945234, 17) \n",
      "\n",
      "payments \n",
      " (1023932, 8) \n",
      "\n"
     ]
    }
   ],
   "source": [
    "for name in src_list:\n",
    "    print(f\"{name} \\n {source[name].shape} \\n\")"
   ]
  },
  {
   "cell_type": "code",
   "execution_count": 9,
   "metadata": {
    "execution": {
     "iopub.execute_input": "2020-10-04T17:46:23.851911Z",
     "iopub.status.busy": "2020-10-04T17:46:23.850993Z",
     "iopub.status.idle": "2020-10-04T17:46:23.869871Z",
     "shell.execute_reply": "2020-10-04T17:46:23.869341Z"
    },
    "id": "-7QSPiET6Y_6",
    "outputId": "a563576c-57b6-4e45-a19a-69e8a9494528",
    "papermill": {
     "duration": 0.138374,
     "end_time": "2020-10-04T17:46:23.869992",
     "exception": false,
     "start_time": "2020-10-04T17:46:23.731618",
     "status": "completed"
    },
    "tags": []
   },
   "outputs": [
    {
     "data": {
      "text/html": [
       "<div>\n",
       "<style scoped>\n",
       "    .dataframe tbody tr th:only-of-type {\n",
       "        vertical-align: middle;\n",
       "    }\n",
       "\n",
       "    .dataframe tbody tr th {\n",
       "        vertical-align: top;\n",
       "    }\n",
       "\n",
       "    .dataframe thead th {\n",
       "        text-align: right;\n",
       "    }\n",
       "</style>\n",
       "<table border=\"1\" class=\"dataframe\">\n",
       "  <thead>\n",
       "    <tr style=\"text-align: right;\">\n",
       "      <th></th>\n",
       "      <th>APPLICATION_NUMBER</th>\n",
       "      <th>TARGET</th>\n",
       "      <th>NAME_CONTRACT_TYPE</th>\n",
       "    </tr>\n",
       "  </thead>\n",
       "  <tbody>\n",
       "    <tr>\n",
       "      <th>0</th>\n",
       "      <td>123687442</td>\n",
       "      <td>0</td>\n",
       "      <td>Cash</td>\n",
       "    </tr>\n",
       "    <tr>\n",
       "      <th>1</th>\n",
       "      <td>123597908</td>\n",
       "      <td>1</td>\n",
       "      <td>Cash</td>\n",
       "    </tr>\n",
       "    <tr>\n",
       "      <th>2</th>\n",
       "      <td>123526683</td>\n",
       "      <td>0</td>\n",
       "      <td>Cash</td>\n",
       "    </tr>\n",
       "  </tbody>\n",
       "</table>\n",
       "</div>"
      ],
      "text/plain": [
       "   APPLICATION_NUMBER  TARGET NAME_CONTRACT_TYPE\n",
       "0           123687442       0               Cash\n",
       "1           123597908       1               Cash\n",
       "2           123526683       0               Cash"
      ]
     },
     "execution_count": 9,
     "metadata": {},
     "output_type": "execute_result"
    }
   ],
   "source": [
    "source['train'].head(3)"
   ]
  },
  {
   "cell_type": "code",
   "execution_count": 10,
   "metadata": {
    "execution": {
     "iopub.execute_input": "2020-10-04T17:46:24.131204Z",
     "iopub.status.busy": "2020-10-04T17:46:24.130497Z",
     "iopub.status.idle": "2020-10-04T17:46:24.135864Z",
     "shell.execute_reply": "2020-10-04T17:46:24.135271Z"
    },
    "id": "2IvWFbs96ZAA",
    "outputId": "e9324ce0-8b4a-4dd1-bb04-d91eaa2d322e",
    "papermill": {
     "duration": 0.148081,
     "end_time": "2020-10-04T17:46:24.136020",
     "exception": false,
     "start_time": "2020-10-04T17:46:23.987939",
     "status": "completed"
    },
    "tags": []
   },
   "outputs": [
    {
     "data": {
      "text/html": [
       "<div>\n",
       "<style scoped>\n",
       "    .dataframe tbody tr th:only-of-type {\n",
       "        vertical-align: middle;\n",
       "    }\n",
       "\n",
       "    .dataframe tbody tr th {\n",
       "        vertical-align: top;\n",
       "    }\n",
       "\n",
       "    .dataframe thead th {\n",
       "        text-align: right;\n",
       "    }\n",
       "</style>\n",
       "<table border=\"1\" class=\"dataframe\">\n",
       "  <thead>\n",
       "    <tr style=\"text-align: right;\">\n",
       "      <th></th>\n",
       "      <th>APPLICATION_NUMBER</th>\n",
       "      <th>GENDER</th>\n",
       "      <th>CHILDRENS</th>\n",
       "      <th>TOTAL_SALARY</th>\n",
       "      <th>AMOUNT_CREDIT</th>\n",
       "      <th>AMOUNT_ANNUITY</th>\n",
       "      <th>EDUCATION_LEVEL</th>\n",
       "      <th>FAMILY_STATUS</th>\n",
       "      <th>REGION_POPULATION</th>\n",
       "      <th>AGE</th>\n",
       "      <th>DAYS_ON_LAST_JOB</th>\n",
       "      <th>OWN_CAR_AGE</th>\n",
       "      <th>FLAG_PHONE</th>\n",
       "      <th>FLAG_EMAIL</th>\n",
       "      <th>FAMILY_SIZE</th>\n",
       "      <th>EXTERNAL_SCORING_RATING_1</th>\n",
       "      <th>EXTERNAL_SCORING_RATING_2</th>\n",
       "      <th>EXTERNAL_SCORING_RATING_3</th>\n",
       "      <th>AMT_REQ_CREDIT_BUREAU_HOUR</th>\n",
       "      <th>AMT_REQ_CREDIT_BUREAU_DAY</th>\n",
       "      <th>AMT_REQ_CREDIT_BUREAU_WEEK</th>\n",
       "      <th>AMT_REQ_CREDIT_BUREAU_MON</th>\n",
       "      <th>AMT_REQ_CREDIT_BUREAU_QRT</th>\n",
       "      <th>AMT_REQ_CREDIT_BUREAU_YEAR</th>\n",
       "    </tr>\n",
       "  </thead>\n",
       "  <tbody>\n",
       "    <tr>\n",
       "      <th>0</th>\n",
       "      <td>123666076</td>\n",
       "      <td>F</td>\n",
       "      <td>0</td>\n",
       "      <td>157500.0</td>\n",
       "      <td>270000.0</td>\n",
       "      <td>13500.0</td>\n",
       "      <td>Incomplete higher</td>\n",
       "      <td>Civil marriage</td>\n",
       "      <td>0.008068</td>\n",
       "      <td>8560</td>\n",
       "      <td>1549</td>\n",
       "      <td>NaN</td>\n",
       "      <td>1</td>\n",
       "      <td>0</td>\n",
       "      <td>2.0</td>\n",
       "      <td>0.329471</td>\n",
       "      <td>0.236315</td>\n",
       "      <td>0.678568</td>\n",
       "      <td>0.0</td>\n",
       "      <td>0.0</td>\n",
       "      <td>0.0</td>\n",
       "      <td>0.0</td>\n",
       "      <td>1.0</td>\n",
       "      <td>2.0</td>\n",
       "    </tr>\n",
       "    <tr>\n",
       "      <th>1</th>\n",
       "      <td>123423688</td>\n",
       "      <td>F</td>\n",
       "      <td>0</td>\n",
       "      <td>270000.0</td>\n",
       "      <td>536917.5</td>\n",
       "      <td>28467.0</td>\n",
       "      <td>Secondary / secondary special</td>\n",
       "      <td>Married</td>\n",
       "      <td>0.020246</td>\n",
       "      <td>23187</td>\n",
       "      <td>365243</td>\n",
       "      <td>NaN</td>\n",
       "      <td>0</td>\n",
       "      <td>0</td>\n",
       "      <td>2.0</td>\n",
       "      <td>NaN</td>\n",
       "      <td>0.442295</td>\n",
       "      <td>0.802745</td>\n",
       "      <td>0.0</td>\n",
       "      <td>0.0</td>\n",
       "      <td>0.0</td>\n",
       "      <td>0.0</td>\n",
       "      <td>1.0</td>\n",
       "      <td>1.0</td>\n",
       "    </tr>\n",
       "    <tr>\n",
       "      <th>2</th>\n",
       "      <td>123501780</td>\n",
       "      <td>M</td>\n",
       "      <td>1</td>\n",
       "      <td>427500.0</td>\n",
       "      <td>239850.0</td>\n",
       "      <td>23850.0</td>\n",
       "      <td>Incomplete higher</td>\n",
       "      <td>Married</td>\n",
       "      <td>0.072508</td>\n",
       "      <td>14387</td>\n",
       "      <td>326</td>\n",
       "      <td>18.0</td>\n",
       "      <td>0</td>\n",
       "      <td>0</td>\n",
       "      <td>3.0</td>\n",
       "      <td>0.409017</td>\n",
       "      <td>0.738159</td>\n",
       "      <td>NaN</td>\n",
       "      <td>NaN</td>\n",
       "      <td>NaN</td>\n",
       "      <td>NaN</td>\n",
       "      <td>NaN</td>\n",
       "      <td>NaN</td>\n",
       "      <td>NaN</td>\n",
       "    </tr>\n",
       "  </tbody>\n",
       "</table>\n",
       "</div>"
      ],
      "text/plain": [
       "   APPLICATION_NUMBER GENDER  CHILDRENS  TOTAL_SALARY  AMOUNT_CREDIT  \\\n",
       "0           123666076      F          0      157500.0       270000.0   \n",
       "1           123423688      F          0      270000.0       536917.5   \n",
       "2           123501780      M          1      427500.0       239850.0   \n",
       "\n",
       "   AMOUNT_ANNUITY                EDUCATION_LEVEL   FAMILY_STATUS  \\\n",
       "0         13500.0              Incomplete higher  Civil marriage   \n",
       "1         28467.0  Secondary / secondary special         Married   \n",
       "2         23850.0              Incomplete higher         Married   \n",
       "\n",
       "   REGION_POPULATION    AGE  DAYS_ON_LAST_JOB  OWN_CAR_AGE  FLAG_PHONE  \\\n",
       "0           0.008068   8560              1549          NaN           1   \n",
       "1           0.020246  23187            365243          NaN           0   \n",
       "2           0.072508  14387               326         18.0           0   \n",
       "\n",
       "   FLAG_EMAIL  FAMILY_SIZE  EXTERNAL_SCORING_RATING_1  \\\n",
       "0           0          2.0                   0.329471   \n",
       "1           0          2.0                        NaN   \n",
       "2           0          3.0                   0.409017   \n",
       "\n",
       "   EXTERNAL_SCORING_RATING_2  EXTERNAL_SCORING_RATING_3  \\\n",
       "0                   0.236315                   0.678568   \n",
       "1                   0.442295                   0.802745   \n",
       "2                   0.738159                        NaN   \n",
       "\n",
       "   AMT_REQ_CREDIT_BUREAU_HOUR  AMT_REQ_CREDIT_BUREAU_DAY  \\\n",
       "0                         0.0                        0.0   \n",
       "1                         0.0                        0.0   \n",
       "2                         NaN                        NaN   \n",
       "\n",
       "   AMT_REQ_CREDIT_BUREAU_WEEK  AMT_REQ_CREDIT_BUREAU_MON  \\\n",
       "0                         0.0                        0.0   \n",
       "1                         0.0                        0.0   \n",
       "2                         NaN                        NaN   \n",
       "\n",
       "   AMT_REQ_CREDIT_BUREAU_QRT  AMT_REQ_CREDIT_BUREAU_YEAR  \n",
       "0                        1.0                         2.0  \n",
       "1                        1.0                         1.0  \n",
       "2                        NaN                         NaN  "
      ]
     },
     "execution_count": 10,
     "metadata": {},
     "output_type": "execute_result"
    }
   ],
   "source": [
    "source['client_profile'].head(3)"
   ]
  },
  {
   "cell_type": "code",
   "execution_count": 11,
   "metadata": {
    "execution": {
     "iopub.execute_input": "2020-10-04T17:46:24.374268Z",
     "iopub.status.busy": "2020-10-04T17:46:24.373671Z",
     "iopub.status.idle": "2020-10-04T17:46:24.397048Z",
     "shell.execute_reply": "2020-10-04T17:46:24.396593Z"
    },
    "id": "F_qHXx5k6ZAH",
    "outputId": "47c9449d-5fcf-4b9c-a9bf-e64117a4765e",
    "papermill": {
     "duration": 0.144918,
     "end_time": "2020-10-04T17:46:24.397151",
     "exception": false,
     "start_time": "2020-10-04T17:46:24.252233",
     "status": "completed"
    },
    "tags": []
   },
   "outputs": [
    {
     "data": {
      "text/html": [
       "<div>\n",
       "<style scoped>\n",
       "    .dataframe tbody tr th:only-of-type {\n",
       "        vertical-align: middle;\n",
       "    }\n",
       "\n",
       "    .dataframe tbody tr th {\n",
       "        vertical-align: top;\n",
       "    }\n",
       "\n",
       "    .dataframe thead th {\n",
       "        text-align: right;\n",
       "    }\n",
       "</style>\n",
       "<table border=\"1\" class=\"dataframe\">\n",
       "  <thead>\n",
       "    <tr style=\"text-align: right;\">\n",
       "      <th></th>\n",
       "      <th>PREV_APPLICATION_NUMBER</th>\n",
       "      <th>APPLICATION_NUMBER</th>\n",
       "      <th>NAME_CONTRACT_TYPE</th>\n",
       "      <th>AMOUNT_ANNUITY</th>\n",
       "      <th>AMT_APPLICATION</th>\n",
       "      <th>AMOUNT_CREDIT</th>\n",
       "      <th>AMOUNT_PAYMENT</th>\n",
       "      <th>AMOUNT_GOODS_PAYMENT</th>\n",
       "      <th>NAME_CONTRACT_STATUS</th>\n",
       "      <th>DAYS_DECISION</th>\n",
       "      <th>NAME_PAYMENT_TYPE</th>\n",
       "      <th>CODE_REJECT_REASON</th>\n",
       "      <th>NAME_TYPE_SUITE</th>\n",
       "      <th>NAME_CLIENT_TYPE</th>\n",
       "      <th>NAME_GOODS_CATEGORY</th>\n",
       "      <th>NAME_PORTFOLIO</th>\n",
       "      <th>NAME_PRODUCT_TYPE</th>\n",
       "      <th>SELLERPLACE_AREA</th>\n",
       "      <th>CNT_PAYMENT</th>\n",
       "      <th>NAME_YIELD_GROUP</th>\n",
       "      <th>DAYS_FIRST_DRAWING</th>\n",
       "      <th>DAYS_FIRST_DUE</th>\n",
       "      <th>DAYS_LAST_DUE_1ST_VERSION</th>\n",
       "      <th>DAYS_LAST_DUE</th>\n",
       "      <th>DAYS_TERMINATION</th>\n",
       "      <th>NFLAG_INSURED_ON_APPROVAL</th>\n",
       "    </tr>\n",
       "  </thead>\n",
       "  <tbody>\n",
       "    <tr>\n",
       "      <th>0</th>\n",
       "      <td>49298709</td>\n",
       "      <td>123595216</td>\n",
       "      <td>NaN</td>\n",
       "      <td>1730.430</td>\n",
       "      <td>17145.0</td>\n",
       "      <td>17145.0</td>\n",
       "      <td>0.0</td>\n",
       "      <td>17145.0</td>\n",
       "      <td>Approved</td>\n",
       "      <td>73</td>\n",
       "      <td>Cash through the bank</td>\n",
       "      <td>XAP</td>\n",
       "      <td>NaN</td>\n",
       "      <td>Repeater</td>\n",
       "      <td>Mobile</td>\n",
       "      <td>POS</td>\n",
       "      <td>XNA</td>\n",
       "      <td>35</td>\n",
       "      <td>12.0</td>\n",
       "      <td>middle</td>\n",
       "      <td>365243.0</td>\n",
       "      <td>42.0</td>\n",
       "      <td>300.0</td>\n",
       "      <td>42.0</td>\n",
       "      <td>37.0</td>\n",
       "      <td>0.0</td>\n",
       "    </tr>\n",
       "    <tr>\n",
       "      <th>1</th>\n",
       "      <td>50070639</td>\n",
       "      <td>123431468</td>\n",
       "      <td>Cash</td>\n",
       "      <td>25188.615</td>\n",
       "      <td>607500.0</td>\n",
       "      <td>679671.0</td>\n",
       "      <td>NaN</td>\n",
       "      <td>607500.0</td>\n",
       "      <td>Approved</td>\n",
       "      <td>164</td>\n",
       "      <td>XNA</td>\n",
       "      <td>XAP</td>\n",
       "      <td>Unaccompanied</td>\n",
       "      <td>Repeater</td>\n",
       "      <td>XNA</td>\n",
       "      <td>Cash</td>\n",
       "      <td>x-sell</td>\n",
       "      <td>-1</td>\n",
       "      <td>36.0</td>\n",
       "      <td>low_action</td>\n",
       "      <td>365243.0</td>\n",
       "      <td>134.0</td>\n",
       "      <td>916.0</td>\n",
       "      <td>365243.0</td>\n",
       "      <td>365243.0</td>\n",
       "      <td>1.0</td>\n",
       "    </tr>\n",
       "    <tr>\n",
       "      <th>2</th>\n",
       "      <td>49791680</td>\n",
       "      <td>123445379</td>\n",
       "      <td>Cash</td>\n",
       "      <td>15060.735</td>\n",
       "      <td>112500.0</td>\n",
       "      <td>136444.5</td>\n",
       "      <td>NaN</td>\n",
       "      <td>112500.0</td>\n",
       "      <td>Approved</td>\n",
       "      <td>301</td>\n",
       "      <td>Cash through the bank</td>\n",
       "      <td>XAP</td>\n",
       "      <td>Spouse, partner</td>\n",
       "      <td>Repeater</td>\n",
       "      <td>XNA</td>\n",
       "      <td>Cash</td>\n",
       "      <td>x-sell</td>\n",
       "      <td>-1</td>\n",
       "      <td>12.0</td>\n",
       "      <td>high</td>\n",
       "      <td>365243.0</td>\n",
       "      <td>271.0</td>\n",
       "      <td>59.0</td>\n",
       "      <td>365243.0</td>\n",
       "      <td>365243.0</td>\n",
       "      <td>1.0</td>\n",
       "    </tr>\n",
       "  </tbody>\n",
       "</table>\n",
       "</div>"
      ],
      "text/plain": [
       "   PREV_APPLICATION_NUMBER  APPLICATION_NUMBER NAME_CONTRACT_TYPE  \\\n",
       "0                 49298709           123595216                NaN   \n",
       "1                 50070639           123431468               Cash   \n",
       "2                 49791680           123445379               Cash   \n",
       "\n",
       "   AMOUNT_ANNUITY  AMT_APPLICATION  AMOUNT_CREDIT  AMOUNT_PAYMENT  \\\n",
       "0        1730.430          17145.0        17145.0             0.0   \n",
       "1       25188.615         607500.0       679671.0             NaN   \n",
       "2       15060.735         112500.0       136444.5             NaN   \n",
       "\n",
       "   AMOUNT_GOODS_PAYMENT NAME_CONTRACT_STATUS  DAYS_DECISION  \\\n",
       "0               17145.0             Approved             73   \n",
       "1              607500.0             Approved            164   \n",
       "2              112500.0             Approved            301   \n",
       "\n",
       "       NAME_PAYMENT_TYPE CODE_REJECT_REASON  NAME_TYPE_SUITE NAME_CLIENT_TYPE  \\\n",
       "0  Cash through the bank                XAP              NaN         Repeater   \n",
       "1                    XNA                XAP    Unaccompanied         Repeater   \n",
       "2  Cash through the bank                XAP  Spouse, partner         Repeater   \n",
       "\n",
       "  NAME_GOODS_CATEGORY NAME_PORTFOLIO NAME_PRODUCT_TYPE  SELLERPLACE_AREA  \\\n",
       "0              Mobile            POS               XNA                35   \n",
       "1                 XNA           Cash            x-sell                -1   \n",
       "2                 XNA           Cash            x-sell                -1   \n",
       "\n",
       "   CNT_PAYMENT NAME_YIELD_GROUP  DAYS_FIRST_DRAWING  DAYS_FIRST_DUE  \\\n",
       "0         12.0           middle            365243.0            42.0   \n",
       "1         36.0       low_action            365243.0           134.0   \n",
       "2         12.0             high            365243.0           271.0   \n",
       "\n",
       "   DAYS_LAST_DUE_1ST_VERSION  DAYS_LAST_DUE  DAYS_TERMINATION  \\\n",
       "0                      300.0           42.0              37.0   \n",
       "1                      916.0       365243.0          365243.0   \n",
       "2                       59.0       365243.0          365243.0   \n",
       "\n",
       "   NFLAG_INSURED_ON_APPROVAL  \n",
       "0                        0.0  \n",
       "1                        1.0  \n",
       "2                        1.0  "
      ]
     },
     "execution_count": 11,
     "metadata": {},
     "output_type": "execute_result"
    }
   ],
   "source": [
    "source['applications_history'].head(3)"
   ]
  },
  {
   "cell_type": "code",
   "execution_count": 12,
   "metadata": {
    "execution": {
     "iopub.execute_input": "2020-10-04T17:46:24.638652Z",
     "iopub.status.busy": "2020-10-04T17:46:24.638022Z",
     "iopub.status.idle": "2020-10-04T17:46:24.868404Z",
     "shell.execute_reply": "2020-10-04T17:46:24.867890Z"
    },
    "id": "tcaIEesO6ZAM",
    "outputId": "917437b6-1d61-4a87-e1ed-1179491541c0",
    "papermill": {
     "duration": 0.35597,
     "end_time": "2020-10-04T17:46:24.868556",
     "exception": false,
     "start_time": "2020-10-04T17:46:24.512586",
     "status": "completed"
    },
    "tags": []
   },
   "outputs": [
    {
     "data": {
      "text/plain": [
       "APPLICATION_NUMBER\n",
       "123423340     1\n",
       "123567999     1\n",
       "123744405     1\n",
       "123690209     1\n",
       "123567994     1\n",
       "             ..\n",
       "123530122    67\n",
       "123565751    68\n",
       "123497019    72\n",
       "123589020    73\n",
       "123511207    77\n",
       "Name: APPLICATION_NUMBER, Length: 338857, dtype: int64"
      ]
     },
     "execution_count": 12,
     "metadata": {},
     "output_type": "execute_result"
    }
   ],
   "source": [
    "source['applications_history'].groupby(\"APPLICATION_NUMBER\")[\"APPLICATION_NUMBER\"].count().sort_values()"
   ]
  },
  {
   "cell_type": "code",
   "execution_count": 13,
   "metadata": {
    "execution": {
     "iopub.execute_input": "2020-10-04T17:46:25.125935Z",
     "iopub.status.busy": "2020-10-04T17:46:25.125107Z",
     "iopub.status.idle": "2020-10-04T17:46:25.129715Z",
     "shell.execute_reply": "2020-10-04T17:46:25.129127Z"
    },
    "id": "xAMyFpZA6ZAS",
    "outputId": "117800d4-3bf6-404e-89f7-cf297c275ca9",
    "papermill": {
     "duration": 0.142171,
     "end_time": "2020-10-04T17:46:25.129819",
     "exception": false,
     "start_time": "2020-10-04T17:46:24.987648",
     "status": "completed"
    },
    "tags": []
   },
   "outputs": [
    {
     "data": {
      "text/html": [
       "<div>\n",
       "<style scoped>\n",
       "    .dataframe tbody tr th:only-of-type {\n",
       "        vertical-align: middle;\n",
       "    }\n",
       "\n",
       "    .dataframe tbody tr th {\n",
       "        vertical-align: top;\n",
       "    }\n",
       "\n",
       "    .dataframe thead th {\n",
       "        text-align: right;\n",
       "    }\n",
       "</style>\n",
       "<table border=\"1\" class=\"dataframe\">\n",
       "  <thead>\n",
       "    <tr style=\"text-align: right;\">\n",
       "      <th></th>\n",
       "      <th>APPLICATION_NUMBER</th>\n",
       "      <th>BUREAU_ID</th>\n",
       "      <th>CREDIT_ACTIVE</th>\n",
       "      <th>CREDIT_CURRENCY</th>\n",
       "      <th>DAYS_CREDIT</th>\n",
       "      <th>CREDIT_DAY_OVERDUE</th>\n",
       "      <th>DAYS_CREDIT_ENDDATE</th>\n",
       "      <th>DAYS_ENDDATE_FACT</th>\n",
       "      <th>AMT_CREDIT_MAX_OVERDUE</th>\n",
       "      <th>CNT_CREDIT_PROLONG</th>\n",
       "      <th>AMT_CREDIT_SUM</th>\n",
       "      <th>AMT_CREDIT_SUM_DEBT</th>\n",
       "      <th>AMT_CREDIT_SUM_LIMIT</th>\n",
       "      <th>AMT_CREDIT_SUM_OVERDUE</th>\n",
       "      <th>CREDIT_TYPE</th>\n",
       "      <th>DAYS_CREDIT_UPDATE</th>\n",
       "      <th>AMT_ANNUITY</th>\n",
       "    </tr>\n",
       "  </thead>\n",
       "  <tbody>\n",
       "    <tr>\n",
       "      <th>0</th>\n",
       "      <td>123538884</td>\n",
       "      <td>5223613</td>\n",
       "      <td>Active</td>\n",
       "      <td>currency 1</td>\n",
       "      <td>718.0</td>\n",
       "      <td>0</td>\n",
       "      <td>377.0</td>\n",
       "      <td>NaN</td>\n",
       "      <td>19386.81</td>\n",
       "      <td>0</td>\n",
       "      <td>675000.00</td>\n",
       "      <td>320265.495</td>\n",
       "      <td>0.0</td>\n",
       "      <td>0.0</td>\n",
       "      <td>Consumer credit</td>\n",
       "      <td>39.0</td>\n",
       "      <td>NaN</td>\n",
       "    </tr>\n",
       "    <tr>\n",
       "      <th>1</th>\n",
       "      <td>123436670</td>\n",
       "      <td>6207544</td>\n",
       "      <td>Closed</td>\n",
       "      <td>currency 1</td>\n",
       "      <td>696.0</td>\n",
       "      <td>0</td>\n",
       "      <td>511.0</td>\n",
       "      <td>511.0</td>\n",
       "      <td>0.00</td>\n",
       "      <td>0</td>\n",
       "      <td>93111.66</td>\n",
       "      <td>0.000</td>\n",
       "      <td>0.0</td>\n",
       "      <td>0.0</td>\n",
       "      <td>Consumer credit</td>\n",
       "      <td>505.0</td>\n",
       "      <td>NaN</td>\n",
       "    </tr>\n",
       "    <tr>\n",
       "      <th>2</th>\n",
       "      <td>123589020</td>\n",
       "      <td>6326395</td>\n",
       "      <td>Closed</td>\n",
       "      <td>currency 1</td>\n",
       "      <td>165.0</td>\n",
       "      <td>0</td>\n",
       "      <td>149.0</td>\n",
       "      <td>160.0</td>\n",
       "      <td>NaN</td>\n",
       "      <td>0</td>\n",
       "      <td>36000.00</td>\n",
       "      <td>0.000</td>\n",
       "      <td>0.0</td>\n",
       "      <td>0.0</td>\n",
       "      <td>Consumer credit</td>\n",
       "      <td>150.0</td>\n",
       "      <td>0.0</td>\n",
       "    </tr>\n",
       "  </tbody>\n",
       "</table>\n",
       "</div>"
      ],
      "text/plain": [
       "   APPLICATION_NUMBER  BUREAU_ID CREDIT_ACTIVE CREDIT_CURRENCY  DAYS_CREDIT  \\\n",
       "0           123538884    5223613        Active      currency 1        718.0   \n",
       "1           123436670    6207544        Closed      currency 1        696.0   \n",
       "2           123589020    6326395        Closed      currency 1        165.0   \n",
       "\n",
       "   CREDIT_DAY_OVERDUE  DAYS_CREDIT_ENDDATE  DAYS_ENDDATE_FACT  \\\n",
       "0                   0                377.0                NaN   \n",
       "1                   0                511.0              511.0   \n",
       "2                   0                149.0              160.0   \n",
       "\n",
       "   AMT_CREDIT_MAX_OVERDUE  CNT_CREDIT_PROLONG  AMT_CREDIT_SUM  \\\n",
       "0                19386.81                   0       675000.00   \n",
       "1                    0.00                   0        93111.66   \n",
       "2                     NaN                   0        36000.00   \n",
       "\n",
       "   AMT_CREDIT_SUM_DEBT  AMT_CREDIT_SUM_LIMIT  AMT_CREDIT_SUM_OVERDUE  \\\n",
       "0           320265.495                   0.0                     0.0   \n",
       "1                0.000                   0.0                     0.0   \n",
       "2                0.000                   0.0                     0.0   \n",
       "\n",
       "       CREDIT_TYPE  DAYS_CREDIT_UPDATE  AMT_ANNUITY  \n",
       "0  Consumer credit                39.0          NaN  \n",
       "1  Consumer credit               505.0          NaN  \n",
       "2  Consumer credit               150.0          0.0  "
      ]
     },
     "execution_count": 13,
     "metadata": {},
     "output_type": "execute_result"
    }
   ],
   "source": [
    "source['bki'].head(3)"
   ]
  },
  {
   "cell_type": "code",
   "execution_count": 14,
   "metadata": {
    "execution": {
     "iopub.execute_input": "2020-10-04T17:46:25.373689Z",
     "iopub.status.busy": "2020-10-04T17:46:25.373055Z",
     "iopub.status.idle": "2020-10-04T17:46:25.501973Z",
     "shell.execute_reply": "2020-10-04T17:46:25.501487Z"
    },
    "id": "lzLa95al6ZAX",
    "outputId": "fb03ae0b-c4bd-4068-c0c8-bc1d0cd86c1e",
    "papermill": {
     "duration": 0.25091,
     "end_time": "2020-10-04T17:46:25.502074",
     "exception": false,
     "start_time": "2020-10-04T17:46:25.251164",
     "status": "completed"
    },
    "tags": []
   },
   "outputs": [
    {
     "data": {
      "text/plain": [
       "APPLICATION_NUMBER\n",
       "123571743     1\n",
       "123620010     1\n",
       "123740077     1\n",
       "123502086     1\n",
       "123620015     1\n",
       "             ..\n",
       "123604794    36\n",
       "123603494    39\n",
       "123641404    50\n",
       "123493043    51\n",
       "123444199    63\n",
       "Name: APPLICATION_NUMBER, Length: 273131, dtype: int64"
      ]
     },
     "execution_count": 14,
     "metadata": {},
     "output_type": "execute_result"
    }
   ],
   "source": [
    "source['bki'].groupby(\"APPLICATION_NUMBER\")[\"APPLICATION_NUMBER\"].count().sort_values()"
   ]
  },
  {
   "cell_type": "code",
   "execution_count": 15,
   "metadata": {
    "execution": {
     "iopub.execute_input": "2020-10-04T17:46:25.739445Z",
     "iopub.status.busy": "2020-10-04T17:46:25.738787Z",
     "iopub.status.idle": "2020-10-04T17:46:25.868800Z",
     "shell.execute_reply": "2020-10-04T17:46:25.868062Z"
    },
    "id": "b8HzVUlN6ZAc",
    "outputId": "fce90ab5-6bc1-4c3d-f470-3e792b7167fd",
    "papermill": {
     "duration": 0.251278,
     "end_time": "2020-10-04T17:46:25.868946",
     "exception": false,
     "start_time": "2020-10-04T17:46:25.617668",
     "status": "completed"
    },
    "tags": []
   },
   "outputs": [
    {
     "data": {
      "text/plain": [
       "APPLICATION_NUMBER\n",
       "123604794    36\n",
       "123603494    39\n",
       "123641404    50\n",
       "123493043    51\n",
       "123444199    63\n",
       "Name: APPLICATION_NUMBER, dtype: int64"
      ]
     },
     "execution_count": 15,
     "metadata": {},
     "output_type": "execute_result"
    }
   ],
   "source": [
    "source['bki'].groupby(\"APPLICATION_NUMBER\")[\"APPLICATION_NUMBER\"].count().sort_values().tail()"
   ]
  },
  {
   "cell_type": "code",
   "execution_count": 16,
   "metadata": {
    "execution": {
     "iopub.execute_input": "2020-10-04T17:46:26.119137Z",
     "iopub.status.busy": "2020-10-04T17:46:26.118263Z",
     "iopub.status.idle": "2020-10-04T17:46:26.123111Z",
     "shell.execute_reply": "2020-10-04T17:46:26.122532Z"
    },
    "id": "ScNZ38Mj6ZAh",
    "outputId": "e290cda9-9e17-41a9-ceb3-636cae13a5a7",
    "papermill": {
     "duration": 0.13439,
     "end_time": "2020-10-04T17:46:26.123222",
     "exception": false,
     "start_time": "2020-10-04T17:46:25.988832",
     "status": "completed"
    },
    "tags": []
   },
   "outputs": [
    {
     "data": {
      "text/html": [
       "<div>\n",
       "<style scoped>\n",
       "    .dataframe tbody tr th:only-of-type {\n",
       "        vertical-align: middle;\n",
       "    }\n",
       "\n",
       "    .dataframe tbody tr th {\n",
       "        vertical-align: top;\n",
       "    }\n",
       "\n",
       "    .dataframe thead th {\n",
       "        text-align: right;\n",
       "    }\n",
       "</style>\n",
       "<table border=\"1\" class=\"dataframe\">\n",
       "  <thead>\n",
       "    <tr style=\"text-align: right;\">\n",
       "      <th></th>\n",
       "      <th>PREV_APPLICATION_NUMBER</th>\n",
       "      <th>APPLICATION_NUMBER</th>\n",
       "      <th>NUM_INSTALMENT_VERSION</th>\n",
       "      <th>NUM_INSTALMENT_NUMBER</th>\n",
       "      <th>DAYS_INSTALMENT</th>\n",
       "      <th>DAYS_ENTRY_PAYMENT</th>\n",
       "      <th>AMT_INSTALMENT</th>\n",
       "      <th>AMT_PAYMENT</th>\n",
       "    </tr>\n",
       "  </thead>\n",
       "  <tbody>\n",
       "    <tr>\n",
       "      <th>0</th>\n",
       "      <td>49011181</td>\n",
       "      <td>123664960</td>\n",
       "      <td>1.0</td>\n",
       "      <td>5</td>\n",
       "      <td>1002.0</td>\n",
       "      <td>1015.0</td>\n",
       "      <td>12156.615</td>\n",
       "      <td>12156.615</td>\n",
       "    </tr>\n",
       "    <tr>\n",
       "      <th>1</th>\n",
       "      <td>48683432</td>\n",
       "      <td>123497205</td>\n",
       "      <td>1.0</td>\n",
       "      <td>13</td>\n",
       "      <td>442.0</td>\n",
       "      <td>432.0</td>\n",
       "      <td>18392.535</td>\n",
       "      <td>10047.645</td>\n",
       "    </tr>\n",
       "    <tr>\n",
       "      <th>2</th>\n",
       "      <td>48652024</td>\n",
       "      <td>123749925</td>\n",
       "      <td>1.0</td>\n",
       "      <td>10</td>\n",
       "      <td>8.0</td>\n",
       "      <td>23.0</td>\n",
       "      <td>5499.945</td>\n",
       "      <td>5499.945</td>\n",
       "    </tr>\n",
       "  </tbody>\n",
       "</table>\n",
       "</div>"
      ],
      "text/plain": [
       "   PREV_APPLICATION_NUMBER  APPLICATION_NUMBER  NUM_INSTALMENT_VERSION  \\\n",
       "0                 49011181           123664960                     1.0   \n",
       "1                 48683432           123497205                     1.0   \n",
       "2                 48652024           123749925                     1.0   \n",
       "\n",
       "   NUM_INSTALMENT_NUMBER  DAYS_INSTALMENT  DAYS_ENTRY_PAYMENT  AMT_INSTALMENT  \\\n",
       "0                      5           1002.0              1015.0       12156.615   \n",
       "1                     13            442.0               432.0       18392.535   \n",
       "2                     10              8.0                23.0        5499.945   \n",
       "\n",
       "   AMT_PAYMENT  \n",
       "0    12156.615  \n",
       "1    10047.645  \n",
       "2     5499.945  "
      ]
     },
     "execution_count": 16,
     "metadata": {},
     "output_type": "execute_result"
    }
   ],
   "source": [
    "source['payments'].head(3)"
   ]
  },
  {
   "cell_type": "code",
   "execution_count": 17,
   "metadata": {
    "execution": {
     "iopub.execute_input": "2020-10-04T17:46:26.373008Z",
     "iopub.status.busy": "2020-10-04T17:46:26.372173Z",
     "iopub.status.idle": "2020-10-04T17:46:26.376484Z",
     "shell.execute_reply": "2020-10-04T17:46:26.376936Z"
    },
    "id": "9FPO7YQr6ZAm",
    "outputId": "0be503e2-8923-4f56-f4ad-2668aaae6d4a",
    "papermill": {
     "duration": 0.133957,
     "end_time": "2020-10-04T17:46:26.377072",
     "exception": false,
     "start_time": "2020-10-04T17:46:26.243115",
     "status": "completed"
    },
    "tags": []
   },
   "outputs": [
    {
     "data": {
      "text/html": [
       "<div>\n",
       "<style scoped>\n",
       "    .dataframe tbody tr th:only-of-type {\n",
       "        vertical-align: middle;\n",
       "    }\n",
       "\n",
       "    .dataframe tbody tr th {\n",
       "        vertical-align: top;\n",
       "    }\n",
       "\n",
       "    .dataframe thead th {\n",
       "        text-align: right;\n",
       "    }\n",
       "</style>\n",
       "<table border=\"1\" class=\"dataframe\">\n",
       "  <thead>\n",
       "    <tr style=\"text-align: right;\">\n",
       "      <th></th>\n",
       "      <th>APPLICATION_NUMBER</th>\n",
       "      <th>NAME_CONTRACT_TYPE</th>\n",
       "    </tr>\n",
       "  </thead>\n",
       "  <tbody>\n",
       "    <tr>\n",
       "      <th>0</th>\n",
       "      <td>123724268</td>\n",
       "      <td>Cash</td>\n",
       "    </tr>\n",
       "    <tr>\n",
       "      <th>1</th>\n",
       "      <td>123456549</td>\n",
       "      <td>Cash</td>\n",
       "    </tr>\n",
       "    <tr>\n",
       "      <th>2</th>\n",
       "      <td>123428178</td>\n",
       "      <td>Credit Card</td>\n",
       "    </tr>\n",
       "  </tbody>\n",
       "</table>\n",
       "</div>"
      ],
      "text/plain": [
       "   APPLICATION_NUMBER NAME_CONTRACT_TYPE\n",
       "0           123724268               Cash\n",
       "1           123456549               Cash\n",
       "2           123428178        Credit Card"
      ]
     },
     "execution_count": 17,
     "metadata": {},
     "output_type": "execute_result"
    }
   ],
   "source": [
    "source['test'].head(3)"
   ]
  },
  {
   "cell_type": "code",
   "execution_count": 18,
   "metadata": {
    "execution": {
     "iopub.execute_input": "2020-10-04T17:46:26.633500Z",
     "iopub.status.busy": "2020-10-04T17:46:26.632482Z",
     "iopub.status.idle": "2020-10-04T17:46:27.735044Z",
     "shell.execute_reply": "2020-10-04T17:46:27.734527Z"
    },
    "id": "_EC_Ljeu6ZAr",
    "outputId": "a788d578-7665-4c3e-bbf3-c9afc7b6a017",
    "papermill": {
     "duration": 1.233636,
     "end_time": "2020-10-04T17:46:27.735151",
     "exception": false,
     "start_time": "2020-10-04T17:46:26.501515",
     "status": "completed"
    },
    "scrolled": true,
    "tags": []
   },
   "outputs": [
    {
     "name": "stdout",
     "output_type": "stream",
     "text": [
      "train \n",
      "\n",
      "<class 'pandas.core.frame.DataFrame'>\n",
      "RangeIndex: 110093 entries, 0 to 110092\n",
      "Data columns (total 3 columns):\n",
      " #   Column              Non-Null Count   Dtype \n",
      "---  ------              --------------   ----- \n",
      " 0   APPLICATION_NUMBER  110093 non-null  int64 \n",
      " 1   TARGET              110093 non-null  int64 \n",
      " 2   NAME_CONTRACT_TYPE  110093 non-null  object\n",
      "dtypes: int64(2), object(1)\n",
      "memory usage: 2.5+ MB\n",
      "\n",
      "\n",
      "test \n",
      "\n",
      "<class 'pandas.core.frame.DataFrame'>\n",
      "RangeIndex: 165141 entries, 0 to 165140\n",
      "Data columns (total 2 columns):\n",
      " #   Column              Non-Null Count   Dtype \n",
      "---  ------              --------------   ----- \n",
      " 0   APPLICATION_NUMBER  165141 non-null  int64 \n",
      " 1   NAME_CONTRACT_TYPE  165141 non-null  object\n",
      "dtypes: int64(1), object(1)\n",
      "memory usage: 2.5+ MB\n",
      "\n",
      "\n",
      "client_profile \n",
      "\n",
      "<class 'pandas.core.frame.DataFrame'>\n",
      "RangeIndex: 250000 entries, 0 to 249999\n",
      "Data columns (total 24 columns):\n",
      " #   Column                      Non-Null Count   Dtype  \n",
      "---  ------                      --------------   -----  \n",
      " 0   APPLICATION_NUMBER          250000 non-null  int64  \n",
      " 1   GENDER                      250000 non-null  object \n",
      " 2   CHILDRENS                   250000 non-null  int64  \n",
      " 3   TOTAL_SALARY                250000 non-null  float64\n",
      " 4   AMOUNT_CREDIT               250000 non-null  float64\n",
      " 5   AMOUNT_ANNUITY              249989 non-null  float64\n",
      " 6   EDUCATION_LEVEL             250000 non-null  object \n",
      " 7   FAMILY_STATUS               250000 non-null  object \n",
      " 8   REGION_POPULATION           250000 non-null  float64\n",
      " 9   AGE                         250000 non-null  int64  \n",
      " 10  DAYS_ON_LAST_JOB            250000 non-null  int64  \n",
      " 11  OWN_CAR_AGE                 85041 non-null   float64\n",
      " 12  FLAG_PHONE                  250000 non-null  int64  \n",
      " 13  FLAG_EMAIL                  250000 non-null  int64  \n",
      " 14  FAMILY_SIZE                 249998 non-null  float64\n",
      " 15  EXTERNAL_SCORING_RATING_1   109121 non-null  float64\n",
      " 16  EXTERNAL_SCORING_RATING_2   249468 non-null  float64\n",
      " 17  EXTERNAL_SCORING_RATING_3   200462 non-null  float64\n",
      " 18  AMT_REQ_CREDIT_BUREAU_HOUR  216293 non-null  float64\n",
      " 19  AMT_REQ_CREDIT_BUREAU_DAY   216293 non-null  float64\n",
      " 20  AMT_REQ_CREDIT_BUREAU_WEEK  216293 non-null  float64\n",
      " 21  AMT_REQ_CREDIT_BUREAU_MON   216293 non-null  float64\n",
      " 22  AMT_REQ_CREDIT_BUREAU_QRT   216293 non-null  float64\n",
      " 23  AMT_REQ_CREDIT_BUREAU_YEAR  216293 non-null  float64\n",
      "dtypes: float64(15), int64(6), object(3)\n",
      "memory usage: 45.8+ MB\n",
      "\n",
      "\n",
      "applications_history \n",
      "\n",
      "<class 'pandas.core.frame.DataFrame'>\n",
      "RangeIndex: 1670214 entries, 0 to 1670213\n",
      "Data columns (total 26 columns):\n",
      " #   Column                     Non-Null Count    Dtype  \n",
      "---  ------                     --------------    -----  \n",
      " 0   PREV_APPLICATION_NUMBER    1670214 non-null  int64  \n",
      " 1   APPLICATION_NUMBER         1670214 non-null  int64  \n",
      " 2   NAME_CONTRACT_TYPE         940717 non-null   object \n",
      " 3   AMOUNT_ANNUITY             1297979 non-null  float64\n",
      " 4   AMT_APPLICATION            1670214 non-null  float64\n",
      " 5   AMOUNT_CREDIT              1670213 non-null  float64\n",
      " 6   AMOUNT_PAYMENT             774370 non-null   float64\n",
      " 7   AMOUNT_GOODS_PAYMENT       1284699 non-null  float64\n",
      " 8   NAME_CONTRACT_STATUS       1670214 non-null  object \n",
      " 9   DAYS_DECISION              1670214 non-null  int64  \n",
      " 10  NAME_PAYMENT_TYPE          1670214 non-null  object \n",
      " 11  CODE_REJECT_REASON         1670214 non-null  object \n",
      " 12  NAME_TYPE_SUITE            849809 non-null   object \n",
      " 13  NAME_CLIENT_TYPE           1670214 non-null  object \n",
      " 14  NAME_GOODS_CATEGORY        1670214 non-null  object \n",
      " 15  NAME_PORTFOLIO             1670214 non-null  object \n",
      " 16  NAME_PRODUCT_TYPE          1670214 non-null  object \n",
      " 17  SELLERPLACE_AREA           1670214 non-null  int64  \n",
      " 18  CNT_PAYMENT                1297984 non-null  float64\n",
      " 19  NAME_YIELD_GROUP           1670214 non-null  object \n",
      " 20  DAYS_FIRST_DRAWING         997149 non-null   float64\n",
      " 21  DAYS_FIRST_DUE             997149 non-null   float64\n",
      " 22  DAYS_LAST_DUE_1ST_VERSION  997149 non-null   float64\n",
      " 23  DAYS_LAST_DUE              997149 non-null   float64\n",
      " 24  DAYS_TERMINATION           997149 non-null   float64\n",
      " 25  NFLAG_INSURED_ON_APPROVAL  997149 non-null   float64\n",
      "dtypes: float64(12), int64(4), object(10)\n",
      "memory usage: 331.3+ MB\n",
      "\n",
      "\n",
      "bki \n",
      "\n",
      "<class 'pandas.core.frame.DataFrame'>\n",
      "RangeIndex: 945234 entries, 0 to 945233\n",
      "Data columns (total 17 columns):\n",
      " #   Column                  Non-Null Count   Dtype  \n",
      "---  ------                  --------------   -----  \n",
      " 0   APPLICATION_NUMBER      945234 non-null  int64  \n",
      " 1   BUREAU_ID               945234 non-null  int64  \n",
      " 2   CREDIT_ACTIVE           945234 non-null  object \n",
      " 3   CREDIT_CURRENCY         945234 non-null  object \n",
      " 4   DAYS_CREDIT             945234 non-null  float64\n",
      " 5   CREDIT_DAY_OVERDUE      945234 non-null  int64  \n",
      " 6   DAYS_CREDIT_ENDDATE     886797 non-null  float64\n",
      " 7   DAYS_ENDDATE_FACT       596274 non-null  float64\n",
      " 8   AMT_CREDIT_MAX_OVERDUE  326557 non-null  float64\n",
      " 9   CNT_CREDIT_PROLONG      945234 non-null  int64  \n",
      " 10  AMT_CREDIT_SUM          945229 non-null  float64\n",
      " 11  AMT_CREDIT_SUM_DEBT     803483 non-null  float64\n",
      " 12  AMT_CREDIT_SUM_LIMIT    619267 non-null  float64\n",
      " 13  AMT_CREDIT_SUM_OVERDUE  945234 non-null  float64\n",
      " 14  CREDIT_TYPE             945234 non-null  object \n",
      " 15  DAYS_CREDIT_UPDATE      945234 non-null  float64\n",
      " 16  AMT_ANNUITY             269330 non-null  float64\n",
      "dtypes: float64(10), int64(4), object(3)\n",
      "memory usage: 122.6+ MB\n",
      "\n",
      "\n",
      "payments \n",
      "\n",
      "<class 'pandas.core.frame.DataFrame'>\n",
      "RangeIndex: 1023932 entries, 0 to 1023931\n",
      "Data columns (total 8 columns):\n",
      " #   Column                   Non-Null Count    Dtype  \n",
      "---  ------                   --------------    -----  \n",
      " 0   PREV_APPLICATION_NUMBER  1023932 non-null  int64  \n",
      " 1   APPLICATION_NUMBER       1023932 non-null  int64  \n",
      " 2   NUM_INSTALMENT_VERSION   1023932 non-null  float64\n",
      " 3   NUM_INSTALMENT_NUMBER    1023932 non-null  int64  \n",
      " 4   DAYS_INSTALMENT          1023932 non-null  float64\n",
      " 5   DAYS_ENTRY_PAYMENT       1023729 non-null  float64\n",
      " 6   AMT_INSTALMENT           1023932 non-null  float64\n",
      " 7   AMT_PAYMENT              1023729 non-null  float64\n",
      "dtypes: float64(5), int64(3)\n",
      "memory usage: 62.5 MB\n",
      "\n",
      "\n"
     ]
    }
   ],
   "source": [
    "for name in src_list:\n",
    "    print(f\"{name} \\n\")\n",
    "    source[name].info()\n",
    "    print(\"\\n\")"
   ]
  },
  {
   "cell_type": "code",
   "execution_count": 19,
   "metadata": {
    "execution": {
     "iopub.execute_input": "2020-10-04T17:46:27.998538Z",
     "iopub.status.busy": "2020-10-04T17:46:27.997662Z",
     "iopub.status.idle": "2020-10-04T17:46:28.000874Z",
     "shell.execute_reply": "2020-10-04T17:46:28.000343Z"
    },
    "id": "gWChqlbF6ZAv",
    "papermill": {
     "duration": 0.137015,
     "end_time": "2020-10-04T17:46:28.000984",
     "exception": false,
     "start_time": "2020-10-04T17:46:27.863969",
     "status": "completed"
    },
    "tags": []
   },
   "outputs": [],
   "source": [
    "def data_obj_discribe(data: pd.DataFrame):\n",
    "# если столбец имеет тип 'object' и содержит менее 30 уникальных \n",
    "# распечатывает значения столбцов и подсчитывает количество значений\n",
    "\n",
    "    # data: pd.DataFrame исходный датафрейм\n",
    "    \n",
    "    obj_fit = data.select_dtypes(include='object')\n",
    "    print('*' * 100)\n",
    "    for cat_colname in obj_fit.columns:\n",
    "        if len(obj_fit[cat_colname].unique()) < 30:\n",
    "            print(str(cat_colname) + '\\n\\n' + str(obj_fit[cat_colname].unique()) + '\\n\\n')\n",
    "            print(obj_fit.groupby(cat_colname)[cat_colname].count())\n",
    "            print('*' * 100 + '\\n')"
   ]
  },
  {
   "cell_type": "code",
   "execution_count": 20,
   "metadata": {
    "execution": {
     "iopub.execute_input": "2020-10-04T17:46:28.263582Z",
     "iopub.status.busy": "2020-10-04T17:46:28.262827Z",
     "iopub.status.idle": "2020-10-04T17:46:28.268739Z",
     "shell.execute_reply": "2020-10-04T17:46:28.269188Z"
    },
    "id": "TelMnRWv6ZAz",
    "papermill": {
     "duration": 0.142421,
     "end_time": "2020-10-04T17:46:28.269385",
     "exception": false,
     "start_time": "2020-10-04T17:46:28.126964",
     "status": "completed"
    },
    "scrolled": true,
    "tags": []
   },
   "outputs": [],
   "source": [
    "# for name in src_list:\n",
    "#     obj_col = source[name].select_dtypes(include='object')\n",
    "#     if not obj_col.empty:\n",
    "#         print(f\"\\t{name}{source[name].shape}\\n\")\n",
    "#         data_obj_discribe(source[name])"
   ]
  },
  {
   "cell_type": "markdown",
   "metadata": {
    "id": "cjcaz9XJ6ZA4",
    "papermill": {
     "duration": 0.11995,
     "end_time": "2020-10-04T17:46:28.511726",
     "exception": false,
     "start_time": "2020-10-04T17:46:28.391776",
     "status": "completed"
    },
    "tags": []
   },
   "source": [
    "## Формируем \"Большую таблицу\"\n",
    "\n",
    "### Подшиваем test к train"
   ]
  },
  {
   "cell_type": "code",
   "execution_count": 21,
   "metadata": {
    "execution": {
     "iopub.execute_input": "2020-10-04T17:46:28.758955Z",
     "iopub.status.busy": "2020-10-04T17:46:28.758365Z",
     "iopub.status.idle": "2020-10-04T17:46:28.761430Z",
     "shell.execute_reply": "2020-10-04T17:46:28.760863Z"
    },
    "id": "H_kVXUWk6ZA5",
    "papermill": {
     "duration": 0.130506,
     "end_time": "2020-10-04T17:46:28.761534",
     "exception": false,
     "start_time": "2020-10-04T17:46:28.631028",
     "status": "completed"
    },
    "tags": []
   },
   "outputs": [],
   "source": [
    "test = source['test']"
   ]
  },
  {
   "cell_type": "code",
   "execution_count": 22,
   "metadata": {
    "execution": {
     "iopub.execute_input": "2020-10-04T17:46:29.004074Z",
     "iopub.status.busy": "2020-10-04T17:46:29.003083Z",
     "iopub.status.idle": "2020-10-04T17:46:29.006939Z",
     "shell.execute_reply": "2020-10-04T17:46:29.006486Z"
    },
    "id": "iS6tUkZw6ZA9",
    "papermill": {
     "duration": 0.12629,
     "end_time": "2020-10-04T17:46:29.007047",
     "exception": false,
     "start_time": "2020-10-04T17:46:28.880757",
     "status": "completed"
    },
    "tags": []
   },
   "outputs": [],
   "source": [
    "test[\"TARGET\"] = math.nan"
   ]
  },
  {
   "cell_type": "code",
   "execution_count": 23,
   "metadata": {
    "execution": {
     "iopub.execute_input": "2020-10-04T17:46:29.257395Z",
     "iopub.status.busy": "2020-10-04T17:46:29.256812Z",
     "iopub.status.idle": "2020-10-04T17:46:29.260884Z",
     "shell.execute_reply": "2020-10-04T17:46:29.260427Z"
    },
    "id": "EtaQkexd6ZBC",
    "outputId": "4651c83c-18c3-4e2f-b54b-3e6fd8548dad",
    "papermill": {
     "duration": 0.133219,
     "end_time": "2020-10-04T17:46:29.260997",
     "exception": false,
     "start_time": "2020-10-04T17:46:29.127778",
     "status": "completed"
    },
    "tags": []
   },
   "outputs": [
    {
     "data": {
      "text/plain": [
       "<bound method NDFrame.head of         APPLICATION_NUMBER NAME_CONTRACT_TYPE  TARGET\n",
       "0                123724268               Cash     NaN\n",
       "1                123456549               Cash     NaN\n",
       "2                123428178        Credit Card     NaN\n",
       "3                123619984               Cash     NaN\n",
       "4                123671104               Cash     NaN\n",
       "...                    ...                ...     ...\n",
       "165136           123487967               Cash     NaN\n",
       "165137           123536402               Cash     NaN\n",
       "165138           123718238               Cash     NaN\n",
       "165139           123631557               Cash     NaN\n",
       "165140           123433260               Cash     NaN\n",
       "\n",
       "[165141 rows x 3 columns]>"
      ]
     },
     "execution_count": 23,
     "metadata": {},
     "output_type": "execute_result"
    }
   ],
   "source": [
    "test.head"
   ]
  },
  {
   "cell_type": "code",
   "execution_count": 24,
   "metadata": {
    "execution": {
     "iopub.execute_input": "2020-10-04T17:46:29.511348Z",
     "iopub.status.busy": "2020-10-04T17:46:29.510807Z",
     "iopub.status.idle": "2020-10-04T17:46:29.523770Z",
     "shell.execute_reply": "2020-10-04T17:46:29.524197Z"
    },
    "id": "pSfHVpbH6ZBG",
    "outputId": "d0631723-6e0a-4d09-c11f-dc2d088a2995",
    "papermill": {
     "duration": 0.138972,
     "end_time": "2020-10-04T17:46:29.524351",
     "exception": false,
     "start_time": "2020-10-04T17:46:29.385379",
     "status": "completed"
    },
    "tags": []
   },
   "outputs": [
    {
     "data": {
      "text/html": [
       "<div>\n",
       "<style scoped>\n",
       "    .dataframe tbody tr th:only-of-type {\n",
       "        vertical-align: middle;\n",
       "    }\n",
       "\n",
       "    .dataframe tbody tr th {\n",
       "        vertical-align: top;\n",
       "    }\n",
       "\n",
       "    .dataframe thead th {\n",
       "        text-align: right;\n",
       "    }\n",
       "</style>\n",
       "<table border=\"1\" class=\"dataframe\">\n",
       "  <thead>\n",
       "    <tr style=\"text-align: right;\">\n",
       "      <th></th>\n",
       "      <th>APPLICATION_NUMBER</th>\n",
       "      <th>TARGET</th>\n",
       "      <th>NAME_CONTRACT_TYPE</th>\n",
       "    </tr>\n",
       "  </thead>\n",
       "  <tbody>\n",
       "    <tr>\n",
       "      <th>165136</th>\n",
       "      <td>123487967</td>\n",
       "      <td>NaN</td>\n",
       "      <td>Cash</td>\n",
       "    </tr>\n",
       "    <tr>\n",
       "      <th>165137</th>\n",
       "      <td>123536402</td>\n",
       "      <td>NaN</td>\n",
       "      <td>Cash</td>\n",
       "    </tr>\n",
       "    <tr>\n",
       "      <th>165138</th>\n",
       "      <td>123718238</td>\n",
       "      <td>NaN</td>\n",
       "      <td>Cash</td>\n",
       "    </tr>\n",
       "    <tr>\n",
       "      <th>165139</th>\n",
       "      <td>123631557</td>\n",
       "      <td>NaN</td>\n",
       "      <td>Cash</td>\n",
       "    </tr>\n",
       "    <tr>\n",
       "      <th>165140</th>\n",
       "      <td>123433260</td>\n",
       "      <td>NaN</td>\n",
       "      <td>Cash</td>\n",
       "    </tr>\n",
       "  </tbody>\n",
       "</table>\n",
       "</div>"
      ],
      "text/plain": [
       "        APPLICATION_NUMBER  TARGET NAME_CONTRACT_TYPE\n",
       "165136           123487967     NaN               Cash\n",
       "165137           123536402     NaN               Cash\n",
       "165138           123718238     NaN               Cash\n",
       "165139           123631557     NaN               Cash\n",
       "165140           123433260     NaN               Cash"
      ]
     },
     "execution_count": 24,
     "metadata": {},
     "output_type": "execute_result"
    }
   ],
   "source": [
    "data = pd.concat([source['train'], test], axis=0)\n",
    "data.tail()"
   ]
  },
  {
   "cell_type": "code",
   "execution_count": 25,
   "metadata": {
    "execution": {
     "iopub.execute_input": "2020-10-04T17:46:29.766809Z",
     "iopub.status.busy": "2020-10-04T17:46:29.766167Z",
     "iopub.status.idle": "2020-10-04T17:46:29.771065Z",
     "shell.execute_reply": "2020-10-04T17:46:29.770584Z"
    },
    "id": "wBegNCHH6ZBX",
    "outputId": "879bdf23-4adc-4e09-9cd4-b190a71bd8f4",
    "papermill": {
     "duration": 0.126522,
     "end_time": "2020-10-04T17:46:29.771178",
     "exception": false,
     "start_time": "2020-10-04T17:46:29.644656",
     "status": "completed"
    },
    "tags": []
   },
   "outputs": [
    {
     "data": {
      "text/plain": [
       "(275234, 3)"
      ]
     },
     "execution_count": 25,
     "metadata": {},
     "output_type": "execute_result"
    }
   ],
   "source": [
    "data.shape"
   ]
  },
  {
   "cell_type": "markdown",
   "metadata": {
    "id": "P0IFgUFR6ZBc",
    "papermill": {
     "duration": 0.121557,
     "end_time": "2020-10-04T17:46:30.013731",
     "exception": false,
     "start_time": "2020-10-04T17:46:29.892174",
     "status": "completed"
    },
    "tags": []
   },
   "source": [
    "### Добавляем client_profile"
   ]
  },
  {
   "cell_type": "code",
   "execution_count": 26,
   "metadata": {
    "cellView": "both",
    "execution": {
     "iopub.execute_input": "2020-10-04T17:46:30.267370Z",
     "iopub.status.busy": "2020-10-04T17:46:30.266487Z",
     "iopub.status.idle": "2020-10-04T17:46:30.268964Z",
     "shell.execute_reply": "2020-10-04T17:46:30.268552Z"
    },
    "id": "zescElkkPj0Z",
    "papermill": {
     "duration": 0.136396,
     "end_time": "2020-10-04T17:46:30.269077",
     "exception": false,
     "start_time": "2020-10-04T17:46:30.132681",
     "status": "completed"
    },
    "tags": []
   },
   "outputs": [],
   "source": [
    "def create_client_profile_features(X: pd.DataFrame, copy: bool = True) -> pd.DataFrame:\n",
    "    \"\"\"\n",
    "    Создание признаков на основе профиля клиентов.\n",
    "\n",
    "    Parameters\n",
    "    ----------\n",
    "    X: pandas.core.frame.DataFrame\n",
    "        Матрица признаков с исходным профилем клиента.\n",
    "\n",
    "    copy: bool, optional, default = True\n",
    "        Флаг использования копии датафрейма X.\n",
    "        Опциональный параметр, по умолчанию, равен True.\n",
    "\n",
    "    Returns\n",
    "    -------\n",
    "    X_transformed: pandas.core.frame.DataFrame\n",
    "        Расширенная матрица признаков с профилем клиентов.\n",
    "\n",
    "    \"\"\"\n",
    "    if copy:\n",
    "        X = X.copy()\n",
    "\n",
    "    X[\"DAYS_ON_LAST_JOB\"] = X[\"DAYS_ON_LAST_JOB\"].replace(365243, np.nan)\n",
    "#     bki_flags = [flag for flag in X.columns if \"AMT_REQ_CREDIT_BUREAU\" in flag]\n",
    "#     X[\"BKI_REQUESTS_COUNT\"] = X[bki_flags].sum(axis=1)\n",
    "#     X[\"BKI_KURTOSIS\"] = X[bki_flags].kurtosis(axis=1)\n",
    "\n",
    "    X[\"EXTERNAL_SCORING_PROD\"] = X[\"EXTERNAL_SCORING_RATING_1\"] * X[\"EXTERNAL_SCORING_RATING_2\"] * X[\"EXTERNAL_SCORING_RATING_3\"]\n",
    "    X[\"EXTERNAL_SCORING_WEIGHTED\"] = X.EXTERNAL_SCORING_RATING_1 * 2 + X.EXTERNAL_SCORING_RATING_2 * 1 + X.EXTERNAL_SCORING_RATING_3 * 3\n",
    "\n",
    "    for function_name in [\"min\", \"max\", \"mean\", \"nanmedian\", \"var\"]:\n",
    "        feature_name = \"EXTERNAL_SCORING_RATING_{}\".format(function_name)\n",
    "        X[feature_name] = eval(\"np.{}\".format(function_name))(\n",
    "            X[[\"EXTERNAL_SCORING_RATING_1\", \"EXTERNAL_SCORING_RATING_2\", \"EXTERNAL_SCORING_RATING_3\"]], axis=1\n",
    "        )\n",
    "\n",
    "    # Отношение между основными фин. показателями\n",
    "    X['RATIO_CREDIT_TO_ANNUITY'] = X['AMOUNT_CREDIT'] / X['AMOUNT_ANNUITY']\n",
    "    X[\"RATIO_ANNUITY_TO_SALARY\"] = X['AMOUNT_ANNUITY'] / X['TOTAL_SALARY']\n",
    "    X['RATIO_CREDIT_TO_SALARY'] = X['AMOUNT_CREDIT'] / X['TOTAL_SALARY']\n",
    "    #X[\"TOTAL_SALARY_NET\"] = X[\"TOTAL_SALARY\"] - X[\"AMOUNT_ANNUITY\"]\n",
    "\n",
    "#     # Отношение фин. показателей к возрасту и временным фичам\n",
    "#     X[\"RATIO_ANNUITY_TO_AGE\"] = X[\"AMOUNT_ANNUITY\"] / X[\"AGE\"]\n",
    "#     X[\"RATIO_CREDIT_TO_AGE\"] = X[\"AMOUNT_CREDIT\"] / X[\"AGE\"]\n",
    "#     X[\"RATIO_SALARY_TO_AGE\"] = X[\"TOTAL_SALARY\"] / X[\"AGE\"]\n",
    "#     X[\"RATIO_SALARY_TO_EXPERIENCE\"] = X[\"TOTAL_SALARY\"] / X[\"DAYS_ON_LAST_JOB\"]\n",
    "#     X[\"RATIO_CREDIT_TO_EXPERIENCE\"] = X[\"AMOUNT_CREDIT\"] / X[\"DAYS_ON_LAST_JOB\"]\n",
    "#     X[\"RATIO_ANNUITY_TO_EXPERIENCE\"] = X[\"AMOUNT_ANNUITY\"] / X[\"DAYS_ON_LAST_JOB\"]\n",
    "\n",
    "#     # Отношение врменных признаков\n",
    "#     X[\"RATIO_AGE_TO_EXPERIENCE\"] = X[\"AGE\"] / X[\"DAYS_ON_LAST_JOB\"]\n",
    "#     X[\"RATIO_SALARY_TO_REGION_POPULATION\"] = X[\"TOTAL_SALARY\"] * X[\"REGION_POPULATION\"]\n",
    "#     X[\"RATIO_CAR_TO_EXPERIENCE\"] = X[\"OWN_CAR_AGE\"] / X[\"DAYS_ON_LAST_JOB\"]\n",
    "#     X[\"RATIO_CAR_TO_AGE\"] = X[\"OWN_CAR_AGE\"] / X[\"AGE\"]\n",
    "\n",
    "    # Произведение фин. показателей кредита на вероятность дефолта\n",
    "    # Такая штука называется математическим ожиданием дефолта или ожидаемыми потерями\n",
    "    X[\"EXPECTED_TOTAL_LOSS_1\"] = X[\"EXTERNAL_SCORING_RATING_1\"] * X[\"AMOUNT_CREDIT\"]\n",
    "    X[\"EXPECTED_TOTAL_LOSS_2\"] = X[\"EXTERNAL_SCORING_RATING_2\"] * X[\"AMOUNT_CREDIT\"]\n",
    "    X[\"EXPECTED_TOTAL_LOSS_3\"] = X[\"EXTERNAL_SCORING_RATING_3\"] * X[\"AMOUNT_CREDIT\"]\n",
    "    X[\"EXPECTED_MONTHLY_LOSS_1\"] = X[\"EXTERNAL_SCORING_RATING_1\"] * X[\"AMOUNT_ANNUITY\"]\n",
    "    X[\"EXPECTED_MONTHLY_LOSS_2\"] = X[\"EXTERNAL_SCORING_RATING_2\"] * X[\"AMOUNT_ANNUITY\"]\n",
    "    X[\"EXPECTED_MONTHLY_LOSS_3\"] = X[\"EXTERNAL_SCORING_RATING_3\"] * X[\"AMOUNT_ANNUITY\"]\n",
    "\n",
    "    return X"
   ]
  },
  {
   "cell_type": "code",
   "execution_count": 27,
   "metadata": {
    "execution": {
     "iopub.execute_input": "2020-10-04T17:46:30.512153Z",
     "iopub.status.busy": "2020-10-04T17:46:30.511609Z",
     "iopub.status.idle": "2020-10-04T17:46:30.839225Z",
     "shell.execute_reply": "2020-10-04T17:46:30.838802Z"
    },
    "id": "pTFlEpSpPl0K",
    "outputId": "af5aac36-54b4-4402-9281-b4ecc0621b8e",
    "papermill": {
     "duration": 0.450868,
     "end_time": "2020-10-04T17:46:30.839327",
     "exception": false,
     "start_time": "2020-10-04T17:46:30.388459",
     "status": "completed"
    },
    "tags": []
   },
   "outputs": [
    {
     "name": "stderr",
     "output_type": "stream",
     "text": [
      "/opt/conda/lib/python3.7/site-packages/numpy/lib/nanfunctions.py:1116: RuntimeWarning: All-NaN slice encountered\n",
      "  overwrite_input=overwrite_input)\n"
     ]
    },
    {
     "data": {
      "text/html": [
       "<div>\n",
       "<style scoped>\n",
       "    .dataframe tbody tr th:only-of-type {\n",
       "        vertical-align: middle;\n",
       "    }\n",
       "\n",
       "    .dataframe tbody tr th {\n",
       "        vertical-align: top;\n",
       "    }\n",
       "\n",
       "    .dataframe thead th {\n",
       "        text-align: right;\n",
       "    }\n",
       "</style>\n",
       "<table border=\"1\" class=\"dataframe\">\n",
       "  <thead>\n",
       "    <tr style=\"text-align: right;\">\n",
       "      <th></th>\n",
       "      <th>APPLICATION_NUMBER</th>\n",
       "      <th>GENDER</th>\n",
       "      <th>CHILDRENS</th>\n",
       "      <th>TOTAL_SALARY</th>\n",
       "      <th>AMOUNT_CREDIT</th>\n",
       "      <th>AMOUNT_ANNUITY</th>\n",
       "      <th>EDUCATION_LEVEL</th>\n",
       "      <th>FAMILY_STATUS</th>\n",
       "      <th>REGION_POPULATION</th>\n",
       "      <th>AGE</th>\n",
       "      <th>DAYS_ON_LAST_JOB</th>\n",
       "      <th>OWN_CAR_AGE</th>\n",
       "      <th>FLAG_PHONE</th>\n",
       "      <th>FLAG_EMAIL</th>\n",
       "      <th>FAMILY_SIZE</th>\n",
       "      <th>EXTERNAL_SCORING_RATING_1</th>\n",
       "      <th>EXTERNAL_SCORING_RATING_2</th>\n",
       "      <th>EXTERNAL_SCORING_RATING_3</th>\n",
       "      <th>AMT_REQ_CREDIT_BUREAU_HOUR</th>\n",
       "      <th>AMT_REQ_CREDIT_BUREAU_DAY</th>\n",
       "      <th>AMT_REQ_CREDIT_BUREAU_WEEK</th>\n",
       "      <th>AMT_REQ_CREDIT_BUREAU_MON</th>\n",
       "      <th>AMT_REQ_CREDIT_BUREAU_QRT</th>\n",
       "      <th>AMT_REQ_CREDIT_BUREAU_YEAR</th>\n",
       "      <th>EXTERNAL_SCORING_PROD</th>\n",
       "      <th>EXTERNAL_SCORING_WEIGHTED</th>\n",
       "      <th>EXTERNAL_SCORING_RATING_min</th>\n",
       "      <th>EXTERNAL_SCORING_RATING_max</th>\n",
       "      <th>EXTERNAL_SCORING_RATING_mean</th>\n",
       "      <th>EXTERNAL_SCORING_RATING_nanmedian</th>\n",
       "      <th>EXTERNAL_SCORING_RATING_var</th>\n",
       "      <th>RATIO_CREDIT_TO_ANNUITY</th>\n",
       "      <th>RATIO_ANNUITY_TO_SALARY</th>\n",
       "      <th>RATIO_CREDIT_TO_SALARY</th>\n",
       "      <th>EXPECTED_TOTAL_LOSS_1</th>\n",
       "      <th>EXPECTED_TOTAL_LOSS_2</th>\n",
       "      <th>EXPECTED_TOTAL_LOSS_3</th>\n",
       "      <th>EXPECTED_MONTHLY_LOSS_1</th>\n",
       "      <th>EXPECTED_MONTHLY_LOSS_2</th>\n",
       "      <th>EXPECTED_MONTHLY_LOSS_3</th>\n",
       "    </tr>\n",
       "  </thead>\n",
       "  <tbody>\n",
       "    <tr>\n",
       "      <th>0</th>\n",
       "      <td>123666076</td>\n",
       "      <td>F</td>\n",
       "      <td>0</td>\n",
       "      <td>157500.0</td>\n",
       "      <td>270000.0</td>\n",
       "      <td>13500.0</td>\n",
       "      <td>Incomplete higher</td>\n",
       "      <td>Civil marriage</td>\n",
       "      <td>0.008068</td>\n",
       "      <td>8560</td>\n",
       "      <td>1549.0</td>\n",
       "      <td>NaN</td>\n",
       "      <td>1</td>\n",
       "      <td>0</td>\n",
       "      <td>2.0</td>\n",
       "      <td>0.329471</td>\n",
       "      <td>0.236315</td>\n",
       "      <td>0.678568</td>\n",
       "      <td>0.0</td>\n",
       "      <td>0.0</td>\n",
       "      <td>0.0</td>\n",
       "      <td>0.0</td>\n",
       "      <td>1.0</td>\n",
       "      <td>2.0</td>\n",
       "      <td>0.052832</td>\n",
       "      <td>2.930959</td>\n",
       "      <td>0.236315</td>\n",
       "      <td>0.678568</td>\n",
       "      <td>0.414784</td>\n",
       "      <td>0.329471</td>\n",
       "      <td>0.036237</td>\n",
       "      <td>20.00000</td>\n",
       "      <td>0.085714</td>\n",
       "      <td>1.714286</td>\n",
       "      <td>88957.124333</td>\n",
       "      <td>63804.966560</td>\n",
       "      <td>183213.275945</td>\n",
       "      <td>4447.856217</td>\n",
       "      <td>3190.248328</td>\n",
       "      <td>9160.663797</td>\n",
       "    </tr>\n",
       "    <tr>\n",
       "      <th>1</th>\n",
       "      <td>123423688</td>\n",
       "      <td>F</td>\n",
       "      <td>0</td>\n",
       "      <td>270000.0</td>\n",
       "      <td>536917.5</td>\n",
       "      <td>28467.0</td>\n",
       "      <td>Secondary / secondary special</td>\n",
       "      <td>Married</td>\n",
       "      <td>0.020246</td>\n",
       "      <td>23187</td>\n",
       "      <td>NaN</td>\n",
       "      <td>NaN</td>\n",
       "      <td>0</td>\n",
       "      <td>0</td>\n",
       "      <td>2.0</td>\n",
       "      <td>NaN</td>\n",
       "      <td>0.442295</td>\n",
       "      <td>0.802745</td>\n",
       "      <td>0.0</td>\n",
       "      <td>0.0</td>\n",
       "      <td>0.0</td>\n",
       "      <td>0.0</td>\n",
       "      <td>1.0</td>\n",
       "      <td>1.0</td>\n",
       "      <td>NaN</td>\n",
       "      <td>NaN</td>\n",
       "      <td>0.442295</td>\n",
       "      <td>0.802745</td>\n",
       "      <td>0.622520</td>\n",
       "      <td>0.622520</td>\n",
       "      <td>0.032481</td>\n",
       "      <td>18.86105</td>\n",
       "      <td>0.105433</td>\n",
       "      <td>1.988583</td>\n",
       "      <td>NaN</td>\n",
       "      <td>237475.743779</td>\n",
       "      <td>431008.094056</td>\n",
       "      <td>NaN</td>\n",
       "      <td>12590.802122</td>\n",
       "      <td>22851.755462</td>\n",
       "    </tr>\n",
       "  </tbody>\n",
       "</table>\n",
       "</div>"
      ],
      "text/plain": [
       "   APPLICATION_NUMBER GENDER  CHILDRENS  TOTAL_SALARY  AMOUNT_CREDIT  \\\n",
       "0           123666076      F          0      157500.0       270000.0   \n",
       "1           123423688      F          0      270000.0       536917.5   \n",
       "\n",
       "   AMOUNT_ANNUITY                EDUCATION_LEVEL   FAMILY_STATUS  \\\n",
       "0         13500.0              Incomplete higher  Civil marriage   \n",
       "1         28467.0  Secondary / secondary special         Married   \n",
       "\n",
       "   REGION_POPULATION    AGE  DAYS_ON_LAST_JOB  OWN_CAR_AGE  FLAG_PHONE  \\\n",
       "0           0.008068   8560            1549.0          NaN           1   \n",
       "1           0.020246  23187               NaN          NaN           0   \n",
       "\n",
       "   FLAG_EMAIL  FAMILY_SIZE  EXTERNAL_SCORING_RATING_1  \\\n",
       "0           0          2.0                   0.329471   \n",
       "1           0          2.0                        NaN   \n",
       "\n",
       "   EXTERNAL_SCORING_RATING_2  EXTERNAL_SCORING_RATING_3  \\\n",
       "0                   0.236315                   0.678568   \n",
       "1                   0.442295                   0.802745   \n",
       "\n",
       "   AMT_REQ_CREDIT_BUREAU_HOUR  AMT_REQ_CREDIT_BUREAU_DAY  \\\n",
       "0                         0.0                        0.0   \n",
       "1                         0.0                        0.0   \n",
       "\n",
       "   AMT_REQ_CREDIT_BUREAU_WEEK  AMT_REQ_CREDIT_BUREAU_MON  \\\n",
       "0                         0.0                        0.0   \n",
       "1                         0.0                        0.0   \n",
       "\n",
       "   AMT_REQ_CREDIT_BUREAU_QRT  AMT_REQ_CREDIT_BUREAU_YEAR  \\\n",
       "0                        1.0                         2.0   \n",
       "1                        1.0                         1.0   \n",
       "\n",
       "   EXTERNAL_SCORING_PROD  EXTERNAL_SCORING_WEIGHTED  \\\n",
       "0               0.052832                   2.930959   \n",
       "1                    NaN                        NaN   \n",
       "\n",
       "   EXTERNAL_SCORING_RATING_min  EXTERNAL_SCORING_RATING_max  \\\n",
       "0                     0.236315                     0.678568   \n",
       "1                     0.442295                     0.802745   \n",
       "\n",
       "   EXTERNAL_SCORING_RATING_mean  EXTERNAL_SCORING_RATING_nanmedian  \\\n",
       "0                      0.414784                           0.329471   \n",
       "1                      0.622520                           0.622520   \n",
       "\n",
       "   EXTERNAL_SCORING_RATING_var  RATIO_CREDIT_TO_ANNUITY  \\\n",
       "0                     0.036237                 20.00000   \n",
       "1                     0.032481                 18.86105   \n",
       "\n",
       "   RATIO_ANNUITY_TO_SALARY  RATIO_CREDIT_TO_SALARY  EXPECTED_TOTAL_LOSS_1  \\\n",
       "0                 0.085714                1.714286           88957.124333   \n",
       "1                 0.105433                1.988583                    NaN   \n",
       "\n",
       "   EXPECTED_TOTAL_LOSS_2  EXPECTED_TOTAL_LOSS_3  EXPECTED_MONTHLY_LOSS_1  \\\n",
       "0           63804.966560          183213.275945              4447.856217   \n",
       "1          237475.743779          431008.094056                      NaN   \n",
       "\n",
       "   EXPECTED_MONTHLY_LOSS_2  EXPECTED_MONTHLY_LOSS_3  \n",
       "0              3190.248328              9160.663797  \n",
       "1             12590.802122             22851.755462  "
      ]
     },
     "execution_count": 27,
     "metadata": {},
     "output_type": "execute_result"
    }
   ],
   "source": [
    "client_profile = create_client_profile_features(source[\"client_profile\"])\n",
    "client_profile.head(n=2)"
   ]
  },
  {
   "cell_type": "code",
   "execution_count": 28,
   "metadata": {
    "execution": {
     "iopub.execute_input": "2020-10-04T17:46:31.095236Z",
     "iopub.status.busy": "2020-10-04T17:46:31.094642Z",
     "iopub.status.idle": "2020-10-04T17:46:31.744095Z",
     "shell.execute_reply": "2020-10-04T17:46:31.743590Z"
    },
    "id": "0C-AIKuW6ZBd",
    "outputId": "12ff403d-d85d-45a6-c0c4-2e0c4726e68d",
    "papermill": {
     "duration": 0.77852,
     "end_time": "2020-10-04T17:46:31.744200",
     "exception": false,
     "start_time": "2020-10-04T17:46:30.965680",
     "status": "completed"
    },
    "tags": []
   },
   "outputs": [
    {
     "data": {
      "text/html": [
       "<div>\n",
       "<style scoped>\n",
       "    .dataframe tbody tr th:only-of-type {\n",
       "        vertical-align: middle;\n",
       "    }\n",
       "\n",
       "    .dataframe tbody tr th {\n",
       "        vertical-align: top;\n",
       "    }\n",
       "\n",
       "    .dataframe thead th {\n",
       "        text-align: right;\n",
       "    }\n",
       "</style>\n",
       "<table border=\"1\" class=\"dataframe\">\n",
       "  <thead>\n",
       "    <tr style=\"text-align: right;\">\n",
       "      <th></th>\n",
       "      <th>APPLICATION_NUMBER</th>\n",
       "      <th>TARGET</th>\n",
       "      <th>NAME_CONTRACT_TYPE</th>\n",
       "      <th>GENDER</th>\n",
       "      <th>CHILDRENS</th>\n",
       "      <th>TOTAL_SALARY</th>\n",
       "      <th>AMOUNT_CREDIT</th>\n",
       "      <th>AMOUNT_ANNUITY</th>\n",
       "      <th>EDUCATION_LEVEL</th>\n",
       "      <th>FAMILY_STATUS</th>\n",
       "      <th>REGION_POPULATION</th>\n",
       "      <th>AGE</th>\n",
       "      <th>DAYS_ON_LAST_JOB</th>\n",
       "      <th>OWN_CAR_AGE</th>\n",
       "      <th>FLAG_PHONE</th>\n",
       "      <th>FLAG_EMAIL</th>\n",
       "      <th>FAMILY_SIZE</th>\n",
       "      <th>EXTERNAL_SCORING_RATING_1</th>\n",
       "      <th>EXTERNAL_SCORING_RATING_2</th>\n",
       "      <th>EXTERNAL_SCORING_RATING_3</th>\n",
       "      <th>AMT_REQ_CREDIT_BUREAU_HOUR</th>\n",
       "      <th>AMT_REQ_CREDIT_BUREAU_DAY</th>\n",
       "      <th>AMT_REQ_CREDIT_BUREAU_WEEK</th>\n",
       "      <th>AMT_REQ_CREDIT_BUREAU_MON</th>\n",
       "      <th>AMT_REQ_CREDIT_BUREAU_QRT</th>\n",
       "      <th>AMT_REQ_CREDIT_BUREAU_YEAR</th>\n",
       "      <th>EXTERNAL_SCORING_PROD</th>\n",
       "      <th>EXTERNAL_SCORING_WEIGHTED</th>\n",
       "      <th>EXTERNAL_SCORING_RATING_min</th>\n",
       "      <th>EXTERNAL_SCORING_RATING_max</th>\n",
       "      <th>EXTERNAL_SCORING_RATING_mean</th>\n",
       "      <th>EXTERNAL_SCORING_RATING_nanmedian</th>\n",
       "      <th>EXTERNAL_SCORING_RATING_var</th>\n",
       "      <th>RATIO_CREDIT_TO_ANNUITY</th>\n",
       "      <th>RATIO_ANNUITY_TO_SALARY</th>\n",
       "      <th>RATIO_CREDIT_TO_SALARY</th>\n",
       "      <th>EXPECTED_TOTAL_LOSS_1</th>\n",
       "      <th>EXPECTED_TOTAL_LOSS_2</th>\n",
       "      <th>EXPECTED_TOTAL_LOSS_3</th>\n",
       "      <th>EXPECTED_MONTHLY_LOSS_1</th>\n",
       "      <th>EXPECTED_MONTHLY_LOSS_2</th>\n",
       "      <th>EXPECTED_MONTHLY_LOSS_3</th>\n",
       "    </tr>\n",
       "  </thead>\n",
       "  <tbody>\n",
       "    <tr>\n",
       "      <th>0</th>\n",
       "      <td>123687442</td>\n",
       "      <td>0.0</td>\n",
       "      <td>Cash</td>\n",
       "      <td>M</td>\n",
       "      <td>1.0</td>\n",
       "      <td>157500.0</td>\n",
       "      <td>855000.0</td>\n",
       "      <td>25128.0</td>\n",
       "      <td>Secondary / secondary special</td>\n",
       "      <td>Married</td>\n",
       "      <td>0.019101</td>\n",
       "      <td>15728.0</td>\n",
       "      <td>1719.0</td>\n",
       "      <td>11.0</td>\n",
       "      <td>0.0</td>\n",
       "      <td>0.0</td>\n",
       "      <td>3.0</td>\n",
       "      <td>0.700784</td>\n",
       "      <td>0.645914</td>\n",
       "      <td>0.716570</td>\n",
       "      <td>0.0</td>\n",
       "      <td>0.0</td>\n",
       "      <td>1.0</td>\n",
       "      <td>0.0</td>\n",
       "      <td>0.0</td>\n",
       "      <td>2.0</td>\n",
       "      <td>0.324353</td>\n",
       "      <td>4.197193</td>\n",
       "      <td>0.645914</td>\n",
       "      <td>0.716570</td>\n",
       "      <td>0.687756</td>\n",
       "      <td>0.700784</td>\n",
       "      <td>9.169231e-04</td>\n",
       "      <td>34.025788</td>\n",
       "      <td>0.159543</td>\n",
       "      <td>5.428571</td>\n",
       "      <td>599170.547652</td>\n",
       "      <td>552256.266546</td>\n",
       "      <td>612667.559305</td>\n",
       "      <td>17609.307043</td>\n",
       "      <td>16230.521013</td>\n",
       "      <td>18005.977111</td>\n",
       "    </tr>\n",
       "    <tr>\n",
       "      <th>1</th>\n",
       "      <td>123597908</td>\n",
       "      <td>1.0</td>\n",
       "      <td>Cash</td>\n",
       "      <td>NaN</td>\n",
       "      <td>NaN</td>\n",
       "      <td>NaN</td>\n",
       "      <td>NaN</td>\n",
       "      <td>NaN</td>\n",
       "      <td>NaN</td>\n",
       "      <td>NaN</td>\n",
       "      <td>NaN</td>\n",
       "      <td>NaN</td>\n",
       "      <td>NaN</td>\n",
       "      <td>NaN</td>\n",
       "      <td>NaN</td>\n",
       "      <td>NaN</td>\n",
       "      <td>NaN</td>\n",
       "      <td>NaN</td>\n",
       "      <td>NaN</td>\n",
       "      <td>NaN</td>\n",
       "      <td>NaN</td>\n",
       "      <td>NaN</td>\n",
       "      <td>NaN</td>\n",
       "      <td>NaN</td>\n",
       "      <td>NaN</td>\n",
       "      <td>NaN</td>\n",
       "      <td>NaN</td>\n",
       "      <td>NaN</td>\n",
       "      <td>NaN</td>\n",
       "      <td>NaN</td>\n",
       "      <td>NaN</td>\n",
       "      <td>NaN</td>\n",
       "      <td>NaN</td>\n",
       "      <td>NaN</td>\n",
       "      <td>NaN</td>\n",
       "      <td>NaN</td>\n",
       "      <td>NaN</td>\n",
       "      <td>NaN</td>\n",
       "      <td>NaN</td>\n",
       "      <td>NaN</td>\n",
       "      <td>NaN</td>\n",
       "      <td>NaN</td>\n",
       "    </tr>\n",
       "    <tr>\n",
       "      <th>2</th>\n",
       "      <td>123526683</td>\n",
       "      <td>0.0</td>\n",
       "      <td>Cash</td>\n",
       "      <td>F</td>\n",
       "      <td>0.0</td>\n",
       "      <td>135000.0</td>\n",
       "      <td>1006920.0</td>\n",
       "      <td>42660.0</td>\n",
       "      <td>Higher education</td>\n",
       "      <td>Married</td>\n",
       "      <td>0.026392</td>\n",
       "      <td>21557.0</td>\n",
       "      <td>3618.0</td>\n",
       "      <td>NaN</td>\n",
       "      <td>1.0</td>\n",
       "      <td>0.0</td>\n",
       "      <td>2.0</td>\n",
       "      <td>NaN</td>\n",
       "      <td>0.682149</td>\n",
       "      <td>0.267869</td>\n",
       "      <td>0.0</td>\n",
       "      <td>0.0</td>\n",
       "      <td>0.0</td>\n",
       "      <td>7.0</td>\n",
       "      <td>0.0</td>\n",
       "      <td>4.0</td>\n",
       "      <td>NaN</td>\n",
       "      <td>NaN</td>\n",
       "      <td>0.267869</td>\n",
       "      <td>0.682149</td>\n",
       "      <td>0.475009</td>\n",
       "      <td>0.475009</td>\n",
       "      <td>4.290708e-02</td>\n",
       "      <td>23.603376</td>\n",
       "      <td>0.316000</td>\n",
       "      <td>7.458667</td>\n",
       "      <td>NaN</td>\n",
       "      <td>686869.876357</td>\n",
       "      <td>269722.588880</td>\n",
       "      <td>NaN</td>\n",
       "      <td>29100.493510</td>\n",
       "      <td>11427.288803</td>\n",
       "    </tr>\n",
       "    <tr>\n",
       "      <th>3</th>\n",
       "      <td>123710391</td>\n",
       "      <td>1.0</td>\n",
       "      <td>Cash</td>\n",
       "      <td>M</td>\n",
       "      <td>0.0</td>\n",
       "      <td>180000.0</td>\n",
       "      <td>518562.0</td>\n",
       "      <td>22972.5</td>\n",
       "      <td>Secondary / secondary special</td>\n",
       "      <td>Married</td>\n",
       "      <td>0.031329</td>\n",
       "      <td>22338.0</td>\n",
       "      <td>NaN</td>\n",
       "      <td>NaN</td>\n",
       "      <td>0.0</td>\n",
       "      <td>0.0</td>\n",
       "      <td>2.0</td>\n",
       "      <td>NaN</td>\n",
       "      <td>0.171299</td>\n",
       "      <td>0.170446</td>\n",
       "      <td>0.0</td>\n",
       "      <td>0.0</td>\n",
       "      <td>0.0</td>\n",
       "      <td>0.0</td>\n",
       "      <td>0.0</td>\n",
       "      <td>0.0</td>\n",
       "      <td>NaN</td>\n",
       "      <td>NaN</td>\n",
       "      <td>0.170446</td>\n",
       "      <td>0.171299</td>\n",
       "      <td>0.170873</td>\n",
       "      <td>0.170873</td>\n",
       "      <td>1.818800e-07</td>\n",
       "      <td>22.573164</td>\n",
       "      <td>0.127625</td>\n",
       "      <td>2.880900</td>\n",
       "      <td>NaN</td>\n",
       "      <td>88829.188848</td>\n",
       "      <td>88386.882459</td>\n",
       "      <td>NaN</td>\n",
       "      <td>3935.167908</td>\n",
       "      <td>3915.573562</td>\n",
       "    </tr>\n",
       "    <tr>\n",
       "      <th>4</th>\n",
       "      <td>123590329</td>\n",
       "      <td>1.0</td>\n",
       "      <td>Cash</td>\n",
       "      <td>NaN</td>\n",
       "      <td>NaN</td>\n",
       "      <td>NaN</td>\n",
       "      <td>NaN</td>\n",
       "      <td>NaN</td>\n",
       "      <td>NaN</td>\n",
       "      <td>NaN</td>\n",
       "      <td>NaN</td>\n",
       "      <td>NaN</td>\n",
       "      <td>NaN</td>\n",
       "      <td>NaN</td>\n",
       "      <td>NaN</td>\n",
       "      <td>NaN</td>\n",
       "      <td>NaN</td>\n",
       "      <td>NaN</td>\n",
       "      <td>NaN</td>\n",
       "      <td>NaN</td>\n",
       "      <td>NaN</td>\n",
       "      <td>NaN</td>\n",
       "      <td>NaN</td>\n",
       "      <td>NaN</td>\n",
       "      <td>NaN</td>\n",
       "      <td>NaN</td>\n",
       "      <td>NaN</td>\n",
       "      <td>NaN</td>\n",
       "      <td>NaN</td>\n",
       "      <td>NaN</td>\n",
       "      <td>NaN</td>\n",
       "      <td>NaN</td>\n",
       "      <td>NaN</td>\n",
       "      <td>NaN</td>\n",
       "      <td>NaN</td>\n",
       "      <td>NaN</td>\n",
       "      <td>NaN</td>\n",
       "      <td>NaN</td>\n",
       "      <td>NaN</td>\n",
       "      <td>NaN</td>\n",
       "      <td>NaN</td>\n",
       "      <td>NaN</td>\n",
       "    </tr>\n",
       "  </tbody>\n",
       "</table>\n",
       "</div>"
      ],
      "text/plain": [
       "   APPLICATION_NUMBER  TARGET NAME_CONTRACT_TYPE GENDER  CHILDRENS  \\\n",
       "0           123687442     0.0               Cash      M        1.0   \n",
       "1           123597908     1.0               Cash    NaN        NaN   \n",
       "2           123526683     0.0               Cash      F        0.0   \n",
       "3           123710391     1.0               Cash      M        0.0   \n",
       "4           123590329     1.0               Cash    NaN        NaN   \n",
       "\n",
       "   TOTAL_SALARY  AMOUNT_CREDIT  AMOUNT_ANNUITY                EDUCATION_LEVEL  \\\n",
       "0      157500.0       855000.0         25128.0  Secondary / secondary special   \n",
       "1           NaN            NaN             NaN                            NaN   \n",
       "2      135000.0      1006920.0         42660.0               Higher education   \n",
       "3      180000.0       518562.0         22972.5  Secondary / secondary special   \n",
       "4           NaN            NaN             NaN                            NaN   \n",
       "\n",
       "  FAMILY_STATUS  REGION_POPULATION      AGE  DAYS_ON_LAST_JOB  OWN_CAR_AGE  \\\n",
       "0       Married           0.019101  15728.0            1719.0         11.0   \n",
       "1           NaN                NaN      NaN               NaN          NaN   \n",
       "2       Married           0.026392  21557.0            3618.0          NaN   \n",
       "3       Married           0.031329  22338.0               NaN          NaN   \n",
       "4           NaN                NaN      NaN               NaN          NaN   \n",
       "\n",
       "   FLAG_PHONE  FLAG_EMAIL  FAMILY_SIZE  EXTERNAL_SCORING_RATING_1  \\\n",
       "0         0.0         0.0          3.0                   0.700784   \n",
       "1         NaN         NaN          NaN                        NaN   \n",
       "2         1.0         0.0          2.0                        NaN   \n",
       "3         0.0         0.0          2.0                        NaN   \n",
       "4         NaN         NaN          NaN                        NaN   \n",
       "\n",
       "   EXTERNAL_SCORING_RATING_2  EXTERNAL_SCORING_RATING_3  \\\n",
       "0                   0.645914                   0.716570   \n",
       "1                        NaN                        NaN   \n",
       "2                   0.682149                   0.267869   \n",
       "3                   0.171299                   0.170446   \n",
       "4                        NaN                        NaN   \n",
       "\n",
       "   AMT_REQ_CREDIT_BUREAU_HOUR  AMT_REQ_CREDIT_BUREAU_DAY  \\\n",
       "0                         0.0                        0.0   \n",
       "1                         NaN                        NaN   \n",
       "2                         0.0                        0.0   \n",
       "3                         0.0                        0.0   \n",
       "4                         NaN                        NaN   \n",
       "\n",
       "   AMT_REQ_CREDIT_BUREAU_WEEK  AMT_REQ_CREDIT_BUREAU_MON  \\\n",
       "0                         1.0                        0.0   \n",
       "1                         NaN                        NaN   \n",
       "2                         0.0                        7.0   \n",
       "3                         0.0                        0.0   \n",
       "4                         NaN                        NaN   \n",
       "\n",
       "   AMT_REQ_CREDIT_BUREAU_QRT  AMT_REQ_CREDIT_BUREAU_YEAR  \\\n",
       "0                        0.0                         2.0   \n",
       "1                        NaN                         NaN   \n",
       "2                        0.0                         4.0   \n",
       "3                        0.0                         0.0   \n",
       "4                        NaN                         NaN   \n",
       "\n",
       "   EXTERNAL_SCORING_PROD  EXTERNAL_SCORING_WEIGHTED  \\\n",
       "0               0.324353                   4.197193   \n",
       "1                    NaN                        NaN   \n",
       "2                    NaN                        NaN   \n",
       "3                    NaN                        NaN   \n",
       "4                    NaN                        NaN   \n",
       "\n",
       "   EXTERNAL_SCORING_RATING_min  EXTERNAL_SCORING_RATING_max  \\\n",
       "0                     0.645914                     0.716570   \n",
       "1                          NaN                          NaN   \n",
       "2                     0.267869                     0.682149   \n",
       "3                     0.170446                     0.171299   \n",
       "4                          NaN                          NaN   \n",
       "\n",
       "   EXTERNAL_SCORING_RATING_mean  EXTERNAL_SCORING_RATING_nanmedian  \\\n",
       "0                      0.687756                           0.700784   \n",
       "1                           NaN                                NaN   \n",
       "2                      0.475009                           0.475009   \n",
       "3                      0.170873                           0.170873   \n",
       "4                           NaN                                NaN   \n",
       "\n",
       "   EXTERNAL_SCORING_RATING_var  RATIO_CREDIT_TO_ANNUITY  \\\n",
       "0                 9.169231e-04                34.025788   \n",
       "1                          NaN                      NaN   \n",
       "2                 4.290708e-02                23.603376   \n",
       "3                 1.818800e-07                22.573164   \n",
       "4                          NaN                      NaN   \n",
       "\n",
       "   RATIO_ANNUITY_TO_SALARY  RATIO_CREDIT_TO_SALARY  EXPECTED_TOTAL_LOSS_1  \\\n",
       "0                 0.159543                5.428571          599170.547652   \n",
       "1                      NaN                     NaN                    NaN   \n",
       "2                 0.316000                7.458667                    NaN   \n",
       "3                 0.127625                2.880900                    NaN   \n",
       "4                      NaN                     NaN                    NaN   \n",
       "\n",
       "   EXPECTED_TOTAL_LOSS_2  EXPECTED_TOTAL_LOSS_3  EXPECTED_MONTHLY_LOSS_1  \\\n",
       "0          552256.266546          612667.559305             17609.307043   \n",
       "1                    NaN                    NaN                      NaN   \n",
       "2          686869.876357          269722.588880                      NaN   \n",
       "3           88829.188848           88386.882459                      NaN   \n",
       "4                    NaN                    NaN                      NaN   \n",
       "\n",
       "   EXPECTED_MONTHLY_LOSS_2  EXPECTED_MONTHLY_LOSS_3  \n",
       "0             16230.521013             18005.977111  \n",
       "1                      NaN                      NaN  \n",
       "2             29100.493510             11427.288803  \n",
       "3              3935.167908              3915.573562  \n",
       "4                      NaN                      NaN  "
      ]
     },
     "execution_count": 28,
     "metadata": {},
     "output_type": "execute_result"
    }
   ],
   "source": [
    "data = pd.merge(data, client_profile, on='APPLICATION_NUMBER', how='left')\n",
    "data.head()"
   ]
  },
  {
   "cell_type": "code",
   "execution_count": 29,
   "metadata": {
    "execution": {
     "iopub.execute_input": "2020-10-04T17:46:32.031481Z",
     "iopub.status.busy": "2020-10-04T17:46:32.030839Z",
     "iopub.status.idle": "2020-10-04T17:46:32.035161Z",
     "shell.execute_reply": "2020-10-04T17:46:32.034744Z"
    },
    "id": "XvCNAfOD6ZBi",
    "outputId": "9d8dc77e-8ff0-4bb6-d291-879ca322a758",
    "papermill": {
     "duration": 0.167629,
     "end_time": "2020-10-04T17:46:32.035275",
     "exception": false,
     "start_time": "2020-10-04T17:46:31.867646",
     "status": "completed"
    },
    "tags": []
   },
   "outputs": [
    {
     "data": {
      "text/html": [
       "<div>\n",
       "<style scoped>\n",
       "    .dataframe tbody tr th:only-of-type {\n",
       "        vertical-align: middle;\n",
       "    }\n",
       "\n",
       "    .dataframe tbody tr th {\n",
       "        vertical-align: top;\n",
       "    }\n",
       "\n",
       "    .dataframe thead th {\n",
       "        text-align: right;\n",
       "    }\n",
       "</style>\n",
       "<table border=\"1\" class=\"dataframe\">\n",
       "  <thead>\n",
       "    <tr style=\"text-align: right;\">\n",
       "      <th></th>\n",
       "      <th>APPLICATION_NUMBER</th>\n",
       "      <th>TARGET</th>\n",
       "      <th>NAME_CONTRACT_TYPE</th>\n",
       "      <th>GENDER</th>\n",
       "      <th>CHILDRENS</th>\n",
       "      <th>TOTAL_SALARY</th>\n",
       "      <th>AMOUNT_CREDIT</th>\n",
       "      <th>AMOUNT_ANNUITY</th>\n",
       "      <th>EDUCATION_LEVEL</th>\n",
       "      <th>FAMILY_STATUS</th>\n",
       "      <th>REGION_POPULATION</th>\n",
       "      <th>AGE</th>\n",
       "      <th>DAYS_ON_LAST_JOB</th>\n",
       "      <th>OWN_CAR_AGE</th>\n",
       "      <th>FLAG_PHONE</th>\n",
       "      <th>FLAG_EMAIL</th>\n",
       "      <th>FAMILY_SIZE</th>\n",
       "      <th>EXTERNAL_SCORING_RATING_1</th>\n",
       "      <th>EXTERNAL_SCORING_RATING_2</th>\n",
       "      <th>EXTERNAL_SCORING_RATING_3</th>\n",
       "      <th>AMT_REQ_CREDIT_BUREAU_HOUR</th>\n",
       "      <th>AMT_REQ_CREDIT_BUREAU_DAY</th>\n",
       "      <th>AMT_REQ_CREDIT_BUREAU_WEEK</th>\n",
       "      <th>AMT_REQ_CREDIT_BUREAU_MON</th>\n",
       "      <th>AMT_REQ_CREDIT_BUREAU_QRT</th>\n",
       "      <th>AMT_REQ_CREDIT_BUREAU_YEAR</th>\n",
       "      <th>EXTERNAL_SCORING_PROD</th>\n",
       "      <th>EXTERNAL_SCORING_WEIGHTED</th>\n",
       "      <th>EXTERNAL_SCORING_RATING_min</th>\n",
       "      <th>EXTERNAL_SCORING_RATING_max</th>\n",
       "      <th>EXTERNAL_SCORING_RATING_mean</th>\n",
       "      <th>EXTERNAL_SCORING_RATING_nanmedian</th>\n",
       "      <th>EXTERNAL_SCORING_RATING_var</th>\n",
       "      <th>RATIO_CREDIT_TO_ANNUITY</th>\n",
       "      <th>RATIO_ANNUITY_TO_SALARY</th>\n",
       "      <th>RATIO_CREDIT_TO_SALARY</th>\n",
       "      <th>EXPECTED_TOTAL_LOSS_1</th>\n",
       "      <th>EXPECTED_TOTAL_LOSS_2</th>\n",
       "      <th>EXPECTED_TOTAL_LOSS_3</th>\n",
       "      <th>EXPECTED_MONTHLY_LOSS_1</th>\n",
       "      <th>EXPECTED_MONTHLY_LOSS_2</th>\n",
       "      <th>EXPECTED_MONTHLY_LOSS_3</th>\n",
       "    </tr>\n",
       "  </thead>\n",
       "  <tbody>\n",
       "    <tr>\n",
       "      <th>275229</th>\n",
       "      <td>123487967</td>\n",
       "      <td>NaN</td>\n",
       "      <td>Cash</td>\n",
       "      <td>NaN</td>\n",
       "      <td>NaN</td>\n",
       "      <td>NaN</td>\n",
       "      <td>NaN</td>\n",
       "      <td>NaN</td>\n",
       "      <td>NaN</td>\n",
       "      <td>NaN</td>\n",
       "      <td>NaN</td>\n",
       "      <td>NaN</td>\n",
       "      <td>NaN</td>\n",
       "      <td>NaN</td>\n",
       "      <td>NaN</td>\n",
       "      <td>NaN</td>\n",
       "      <td>NaN</td>\n",
       "      <td>NaN</td>\n",
       "      <td>NaN</td>\n",
       "      <td>NaN</td>\n",
       "      <td>NaN</td>\n",
       "      <td>NaN</td>\n",
       "      <td>NaN</td>\n",
       "      <td>NaN</td>\n",
       "      <td>NaN</td>\n",
       "      <td>NaN</td>\n",
       "      <td>NaN</td>\n",
       "      <td>NaN</td>\n",
       "      <td>NaN</td>\n",
       "      <td>NaN</td>\n",
       "      <td>NaN</td>\n",
       "      <td>NaN</td>\n",
       "      <td>NaN</td>\n",
       "      <td>NaN</td>\n",
       "      <td>NaN</td>\n",
       "      <td>NaN</td>\n",
       "      <td>NaN</td>\n",
       "      <td>NaN</td>\n",
       "      <td>NaN</td>\n",
       "      <td>NaN</td>\n",
       "      <td>NaN</td>\n",
       "      <td>NaN</td>\n",
       "    </tr>\n",
       "    <tr>\n",
       "      <th>275230</th>\n",
       "      <td>123536402</td>\n",
       "      <td>NaN</td>\n",
       "      <td>Cash</td>\n",
       "      <td>M</td>\n",
       "      <td>0.0</td>\n",
       "      <td>135000.0</td>\n",
       "      <td>450000.0</td>\n",
       "      <td>16807.5</td>\n",
       "      <td>Secondary / secondary special</td>\n",
       "      <td>Single / not married</td>\n",
       "      <td>0.028663</td>\n",
       "      <td>18610.0</td>\n",
       "      <td>10398.0</td>\n",
       "      <td>23.0</td>\n",
       "      <td>0.0</td>\n",
       "      <td>0.0</td>\n",
       "      <td>1.0</td>\n",
       "      <td>NaN</td>\n",
       "      <td>0.665971</td>\n",
       "      <td>0.535276</td>\n",
       "      <td>0.0</td>\n",
       "      <td>0.0</td>\n",
       "      <td>0.0</td>\n",
       "      <td>0.0</td>\n",
       "      <td>0.0</td>\n",
       "      <td>0.0</td>\n",
       "      <td>NaN</td>\n",
       "      <td>NaN</td>\n",
       "      <td>0.535276</td>\n",
       "      <td>0.665971</td>\n",
       "      <td>0.600624</td>\n",
       "      <td>0.600624</td>\n",
       "      <td>0.004270</td>\n",
       "      <td>26.773762</td>\n",
       "      <td>0.124500</td>\n",
       "      <td>3.333333</td>\n",
       "      <td>NaN</td>\n",
       "      <td>299686.841680</td>\n",
       "      <td>240874.312713</td>\n",
       "      <td>NaN</td>\n",
       "      <td>11193.303537</td>\n",
       "      <td>8996.655580</td>\n",
       "    </tr>\n",
       "    <tr>\n",
       "      <th>275231</th>\n",
       "      <td>123718238</td>\n",
       "      <td>NaN</td>\n",
       "      <td>Cash</td>\n",
       "      <td>NaN</td>\n",
       "      <td>NaN</td>\n",
       "      <td>NaN</td>\n",
       "      <td>NaN</td>\n",
       "      <td>NaN</td>\n",
       "      <td>NaN</td>\n",
       "      <td>NaN</td>\n",
       "      <td>NaN</td>\n",
       "      <td>NaN</td>\n",
       "      <td>NaN</td>\n",
       "      <td>NaN</td>\n",
       "      <td>NaN</td>\n",
       "      <td>NaN</td>\n",
       "      <td>NaN</td>\n",
       "      <td>NaN</td>\n",
       "      <td>NaN</td>\n",
       "      <td>NaN</td>\n",
       "      <td>NaN</td>\n",
       "      <td>NaN</td>\n",
       "      <td>NaN</td>\n",
       "      <td>NaN</td>\n",
       "      <td>NaN</td>\n",
       "      <td>NaN</td>\n",
       "      <td>NaN</td>\n",
       "      <td>NaN</td>\n",
       "      <td>NaN</td>\n",
       "      <td>NaN</td>\n",
       "      <td>NaN</td>\n",
       "      <td>NaN</td>\n",
       "      <td>NaN</td>\n",
       "      <td>NaN</td>\n",
       "      <td>NaN</td>\n",
       "      <td>NaN</td>\n",
       "      <td>NaN</td>\n",
       "      <td>NaN</td>\n",
       "      <td>NaN</td>\n",
       "      <td>NaN</td>\n",
       "      <td>NaN</td>\n",
       "      <td>NaN</td>\n",
       "    </tr>\n",
       "    <tr>\n",
       "      <th>275232</th>\n",
       "      <td>123631557</td>\n",
       "      <td>NaN</td>\n",
       "      <td>Cash</td>\n",
       "      <td>F</td>\n",
       "      <td>0.0</td>\n",
       "      <td>112500.0</td>\n",
       "      <td>350181.0</td>\n",
       "      <td>36769.5</td>\n",
       "      <td>Secondary / secondary special</td>\n",
       "      <td>Married</td>\n",
       "      <td>0.030755</td>\n",
       "      <td>20551.0</td>\n",
       "      <td>NaN</td>\n",
       "      <td>NaN</td>\n",
       "      <td>0.0</td>\n",
       "      <td>1.0</td>\n",
       "      <td>2.0</td>\n",
       "      <td>NaN</td>\n",
       "      <td>0.761376</td>\n",
       "      <td>NaN</td>\n",
       "      <td>NaN</td>\n",
       "      <td>NaN</td>\n",
       "      <td>NaN</td>\n",
       "      <td>NaN</td>\n",
       "      <td>NaN</td>\n",
       "      <td>NaN</td>\n",
       "      <td>NaN</td>\n",
       "      <td>NaN</td>\n",
       "      <td>0.761376</td>\n",
       "      <td>0.761376</td>\n",
       "      <td>0.761376</td>\n",
       "      <td>0.761376</td>\n",
       "      <td>0.000000</td>\n",
       "      <td>9.523681</td>\n",
       "      <td>0.326840</td>\n",
       "      <td>3.112720</td>\n",
       "      <td>NaN</td>\n",
       "      <td>266619.257702</td>\n",
       "      <td>NaN</td>\n",
       "      <td>NaN</td>\n",
       "      <td>27995.398940</td>\n",
       "      <td>NaN</td>\n",
       "    </tr>\n",
       "    <tr>\n",
       "      <th>275233</th>\n",
       "      <td>123433260</td>\n",
       "      <td>NaN</td>\n",
       "      <td>Cash</td>\n",
       "      <td>M</td>\n",
       "      <td>0.0</td>\n",
       "      <td>247500.0</td>\n",
       "      <td>1241437.5</td>\n",
       "      <td>36427.5</td>\n",
       "      <td>Secondary / secondary special</td>\n",
       "      <td>Married</td>\n",
       "      <td>0.018029</td>\n",
       "      <td>18853.0</td>\n",
       "      <td>6543.0</td>\n",
       "      <td>15.0</td>\n",
       "      <td>0.0</td>\n",
       "      <td>0.0</td>\n",
       "      <td>2.0</td>\n",
       "      <td>NaN</td>\n",
       "      <td>0.493617</td>\n",
       "      <td>0.546023</td>\n",
       "      <td>0.0</td>\n",
       "      <td>0.0</td>\n",
       "      <td>0.0</td>\n",
       "      <td>1.0</td>\n",
       "      <td>0.0</td>\n",
       "      <td>2.0</td>\n",
       "      <td>NaN</td>\n",
       "      <td>NaN</td>\n",
       "      <td>0.493617</td>\n",
       "      <td>0.546023</td>\n",
       "      <td>0.519820</td>\n",
       "      <td>0.519820</td>\n",
       "      <td>0.000687</td>\n",
       "      <td>34.079679</td>\n",
       "      <td>0.147182</td>\n",
       "      <td>5.015909</td>\n",
       "      <td>NaN</td>\n",
       "      <td>612794.525674</td>\n",
       "      <td>677853.672632</td>\n",
       "      <td>NaN</td>\n",
       "      <td>17981.229489</td>\n",
       "      <td>19890.260009</td>\n",
       "    </tr>\n",
       "  </tbody>\n",
       "</table>\n",
       "</div>"
      ],
      "text/plain": [
       "        APPLICATION_NUMBER  TARGET NAME_CONTRACT_TYPE GENDER  CHILDRENS  \\\n",
       "275229           123487967     NaN               Cash    NaN        NaN   \n",
       "275230           123536402     NaN               Cash      M        0.0   \n",
       "275231           123718238     NaN               Cash    NaN        NaN   \n",
       "275232           123631557     NaN               Cash      F        0.0   \n",
       "275233           123433260     NaN               Cash      M        0.0   \n",
       "\n",
       "        TOTAL_SALARY  AMOUNT_CREDIT  AMOUNT_ANNUITY  \\\n",
       "275229           NaN            NaN             NaN   \n",
       "275230      135000.0       450000.0         16807.5   \n",
       "275231           NaN            NaN             NaN   \n",
       "275232      112500.0       350181.0         36769.5   \n",
       "275233      247500.0      1241437.5         36427.5   \n",
       "\n",
       "                      EDUCATION_LEVEL         FAMILY_STATUS  \\\n",
       "275229                            NaN                   NaN   \n",
       "275230  Secondary / secondary special  Single / not married   \n",
       "275231                            NaN                   NaN   \n",
       "275232  Secondary / secondary special               Married   \n",
       "275233  Secondary / secondary special               Married   \n",
       "\n",
       "        REGION_POPULATION      AGE  DAYS_ON_LAST_JOB  OWN_CAR_AGE  FLAG_PHONE  \\\n",
       "275229                NaN      NaN               NaN          NaN         NaN   \n",
       "275230           0.028663  18610.0           10398.0         23.0         0.0   \n",
       "275231                NaN      NaN               NaN          NaN         NaN   \n",
       "275232           0.030755  20551.0               NaN          NaN         0.0   \n",
       "275233           0.018029  18853.0            6543.0         15.0         0.0   \n",
       "\n",
       "        FLAG_EMAIL  FAMILY_SIZE  EXTERNAL_SCORING_RATING_1  \\\n",
       "275229         NaN          NaN                        NaN   \n",
       "275230         0.0          1.0                        NaN   \n",
       "275231         NaN          NaN                        NaN   \n",
       "275232         1.0          2.0                        NaN   \n",
       "275233         0.0          2.0                        NaN   \n",
       "\n",
       "        EXTERNAL_SCORING_RATING_2  EXTERNAL_SCORING_RATING_3  \\\n",
       "275229                        NaN                        NaN   \n",
       "275230                   0.665971                   0.535276   \n",
       "275231                        NaN                        NaN   \n",
       "275232                   0.761376                        NaN   \n",
       "275233                   0.493617                   0.546023   \n",
       "\n",
       "        AMT_REQ_CREDIT_BUREAU_HOUR  AMT_REQ_CREDIT_BUREAU_DAY  \\\n",
       "275229                         NaN                        NaN   \n",
       "275230                         0.0                        0.0   \n",
       "275231                         NaN                        NaN   \n",
       "275232                         NaN                        NaN   \n",
       "275233                         0.0                        0.0   \n",
       "\n",
       "        AMT_REQ_CREDIT_BUREAU_WEEK  AMT_REQ_CREDIT_BUREAU_MON  \\\n",
       "275229                         NaN                        NaN   \n",
       "275230                         0.0                        0.0   \n",
       "275231                         NaN                        NaN   \n",
       "275232                         NaN                        NaN   \n",
       "275233                         0.0                        1.0   \n",
       "\n",
       "        AMT_REQ_CREDIT_BUREAU_QRT  AMT_REQ_CREDIT_BUREAU_YEAR  \\\n",
       "275229                        NaN                         NaN   \n",
       "275230                        0.0                         0.0   \n",
       "275231                        NaN                         NaN   \n",
       "275232                        NaN                         NaN   \n",
       "275233                        0.0                         2.0   \n",
       "\n",
       "        EXTERNAL_SCORING_PROD  EXTERNAL_SCORING_WEIGHTED  \\\n",
       "275229                    NaN                        NaN   \n",
       "275230                    NaN                        NaN   \n",
       "275231                    NaN                        NaN   \n",
       "275232                    NaN                        NaN   \n",
       "275233                    NaN                        NaN   \n",
       "\n",
       "        EXTERNAL_SCORING_RATING_min  EXTERNAL_SCORING_RATING_max  \\\n",
       "275229                          NaN                          NaN   \n",
       "275230                     0.535276                     0.665971   \n",
       "275231                          NaN                          NaN   \n",
       "275232                     0.761376                     0.761376   \n",
       "275233                     0.493617                     0.546023   \n",
       "\n",
       "        EXTERNAL_SCORING_RATING_mean  EXTERNAL_SCORING_RATING_nanmedian  \\\n",
       "275229                           NaN                                NaN   \n",
       "275230                      0.600624                           0.600624   \n",
       "275231                           NaN                                NaN   \n",
       "275232                      0.761376                           0.761376   \n",
       "275233                      0.519820                           0.519820   \n",
       "\n",
       "        EXTERNAL_SCORING_RATING_var  RATIO_CREDIT_TO_ANNUITY  \\\n",
       "275229                          NaN                      NaN   \n",
       "275230                     0.004270                26.773762   \n",
       "275231                          NaN                      NaN   \n",
       "275232                     0.000000                 9.523681   \n",
       "275233                     0.000687                34.079679   \n",
       "\n",
       "        RATIO_ANNUITY_TO_SALARY  RATIO_CREDIT_TO_SALARY  \\\n",
       "275229                      NaN                     NaN   \n",
       "275230                 0.124500                3.333333   \n",
       "275231                      NaN                     NaN   \n",
       "275232                 0.326840                3.112720   \n",
       "275233                 0.147182                5.015909   \n",
       "\n",
       "        EXPECTED_TOTAL_LOSS_1  EXPECTED_TOTAL_LOSS_2  EXPECTED_TOTAL_LOSS_3  \\\n",
       "275229                    NaN                    NaN                    NaN   \n",
       "275230                    NaN          299686.841680          240874.312713   \n",
       "275231                    NaN                    NaN                    NaN   \n",
       "275232                    NaN          266619.257702                    NaN   \n",
       "275233                    NaN          612794.525674          677853.672632   \n",
       "\n",
       "        EXPECTED_MONTHLY_LOSS_1  EXPECTED_MONTHLY_LOSS_2  \\\n",
       "275229                      NaN                      NaN   \n",
       "275230                      NaN             11193.303537   \n",
       "275231                      NaN                      NaN   \n",
       "275232                      NaN             27995.398940   \n",
       "275233                      NaN             17981.229489   \n",
       "\n",
       "        EXPECTED_MONTHLY_LOSS_3  \n",
       "275229                      NaN  \n",
       "275230              8996.655580  \n",
       "275231                      NaN  \n",
       "275232                      NaN  \n",
       "275233             19890.260009  "
      ]
     },
     "execution_count": 29,
     "metadata": {},
     "output_type": "execute_result"
    }
   ],
   "source": [
    "data.tail()"
   ]
  },
  {
   "cell_type": "code",
   "execution_count": 30,
   "metadata": {
    "execution": {
     "iopub.execute_input": "2020-10-04T17:46:32.329691Z",
     "iopub.status.busy": "2020-10-04T17:46:32.328725Z",
     "iopub.status.idle": "2020-10-04T17:46:32.344802Z",
     "shell.execute_reply": "2020-10-04T17:46:32.346343Z"
    },
    "id": "k1mysemA6ZBm",
    "outputId": "dfe3a446-f9c1-4994-9f6d-2a4f557cdf3c",
    "papermill": {
     "duration": 0.186899,
     "end_time": "2020-10-04T17:46:32.346566",
     "exception": false,
     "start_time": "2020-10-04T17:46:32.159667",
     "status": "completed"
    },
    "tags": []
   },
   "outputs": [
    {
     "data": {
      "text/plain": [
       "(275234, 42)"
      ]
     },
     "execution_count": 30,
     "metadata": {},
     "output_type": "execute_result"
    }
   ],
   "source": [
    "data.shape"
   ]
  },
  {
   "cell_type": "markdown",
   "metadata": {
    "id": "N59XspYK6ZBs",
    "papermill": {
     "duration": 0.125873,
     "end_time": "2020-10-04T17:46:32.661836",
     "exception": false,
     "start_time": "2020-10-04T17:46:32.535963",
     "status": "completed"
    },
    "tags": []
   },
   "source": [
    "### Агрегируем категориальные характеристики из applications_history, bki, payments"
   ]
  },
  {
   "cell_type": "code",
   "execution_count": 31,
   "metadata": {
    "execution": {
     "iopub.execute_input": "2020-10-04T17:46:32.929882Z",
     "iopub.status.busy": "2020-10-04T17:46:32.928897Z",
     "iopub.status.idle": "2020-10-04T17:46:32.931286Z",
     "shell.execute_reply": "2020-10-04T17:46:32.931869Z"
    },
    "id": "5_-kfYWY6ZCQ",
    "papermill": {
     "duration": 0.136978,
     "end_time": "2020-10-04T17:46:32.932004",
     "exception": false,
     "start_time": "2020-10-04T17:46:32.795026",
     "status": "completed"
    },
    "tags": []
   },
   "outputs": [],
   "source": [
    "def cat_encoder_m(data: pd.DataFrame)->pd.DataFrame:\n",
    "    '''\n",
    "    Функция для извлечения из датасета источника категориальных переменных и \n",
    "    кодирования count hot encoding\n",
    "    \n",
    "    data: pandas.core.frame.DataFrame\n",
    "        датасет источник\n",
    "        \n",
    "    Возвращает датасет с колонкой APPLICATION_NUMBER и кололонками новых характеристик\n",
    "    '''\n",
    "    res_data = data[['APPLICATION_NUMBER']].copy()\n",
    "    cat_data = data.select_dtypes(include=['object'])\n",
    "    cat_list = []\n",
    "    for cat_col in cat_data.columns:\n",
    "        uniq_vals = cat_data[cat_col].unique()\n",
    "        if len(uniq_vals) < 20:\n",
    "            cat_list.append(cat_col)\n",
    "            for n, uniq_val in enumerate(uniq_vals):\n",
    "                new_col_name = (cat_col + '_' + str(n)).upper()  #'_'.join(str(uniq_val).split())).upper()\n",
    "                res_data[new_col_name] = 0\n",
    "                res_data[new_col_name][data[cat_col] == uniq_val] = 1\n",
    "#                 res_data.loc[data[cat_col] == uniq_val, new_col_name] = 1  \n",
    "    return res_data"
   ]
  },
  {
   "cell_type": "code",
   "execution_count": 32,
   "metadata": {
    "execution": {
     "iopub.execute_input": "2020-10-04T17:46:33.183679Z",
     "iopub.status.busy": "2020-10-04T17:46:33.182737Z",
     "iopub.status.idle": "2020-10-04T17:46:33.199005Z",
     "shell.execute_reply": "2020-10-04T17:46:33.199456Z"
    },
    "id": "ah_uiQqp6ZDq",
    "papermill": {
     "duration": 0.143306,
     "end_time": "2020-10-04T17:46:33.199602",
     "exception": false,
     "start_time": "2020-10-04T17:46:33.056296",
     "status": "completed"
    },
    "tags": []
   },
   "outputs": [
    {
     "name": "stdout",
     "output_type": "stream",
     "text": [
      "payments\n"
     ]
    }
   ],
   "source": [
    "for dat_name in src_list[5:]:\n",
    "    print(dat_name)\n",
    "    new_feat = cat_encoder_m(source[dat_name])\n",
    "    if len(new_feat.columns) > 1:\n",
    "        sum_feat = new_feat.groupby('APPLICATION_NUMBER')[new_feat.columns[1:]].sum()\n",
    "        print(f\"\\tsum cols: {sum_feat.shape}\\n\")\n",
    "        sum_feat.columns = [col + \"_SUM\" for col in sum_feat.columns]\n",
    "        data = pd.merge(data, \n",
    "                        sum_feat, \n",
    "                        on='APPLICATION_NUMBER', \n",
    "                        how='left')\n",
    "        mean_feat = new_feat.groupby('APPLICATION_NUMBER')[new_feat.columns[1:]].mean()\n",
    "        print(f\"\\tmean cols: {mean_feat.shape}\\n\")\n",
    "        mean_feat.columns = [col + \"_MEAN\" for col in mean_feat.columns]\n",
    "        data = pd.merge(data, \n",
    "                        mean_feat, \n",
    "                        on='APPLICATION_NUMBER', \n",
    "                        how='left')"
   ]
  },
  {
   "cell_type": "code",
   "execution_count": 33,
   "metadata": {
    "execution": {
     "iopub.execute_input": "2020-10-04T17:46:33.451264Z",
     "iopub.status.busy": "2020-10-04T17:46:33.450397Z",
     "iopub.status.idle": "2020-10-04T17:46:33.485248Z",
     "shell.execute_reply": "2020-10-04T17:46:33.485799Z"
    },
    "id": "MhgO3AoF6ZDx",
    "outputId": "e550ddc7-fd5e-482b-f754-376f40105560",
    "papermill": {
     "duration": 0.16165,
     "end_time": "2020-10-04T17:46:33.485954",
     "exception": false,
     "start_time": "2020-10-04T17:46:33.324304",
     "status": "completed"
    },
    "tags": []
   },
   "outputs": [
    {
     "data": {
      "text/html": [
       "<div>\n",
       "<style scoped>\n",
       "    .dataframe tbody tr th:only-of-type {\n",
       "        vertical-align: middle;\n",
       "    }\n",
       "\n",
       "    .dataframe tbody tr th {\n",
       "        vertical-align: top;\n",
       "    }\n",
       "\n",
       "    .dataframe thead th {\n",
       "        text-align: right;\n",
       "    }\n",
       "</style>\n",
       "<table border=\"1\" class=\"dataframe\">\n",
       "  <thead>\n",
       "    <tr style=\"text-align: right;\">\n",
       "      <th></th>\n",
       "      <th>APPLICATION_NUMBER</th>\n",
       "      <th>TARGET</th>\n",
       "      <th>NAME_CONTRACT_TYPE</th>\n",
       "      <th>GENDER</th>\n",
       "      <th>CHILDRENS</th>\n",
       "      <th>TOTAL_SALARY</th>\n",
       "      <th>AMOUNT_CREDIT</th>\n",
       "      <th>AMOUNT_ANNUITY</th>\n",
       "      <th>EDUCATION_LEVEL</th>\n",
       "      <th>FAMILY_STATUS</th>\n",
       "      <th>REGION_POPULATION</th>\n",
       "      <th>AGE</th>\n",
       "      <th>DAYS_ON_LAST_JOB</th>\n",
       "      <th>OWN_CAR_AGE</th>\n",
       "      <th>FLAG_PHONE</th>\n",
       "      <th>FLAG_EMAIL</th>\n",
       "      <th>FAMILY_SIZE</th>\n",
       "      <th>EXTERNAL_SCORING_RATING_1</th>\n",
       "      <th>EXTERNAL_SCORING_RATING_2</th>\n",
       "      <th>EXTERNAL_SCORING_RATING_3</th>\n",
       "      <th>AMT_REQ_CREDIT_BUREAU_HOUR</th>\n",
       "      <th>AMT_REQ_CREDIT_BUREAU_DAY</th>\n",
       "      <th>AMT_REQ_CREDIT_BUREAU_WEEK</th>\n",
       "      <th>AMT_REQ_CREDIT_BUREAU_MON</th>\n",
       "      <th>AMT_REQ_CREDIT_BUREAU_QRT</th>\n",
       "      <th>AMT_REQ_CREDIT_BUREAU_YEAR</th>\n",
       "      <th>EXTERNAL_SCORING_PROD</th>\n",
       "      <th>EXTERNAL_SCORING_WEIGHTED</th>\n",
       "      <th>EXTERNAL_SCORING_RATING_min</th>\n",
       "      <th>EXTERNAL_SCORING_RATING_max</th>\n",
       "      <th>EXTERNAL_SCORING_RATING_mean</th>\n",
       "      <th>EXTERNAL_SCORING_RATING_nanmedian</th>\n",
       "      <th>EXTERNAL_SCORING_RATING_var</th>\n",
       "      <th>RATIO_CREDIT_TO_ANNUITY</th>\n",
       "      <th>RATIO_ANNUITY_TO_SALARY</th>\n",
       "      <th>RATIO_CREDIT_TO_SALARY</th>\n",
       "      <th>EXPECTED_TOTAL_LOSS_1</th>\n",
       "      <th>EXPECTED_TOTAL_LOSS_2</th>\n",
       "      <th>EXPECTED_TOTAL_LOSS_3</th>\n",
       "      <th>EXPECTED_MONTHLY_LOSS_1</th>\n",
       "      <th>EXPECTED_MONTHLY_LOSS_2</th>\n",
       "      <th>EXPECTED_MONTHLY_LOSS_3</th>\n",
       "    </tr>\n",
       "  </thead>\n",
       "  <tbody>\n",
       "    <tr>\n",
       "      <th>0</th>\n",
       "      <td>123687442</td>\n",
       "      <td>0.0</td>\n",
       "      <td>Cash</td>\n",
       "      <td>M</td>\n",
       "      <td>1.0</td>\n",
       "      <td>157500.0</td>\n",
       "      <td>855000.0</td>\n",
       "      <td>25128.0</td>\n",
       "      <td>Secondary / secondary special</td>\n",
       "      <td>Married</td>\n",
       "      <td>0.019101</td>\n",
       "      <td>15728.0</td>\n",
       "      <td>1719.0</td>\n",
       "      <td>11.0</td>\n",
       "      <td>0.0</td>\n",
       "      <td>0.0</td>\n",
       "      <td>3.0</td>\n",
       "      <td>0.700784</td>\n",
       "      <td>0.645914</td>\n",
       "      <td>0.716570</td>\n",
       "      <td>0.0</td>\n",
       "      <td>0.0</td>\n",
       "      <td>1.0</td>\n",
       "      <td>0.0</td>\n",
       "      <td>0.0</td>\n",
       "      <td>2.0</td>\n",
       "      <td>0.324353</td>\n",
       "      <td>4.197193</td>\n",
       "      <td>0.645914</td>\n",
       "      <td>0.716570</td>\n",
       "      <td>0.687756</td>\n",
       "      <td>0.700784</td>\n",
       "      <td>9.169231e-04</td>\n",
       "      <td>34.025788</td>\n",
       "      <td>0.159543</td>\n",
       "      <td>5.428571</td>\n",
       "      <td>599170.547652</td>\n",
       "      <td>552256.266546</td>\n",
       "      <td>612667.559305</td>\n",
       "      <td>17609.307043</td>\n",
       "      <td>16230.521013</td>\n",
       "      <td>18005.977111</td>\n",
       "    </tr>\n",
       "    <tr>\n",
       "      <th>1</th>\n",
       "      <td>123597908</td>\n",
       "      <td>1.0</td>\n",
       "      <td>Cash</td>\n",
       "      <td>NaN</td>\n",
       "      <td>NaN</td>\n",
       "      <td>NaN</td>\n",
       "      <td>NaN</td>\n",
       "      <td>NaN</td>\n",
       "      <td>NaN</td>\n",
       "      <td>NaN</td>\n",
       "      <td>NaN</td>\n",
       "      <td>NaN</td>\n",
       "      <td>NaN</td>\n",
       "      <td>NaN</td>\n",
       "      <td>NaN</td>\n",
       "      <td>NaN</td>\n",
       "      <td>NaN</td>\n",
       "      <td>NaN</td>\n",
       "      <td>NaN</td>\n",
       "      <td>NaN</td>\n",
       "      <td>NaN</td>\n",
       "      <td>NaN</td>\n",
       "      <td>NaN</td>\n",
       "      <td>NaN</td>\n",
       "      <td>NaN</td>\n",
       "      <td>NaN</td>\n",
       "      <td>NaN</td>\n",
       "      <td>NaN</td>\n",
       "      <td>NaN</td>\n",
       "      <td>NaN</td>\n",
       "      <td>NaN</td>\n",
       "      <td>NaN</td>\n",
       "      <td>NaN</td>\n",
       "      <td>NaN</td>\n",
       "      <td>NaN</td>\n",
       "      <td>NaN</td>\n",
       "      <td>NaN</td>\n",
       "      <td>NaN</td>\n",
       "      <td>NaN</td>\n",
       "      <td>NaN</td>\n",
       "      <td>NaN</td>\n",
       "      <td>NaN</td>\n",
       "    </tr>\n",
       "    <tr>\n",
       "      <th>2</th>\n",
       "      <td>123526683</td>\n",
       "      <td>0.0</td>\n",
       "      <td>Cash</td>\n",
       "      <td>F</td>\n",
       "      <td>0.0</td>\n",
       "      <td>135000.0</td>\n",
       "      <td>1006920.0</td>\n",
       "      <td>42660.0</td>\n",
       "      <td>Higher education</td>\n",
       "      <td>Married</td>\n",
       "      <td>0.026392</td>\n",
       "      <td>21557.0</td>\n",
       "      <td>3618.0</td>\n",
       "      <td>NaN</td>\n",
       "      <td>1.0</td>\n",
       "      <td>0.0</td>\n",
       "      <td>2.0</td>\n",
       "      <td>NaN</td>\n",
       "      <td>0.682149</td>\n",
       "      <td>0.267869</td>\n",
       "      <td>0.0</td>\n",
       "      <td>0.0</td>\n",
       "      <td>0.0</td>\n",
       "      <td>7.0</td>\n",
       "      <td>0.0</td>\n",
       "      <td>4.0</td>\n",
       "      <td>NaN</td>\n",
       "      <td>NaN</td>\n",
       "      <td>0.267869</td>\n",
       "      <td>0.682149</td>\n",
       "      <td>0.475009</td>\n",
       "      <td>0.475009</td>\n",
       "      <td>4.290708e-02</td>\n",
       "      <td>23.603376</td>\n",
       "      <td>0.316000</td>\n",
       "      <td>7.458667</td>\n",
       "      <td>NaN</td>\n",
       "      <td>686869.876357</td>\n",
       "      <td>269722.588880</td>\n",
       "      <td>NaN</td>\n",
       "      <td>29100.493510</td>\n",
       "      <td>11427.288803</td>\n",
       "    </tr>\n",
       "    <tr>\n",
       "      <th>3</th>\n",
       "      <td>123710391</td>\n",
       "      <td>1.0</td>\n",
       "      <td>Cash</td>\n",
       "      <td>M</td>\n",
       "      <td>0.0</td>\n",
       "      <td>180000.0</td>\n",
       "      <td>518562.0</td>\n",
       "      <td>22972.5</td>\n",
       "      <td>Secondary / secondary special</td>\n",
       "      <td>Married</td>\n",
       "      <td>0.031329</td>\n",
       "      <td>22338.0</td>\n",
       "      <td>NaN</td>\n",
       "      <td>NaN</td>\n",
       "      <td>0.0</td>\n",
       "      <td>0.0</td>\n",
       "      <td>2.0</td>\n",
       "      <td>NaN</td>\n",
       "      <td>0.171299</td>\n",
       "      <td>0.170446</td>\n",
       "      <td>0.0</td>\n",
       "      <td>0.0</td>\n",
       "      <td>0.0</td>\n",
       "      <td>0.0</td>\n",
       "      <td>0.0</td>\n",
       "      <td>0.0</td>\n",
       "      <td>NaN</td>\n",
       "      <td>NaN</td>\n",
       "      <td>0.170446</td>\n",
       "      <td>0.171299</td>\n",
       "      <td>0.170873</td>\n",
       "      <td>0.170873</td>\n",
       "      <td>1.818800e-07</td>\n",
       "      <td>22.573164</td>\n",
       "      <td>0.127625</td>\n",
       "      <td>2.880900</td>\n",
       "      <td>NaN</td>\n",
       "      <td>88829.188848</td>\n",
       "      <td>88386.882459</td>\n",
       "      <td>NaN</td>\n",
       "      <td>3935.167908</td>\n",
       "      <td>3915.573562</td>\n",
       "    </tr>\n",
       "    <tr>\n",
       "      <th>4</th>\n",
       "      <td>123590329</td>\n",
       "      <td>1.0</td>\n",
       "      <td>Cash</td>\n",
       "      <td>NaN</td>\n",
       "      <td>NaN</td>\n",
       "      <td>NaN</td>\n",
       "      <td>NaN</td>\n",
       "      <td>NaN</td>\n",
       "      <td>NaN</td>\n",
       "      <td>NaN</td>\n",
       "      <td>NaN</td>\n",
       "      <td>NaN</td>\n",
       "      <td>NaN</td>\n",
       "      <td>NaN</td>\n",
       "      <td>NaN</td>\n",
       "      <td>NaN</td>\n",
       "      <td>NaN</td>\n",
       "      <td>NaN</td>\n",
       "      <td>NaN</td>\n",
       "      <td>NaN</td>\n",
       "      <td>NaN</td>\n",
       "      <td>NaN</td>\n",
       "      <td>NaN</td>\n",
       "      <td>NaN</td>\n",
       "      <td>NaN</td>\n",
       "      <td>NaN</td>\n",
       "      <td>NaN</td>\n",
       "      <td>NaN</td>\n",
       "      <td>NaN</td>\n",
       "      <td>NaN</td>\n",
       "      <td>NaN</td>\n",
       "      <td>NaN</td>\n",
       "      <td>NaN</td>\n",
       "      <td>NaN</td>\n",
       "      <td>NaN</td>\n",
       "      <td>NaN</td>\n",
       "      <td>NaN</td>\n",
       "      <td>NaN</td>\n",
       "      <td>NaN</td>\n",
       "      <td>NaN</td>\n",
       "      <td>NaN</td>\n",
       "      <td>NaN</td>\n",
       "    </tr>\n",
       "  </tbody>\n",
       "</table>\n",
       "</div>"
      ],
      "text/plain": [
       "   APPLICATION_NUMBER  TARGET NAME_CONTRACT_TYPE GENDER  CHILDRENS  \\\n",
       "0           123687442     0.0               Cash      M        1.0   \n",
       "1           123597908     1.0               Cash    NaN        NaN   \n",
       "2           123526683     0.0               Cash      F        0.0   \n",
       "3           123710391     1.0               Cash      M        0.0   \n",
       "4           123590329     1.0               Cash    NaN        NaN   \n",
       "\n",
       "   TOTAL_SALARY  AMOUNT_CREDIT  AMOUNT_ANNUITY                EDUCATION_LEVEL  \\\n",
       "0      157500.0       855000.0         25128.0  Secondary / secondary special   \n",
       "1           NaN            NaN             NaN                            NaN   \n",
       "2      135000.0      1006920.0         42660.0               Higher education   \n",
       "3      180000.0       518562.0         22972.5  Secondary / secondary special   \n",
       "4           NaN            NaN             NaN                            NaN   \n",
       "\n",
       "  FAMILY_STATUS  REGION_POPULATION      AGE  DAYS_ON_LAST_JOB  OWN_CAR_AGE  \\\n",
       "0       Married           0.019101  15728.0            1719.0         11.0   \n",
       "1           NaN                NaN      NaN               NaN          NaN   \n",
       "2       Married           0.026392  21557.0            3618.0          NaN   \n",
       "3       Married           0.031329  22338.0               NaN          NaN   \n",
       "4           NaN                NaN      NaN               NaN          NaN   \n",
       "\n",
       "   FLAG_PHONE  FLAG_EMAIL  FAMILY_SIZE  EXTERNAL_SCORING_RATING_1  \\\n",
       "0         0.0         0.0          3.0                   0.700784   \n",
       "1         NaN         NaN          NaN                        NaN   \n",
       "2         1.0         0.0          2.0                        NaN   \n",
       "3         0.0         0.0          2.0                        NaN   \n",
       "4         NaN         NaN          NaN                        NaN   \n",
       "\n",
       "   EXTERNAL_SCORING_RATING_2  EXTERNAL_SCORING_RATING_3  \\\n",
       "0                   0.645914                   0.716570   \n",
       "1                        NaN                        NaN   \n",
       "2                   0.682149                   0.267869   \n",
       "3                   0.171299                   0.170446   \n",
       "4                        NaN                        NaN   \n",
       "\n",
       "   AMT_REQ_CREDIT_BUREAU_HOUR  AMT_REQ_CREDIT_BUREAU_DAY  \\\n",
       "0                         0.0                        0.0   \n",
       "1                         NaN                        NaN   \n",
       "2                         0.0                        0.0   \n",
       "3                         0.0                        0.0   \n",
       "4                         NaN                        NaN   \n",
       "\n",
       "   AMT_REQ_CREDIT_BUREAU_WEEK  AMT_REQ_CREDIT_BUREAU_MON  \\\n",
       "0                         1.0                        0.0   \n",
       "1                         NaN                        NaN   \n",
       "2                         0.0                        7.0   \n",
       "3                         0.0                        0.0   \n",
       "4                         NaN                        NaN   \n",
       "\n",
       "   AMT_REQ_CREDIT_BUREAU_QRT  AMT_REQ_CREDIT_BUREAU_YEAR  \\\n",
       "0                        0.0                         2.0   \n",
       "1                        NaN                         NaN   \n",
       "2                        0.0                         4.0   \n",
       "3                        0.0                         0.0   \n",
       "4                        NaN                         NaN   \n",
       "\n",
       "   EXTERNAL_SCORING_PROD  EXTERNAL_SCORING_WEIGHTED  \\\n",
       "0               0.324353                   4.197193   \n",
       "1                    NaN                        NaN   \n",
       "2                    NaN                        NaN   \n",
       "3                    NaN                        NaN   \n",
       "4                    NaN                        NaN   \n",
       "\n",
       "   EXTERNAL_SCORING_RATING_min  EXTERNAL_SCORING_RATING_max  \\\n",
       "0                     0.645914                     0.716570   \n",
       "1                          NaN                          NaN   \n",
       "2                     0.267869                     0.682149   \n",
       "3                     0.170446                     0.171299   \n",
       "4                          NaN                          NaN   \n",
       "\n",
       "   EXTERNAL_SCORING_RATING_mean  EXTERNAL_SCORING_RATING_nanmedian  \\\n",
       "0                      0.687756                           0.700784   \n",
       "1                           NaN                                NaN   \n",
       "2                      0.475009                           0.475009   \n",
       "3                      0.170873                           0.170873   \n",
       "4                           NaN                                NaN   \n",
       "\n",
       "   EXTERNAL_SCORING_RATING_var  RATIO_CREDIT_TO_ANNUITY  \\\n",
       "0                 9.169231e-04                34.025788   \n",
       "1                          NaN                      NaN   \n",
       "2                 4.290708e-02                23.603376   \n",
       "3                 1.818800e-07                22.573164   \n",
       "4                          NaN                      NaN   \n",
       "\n",
       "   RATIO_ANNUITY_TO_SALARY  RATIO_CREDIT_TO_SALARY  EXPECTED_TOTAL_LOSS_1  \\\n",
       "0                 0.159543                5.428571          599170.547652   \n",
       "1                      NaN                     NaN                    NaN   \n",
       "2                 0.316000                7.458667                    NaN   \n",
       "3                 0.127625                2.880900                    NaN   \n",
       "4                      NaN                     NaN                    NaN   \n",
       "\n",
       "   EXPECTED_TOTAL_LOSS_2  EXPECTED_TOTAL_LOSS_3  EXPECTED_MONTHLY_LOSS_1  \\\n",
       "0          552256.266546          612667.559305             17609.307043   \n",
       "1                    NaN                    NaN                      NaN   \n",
       "2          686869.876357          269722.588880                      NaN   \n",
       "3           88829.188848           88386.882459                      NaN   \n",
       "4                    NaN                    NaN                      NaN   \n",
       "\n",
       "   EXPECTED_MONTHLY_LOSS_2  EXPECTED_MONTHLY_LOSS_3  \n",
       "0             16230.521013             18005.977111  \n",
       "1                      NaN                      NaN  \n",
       "2             29100.493510             11427.288803  \n",
       "3              3935.167908              3915.573562  \n",
       "4                      NaN                      NaN  "
      ]
     },
     "execution_count": 33,
     "metadata": {},
     "output_type": "execute_result"
    }
   ],
   "source": [
    "data.head()"
   ]
  },
  {
   "cell_type": "code",
   "execution_count": 34,
   "metadata": {
    "execution": {
     "iopub.execute_input": "2020-10-04T17:46:33.755299Z",
     "iopub.status.busy": "2020-10-04T17:46:33.754356Z",
     "iopub.status.idle": "2020-10-04T17:46:33.761509Z",
     "shell.execute_reply": "2020-10-04T17:46:33.760563Z"
    },
    "id": "fhORCGQM6ZD4",
    "outputId": "ca36e94a-2513-4aa2-9c6b-b1163ae60366",
    "papermill": {
     "duration": 0.149381,
     "end_time": "2020-10-04T17:46:33.761685",
     "exception": false,
     "start_time": "2020-10-04T17:46:33.612304",
     "status": "completed"
    },
    "tags": []
   },
   "outputs": [
    {
     "data": {
      "text/plain": [
       "(275234, 42)"
      ]
     },
     "execution_count": 34,
     "metadata": {},
     "output_type": "execute_result"
    }
   ],
   "source": [
    "data.shape"
   ]
  },
  {
   "cell_type": "code",
   "execution_count": 35,
   "metadata": {
    "execution": {
     "iopub.execute_input": "2020-10-04T17:46:34.032989Z",
     "iopub.status.busy": "2020-10-04T17:46:34.032324Z",
     "iopub.status.idle": "2020-10-04T17:46:34.206442Z",
     "shell.execute_reply": "2020-10-04T17:46:34.205592Z"
    },
    "id": "rDQ5idPB6ZD7",
    "outputId": "37b6dd20-61f1-4dba-a030-fd20ffec2bda",
    "papermill": {
     "duration": 0.310022,
     "end_time": "2020-10-04T17:46:34.206601",
     "exception": false,
     "start_time": "2020-10-04T17:46:33.896579",
     "status": "completed"
    },
    "tags": []
   },
   "outputs": [
    {
     "name": "stdout",
     "output_type": "stream",
     "text": [
      "<class 'pandas.core.frame.DataFrame'>\n",
      "Int64Index: 275234 entries, 0 to 275233\n",
      "Data columns (total 42 columns):\n",
      " #   Column                             Non-Null Count   Dtype  \n",
      "---  ------                             --------------   -----  \n",
      " 0   APPLICATION_NUMBER                 275234 non-null  int64  \n",
      " 1   TARGET                             110093 non-null  float64\n",
      " 2   NAME_CONTRACT_TYPE                 275234 non-null  object \n",
      " 3   GENDER                             223715 non-null  object \n",
      " 4   CHILDRENS                          223715 non-null  float64\n",
      " 5   TOTAL_SALARY                       223715 non-null  float64\n",
      " 6   AMOUNT_CREDIT                      223715 non-null  float64\n",
      " 7   AMOUNT_ANNUITY                     223704 non-null  float64\n",
      " 8   EDUCATION_LEVEL                    223715 non-null  object \n",
      " 9   FAMILY_STATUS                      223715 non-null  object \n",
      " 10  REGION_POPULATION                  223715 non-null  float64\n",
      " 11  AGE                                223715 non-null  float64\n",
      " 12  DAYS_ON_LAST_JOB                   183605 non-null  float64\n",
      " 13  OWN_CAR_AGE                        76034 non-null   float64\n",
      " 14  FLAG_PHONE                         223715 non-null  float64\n",
      " 15  FLAG_EMAIL                         223715 non-null  float64\n",
      " 16  FAMILY_SIZE                        223713 non-null  float64\n",
      " 17  EXTERNAL_SCORING_RATING_1          97726 non-null   float64\n",
      " 18  EXTERNAL_SCORING_RATING_2          223236 non-null  float64\n",
      " 19  EXTERNAL_SCORING_RATING_3          179308 non-null  float64\n",
      " 20  AMT_REQ_CREDIT_BUREAU_HOUR         193517 non-null  float64\n",
      " 21  AMT_REQ_CREDIT_BUREAU_DAY          193517 non-null  float64\n",
      " 22  AMT_REQ_CREDIT_BUREAU_WEEK         193517 non-null  float64\n",
      " 23  AMT_REQ_CREDIT_BUREAU_MON          193517 non-null  float64\n",
      " 24  AMT_REQ_CREDIT_BUREAU_QRT          193517 non-null  float64\n",
      " 25  AMT_REQ_CREDIT_BUREAU_YEAR         193517 non-null  float64\n",
      " 26  EXTERNAL_SCORING_PROD              79800 non-null   float64\n",
      " 27  EXTERNAL_SCORING_WEIGHTED          79800 non-null   float64\n",
      " 28  EXTERNAL_SCORING_RATING_min        223586 non-null  float64\n",
      " 29  EXTERNAL_SCORING_RATING_max        223586 non-null  float64\n",
      " 30  EXTERNAL_SCORING_RATING_mean       223586 non-null  float64\n",
      " 31  EXTERNAL_SCORING_RATING_nanmedian  223586 non-null  float64\n",
      " 32  EXTERNAL_SCORING_RATING_var        223586 non-null  float64\n",
      " 33  RATIO_CREDIT_TO_ANNUITY            223704 non-null  float64\n",
      " 34  RATIO_ANNUITY_TO_SALARY            223704 non-null  float64\n",
      " 35  RATIO_CREDIT_TO_SALARY             223715 non-null  float64\n",
      " 36  EXPECTED_TOTAL_LOSS_1              97726 non-null   float64\n",
      " 37  EXPECTED_TOTAL_LOSS_2              223236 non-null  float64\n",
      " 38  EXPECTED_TOTAL_LOSS_3              179308 non-null  float64\n",
      " 39  EXPECTED_MONTHLY_LOSS_1            97718 non-null   float64\n",
      " 40  EXPECTED_MONTHLY_LOSS_2            223225 non-null  float64\n",
      " 41  EXPECTED_MONTHLY_LOSS_3            179298 non-null  float64\n",
      "dtypes: float64(37), int64(1), object(4)\n",
      "memory usage: 90.3+ MB\n"
     ]
    }
   ],
   "source": [
    "data.info()"
   ]
  },
  {
   "cell_type": "markdown",
   "metadata": {
    "id": "alvPcQLe6ZD-",
    "papermill": {
     "duration": 0.124236,
     "end_time": "2020-10-04T17:46:34.468766",
     "exception": false,
     "start_time": "2020-10-04T17:46:34.344530",
     "status": "completed"
    },
    "tags": []
   },
   "source": [
    "### Заполняем пропуски"
   ]
  },
  {
   "cell_type": "code",
   "execution_count": 36,
   "metadata": {
    "execution": {
     "iopub.execute_input": "2020-10-04T17:46:34.731001Z",
     "iopub.status.busy": "2020-10-04T17:46:34.730371Z",
     "iopub.status.idle": "2020-10-04T17:46:34.742356Z",
     "shell.execute_reply": "2020-10-04T17:46:34.741786Z"
    },
    "id": "eJb5h11c6ZD-",
    "outputId": "6d2a4543-bcb4-435e-86c8-37a041192c39",
    "papermill": {
     "duration": 0.143834,
     "end_time": "2020-10-04T17:46:34.742474",
     "exception": false,
     "start_time": "2020-10-04T17:46:34.598640",
     "status": "completed"
    },
    "tags": []
   },
   "outputs": [
    {
     "data": {
      "text/plain": [
       "Index(['NAME_CONTRACT_TYPE', 'GENDER', 'EDUCATION_LEVEL', 'FAMILY_STATUS'], dtype='object')"
      ]
     },
     "execution_count": 36,
     "metadata": {},
     "output_type": "execute_result"
    }
   ],
   "source": [
    "obj_col_names = data.select_dtypes(include=['object']).columns\n",
    "obj_col_names"
   ]
  },
  {
   "cell_type": "code",
   "execution_count": 37,
   "metadata": {
    "execution": {
     "iopub.execute_input": "2020-10-04T17:46:35.036354Z",
     "iopub.status.busy": "2020-10-04T17:46:35.035473Z",
     "iopub.status.idle": "2020-10-04T17:46:35.057735Z",
     "shell.execute_reply": "2020-10-04T17:46:35.057160Z"
    },
    "id": "tSbDPvMw6ZEB",
    "outputId": "12233d9c-1f3b-4de8-d495-e6213b4b165b",
    "papermill": {
     "duration": 0.150897,
     "end_time": "2020-10-04T17:46:35.057839",
     "exception": false,
     "start_time": "2020-10-04T17:46:34.906942",
     "status": "completed"
    },
    "tags": []
   },
   "outputs": [
    {
     "data": {
      "text/plain": [
       "1         NaN\n",
       "4         NaN\n",
       "10        NaN\n",
       "16        NaN\n",
       "17        NaN\n",
       "         ... \n",
       "275225    NaN\n",
       "275226    NaN\n",
       "275228    NaN\n",
       "275229    NaN\n",
       "275231    NaN\n",
       "Name: GENDER, Length: 51519, dtype: object"
      ]
     },
     "execution_count": 37,
     "metadata": {},
     "output_type": "execute_result"
    }
   ],
   "source": [
    "data.loc[data[obj_col_names[1]].isnull(), obj_col_names[1]]"
   ]
  },
  {
   "cell_type": "code",
   "execution_count": 38,
   "metadata": {
    "execution": {
     "iopub.execute_input": "2020-10-04T17:46:35.339358Z",
     "iopub.status.busy": "2020-10-04T17:46:35.338294Z",
     "iopub.status.idle": "2020-10-04T17:46:35.392687Z",
     "shell.execute_reply": "2020-10-04T17:46:35.392161Z"
    },
    "id": "Yi85A4lv6ZEE",
    "papermill": {
     "duration": 0.209409,
     "end_time": "2020-10-04T17:46:35.392792",
     "exception": false,
     "start_time": "2020-10-04T17:46:35.183383",
     "status": "completed"
    },
    "tags": []
   },
   "outputs": [],
   "source": [
    "for col in obj_col_names:\n",
    "    data.loc[data[col].isnull(), col] = 'No'"
   ]
  },
  {
   "cell_type": "code",
   "execution_count": 39,
   "metadata": {
    "execution": {
     "iopub.execute_input": "2020-10-04T17:46:35.647921Z",
     "iopub.status.busy": "2020-10-04T17:46:35.647026Z",
     "iopub.status.idle": "2020-10-04T17:46:35.686987Z",
     "shell.execute_reply": "2020-10-04T17:46:35.686525Z"
    },
    "id": "yY1spBlT6ZEH",
    "outputId": "c217d362-b1e2-4e48-9106-cfd86d8407d3",
    "papermill": {
     "duration": 0.168826,
     "end_time": "2020-10-04T17:46:35.687110",
     "exception": false,
     "start_time": "2020-10-04T17:46:35.518284",
     "status": "completed"
    },
    "tags": []
   },
   "outputs": [
    {
     "data": {
      "text/plain": [
       "Index(['APPLICATION_NUMBER', 'TARGET', 'CHILDRENS', 'TOTAL_SALARY',\n",
       "       'AMOUNT_CREDIT', 'AMOUNT_ANNUITY', 'REGION_POPULATION', 'AGE',\n",
       "       'DAYS_ON_LAST_JOB', 'OWN_CAR_AGE', 'FLAG_PHONE', 'FLAG_EMAIL',\n",
       "       'FAMILY_SIZE', 'EXTERNAL_SCORING_RATING_1', 'EXTERNAL_SCORING_RATING_2',\n",
       "       'EXTERNAL_SCORING_RATING_3', 'AMT_REQ_CREDIT_BUREAU_HOUR',\n",
       "       'AMT_REQ_CREDIT_BUREAU_DAY', 'AMT_REQ_CREDIT_BUREAU_WEEK',\n",
       "       'AMT_REQ_CREDIT_BUREAU_MON', 'AMT_REQ_CREDIT_BUREAU_QRT',\n",
       "       'AMT_REQ_CREDIT_BUREAU_YEAR', 'EXTERNAL_SCORING_PROD',\n",
       "       'EXTERNAL_SCORING_WEIGHTED', 'EXTERNAL_SCORING_RATING_min',\n",
       "       'EXTERNAL_SCORING_RATING_max', 'EXTERNAL_SCORING_RATING_mean',\n",
       "       'EXTERNAL_SCORING_RATING_nanmedian', 'EXTERNAL_SCORING_RATING_var',\n",
       "       'RATIO_CREDIT_TO_ANNUITY', 'RATIO_ANNUITY_TO_SALARY',\n",
       "       'RATIO_CREDIT_TO_SALARY', 'EXPECTED_TOTAL_LOSS_1',\n",
       "       'EXPECTED_TOTAL_LOSS_2', 'EXPECTED_TOTAL_LOSS_3',\n",
       "       'EXPECTED_MONTHLY_LOSS_1', 'EXPECTED_MONTHLY_LOSS_2',\n",
       "       'EXPECTED_MONTHLY_LOSS_3'],\n",
       "      dtype='object')"
      ]
     },
     "execution_count": 39,
     "metadata": {},
     "output_type": "execute_result"
    }
   ],
   "source": [
    "num_col_names = data.select_dtypes(exclude=['object']).columns\n",
    "num_col_names"
   ]
  },
  {
   "cell_type": "code",
   "execution_count": 40,
   "metadata": {
    "execution": {
     "iopub.execute_input": "2020-10-04T17:46:35.943537Z",
     "iopub.status.busy": "2020-10-04T17:46:35.942879Z",
     "iopub.status.idle": "2020-10-04T17:46:36.052625Z",
     "shell.execute_reply": "2020-10-04T17:46:36.051988Z"
    },
    "id": "QUAvfN--6ZEL",
    "papermill": {
     "duration": 0.240483,
     "end_time": "2020-10-04T17:46:36.052732",
     "exception": false,
     "start_time": "2020-10-04T17:46:35.812249",
     "status": "completed"
    },
    "tags": []
   },
   "outputs": [],
   "source": [
    "for col in num_col_names:\n",
    "    data.loc[data[col].isnull(), col] = -1"
   ]
  },
  {
   "cell_type": "code",
   "execution_count": 41,
   "metadata": {
    "execution": {
     "iopub.execute_input": "2020-10-04T17:46:36.374323Z",
     "iopub.status.busy": "2020-10-04T17:46:36.372881Z",
     "iopub.status.idle": "2020-10-04T17:46:36.378889Z",
     "shell.execute_reply": "2020-10-04T17:46:36.379322Z"
    },
    "id": "IRy-XrGh6ZEO",
    "outputId": "d44a848f-4739-4899-8422-641b1fbf109c",
    "papermill": {
     "duration": 0.196309,
     "end_time": "2020-10-04T17:46:36.379473",
     "exception": false,
     "start_time": "2020-10-04T17:46:36.183164",
     "status": "completed"
    },
    "tags": []
   },
   "outputs": [
    {
     "data": {
      "text/html": [
       "<div>\n",
       "<style scoped>\n",
       "    .dataframe tbody tr th:only-of-type {\n",
       "        vertical-align: middle;\n",
       "    }\n",
       "\n",
       "    .dataframe tbody tr th {\n",
       "        vertical-align: top;\n",
       "    }\n",
       "\n",
       "    .dataframe thead th {\n",
       "        text-align: right;\n",
       "    }\n",
       "</style>\n",
       "<table border=\"1\" class=\"dataframe\">\n",
       "  <thead>\n",
       "    <tr style=\"text-align: right;\">\n",
       "      <th></th>\n",
       "      <th>APPLICATION_NUMBER</th>\n",
       "      <th>TARGET</th>\n",
       "      <th>NAME_CONTRACT_TYPE</th>\n",
       "      <th>GENDER</th>\n",
       "      <th>CHILDRENS</th>\n",
       "      <th>TOTAL_SALARY</th>\n",
       "      <th>AMOUNT_CREDIT</th>\n",
       "      <th>AMOUNT_ANNUITY</th>\n",
       "      <th>EDUCATION_LEVEL</th>\n",
       "      <th>FAMILY_STATUS</th>\n",
       "      <th>REGION_POPULATION</th>\n",
       "      <th>AGE</th>\n",
       "      <th>DAYS_ON_LAST_JOB</th>\n",
       "      <th>OWN_CAR_AGE</th>\n",
       "      <th>FLAG_PHONE</th>\n",
       "      <th>FLAG_EMAIL</th>\n",
       "      <th>FAMILY_SIZE</th>\n",
       "      <th>EXTERNAL_SCORING_RATING_1</th>\n",
       "      <th>EXTERNAL_SCORING_RATING_2</th>\n",
       "      <th>EXTERNAL_SCORING_RATING_3</th>\n",
       "      <th>AMT_REQ_CREDIT_BUREAU_HOUR</th>\n",
       "      <th>AMT_REQ_CREDIT_BUREAU_DAY</th>\n",
       "      <th>AMT_REQ_CREDIT_BUREAU_WEEK</th>\n",
       "      <th>AMT_REQ_CREDIT_BUREAU_MON</th>\n",
       "      <th>AMT_REQ_CREDIT_BUREAU_QRT</th>\n",
       "      <th>AMT_REQ_CREDIT_BUREAU_YEAR</th>\n",
       "      <th>EXTERNAL_SCORING_PROD</th>\n",
       "      <th>EXTERNAL_SCORING_WEIGHTED</th>\n",
       "      <th>EXTERNAL_SCORING_RATING_min</th>\n",
       "      <th>EXTERNAL_SCORING_RATING_max</th>\n",
       "      <th>EXTERNAL_SCORING_RATING_mean</th>\n",
       "      <th>EXTERNAL_SCORING_RATING_nanmedian</th>\n",
       "      <th>EXTERNAL_SCORING_RATING_var</th>\n",
       "      <th>RATIO_CREDIT_TO_ANNUITY</th>\n",
       "      <th>RATIO_ANNUITY_TO_SALARY</th>\n",
       "      <th>RATIO_CREDIT_TO_SALARY</th>\n",
       "      <th>EXPECTED_TOTAL_LOSS_1</th>\n",
       "      <th>EXPECTED_TOTAL_LOSS_2</th>\n",
       "      <th>EXPECTED_TOTAL_LOSS_3</th>\n",
       "      <th>EXPECTED_MONTHLY_LOSS_1</th>\n",
       "      <th>EXPECTED_MONTHLY_LOSS_2</th>\n",
       "      <th>EXPECTED_MONTHLY_LOSS_3</th>\n",
       "    </tr>\n",
       "  </thead>\n",
       "  <tbody>\n",
       "    <tr>\n",
       "      <th>0</th>\n",
       "      <td>123687442</td>\n",
       "      <td>0.0</td>\n",
       "      <td>Cash</td>\n",
       "      <td>M</td>\n",
       "      <td>1.0</td>\n",
       "      <td>157500.0</td>\n",
       "      <td>855000.0</td>\n",
       "      <td>25128.0</td>\n",
       "      <td>Secondary / secondary special</td>\n",
       "      <td>Married</td>\n",
       "      <td>0.019101</td>\n",
       "      <td>15728.0</td>\n",
       "      <td>1719.0</td>\n",
       "      <td>11.0</td>\n",
       "      <td>0.0</td>\n",
       "      <td>0.0</td>\n",
       "      <td>3.0</td>\n",
       "      <td>0.700784</td>\n",
       "      <td>0.645914</td>\n",
       "      <td>0.716570</td>\n",
       "      <td>0.0</td>\n",
       "      <td>0.0</td>\n",
       "      <td>1.0</td>\n",
       "      <td>0.0</td>\n",
       "      <td>0.0</td>\n",
       "      <td>2.0</td>\n",
       "      <td>0.324353</td>\n",
       "      <td>4.197193</td>\n",
       "      <td>0.645914</td>\n",
       "      <td>0.716570</td>\n",
       "      <td>0.687756</td>\n",
       "      <td>0.700784</td>\n",
       "      <td>9.169231e-04</td>\n",
       "      <td>34.025788</td>\n",
       "      <td>0.159543</td>\n",
       "      <td>5.428571</td>\n",
       "      <td>599170.547652</td>\n",
       "      <td>552256.266546</td>\n",
       "      <td>612667.559305</td>\n",
       "      <td>17609.307043</td>\n",
       "      <td>16230.521013</td>\n",
       "      <td>18005.977111</td>\n",
       "    </tr>\n",
       "    <tr>\n",
       "      <th>1</th>\n",
       "      <td>123597908</td>\n",
       "      <td>1.0</td>\n",
       "      <td>Cash</td>\n",
       "      <td>No</td>\n",
       "      <td>-1.0</td>\n",
       "      <td>-1.0</td>\n",
       "      <td>-1.0</td>\n",
       "      <td>-1.0</td>\n",
       "      <td>No</td>\n",
       "      <td>No</td>\n",
       "      <td>-1.000000</td>\n",
       "      <td>-1.0</td>\n",
       "      <td>-1.0</td>\n",
       "      <td>-1.0</td>\n",
       "      <td>-1.0</td>\n",
       "      <td>-1.0</td>\n",
       "      <td>-1.0</td>\n",
       "      <td>-1.000000</td>\n",
       "      <td>-1.000000</td>\n",
       "      <td>-1.000000</td>\n",
       "      <td>-1.0</td>\n",
       "      <td>-1.0</td>\n",
       "      <td>-1.0</td>\n",
       "      <td>-1.0</td>\n",
       "      <td>-1.0</td>\n",
       "      <td>-1.0</td>\n",
       "      <td>-1.000000</td>\n",
       "      <td>-1.000000</td>\n",
       "      <td>-1.000000</td>\n",
       "      <td>-1.000000</td>\n",
       "      <td>-1.000000</td>\n",
       "      <td>-1.000000</td>\n",
       "      <td>-1.000000e+00</td>\n",
       "      <td>-1.000000</td>\n",
       "      <td>-1.000000</td>\n",
       "      <td>-1.000000</td>\n",
       "      <td>-1.000000</td>\n",
       "      <td>-1.000000</td>\n",
       "      <td>-1.000000</td>\n",
       "      <td>-1.000000</td>\n",
       "      <td>-1.000000</td>\n",
       "      <td>-1.000000</td>\n",
       "    </tr>\n",
       "    <tr>\n",
       "      <th>2</th>\n",
       "      <td>123526683</td>\n",
       "      <td>0.0</td>\n",
       "      <td>Cash</td>\n",
       "      <td>F</td>\n",
       "      <td>0.0</td>\n",
       "      <td>135000.0</td>\n",
       "      <td>1006920.0</td>\n",
       "      <td>42660.0</td>\n",
       "      <td>Higher education</td>\n",
       "      <td>Married</td>\n",
       "      <td>0.026392</td>\n",
       "      <td>21557.0</td>\n",
       "      <td>3618.0</td>\n",
       "      <td>-1.0</td>\n",
       "      <td>1.0</td>\n",
       "      <td>0.0</td>\n",
       "      <td>2.0</td>\n",
       "      <td>-1.000000</td>\n",
       "      <td>0.682149</td>\n",
       "      <td>0.267869</td>\n",
       "      <td>0.0</td>\n",
       "      <td>0.0</td>\n",
       "      <td>0.0</td>\n",
       "      <td>7.0</td>\n",
       "      <td>0.0</td>\n",
       "      <td>4.0</td>\n",
       "      <td>-1.000000</td>\n",
       "      <td>-1.000000</td>\n",
       "      <td>0.267869</td>\n",
       "      <td>0.682149</td>\n",
       "      <td>0.475009</td>\n",
       "      <td>0.475009</td>\n",
       "      <td>4.290708e-02</td>\n",
       "      <td>23.603376</td>\n",
       "      <td>0.316000</td>\n",
       "      <td>7.458667</td>\n",
       "      <td>-1.000000</td>\n",
       "      <td>686869.876357</td>\n",
       "      <td>269722.588880</td>\n",
       "      <td>-1.000000</td>\n",
       "      <td>29100.493510</td>\n",
       "      <td>11427.288803</td>\n",
       "    </tr>\n",
       "    <tr>\n",
       "      <th>3</th>\n",
       "      <td>123710391</td>\n",
       "      <td>1.0</td>\n",
       "      <td>Cash</td>\n",
       "      <td>M</td>\n",
       "      <td>0.0</td>\n",
       "      <td>180000.0</td>\n",
       "      <td>518562.0</td>\n",
       "      <td>22972.5</td>\n",
       "      <td>Secondary / secondary special</td>\n",
       "      <td>Married</td>\n",
       "      <td>0.031329</td>\n",
       "      <td>22338.0</td>\n",
       "      <td>-1.0</td>\n",
       "      <td>-1.0</td>\n",
       "      <td>0.0</td>\n",
       "      <td>0.0</td>\n",
       "      <td>2.0</td>\n",
       "      <td>-1.000000</td>\n",
       "      <td>0.171299</td>\n",
       "      <td>0.170446</td>\n",
       "      <td>0.0</td>\n",
       "      <td>0.0</td>\n",
       "      <td>0.0</td>\n",
       "      <td>0.0</td>\n",
       "      <td>0.0</td>\n",
       "      <td>0.0</td>\n",
       "      <td>-1.000000</td>\n",
       "      <td>-1.000000</td>\n",
       "      <td>0.170446</td>\n",
       "      <td>0.171299</td>\n",
       "      <td>0.170873</td>\n",
       "      <td>0.170873</td>\n",
       "      <td>1.818800e-07</td>\n",
       "      <td>22.573164</td>\n",
       "      <td>0.127625</td>\n",
       "      <td>2.880900</td>\n",
       "      <td>-1.000000</td>\n",
       "      <td>88829.188848</td>\n",
       "      <td>88386.882459</td>\n",
       "      <td>-1.000000</td>\n",
       "      <td>3935.167908</td>\n",
       "      <td>3915.573562</td>\n",
       "    </tr>\n",
       "    <tr>\n",
       "      <th>4</th>\n",
       "      <td>123590329</td>\n",
       "      <td>1.0</td>\n",
       "      <td>Cash</td>\n",
       "      <td>No</td>\n",
       "      <td>-1.0</td>\n",
       "      <td>-1.0</td>\n",
       "      <td>-1.0</td>\n",
       "      <td>-1.0</td>\n",
       "      <td>No</td>\n",
       "      <td>No</td>\n",
       "      <td>-1.000000</td>\n",
       "      <td>-1.0</td>\n",
       "      <td>-1.0</td>\n",
       "      <td>-1.0</td>\n",
       "      <td>-1.0</td>\n",
       "      <td>-1.0</td>\n",
       "      <td>-1.0</td>\n",
       "      <td>-1.000000</td>\n",
       "      <td>-1.000000</td>\n",
       "      <td>-1.000000</td>\n",
       "      <td>-1.0</td>\n",
       "      <td>-1.0</td>\n",
       "      <td>-1.0</td>\n",
       "      <td>-1.0</td>\n",
       "      <td>-1.0</td>\n",
       "      <td>-1.0</td>\n",
       "      <td>-1.000000</td>\n",
       "      <td>-1.000000</td>\n",
       "      <td>-1.000000</td>\n",
       "      <td>-1.000000</td>\n",
       "      <td>-1.000000</td>\n",
       "      <td>-1.000000</td>\n",
       "      <td>-1.000000e+00</td>\n",
       "      <td>-1.000000</td>\n",
       "      <td>-1.000000</td>\n",
       "      <td>-1.000000</td>\n",
       "      <td>-1.000000</td>\n",
       "      <td>-1.000000</td>\n",
       "      <td>-1.000000</td>\n",
       "      <td>-1.000000</td>\n",
       "      <td>-1.000000</td>\n",
       "      <td>-1.000000</td>\n",
       "    </tr>\n",
       "  </tbody>\n",
       "</table>\n",
       "</div>"
      ],
      "text/plain": [
       "   APPLICATION_NUMBER  TARGET NAME_CONTRACT_TYPE GENDER  CHILDRENS  \\\n",
       "0           123687442     0.0               Cash      M        1.0   \n",
       "1           123597908     1.0               Cash     No       -1.0   \n",
       "2           123526683     0.0               Cash      F        0.0   \n",
       "3           123710391     1.0               Cash      M        0.0   \n",
       "4           123590329     1.0               Cash     No       -1.0   \n",
       "\n",
       "   TOTAL_SALARY  AMOUNT_CREDIT  AMOUNT_ANNUITY                EDUCATION_LEVEL  \\\n",
       "0      157500.0       855000.0         25128.0  Secondary / secondary special   \n",
       "1          -1.0           -1.0            -1.0                             No   \n",
       "2      135000.0      1006920.0         42660.0               Higher education   \n",
       "3      180000.0       518562.0         22972.5  Secondary / secondary special   \n",
       "4          -1.0           -1.0            -1.0                             No   \n",
       "\n",
       "  FAMILY_STATUS  REGION_POPULATION      AGE  DAYS_ON_LAST_JOB  OWN_CAR_AGE  \\\n",
       "0       Married           0.019101  15728.0            1719.0         11.0   \n",
       "1            No          -1.000000     -1.0              -1.0         -1.0   \n",
       "2       Married           0.026392  21557.0            3618.0         -1.0   \n",
       "3       Married           0.031329  22338.0              -1.0         -1.0   \n",
       "4            No          -1.000000     -1.0              -1.0         -1.0   \n",
       "\n",
       "   FLAG_PHONE  FLAG_EMAIL  FAMILY_SIZE  EXTERNAL_SCORING_RATING_1  \\\n",
       "0         0.0         0.0          3.0                   0.700784   \n",
       "1        -1.0        -1.0         -1.0                  -1.000000   \n",
       "2         1.0         0.0          2.0                  -1.000000   \n",
       "3         0.0         0.0          2.0                  -1.000000   \n",
       "4        -1.0        -1.0         -1.0                  -1.000000   \n",
       "\n",
       "   EXTERNAL_SCORING_RATING_2  EXTERNAL_SCORING_RATING_3  \\\n",
       "0                   0.645914                   0.716570   \n",
       "1                  -1.000000                  -1.000000   \n",
       "2                   0.682149                   0.267869   \n",
       "3                   0.171299                   0.170446   \n",
       "4                  -1.000000                  -1.000000   \n",
       "\n",
       "   AMT_REQ_CREDIT_BUREAU_HOUR  AMT_REQ_CREDIT_BUREAU_DAY  \\\n",
       "0                         0.0                        0.0   \n",
       "1                        -1.0                       -1.0   \n",
       "2                         0.0                        0.0   \n",
       "3                         0.0                        0.0   \n",
       "4                        -1.0                       -1.0   \n",
       "\n",
       "   AMT_REQ_CREDIT_BUREAU_WEEK  AMT_REQ_CREDIT_BUREAU_MON  \\\n",
       "0                         1.0                        0.0   \n",
       "1                        -1.0                       -1.0   \n",
       "2                         0.0                        7.0   \n",
       "3                         0.0                        0.0   \n",
       "4                        -1.0                       -1.0   \n",
       "\n",
       "   AMT_REQ_CREDIT_BUREAU_QRT  AMT_REQ_CREDIT_BUREAU_YEAR  \\\n",
       "0                        0.0                         2.0   \n",
       "1                       -1.0                        -1.0   \n",
       "2                        0.0                         4.0   \n",
       "3                        0.0                         0.0   \n",
       "4                       -1.0                        -1.0   \n",
       "\n",
       "   EXTERNAL_SCORING_PROD  EXTERNAL_SCORING_WEIGHTED  \\\n",
       "0               0.324353                   4.197193   \n",
       "1              -1.000000                  -1.000000   \n",
       "2              -1.000000                  -1.000000   \n",
       "3              -1.000000                  -1.000000   \n",
       "4              -1.000000                  -1.000000   \n",
       "\n",
       "   EXTERNAL_SCORING_RATING_min  EXTERNAL_SCORING_RATING_max  \\\n",
       "0                     0.645914                     0.716570   \n",
       "1                    -1.000000                    -1.000000   \n",
       "2                     0.267869                     0.682149   \n",
       "3                     0.170446                     0.171299   \n",
       "4                    -1.000000                    -1.000000   \n",
       "\n",
       "   EXTERNAL_SCORING_RATING_mean  EXTERNAL_SCORING_RATING_nanmedian  \\\n",
       "0                      0.687756                           0.700784   \n",
       "1                     -1.000000                          -1.000000   \n",
       "2                      0.475009                           0.475009   \n",
       "3                      0.170873                           0.170873   \n",
       "4                     -1.000000                          -1.000000   \n",
       "\n",
       "   EXTERNAL_SCORING_RATING_var  RATIO_CREDIT_TO_ANNUITY  \\\n",
       "0                 9.169231e-04                34.025788   \n",
       "1                -1.000000e+00                -1.000000   \n",
       "2                 4.290708e-02                23.603376   \n",
       "3                 1.818800e-07                22.573164   \n",
       "4                -1.000000e+00                -1.000000   \n",
       "\n",
       "   RATIO_ANNUITY_TO_SALARY  RATIO_CREDIT_TO_SALARY  EXPECTED_TOTAL_LOSS_1  \\\n",
       "0                 0.159543                5.428571          599170.547652   \n",
       "1                -1.000000               -1.000000              -1.000000   \n",
       "2                 0.316000                7.458667              -1.000000   \n",
       "3                 0.127625                2.880900              -1.000000   \n",
       "4                -1.000000               -1.000000              -1.000000   \n",
       "\n",
       "   EXPECTED_TOTAL_LOSS_2  EXPECTED_TOTAL_LOSS_3  EXPECTED_MONTHLY_LOSS_1  \\\n",
       "0          552256.266546          612667.559305             17609.307043   \n",
       "1              -1.000000              -1.000000                -1.000000   \n",
       "2          686869.876357          269722.588880                -1.000000   \n",
       "3           88829.188848           88386.882459                -1.000000   \n",
       "4              -1.000000              -1.000000                -1.000000   \n",
       "\n",
       "   EXPECTED_MONTHLY_LOSS_2  EXPECTED_MONTHLY_LOSS_3  \n",
       "0             16230.521013             18005.977111  \n",
       "1                -1.000000                -1.000000  \n",
       "2             29100.493510             11427.288803  \n",
       "3              3935.167908              3915.573562  \n",
       "4                -1.000000                -1.000000  "
      ]
     },
     "execution_count": 41,
     "metadata": {},
     "output_type": "execute_result"
    }
   ],
   "source": [
    "data.head()"
   ]
  },
  {
   "cell_type": "markdown",
   "metadata": {
    "id": "gRCMci5m6ZES",
    "papermill": {
     "duration": 0.126166,
     "end_time": "2020-10-04T17:46:36.633266",
     "exception": false,
     "start_time": "2020-10-04T17:46:36.507100",
     "status": "completed"
    },
    "tags": []
   },
   "source": [
    "### Агрегируем числовые приазнаки из applications_history, bki, payments"
   ]
  },
  {
   "cell_type": "code",
   "execution_count": 42,
   "metadata": {
    "execution": {
     "iopub.execute_input": "2020-10-04T17:46:36.890306Z",
     "iopub.status.busy": "2020-10-04T17:46:36.889685Z",
     "iopub.status.idle": "2020-10-04T17:46:36.892817Z",
     "shell.execute_reply": "2020-10-04T17:46:36.892280Z"
    },
    "id": "NQypcvSG6ZES",
    "papermill": {
     "duration": 0.133771,
     "end_time": "2020-10-04T17:46:36.892918",
     "exception": false,
     "start_time": "2020-10-04T17:46:36.759147",
     "status": "completed"
    },
    "tags": []
   },
   "outputs": [],
   "source": [
    "stats = [\"count\"] #, \"mean\", \"min\", \"max\", \"std\"count]"
   ]
  },
  {
   "cell_type": "code",
   "execution_count": 43,
   "metadata": {
    "execution": {
     "iopub.execute_input": "2020-10-04T17:46:37.156967Z",
     "iopub.status.busy": "2020-10-04T17:46:37.156283Z",
     "iopub.status.idle": "2020-10-04T17:46:37.160085Z",
     "shell.execute_reply": "2020-10-04T17:46:37.159467Z"
    },
    "id": "51SKsuoz6ZEW",
    "papermill": {
     "duration": 0.139361,
     "end_time": "2020-10-04T17:46:37.160198",
     "exception": false,
     "start_time": "2020-10-04T17:46:37.020837",
     "status": "completed"
    },
    "tags": []
   },
   "outputs": [],
   "source": [
    "for dat_name in src_list[3:3]:\n",
    "    print(dat_name)\n",
    "    dat = source[dat_name].select_dtypes(exclude=['object'])\n",
    "    for col in dat.columns[2:]:\n",
    "        dat.loc[dat[col].isnull(), col] = -1\n",
    "    new_feat = dat.groupby(\"APPLICATION_NUMBER\", as_index=False)[dat.columns[2:]].agg(stats).reset_index()\n",
    "    for col in new_feat.columns[1:]:\n",
    "        new_feat.loc[new_feat[col].isnull(), col] = -1\n",
    "    \n",
    "#     print(new_feat.info())\n",
    "    tmp = [new_feat.columns[0][0]]\n",
    "    tmp.extend([col[0]+\"_\"+col[1].upper() for col in new_feat.columns[1:]])\n",
    "    new_feat.columns = tmp\n",
    "#     print(tmp)\n",
    "#     print(new_feat.info())\n",
    "    data = pd.merge(data, \n",
    "                    new_feat, \n",
    "                    on='APPLICATION_NUMBER', \n",
    "                    how='left')"
   ]
  },
  {
   "cell_type": "code",
   "execution_count": 44,
   "metadata": {
    "execution": {
     "iopub.execute_input": "2020-10-04T17:46:37.435379Z",
     "iopub.status.busy": "2020-10-04T17:46:37.434821Z",
     "iopub.status.idle": "2020-10-04T17:46:37.438928Z",
     "shell.execute_reply": "2020-10-04T17:46:37.439322Z"
    },
    "id": "LFO-IvE-6ZEZ",
    "outputId": "6f610583-9216-467e-ce53-3e1968094e04",
    "papermill": {
     "duration": 0.146011,
     "end_time": "2020-10-04T17:46:37.439481",
     "exception": false,
     "start_time": "2020-10-04T17:46:37.293470",
     "status": "completed"
    },
    "tags": []
   },
   "outputs": [
    {
     "data": {
      "text/plain": [
       "(275234, 42)"
      ]
     },
     "execution_count": 44,
     "metadata": {},
     "output_type": "execute_result"
    }
   ],
   "source": [
    "data.shape"
   ]
  },
  {
   "cell_type": "code",
   "execution_count": 45,
   "metadata": {
    "execution": {
     "iopub.execute_input": "2020-10-04T17:46:37.727604Z",
     "iopub.status.busy": "2020-10-04T17:46:37.726677Z",
     "iopub.status.idle": "2020-10-04T17:46:37.731482Z",
     "shell.execute_reply": "2020-10-04T17:46:37.730980Z"
    },
    "id": "_nm1Xinh6ZEc",
    "outputId": "f6845e34-4366-4d38-979b-5e9ce2e80ece",
    "papermill": {
     "duration": 0.165355,
     "end_time": "2020-10-04T17:46:37.731716",
     "exception": false,
     "start_time": "2020-10-04T17:46:37.566361",
     "status": "completed"
    },
    "tags": []
   },
   "outputs": [
    {
     "data": {
      "text/html": [
       "<div>\n",
       "<style scoped>\n",
       "    .dataframe tbody tr th:only-of-type {\n",
       "        vertical-align: middle;\n",
       "    }\n",
       "\n",
       "    .dataframe tbody tr th {\n",
       "        vertical-align: top;\n",
       "    }\n",
       "\n",
       "    .dataframe thead th {\n",
       "        text-align: right;\n",
       "    }\n",
       "</style>\n",
       "<table border=\"1\" class=\"dataframe\">\n",
       "  <thead>\n",
       "    <tr style=\"text-align: right;\">\n",
       "      <th></th>\n",
       "      <th>APPLICATION_NUMBER</th>\n",
       "      <th>TARGET</th>\n",
       "      <th>NAME_CONTRACT_TYPE</th>\n",
       "      <th>GENDER</th>\n",
       "      <th>CHILDRENS</th>\n",
       "      <th>TOTAL_SALARY</th>\n",
       "      <th>AMOUNT_CREDIT</th>\n",
       "      <th>AMOUNT_ANNUITY</th>\n",
       "      <th>EDUCATION_LEVEL</th>\n",
       "      <th>FAMILY_STATUS</th>\n",
       "      <th>REGION_POPULATION</th>\n",
       "      <th>AGE</th>\n",
       "      <th>DAYS_ON_LAST_JOB</th>\n",
       "      <th>OWN_CAR_AGE</th>\n",
       "      <th>FLAG_PHONE</th>\n",
       "      <th>FLAG_EMAIL</th>\n",
       "      <th>FAMILY_SIZE</th>\n",
       "      <th>EXTERNAL_SCORING_RATING_1</th>\n",
       "      <th>EXTERNAL_SCORING_RATING_2</th>\n",
       "      <th>EXTERNAL_SCORING_RATING_3</th>\n",
       "      <th>AMT_REQ_CREDIT_BUREAU_HOUR</th>\n",
       "      <th>AMT_REQ_CREDIT_BUREAU_DAY</th>\n",
       "      <th>AMT_REQ_CREDIT_BUREAU_WEEK</th>\n",
       "      <th>AMT_REQ_CREDIT_BUREAU_MON</th>\n",
       "      <th>AMT_REQ_CREDIT_BUREAU_QRT</th>\n",
       "      <th>AMT_REQ_CREDIT_BUREAU_YEAR</th>\n",
       "      <th>EXTERNAL_SCORING_PROD</th>\n",
       "      <th>EXTERNAL_SCORING_WEIGHTED</th>\n",
       "      <th>EXTERNAL_SCORING_RATING_min</th>\n",
       "      <th>EXTERNAL_SCORING_RATING_max</th>\n",
       "      <th>EXTERNAL_SCORING_RATING_mean</th>\n",
       "      <th>EXTERNAL_SCORING_RATING_nanmedian</th>\n",
       "      <th>EXTERNAL_SCORING_RATING_var</th>\n",
       "      <th>RATIO_CREDIT_TO_ANNUITY</th>\n",
       "      <th>RATIO_ANNUITY_TO_SALARY</th>\n",
       "      <th>RATIO_CREDIT_TO_SALARY</th>\n",
       "      <th>EXPECTED_TOTAL_LOSS_1</th>\n",
       "      <th>EXPECTED_TOTAL_LOSS_2</th>\n",
       "      <th>EXPECTED_TOTAL_LOSS_3</th>\n",
       "      <th>EXPECTED_MONTHLY_LOSS_1</th>\n",
       "      <th>EXPECTED_MONTHLY_LOSS_2</th>\n",
       "      <th>EXPECTED_MONTHLY_LOSS_3</th>\n",
       "    </tr>\n",
       "  </thead>\n",
       "  <tbody>\n",
       "    <tr>\n",
       "      <th>0</th>\n",
       "      <td>123687442</td>\n",
       "      <td>0.0</td>\n",
       "      <td>Cash</td>\n",
       "      <td>M</td>\n",
       "      <td>1.0</td>\n",
       "      <td>157500.0</td>\n",
       "      <td>855000.0</td>\n",
       "      <td>25128.0</td>\n",
       "      <td>Secondary / secondary special</td>\n",
       "      <td>Married</td>\n",
       "      <td>0.019101</td>\n",
       "      <td>15728.0</td>\n",
       "      <td>1719.0</td>\n",
       "      <td>11.0</td>\n",
       "      <td>0.0</td>\n",
       "      <td>0.0</td>\n",
       "      <td>3.0</td>\n",
       "      <td>0.700784</td>\n",
       "      <td>0.645914</td>\n",
       "      <td>0.71657</td>\n",
       "      <td>0.0</td>\n",
       "      <td>0.0</td>\n",
       "      <td>1.0</td>\n",
       "      <td>0.0</td>\n",
       "      <td>0.0</td>\n",
       "      <td>2.0</td>\n",
       "      <td>0.324353</td>\n",
       "      <td>4.197193</td>\n",
       "      <td>0.645914</td>\n",
       "      <td>0.71657</td>\n",
       "      <td>0.687756</td>\n",
       "      <td>0.700784</td>\n",
       "      <td>0.000917</td>\n",
       "      <td>34.025788</td>\n",
       "      <td>0.159543</td>\n",
       "      <td>5.428571</td>\n",
       "      <td>599170.547652</td>\n",
       "      <td>552256.266546</td>\n",
       "      <td>612667.559305</td>\n",
       "      <td>17609.307043</td>\n",
       "      <td>16230.521013</td>\n",
       "      <td>18005.977111</td>\n",
       "    </tr>\n",
       "    <tr>\n",
       "      <th>1</th>\n",
       "      <td>123597908</td>\n",
       "      <td>1.0</td>\n",
       "      <td>Cash</td>\n",
       "      <td>No</td>\n",
       "      <td>-1.0</td>\n",
       "      <td>-1.0</td>\n",
       "      <td>-1.0</td>\n",
       "      <td>-1.0</td>\n",
       "      <td>No</td>\n",
       "      <td>No</td>\n",
       "      <td>-1.000000</td>\n",
       "      <td>-1.0</td>\n",
       "      <td>-1.0</td>\n",
       "      <td>-1.0</td>\n",
       "      <td>-1.0</td>\n",
       "      <td>-1.0</td>\n",
       "      <td>-1.0</td>\n",
       "      <td>-1.000000</td>\n",
       "      <td>-1.000000</td>\n",
       "      <td>-1.00000</td>\n",
       "      <td>-1.0</td>\n",
       "      <td>-1.0</td>\n",
       "      <td>-1.0</td>\n",
       "      <td>-1.0</td>\n",
       "      <td>-1.0</td>\n",
       "      <td>-1.0</td>\n",
       "      <td>-1.000000</td>\n",
       "      <td>-1.000000</td>\n",
       "      <td>-1.000000</td>\n",
       "      <td>-1.00000</td>\n",
       "      <td>-1.000000</td>\n",
       "      <td>-1.000000</td>\n",
       "      <td>-1.000000</td>\n",
       "      <td>-1.000000</td>\n",
       "      <td>-1.000000</td>\n",
       "      <td>-1.000000</td>\n",
       "      <td>-1.000000</td>\n",
       "      <td>-1.000000</td>\n",
       "      <td>-1.000000</td>\n",
       "      <td>-1.000000</td>\n",
       "      <td>-1.000000</td>\n",
       "      <td>-1.000000</td>\n",
       "    </tr>\n",
       "  </tbody>\n",
       "</table>\n",
       "</div>"
      ],
      "text/plain": [
       "   APPLICATION_NUMBER  TARGET NAME_CONTRACT_TYPE GENDER  CHILDRENS  \\\n",
       "0           123687442     0.0               Cash      M        1.0   \n",
       "1           123597908     1.0               Cash     No       -1.0   \n",
       "\n",
       "   TOTAL_SALARY  AMOUNT_CREDIT  AMOUNT_ANNUITY                EDUCATION_LEVEL  \\\n",
       "0      157500.0       855000.0         25128.0  Secondary / secondary special   \n",
       "1          -1.0           -1.0            -1.0                             No   \n",
       "\n",
       "  FAMILY_STATUS  REGION_POPULATION      AGE  DAYS_ON_LAST_JOB  OWN_CAR_AGE  \\\n",
       "0       Married           0.019101  15728.0            1719.0         11.0   \n",
       "1            No          -1.000000     -1.0              -1.0         -1.0   \n",
       "\n",
       "   FLAG_PHONE  FLAG_EMAIL  FAMILY_SIZE  EXTERNAL_SCORING_RATING_1  \\\n",
       "0         0.0         0.0          3.0                   0.700784   \n",
       "1        -1.0        -1.0         -1.0                  -1.000000   \n",
       "\n",
       "   EXTERNAL_SCORING_RATING_2  EXTERNAL_SCORING_RATING_3  \\\n",
       "0                   0.645914                    0.71657   \n",
       "1                  -1.000000                   -1.00000   \n",
       "\n",
       "   AMT_REQ_CREDIT_BUREAU_HOUR  AMT_REQ_CREDIT_BUREAU_DAY  \\\n",
       "0                         0.0                        0.0   \n",
       "1                        -1.0                       -1.0   \n",
       "\n",
       "   AMT_REQ_CREDIT_BUREAU_WEEK  AMT_REQ_CREDIT_BUREAU_MON  \\\n",
       "0                         1.0                        0.0   \n",
       "1                        -1.0                       -1.0   \n",
       "\n",
       "   AMT_REQ_CREDIT_BUREAU_QRT  AMT_REQ_CREDIT_BUREAU_YEAR  \\\n",
       "0                        0.0                         2.0   \n",
       "1                       -1.0                        -1.0   \n",
       "\n",
       "   EXTERNAL_SCORING_PROD  EXTERNAL_SCORING_WEIGHTED  \\\n",
       "0               0.324353                   4.197193   \n",
       "1              -1.000000                  -1.000000   \n",
       "\n",
       "   EXTERNAL_SCORING_RATING_min  EXTERNAL_SCORING_RATING_max  \\\n",
       "0                     0.645914                      0.71657   \n",
       "1                    -1.000000                     -1.00000   \n",
       "\n",
       "   EXTERNAL_SCORING_RATING_mean  EXTERNAL_SCORING_RATING_nanmedian  \\\n",
       "0                      0.687756                           0.700784   \n",
       "1                     -1.000000                          -1.000000   \n",
       "\n",
       "   EXTERNAL_SCORING_RATING_var  RATIO_CREDIT_TO_ANNUITY  \\\n",
       "0                     0.000917                34.025788   \n",
       "1                    -1.000000                -1.000000   \n",
       "\n",
       "   RATIO_ANNUITY_TO_SALARY  RATIO_CREDIT_TO_SALARY  EXPECTED_TOTAL_LOSS_1  \\\n",
       "0                 0.159543                5.428571          599170.547652   \n",
       "1                -1.000000               -1.000000              -1.000000   \n",
       "\n",
       "   EXPECTED_TOTAL_LOSS_2  EXPECTED_TOTAL_LOSS_3  EXPECTED_MONTHLY_LOSS_1  \\\n",
       "0          552256.266546          612667.559305             17609.307043   \n",
       "1              -1.000000              -1.000000                -1.000000   \n",
       "\n",
       "   EXPECTED_MONTHLY_LOSS_2  EXPECTED_MONTHLY_LOSS_3  \n",
       "0             16230.521013             18005.977111  \n",
       "1                -1.000000                -1.000000  "
      ]
     },
     "execution_count": 45,
     "metadata": {},
     "output_type": "execute_result"
    }
   ],
   "source": [
    "data.head(2)"
   ]
  },
  {
   "cell_type": "code",
   "execution_count": 46,
   "metadata": {
    "execution": {
     "iopub.execute_input": "2020-10-04T17:46:38.001881Z",
     "iopub.status.busy": "2020-10-04T17:46:38.001280Z",
     "iopub.status.idle": "2020-10-04T17:46:38.085680Z",
     "shell.execute_reply": "2020-10-04T17:46:38.084729Z"
    },
    "id": "E6snj_dH6ZEf",
    "outputId": "b94627ea-0688-49f7-f36c-aedd0582a0ef",
    "papermill": {
     "duration": 0.220085,
     "end_time": "2020-10-04T17:46:38.085852",
     "exception": false,
     "start_time": "2020-10-04T17:46:37.865767",
     "status": "completed"
    },
    "tags": []
   },
   "outputs": [
    {
     "name": "stdout",
     "output_type": "stream",
     "text": [
      "<class 'pandas.core.frame.DataFrame'>\n",
      "Int64Index: 275234 entries, 0 to 275233\n",
      "Data columns (total 42 columns):\n",
      " #   Column                             Non-Null Count   Dtype  \n",
      "---  ------                             --------------   -----  \n",
      " 0   APPLICATION_NUMBER                 275234 non-null  int64  \n",
      " 1   TARGET                             275234 non-null  float64\n",
      " 2   NAME_CONTRACT_TYPE                 275234 non-null  object \n",
      " 3   GENDER                             275234 non-null  object \n",
      " 4   CHILDRENS                          275234 non-null  float64\n",
      " 5   TOTAL_SALARY                       275234 non-null  float64\n",
      " 6   AMOUNT_CREDIT                      275234 non-null  float64\n",
      " 7   AMOUNT_ANNUITY                     275234 non-null  float64\n",
      " 8   EDUCATION_LEVEL                    275234 non-null  object \n",
      " 9   FAMILY_STATUS                      275234 non-null  object \n",
      " 10  REGION_POPULATION                  275234 non-null  float64\n",
      " 11  AGE                                275234 non-null  float64\n",
      " 12  DAYS_ON_LAST_JOB                   275234 non-null  float64\n",
      " 13  OWN_CAR_AGE                        275234 non-null  float64\n",
      " 14  FLAG_PHONE                         275234 non-null  float64\n",
      " 15  FLAG_EMAIL                         275234 non-null  float64\n",
      " 16  FAMILY_SIZE                        275234 non-null  float64\n",
      " 17  EXTERNAL_SCORING_RATING_1          275234 non-null  float64\n",
      " 18  EXTERNAL_SCORING_RATING_2          275234 non-null  float64\n",
      " 19  EXTERNAL_SCORING_RATING_3          275234 non-null  float64\n",
      " 20  AMT_REQ_CREDIT_BUREAU_HOUR         275234 non-null  float64\n",
      " 21  AMT_REQ_CREDIT_BUREAU_DAY          275234 non-null  float64\n",
      " 22  AMT_REQ_CREDIT_BUREAU_WEEK         275234 non-null  float64\n",
      " 23  AMT_REQ_CREDIT_BUREAU_MON          275234 non-null  float64\n",
      " 24  AMT_REQ_CREDIT_BUREAU_QRT          275234 non-null  float64\n",
      " 25  AMT_REQ_CREDIT_BUREAU_YEAR         275234 non-null  float64\n",
      " 26  EXTERNAL_SCORING_PROD              275234 non-null  float64\n",
      " 27  EXTERNAL_SCORING_WEIGHTED          275234 non-null  float64\n",
      " 28  EXTERNAL_SCORING_RATING_min        275234 non-null  float64\n",
      " 29  EXTERNAL_SCORING_RATING_max        275234 non-null  float64\n",
      " 30  EXTERNAL_SCORING_RATING_mean       275234 non-null  float64\n",
      " 31  EXTERNAL_SCORING_RATING_nanmedian  275234 non-null  float64\n",
      " 32  EXTERNAL_SCORING_RATING_var        275234 non-null  float64\n",
      " 33  RATIO_CREDIT_TO_ANNUITY            275234 non-null  float64\n",
      " 34  RATIO_ANNUITY_TO_SALARY            275234 non-null  float64\n",
      " 35  RATIO_CREDIT_TO_SALARY             275234 non-null  float64\n",
      " 36  EXPECTED_TOTAL_LOSS_1              275234 non-null  float64\n",
      " 37  EXPECTED_TOTAL_LOSS_2              275234 non-null  float64\n",
      " 38  EXPECTED_TOTAL_LOSS_3              275234 non-null  float64\n",
      " 39  EXPECTED_MONTHLY_LOSS_1            275234 non-null  float64\n",
      " 40  EXPECTED_MONTHLY_LOSS_2            275234 non-null  float64\n",
      " 41  EXPECTED_MONTHLY_LOSS_3            275234 non-null  float64\n",
      "dtypes: float64(37), int64(1), object(4)\n",
      "memory usage: 90.3+ MB\n"
     ]
    }
   ],
   "source": [
    "data.info()"
   ]
  },
  {
   "cell_type": "markdown",
   "metadata": {
    "id": "VtwwnBli6ZEr",
    "papermill": {
     "duration": 0.140033,
     "end_time": "2020-10-04T17:46:38.360649",
     "exception": false,
     "start_time": "2020-10-04T17:46:38.220616",
     "status": "completed"
    },
    "tags": []
   },
   "source": [
    "### Ratios"
   ]
  },
  {
   "cell_type": "code",
   "execution_count": 47,
   "metadata": {
    "execution": {
     "iopub.execute_input": "2020-10-04T17:46:38.622914Z",
     "iopub.status.busy": "2020-10-04T17:46:38.622318Z",
     "iopub.status.idle": "2020-10-04T17:46:38.626264Z",
     "shell.execute_reply": "2020-10-04T17:46:38.625715Z"
    },
    "id": "nE7k18OF6ZEs",
    "papermill": {
     "duration": 0.135379,
     "end_time": "2020-10-04T17:46:38.626372",
     "exception": false,
     "start_time": "2020-10-04T17:46:38.490993",
     "status": "completed"
    },
    "tags": []
   },
   "outputs": [],
   "source": [
    "# #финансовые признаки\n",
    "# data[\"RATIO_SALARY_TO_AMOUNT_CREDIT\"] = data[\"TOTAL_SALARY\"] / data[\"AMOUNT_CREDIT\"]\n",
    "# data[\"RATIO_AMOUNT_ANNUITY_TO_SALARY\"] = data[\"AMOUNT_ANNUITY\"] / data[\"TOTAL_SALARY\"]\n",
    "\n",
    "# # семейные признаки\n",
    "# data[\"RATIO_SALARY_TO_PER_FAMILY_SIZE\"] = data[\"TOTAL_SALARY\"] / data[\"FAMILY_SIZE\"]\n",
    "\n",
    "# # флаги\n",
    "# data[\"FLG_MORE_THAN_30PERCENT_FOR_CREDIT\"] = np.where(\n",
    "#     data[\"RATIO_AMOUNT_ANNUITY_TO_SALARY\"] > 0.42, 1, 0\n",
    "# )"
   ]
  },
  {
   "cell_type": "markdown",
   "metadata": {
    "id": "WGKeWB816ZEu",
    "papermill": {
     "duration": 0.130185,
     "end_time": "2020-10-04T17:46:38.889761",
     "exception": false,
     "start_time": "2020-10-04T17:46:38.759576",
     "status": "completed"
    },
    "tags": []
   },
   "source": [
    "### Features Interaction"
   ]
  },
  {
   "cell_type": "code",
   "execution_count": 48,
   "metadata": {
    "execution": {
     "iopub.execute_input": "2020-10-04T17:46:39.152898Z",
     "iopub.status.busy": "2020-10-04T17:46:39.151940Z",
     "iopub.status.idle": "2020-10-04T17:46:39.252766Z",
     "shell.execute_reply": "2020-10-04T17:46:39.253184Z"
    },
    "id": "qHXkiQoH6ZEv",
    "papermill": {
     "duration": 0.235962,
     "end_time": "2020-10-04T17:46:39.253334",
     "exception": false,
     "start_time": "2020-10-04T17:46:39.017372",
     "status": "completed"
    },
    "tags": []
   },
   "outputs": [],
   "source": [
    "data[\"EDUCATION_FAMILY_STATUS\"] = data[\"EDUCATION_LEVEL\"] + \" | \" + data[\"FAMILY_STATUS\"]"
   ]
  },
  {
   "cell_type": "code",
   "execution_count": 49,
   "metadata": {
    "execution": {
     "iopub.execute_input": "2020-10-04T17:46:39.530018Z",
     "iopub.status.busy": "2020-10-04T17:46:39.529240Z",
     "iopub.status.idle": "2020-10-04T17:46:39.533331Z",
     "shell.execute_reply": "2020-10-04T17:46:39.532804Z"
    },
    "id": "Z4rSdWEL6ZEy",
    "outputId": "3620dada-6022-45cf-d9f5-1be3abbac66b",
    "papermill": {
     "duration": 0.148578,
     "end_time": "2020-10-04T17:46:39.533459",
     "exception": false,
     "start_time": "2020-10-04T17:46:39.384881",
     "status": "completed"
    },
    "tags": []
   },
   "outputs": [
    {
     "data": {
      "text/plain": [
       "(275234, 43)"
      ]
     },
     "execution_count": 49,
     "metadata": {},
     "output_type": "execute_result"
    }
   ],
   "source": [
    "data.shape"
   ]
  },
  {
   "cell_type": "markdown",
   "metadata": {
    "id": "fMBnBPcL6ZE1",
    "papermill": {
     "duration": 0.133234,
     "end_time": "2020-10-04T17:46:39.800497",
     "exception": false,
     "start_time": "2020-10-04T17:46:39.667263",
     "status": "completed"
    },
    "tags": []
   },
   "source": [
    "### Ещё раз заполняем пропуски"
   ]
  },
  {
   "cell_type": "code",
   "execution_count": 50,
   "metadata": {
    "execution": {
     "iopub.execute_input": "2020-10-04T17:46:40.069457Z",
     "iopub.status.busy": "2020-10-04T17:46:40.068775Z",
     "iopub.status.idle": "2020-10-04T17:46:40.352836Z",
     "shell.execute_reply": "2020-10-04T17:46:40.352327Z"
    },
    "papermill": {
     "duration": 0.421677,
     "end_time": "2020-10-04T17:46:40.352954",
     "exception": false,
     "start_time": "2020-10-04T17:46:39.931277",
     "status": "completed"
    },
    "tags": []
   },
   "outputs": [],
   "source": [
    "data = data.replace(np.inf, np.nan)\n",
    "data = data.replace(-np.inf, np.nan)"
   ]
  },
  {
   "cell_type": "code",
   "execution_count": 51,
   "metadata": {
    "execution": {
     "iopub.execute_input": "2020-10-04T17:46:40.622822Z",
     "iopub.status.busy": "2020-10-04T17:46:40.622183Z",
     "iopub.status.idle": "2020-10-04T17:46:40.734850Z",
     "shell.execute_reply": "2020-10-04T17:46:40.734183Z"
    },
    "id": "V2Epzv7I6ZE2",
    "papermill": {
     "duration": 0.252444,
     "end_time": "2020-10-04T17:46:40.734972",
     "exception": false,
     "start_time": "2020-10-04T17:46:40.482528",
     "status": "completed"
    },
    "tags": []
   },
   "outputs": [],
   "source": [
    "for col in data.select_dtypes(exclude=['object']).columns:\n",
    "    data.loc[data[col].isnull(), col] = -1"
   ]
  },
  {
   "cell_type": "code",
   "execution_count": 52,
   "metadata": {
    "execution": {
     "iopub.execute_input": "2020-10-04T17:46:41.005128Z",
     "iopub.status.busy": "2020-10-04T17:46:41.004558Z",
     "iopub.status.idle": "2020-10-04T17:46:41.033885Z",
     "shell.execute_reply": "2020-10-04T17:46:41.033436Z"
    },
    "id": "WScvSyf86ZE7",
    "outputId": "a4dfd732-3970-4106-cb0b-73acf9dda3c0",
    "papermill": {
     "duration": 0.167152,
     "end_time": "2020-10-04T17:46:41.034003",
     "exception": false,
     "start_time": "2020-10-04T17:46:40.866851",
     "status": "completed"
    },
    "tags": []
   },
   "outputs": [
    {
     "data": {
      "text/html": [
       "<div>\n",
       "<style scoped>\n",
       "    .dataframe tbody tr th:only-of-type {\n",
       "        vertical-align: middle;\n",
       "    }\n",
       "\n",
       "    .dataframe tbody tr th {\n",
       "        vertical-align: top;\n",
       "    }\n",
       "\n",
       "    .dataframe thead th {\n",
       "        text-align: right;\n",
       "    }\n",
       "</style>\n",
       "<table border=\"1\" class=\"dataframe\">\n",
       "  <thead>\n",
       "    <tr style=\"text-align: right;\">\n",
       "      <th></th>\n",
       "      <th>APPLICATION_NUMBER</th>\n",
       "      <th>TARGET</th>\n",
       "      <th>NAME_CONTRACT_TYPE</th>\n",
       "      <th>GENDER</th>\n",
       "      <th>CHILDRENS</th>\n",
       "      <th>TOTAL_SALARY</th>\n",
       "      <th>AMOUNT_CREDIT</th>\n",
       "      <th>AMOUNT_ANNUITY</th>\n",
       "      <th>EDUCATION_LEVEL</th>\n",
       "      <th>FAMILY_STATUS</th>\n",
       "      <th>REGION_POPULATION</th>\n",
       "      <th>AGE</th>\n",
       "      <th>DAYS_ON_LAST_JOB</th>\n",
       "      <th>OWN_CAR_AGE</th>\n",
       "      <th>FLAG_PHONE</th>\n",
       "      <th>FLAG_EMAIL</th>\n",
       "      <th>FAMILY_SIZE</th>\n",
       "      <th>EXTERNAL_SCORING_RATING_1</th>\n",
       "      <th>EXTERNAL_SCORING_RATING_2</th>\n",
       "      <th>EXTERNAL_SCORING_RATING_3</th>\n",
       "      <th>AMT_REQ_CREDIT_BUREAU_HOUR</th>\n",
       "      <th>AMT_REQ_CREDIT_BUREAU_DAY</th>\n",
       "      <th>AMT_REQ_CREDIT_BUREAU_WEEK</th>\n",
       "      <th>AMT_REQ_CREDIT_BUREAU_MON</th>\n",
       "      <th>AMT_REQ_CREDIT_BUREAU_QRT</th>\n",
       "      <th>AMT_REQ_CREDIT_BUREAU_YEAR</th>\n",
       "      <th>EXTERNAL_SCORING_PROD</th>\n",
       "      <th>EXTERNAL_SCORING_WEIGHTED</th>\n",
       "      <th>EXTERNAL_SCORING_RATING_min</th>\n",
       "      <th>EXTERNAL_SCORING_RATING_max</th>\n",
       "      <th>EXTERNAL_SCORING_RATING_mean</th>\n",
       "      <th>EXTERNAL_SCORING_RATING_nanmedian</th>\n",
       "      <th>EXTERNAL_SCORING_RATING_var</th>\n",
       "      <th>RATIO_CREDIT_TO_ANNUITY</th>\n",
       "      <th>RATIO_ANNUITY_TO_SALARY</th>\n",
       "      <th>RATIO_CREDIT_TO_SALARY</th>\n",
       "      <th>EXPECTED_TOTAL_LOSS_1</th>\n",
       "      <th>EXPECTED_TOTAL_LOSS_2</th>\n",
       "      <th>EXPECTED_TOTAL_LOSS_3</th>\n",
       "      <th>EXPECTED_MONTHLY_LOSS_1</th>\n",
       "      <th>EXPECTED_MONTHLY_LOSS_2</th>\n",
       "      <th>EXPECTED_MONTHLY_LOSS_3</th>\n",
       "      <th>EDUCATION_FAMILY_STATUS</th>\n",
       "    </tr>\n",
       "  </thead>\n",
       "  <tbody>\n",
       "    <tr>\n",
       "      <th>0</th>\n",
       "      <td>123687442</td>\n",
       "      <td>0.0</td>\n",
       "      <td>Cash</td>\n",
       "      <td>M</td>\n",
       "      <td>1.0</td>\n",
       "      <td>157500.0</td>\n",
       "      <td>855000.0</td>\n",
       "      <td>25128.0</td>\n",
       "      <td>Secondary / secondary special</td>\n",
       "      <td>Married</td>\n",
       "      <td>0.019101</td>\n",
       "      <td>15728.0</td>\n",
       "      <td>1719.0</td>\n",
       "      <td>11.0</td>\n",
       "      <td>0.0</td>\n",
       "      <td>0.0</td>\n",
       "      <td>3.0</td>\n",
       "      <td>0.700784</td>\n",
       "      <td>0.645914</td>\n",
       "      <td>0.71657</td>\n",
       "      <td>0.0</td>\n",
       "      <td>0.0</td>\n",
       "      <td>1.0</td>\n",
       "      <td>0.0</td>\n",
       "      <td>0.0</td>\n",
       "      <td>2.0</td>\n",
       "      <td>0.324353</td>\n",
       "      <td>4.197193</td>\n",
       "      <td>0.645914</td>\n",
       "      <td>0.71657</td>\n",
       "      <td>0.687756</td>\n",
       "      <td>0.700784</td>\n",
       "      <td>0.000917</td>\n",
       "      <td>34.025788</td>\n",
       "      <td>0.159543</td>\n",
       "      <td>5.428571</td>\n",
       "      <td>599170.547652</td>\n",
       "      <td>552256.266546</td>\n",
       "      <td>612667.559305</td>\n",
       "      <td>17609.307043</td>\n",
       "      <td>16230.521013</td>\n",
       "      <td>18005.977111</td>\n",
       "      <td>Secondary / secondary special | Married</td>\n",
       "    </tr>\n",
       "    <tr>\n",
       "      <th>1</th>\n",
       "      <td>123597908</td>\n",
       "      <td>1.0</td>\n",
       "      <td>Cash</td>\n",
       "      <td>No</td>\n",
       "      <td>-1.0</td>\n",
       "      <td>-1.0</td>\n",
       "      <td>-1.0</td>\n",
       "      <td>-1.0</td>\n",
       "      <td>No</td>\n",
       "      <td>No</td>\n",
       "      <td>-1.000000</td>\n",
       "      <td>-1.0</td>\n",
       "      <td>-1.0</td>\n",
       "      <td>-1.0</td>\n",
       "      <td>-1.0</td>\n",
       "      <td>-1.0</td>\n",
       "      <td>-1.0</td>\n",
       "      <td>-1.000000</td>\n",
       "      <td>-1.000000</td>\n",
       "      <td>-1.00000</td>\n",
       "      <td>-1.0</td>\n",
       "      <td>-1.0</td>\n",
       "      <td>-1.0</td>\n",
       "      <td>-1.0</td>\n",
       "      <td>-1.0</td>\n",
       "      <td>-1.0</td>\n",
       "      <td>-1.000000</td>\n",
       "      <td>-1.000000</td>\n",
       "      <td>-1.000000</td>\n",
       "      <td>-1.00000</td>\n",
       "      <td>-1.000000</td>\n",
       "      <td>-1.000000</td>\n",
       "      <td>-1.000000</td>\n",
       "      <td>-1.000000</td>\n",
       "      <td>-1.000000</td>\n",
       "      <td>-1.000000</td>\n",
       "      <td>-1.000000</td>\n",
       "      <td>-1.000000</td>\n",
       "      <td>-1.000000</td>\n",
       "      <td>-1.000000</td>\n",
       "      <td>-1.000000</td>\n",
       "      <td>-1.000000</td>\n",
       "      <td>No | No</td>\n",
       "    </tr>\n",
       "  </tbody>\n",
       "</table>\n",
       "</div>"
      ],
      "text/plain": [
       "   APPLICATION_NUMBER  TARGET NAME_CONTRACT_TYPE GENDER  CHILDRENS  \\\n",
       "0           123687442     0.0               Cash      M        1.0   \n",
       "1           123597908     1.0               Cash     No       -1.0   \n",
       "\n",
       "   TOTAL_SALARY  AMOUNT_CREDIT  AMOUNT_ANNUITY                EDUCATION_LEVEL  \\\n",
       "0      157500.0       855000.0         25128.0  Secondary / secondary special   \n",
       "1          -1.0           -1.0            -1.0                             No   \n",
       "\n",
       "  FAMILY_STATUS  REGION_POPULATION      AGE  DAYS_ON_LAST_JOB  OWN_CAR_AGE  \\\n",
       "0       Married           0.019101  15728.0            1719.0         11.0   \n",
       "1            No          -1.000000     -1.0              -1.0         -1.0   \n",
       "\n",
       "   FLAG_PHONE  FLAG_EMAIL  FAMILY_SIZE  EXTERNAL_SCORING_RATING_1  \\\n",
       "0         0.0         0.0          3.0                   0.700784   \n",
       "1        -1.0        -1.0         -1.0                  -1.000000   \n",
       "\n",
       "   EXTERNAL_SCORING_RATING_2  EXTERNAL_SCORING_RATING_3  \\\n",
       "0                   0.645914                    0.71657   \n",
       "1                  -1.000000                   -1.00000   \n",
       "\n",
       "   AMT_REQ_CREDIT_BUREAU_HOUR  AMT_REQ_CREDIT_BUREAU_DAY  \\\n",
       "0                         0.0                        0.0   \n",
       "1                        -1.0                       -1.0   \n",
       "\n",
       "   AMT_REQ_CREDIT_BUREAU_WEEK  AMT_REQ_CREDIT_BUREAU_MON  \\\n",
       "0                         1.0                        0.0   \n",
       "1                        -1.0                       -1.0   \n",
       "\n",
       "   AMT_REQ_CREDIT_BUREAU_QRT  AMT_REQ_CREDIT_BUREAU_YEAR  \\\n",
       "0                        0.0                         2.0   \n",
       "1                       -1.0                        -1.0   \n",
       "\n",
       "   EXTERNAL_SCORING_PROD  EXTERNAL_SCORING_WEIGHTED  \\\n",
       "0               0.324353                   4.197193   \n",
       "1              -1.000000                  -1.000000   \n",
       "\n",
       "   EXTERNAL_SCORING_RATING_min  EXTERNAL_SCORING_RATING_max  \\\n",
       "0                     0.645914                      0.71657   \n",
       "1                    -1.000000                     -1.00000   \n",
       "\n",
       "   EXTERNAL_SCORING_RATING_mean  EXTERNAL_SCORING_RATING_nanmedian  \\\n",
       "0                      0.687756                           0.700784   \n",
       "1                     -1.000000                          -1.000000   \n",
       "\n",
       "   EXTERNAL_SCORING_RATING_var  RATIO_CREDIT_TO_ANNUITY  \\\n",
       "0                     0.000917                34.025788   \n",
       "1                    -1.000000                -1.000000   \n",
       "\n",
       "   RATIO_ANNUITY_TO_SALARY  RATIO_CREDIT_TO_SALARY  EXPECTED_TOTAL_LOSS_1  \\\n",
       "0                 0.159543                5.428571          599170.547652   \n",
       "1                -1.000000               -1.000000              -1.000000   \n",
       "\n",
       "   EXPECTED_TOTAL_LOSS_2  EXPECTED_TOTAL_LOSS_3  EXPECTED_MONTHLY_LOSS_1  \\\n",
       "0          552256.266546          612667.559305             17609.307043   \n",
       "1              -1.000000              -1.000000                -1.000000   \n",
       "\n",
       "   EXPECTED_MONTHLY_LOSS_2  EXPECTED_MONTHLY_LOSS_3  \\\n",
       "0             16230.521013             18005.977111   \n",
       "1                -1.000000                -1.000000   \n",
       "\n",
       "                   EDUCATION_FAMILY_STATUS  \n",
       "0  Secondary / secondary special | Married  \n",
       "1                                  No | No  "
      ]
     },
     "execution_count": 52,
     "metadata": {},
     "output_type": "execute_result"
    }
   ],
   "source": [
    "data.head(2)"
   ]
  },
  {
   "cell_type": "markdown",
   "metadata": {
    "id": "d9NhoAWs6ZFA",
    "papermill": {
     "duration": 0.142008,
     "end_time": "2020-10-04T17:46:41.309037",
     "exception": false,
     "start_time": "2020-10-04T17:46:41.167029",
     "status": "completed"
    },
    "tags": []
   },
   "source": [
    "### Преобразуем категориальные признаки в числовые"
   ]
  },
  {
   "cell_type": "code",
   "execution_count": 53,
   "metadata": {
    "execution": {
     "iopub.execute_input": "2020-10-04T17:46:41.575627Z",
     "iopub.status.busy": "2020-10-04T17:46:41.574979Z",
     "iopub.status.idle": "2020-10-04T17:46:41.618861Z",
     "shell.execute_reply": "2020-10-04T17:46:41.619286Z"
    },
    "id": "hpW01veNUSNg",
    "papermill": {
     "duration": 0.178749,
     "end_time": "2020-10-04T17:46:41.619470",
     "exception": false,
     "start_time": "2020-10-04T17:46:41.440721",
     "status": "completed"
    },
    "tags": []
   },
   "outputs": [],
   "source": [
    "data_cat = data.copy()"
   ]
  },
  {
   "cell_type": "code",
   "execution_count": 54,
   "metadata": {
    "execution": {
     "iopub.execute_input": "2020-10-04T17:46:41.906308Z",
     "iopub.status.busy": "2020-10-04T17:46:41.905693Z",
     "iopub.status.idle": "2020-10-04T17:46:41.917106Z",
     "shell.execute_reply": "2020-10-04T17:46:41.917586Z"
    },
    "id": "07PZp9mh6ZFB",
    "papermill": {
     "duration": 0.159251,
     "end_time": "2020-10-04T17:46:41.917760",
     "exception": false,
     "start_time": "2020-10-04T17:46:41.758509",
     "status": "completed"
    },
    "scrolled": false,
    "tags": []
   },
   "outputs": [],
   "source": [
    "obj_col = data.select_dtypes(exclude=[np.number])"
   ]
  },
  {
   "cell_type": "code",
   "execution_count": 55,
   "metadata": {
    "execution": {
     "iopub.execute_input": "2020-10-04T17:46:42.184511Z",
     "iopub.status.busy": "2020-10-04T17:46:42.183931Z",
     "iopub.status.idle": "2020-10-04T17:46:42.572298Z",
     "shell.execute_reply": "2020-10-04T17:46:42.571783Z"
    },
    "id": "0EVrvSo86ZFH",
    "outputId": "9c7c81d6-2360-4e53-f28d-51215381107e",
    "papermill": {
     "duration": 0.521782,
     "end_time": "2020-10-04T17:46:42.572404",
     "exception": false,
     "start_time": "2020-10-04T17:46:42.050622",
     "status": "completed"
    },
    "scrolled": false,
    "tags": []
   },
   "outputs": [
    {
     "name": "stdout",
     "output_type": "stream",
     "text": [
      "****************************************************************************************************\n",
      "NAME_CONTRACT_TYPE\n",
      "\n",
      "['Cash' 'Credit Card']\n",
      "\n",
      "\n",
      "NAME_CONTRACT_TYPE\n",
      "Cash           248983\n",
      "Credit Card     26251\n",
      "Name: NAME_CONTRACT_TYPE, dtype: int64\n",
      "****************************************************************************************************\n",
      "\n",
      "GENDER\n",
      "\n",
      "['M' 'No' 'F' 'XNA']\n",
      "\n",
      "\n",
      "GENDER\n",
      "F      147444\n",
      "M       76267\n",
      "No      51519\n",
      "XNA         4\n",
      "Name: GENDER, dtype: int64\n",
      "****************************************************************************************************\n",
      "\n",
      "EDUCATION_LEVEL\n",
      "\n",
      "['Secondary / secondary special' 'No' 'Higher education' 'Lower secondary'\n",
      " 'Incomplete higher' 'Academic degree']\n",
      "\n",
      "\n",
      "EDUCATION_LEVEL\n",
      "Academic degree                     120\n",
      "Higher education                  54516\n",
      "Incomplete higher                  7456\n",
      "Lower secondary                    2736\n",
      "No                                51519\n",
      "Secondary / secondary special    158887\n",
      "Name: EDUCATION_LEVEL, dtype: int64\n",
      "****************************************************************************************************\n",
      "\n",
      "FAMILY_STATUS\n",
      "\n",
      "['Married' 'No' 'Single / not married' 'Separated' 'Civil marriage'\n",
      " 'Widow' 'Unknown']\n",
      "\n",
      "\n",
      "FAMILY_STATUS\n",
      "Civil marriage           21687\n",
      "Married                 143149\n",
      "No                       51519\n",
      "Separated                14295\n",
      "Single / not married     32888\n",
      "Unknown                      2\n",
      "Widow                    11694\n",
      "Name: FAMILY_STATUS, dtype: int64\n",
      "****************************************************************************************************\n",
      "\n",
      "EDUCATION_FAMILY_STATUS\n",
      "\n",
      "['Secondary / secondary special | Married' 'No | No'\n",
      " 'Higher education | Married'\n",
      " 'Secondary / secondary special | Single / not married'\n",
      " 'Higher education | Single / not married' 'Higher education | Separated'\n",
      " 'Lower secondary | Married'\n",
      " 'Secondary / secondary special | Civil marriage'\n",
      " 'Secondary / secondary special | Widow' 'Lower secondary | Widow'\n",
      " 'Incomplete higher | Married' 'Secondary / secondary special | Separated'\n",
      " 'Higher education | Widow' 'Incomplete higher | Separated'\n",
      " 'Higher education | Civil marriage' 'Incomplete higher | Widow'\n",
      " 'Incomplete higher | Single / not married'\n",
      " 'Lower secondary | Single / not married' 'Academic degree | Widow'\n",
      " 'Incomplete higher | Civil marriage' 'Lower secondary | Separated'\n",
      " 'Academic degree | Married' 'Lower secondary | Civil marriage'\n",
      " 'Academic degree | Separated' 'Academic degree | Single / not married'\n",
      " 'Lower secondary | Unknown' 'Academic degree | Civil marriage'\n",
      " 'Higher education | Unknown']\n",
      "\n",
      "\n",
      "EDUCATION_FAMILY_STATUS\n",
      "Academic degree | Civil marriage                             6\n",
      "Academic degree | Married                                   77\n",
      "Academic degree | Separated                                 12\n",
      "Academic degree | Single / not married                      20\n",
      "Academic degree | Widow                                      5\n",
      "Higher education | Civil marriage                         4488\n",
      "Higher education | Married                               35564\n",
      "Higher education | Separated                              3673\n",
      "Higher education | Single / not married                   9108\n",
      "Higher education | Unknown                                   1\n",
      "Higher education | Widow                                  1682\n",
      "Incomplete higher | Civil marriage                         819\n",
      "Incomplete higher | Married                               4084\n",
      "Incomplete higher | Separated                              394\n",
      "Incomplete higher | Single / not married                  2023\n",
      "Incomplete higher | Widow                                  136\n",
      "Lower secondary | Civil marriage                           296\n",
      "Lower secondary | Married                                 1572\n",
      "Lower secondary | Separated                                160\n",
      "Lower secondary | Single / not married                     406\n",
      "Lower secondary | Unknown                                    1\n",
      "Lower secondary | Widow                                    301\n",
      "No | No                                                  51519\n",
      "Secondary / secondary special | Civil marriage           16078\n",
      "Secondary / secondary special | Married                 101852\n",
      "Secondary / secondary special | Separated                10056\n",
      "Secondary / secondary special | Single / not married     21331\n",
      "Secondary / secondary special | Widow                     9570\n",
      "Name: EDUCATION_FAMILY_STATUS, dtype: int64\n",
      "****************************************************************************************************\n",
      "\n"
     ]
    }
   ],
   "source": [
    "if not obj_col.empty:\n",
    "    data_obj_discribe(data)"
   ]
  },
  {
   "cell_type": "code",
   "execution_count": 56,
   "metadata": {
    "execution": {
     "iopub.execute_input": "2020-10-04T17:46:42.854305Z",
     "iopub.status.busy": "2020-10-04T17:46:42.853695Z",
     "iopub.status.idle": "2020-10-04T17:46:42.857246Z",
     "shell.execute_reply": "2020-10-04T17:46:42.856752Z"
    },
    "id": "m7dqiS-z6ZFL",
    "papermill": {
     "duration": 0.148282,
     "end_time": "2020-10-04T17:46:42.857351",
     "exception": false,
     "start_time": "2020-10-04T17:46:42.709069",
     "status": "completed"
    },
    "tags": []
   },
   "outputs": [],
   "source": [
    "def data_obj_map(data: pd.DataFrame):\n",
    "# если столбец имеет тип 'object' и содержит менее 30 уникальных \n",
    "# преобразует категориальные признак в числовые\n",
    "\n",
    "    # data: pd.DataFrame исходный датафрейм\n",
    "    \n",
    "    # изменяет датафрейм источник\n",
    "    \n",
    "    obj_fit = data.select_dtypes(include='object')\n",
    "    for cat_colname in obj_fit.columns:\n",
    "        map_tr = {}\n",
    "        un_val = obj_fit[cat_colname].unique()\n",
    "        if len(un_val) < 30:\n",
    "            print(str(cat_colname) + '\\n')\n",
    "            for i in range(len(un_val)):\n",
    "                map_tr[un_val[i]] = i\n",
    "            print(map_tr)\n",
    "            data[cat_colname] = data[cat_colname].map(map_tr)\n",
    "            print('*' * 100 + '\\n')"
   ]
  },
  {
   "cell_type": "code",
   "execution_count": 57,
   "metadata": {
    "execution": {
     "iopub.execute_input": "2020-10-04T17:46:43.133590Z",
     "iopub.status.busy": "2020-10-04T17:46:43.132998Z",
     "iopub.status.idle": "2020-10-04T17:46:43.419175Z",
     "shell.execute_reply": "2020-10-04T17:46:43.418631Z"
    },
    "id": "y0SSKLeq6ZFP",
    "outputId": "ada58880-d2c6-4fb3-e216-9a2a777ad4f2",
    "papermill": {
     "duration": 0.423621,
     "end_time": "2020-10-04T17:46:43.419282",
     "exception": false,
     "start_time": "2020-10-04T17:46:42.995661",
     "status": "completed"
    },
    "tags": []
   },
   "outputs": [
    {
     "name": "stdout",
     "output_type": "stream",
     "text": [
      "NAME_CONTRACT_TYPE\n",
      "\n",
      "{'Cash': 0, 'Credit Card': 1}\n",
      "****************************************************************************************************\n",
      "\n",
      "GENDER\n",
      "\n",
      "{'M': 0, 'No': 1, 'F': 2, 'XNA': 3}\n",
      "****************************************************************************************************\n",
      "\n",
      "EDUCATION_LEVEL\n",
      "\n",
      "{'Secondary / secondary special': 0, 'No': 1, 'Higher education': 2, 'Lower secondary': 3, 'Incomplete higher': 4, 'Academic degree': 5}\n",
      "****************************************************************************************************\n",
      "\n",
      "FAMILY_STATUS\n",
      "\n",
      "{'Married': 0, 'No': 1, 'Single / not married': 2, 'Separated': 3, 'Civil marriage': 4, 'Widow': 5, 'Unknown': 6}\n",
      "****************************************************************************************************\n",
      "\n",
      "EDUCATION_FAMILY_STATUS\n",
      "\n",
      "{'Secondary / secondary special | Married': 0, 'No | No': 1, 'Higher education | Married': 2, 'Secondary / secondary special | Single / not married': 3, 'Higher education | Single / not married': 4, 'Higher education | Separated': 5, 'Lower secondary | Married': 6, 'Secondary / secondary special | Civil marriage': 7, 'Secondary / secondary special | Widow': 8, 'Lower secondary | Widow': 9, 'Incomplete higher | Married': 10, 'Secondary / secondary special | Separated': 11, 'Higher education | Widow': 12, 'Incomplete higher | Separated': 13, 'Higher education | Civil marriage': 14, 'Incomplete higher | Widow': 15, 'Incomplete higher | Single / not married': 16, 'Lower secondary | Single / not married': 17, 'Academic degree | Widow': 18, 'Incomplete higher | Civil marriage': 19, 'Lower secondary | Separated': 20, 'Academic degree | Married': 21, 'Lower secondary | Civil marriage': 22, 'Academic degree | Separated': 23, 'Academic degree | Single / not married': 24, 'Lower secondary | Unknown': 25, 'Academic degree | Civil marriage': 26, 'Higher education | Unknown': 27}\n",
      "****************************************************************************************************\n",
      "\n"
     ]
    }
   ],
   "source": [
    "if not obj_col.empty:\n",
    "    data_obj_map(data)"
   ]
  },
  {
   "cell_type": "code",
   "execution_count": 58,
   "metadata": {
    "execution": {
     "iopub.execute_input": "2020-10-04T17:46:43.710815Z",
     "iopub.status.busy": "2020-10-04T17:46:43.709885Z",
     "iopub.status.idle": "2020-10-04T17:46:43.744446Z",
     "shell.execute_reply": "2020-10-04T17:46:43.744874Z"
    },
    "id": "6Sz3xYb-6ZFS",
    "outputId": "b9b133d4-50d9-47fc-cbeb-a0dbb0948583",
    "papermill": {
     "duration": 0.187976,
     "end_time": "2020-10-04T17:46:43.745016",
     "exception": false,
     "start_time": "2020-10-04T17:46:43.557040",
     "status": "completed"
    },
    "tags": []
   },
   "outputs": [
    {
     "data": {
      "text/html": [
       "<div>\n",
       "<style scoped>\n",
       "    .dataframe tbody tr th:only-of-type {\n",
       "        vertical-align: middle;\n",
       "    }\n",
       "\n",
       "    .dataframe tbody tr th {\n",
       "        vertical-align: top;\n",
       "    }\n",
       "\n",
       "    .dataframe thead th {\n",
       "        text-align: right;\n",
       "    }\n",
       "</style>\n",
       "<table border=\"1\" class=\"dataframe\">\n",
       "  <thead>\n",
       "    <tr style=\"text-align: right;\">\n",
       "      <th></th>\n",
       "      <th>APPLICATION_NUMBER</th>\n",
       "      <th>TARGET</th>\n",
       "      <th>NAME_CONTRACT_TYPE</th>\n",
       "      <th>GENDER</th>\n",
       "      <th>CHILDRENS</th>\n",
       "      <th>TOTAL_SALARY</th>\n",
       "      <th>AMOUNT_CREDIT</th>\n",
       "      <th>AMOUNT_ANNUITY</th>\n",
       "      <th>EDUCATION_LEVEL</th>\n",
       "      <th>FAMILY_STATUS</th>\n",
       "      <th>REGION_POPULATION</th>\n",
       "      <th>AGE</th>\n",
       "      <th>DAYS_ON_LAST_JOB</th>\n",
       "      <th>OWN_CAR_AGE</th>\n",
       "      <th>FLAG_PHONE</th>\n",
       "      <th>FLAG_EMAIL</th>\n",
       "      <th>FAMILY_SIZE</th>\n",
       "      <th>EXTERNAL_SCORING_RATING_1</th>\n",
       "      <th>EXTERNAL_SCORING_RATING_2</th>\n",
       "      <th>EXTERNAL_SCORING_RATING_3</th>\n",
       "      <th>AMT_REQ_CREDIT_BUREAU_HOUR</th>\n",
       "      <th>AMT_REQ_CREDIT_BUREAU_DAY</th>\n",
       "      <th>AMT_REQ_CREDIT_BUREAU_WEEK</th>\n",
       "      <th>AMT_REQ_CREDIT_BUREAU_MON</th>\n",
       "      <th>AMT_REQ_CREDIT_BUREAU_QRT</th>\n",
       "      <th>AMT_REQ_CREDIT_BUREAU_YEAR</th>\n",
       "      <th>EXTERNAL_SCORING_PROD</th>\n",
       "      <th>EXTERNAL_SCORING_WEIGHTED</th>\n",
       "      <th>EXTERNAL_SCORING_RATING_min</th>\n",
       "      <th>EXTERNAL_SCORING_RATING_max</th>\n",
       "      <th>EXTERNAL_SCORING_RATING_mean</th>\n",
       "      <th>EXTERNAL_SCORING_RATING_nanmedian</th>\n",
       "      <th>EXTERNAL_SCORING_RATING_var</th>\n",
       "      <th>RATIO_CREDIT_TO_ANNUITY</th>\n",
       "      <th>RATIO_ANNUITY_TO_SALARY</th>\n",
       "      <th>RATIO_CREDIT_TO_SALARY</th>\n",
       "      <th>EXPECTED_TOTAL_LOSS_1</th>\n",
       "      <th>EXPECTED_TOTAL_LOSS_2</th>\n",
       "      <th>EXPECTED_TOTAL_LOSS_3</th>\n",
       "      <th>EXPECTED_MONTHLY_LOSS_1</th>\n",
       "      <th>EXPECTED_MONTHLY_LOSS_2</th>\n",
       "      <th>EXPECTED_MONTHLY_LOSS_3</th>\n",
       "      <th>EDUCATION_FAMILY_STATUS</th>\n",
       "    </tr>\n",
       "  </thead>\n",
       "  <tbody>\n",
       "    <tr>\n",
       "      <th>0</th>\n",
       "      <td>123687442</td>\n",
       "      <td>0.0</td>\n",
       "      <td>0</td>\n",
       "      <td>0</td>\n",
       "      <td>1.0</td>\n",
       "      <td>157500.0</td>\n",
       "      <td>855000.0</td>\n",
       "      <td>25128.0</td>\n",
       "      <td>0</td>\n",
       "      <td>0</td>\n",
       "      <td>0.019101</td>\n",
       "      <td>15728.0</td>\n",
       "      <td>1719.0</td>\n",
       "      <td>11.0</td>\n",
       "      <td>0.0</td>\n",
       "      <td>0.0</td>\n",
       "      <td>3.0</td>\n",
       "      <td>0.700784</td>\n",
       "      <td>0.645914</td>\n",
       "      <td>0.716570</td>\n",
       "      <td>0.0</td>\n",
       "      <td>0.0</td>\n",
       "      <td>1.0</td>\n",
       "      <td>0.0</td>\n",
       "      <td>0.0</td>\n",
       "      <td>2.0</td>\n",
       "      <td>0.324353</td>\n",
       "      <td>4.197193</td>\n",
       "      <td>0.645914</td>\n",
       "      <td>0.716570</td>\n",
       "      <td>0.687756</td>\n",
       "      <td>0.700784</td>\n",
       "      <td>9.169231e-04</td>\n",
       "      <td>34.025788</td>\n",
       "      <td>0.159543</td>\n",
       "      <td>5.428571</td>\n",
       "      <td>599170.547652</td>\n",
       "      <td>552256.266546</td>\n",
       "      <td>612667.559305</td>\n",
       "      <td>17609.307043</td>\n",
       "      <td>16230.521013</td>\n",
       "      <td>18005.977111</td>\n",
       "      <td>0</td>\n",
       "    </tr>\n",
       "    <tr>\n",
       "      <th>1</th>\n",
       "      <td>123597908</td>\n",
       "      <td>1.0</td>\n",
       "      <td>0</td>\n",
       "      <td>1</td>\n",
       "      <td>-1.0</td>\n",
       "      <td>-1.0</td>\n",
       "      <td>-1.0</td>\n",
       "      <td>-1.0</td>\n",
       "      <td>1</td>\n",
       "      <td>1</td>\n",
       "      <td>-1.000000</td>\n",
       "      <td>-1.0</td>\n",
       "      <td>-1.0</td>\n",
       "      <td>-1.0</td>\n",
       "      <td>-1.0</td>\n",
       "      <td>-1.0</td>\n",
       "      <td>-1.0</td>\n",
       "      <td>-1.000000</td>\n",
       "      <td>-1.000000</td>\n",
       "      <td>-1.000000</td>\n",
       "      <td>-1.0</td>\n",
       "      <td>-1.0</td>\n",
       "      <td>-1.0</td>\n",
       "      <td>-1.0</td>\n",
       "      <td>-1.0</td>\n",
       "      <td>-1.0</td>\n",
       "      <td>-1.000000</td>\n",
       "      <td>-1.000000</td>\n",
       "      <td>-1.000000</td>\n",
       "      <td>-1.000000</td>\n",
       "      <td>-1.000000</td>\n",
       "      <td>-1.000000</td>\n",
       "      <td>-1.000000e+00</td>\n",
       "      <td>-1.000000</td>\n",
       "      <td>-1.000000</td>\n",
       "      <td>-1.000000</td>\n",
       "      <td>-1.000000</td>\n",
       "      <td>-1.000000</td>\n",
       "      <td>-1.000000</td>\n",
       "      <td>-1.000000</td>\n",
       "      <td>-1.000000</td>\n",
       "      <td>-1.000000</td>\n",
       "      <td>1</td>\n",
       "    </tr>\n",
       "    <tr>\n",
       "      <th>2</th>\n",
       "      <td>123526683</td>\n",
       "      <td>0.0</td>\n",
       "      <td>0</td>\n",
       "      <td>2</td>\n",
       "      <td>0.0</td>\n",
       "      <td>135000.0</td>\n",
       "      <td>1006920.0</td>\n",
       "      <td>42660.0</td>\n",
       "      <td>2</td>\n",
       "      <td>0</td>\n",
       "      <td>0.026392</td>\n",
       "      <td>21557.0</td>\n",
       "      <td>3618.0</td>\n",
       "      <td>-1.0</td>\n",
       "      <td>1.0</td>\n",
       "      <td>0.0</td>\n",
       "      <td>2.0</td>\n",
       "      <td>-1.000000</td>\n",
       "      <td>0.682149</td>\n",
       "      <td>0.267869</td>\n",
       "      <td>0.0</td>\n",
       "      <td>0.0</td>\n",
       "      <td>0.0</td>\n",
       "      <td>7.0</td>\n",
       "      <td>0.0</td>\n",
       "      <td>4.0</td>\n",
       "      <td>-1.000000</td>\n",
       "      <td>-1.000000</td>\n",
       "      <td>0.267869</td>\n",
       "      <td>0.682149</td>\n",
       "      <td>0.475009</td>\n",
       "      <td>0.475009</td>\n",
       "      <td>4.290708e-02</td>\n",
       "      <td>23.603376</td>\n",
       "      <td>0.316000</td>\n",
       "      <td>7.458667</td>\n",
       "      <td>-1.000000</td>\n",
       "      <td>686869.876357</td>\n",
       "      <td>269722.588880</td>\n",
       "      <td>-1.000000</td>\n",
       "      <td>29100.493510</td>\n",
       "      <td>11427.288803</td>\n",
       "      <td>2</td>\n",
       "    </tr>\n",
       "    <tr>\n",
       "      <th>3</th>\n",
       "      <td>123710391</td>\n",
       "      <td>1.0</td>\n",
       "      <td>0</td>\n",
       "      <td>0</td>\n",
       "      <td>0.0</td>\n",
       "      <td>180000.0</td>\n",
       "      <td>518562.0</td>\n",
       "      <td>22972.5</td>\n",
       "      <td>0</td>\n",
       "      <td>0</td>\n",
       "      <td>0.031329</td>\n",
       "      <td>22338.0</td>\n",
       "      <td>-1.0</td>\n",
       "      <td>-1.0</td>\n",
       "      <td>0.0</td>\n",
       "      <td>0.0</td>\n",
       "      <td>2.0</td>\n",
       "      <td>-1.000000</td>\n",
       "      <td>0.171299</td>\n",
       "      <td>0.170446</td>\n",
       "      <td>0.0</td>\n",
       "      <td>0.0</td>\n",
       "      <td>0.0</td>\n",
       "      <td>0.0</td>\n",
       "      <td>0.0</td>\n",
       "      <td>0.0</td>\n",
       "      <td>-1.000000</td>\n",
       "      <td>-1.000000</td>\n",
       "      <td>0.170446</td>\n",
       "      <td>0.171299</td>\n",
       "      <td>0.170873</td>\n",
       "      <td>0.170873</td>\n",
       "      <td>1.818800e-07</td>\n",
       "      <td>22.573164</td>\n",
       "      <td>0.127625</td>\n",
       "      <td>2.880900</td>\n",
       "      <td>-1.000000</td>\n",
       "      <td>88829.188848</td>\n",
       "      <td>88386.882459</td>\n",
       "      <td>-1.000000</td>\n",
       "      <td>3935.167908</td>\n",
       "      <td>3915.573562</td>\n",
       "      <td>0</td>\n",
       "    </tr>\n",
       "    <tr>\n",
       "      <th>4</th>\n",
       "      <td>123590329</td>\n",
       "      <td>1.0</td>\n",
       "      <td>0</td>\n",
       "      <td>1</td>\n",
       "      <td>-1.0</td>\n",
       "      <td>-1.0</td>\n",
       "      <td>-1.0</td>\n",
       "      <td>-1.0</td>\n",
       "      <td>1</td>\n",
       "      <td>1</td>\n",
       "      <td>-1.000000</td>\n",
       "      <td>-1.0</td>\n",
       "      <td>-1.0</td>\n",
       "      <td>-1.0</td>\n",
       "      <td>-1.0</td>\n",
       "      <td>-1.0</td>\n",
       "      <td>-1.0</td>\n",
       "      <td>-1.000000</td>\n",
       "      <td>-1.000000</td>\n",
       "      <td>-1.000000</td>\n",
       "      <td>-1.0</td>\n",
       "      <td>-1.0</td>\n",
       "      <td>-1.0</td>\n",
       "      <td>-1.0</td>\n",
       "      <td>-1.0</td>\n",
       "      <td>-1.0</td>\n",
       "      <td>-1.000000</td>\n",
       "      <td>-1.000000</td>\n",
       "      <td>-1.000000</td>\n",
       "      <td>-1.000000</td>\n",
       "      <td>-1.000000</td>\n",
       "      <td>-1.000000</td>\n",
       "      <td>-1.000000e+00</td>\n",
       "      <td>-1.000000</td>\n",
       "      <td>-1.000000</td>\n",
       "      <td>-1.000000</td>\n",
       "      <td>-1.000000</td>\n",
       "      <td>-1.000000</td>\n",
       "      <td>-1.000000</td>\n",
       "      <td>-1.000000</td>\n",
       "      <td>-1.000000</td>\n",
       "      <td>-1.000000</td>\n",
       "      <td>1</td>\n",
       "    </tr>\n",
       "  </tbody>\n",
       "</table>\n",
       "</div>"
      ],
      "text/plain": [
       "   APPLICATION_NUMBER  TARGET  NAME_CONTRACT_TYPE  GENDER  CHILDRENS  \\\n",
       "0           123687442     0.0                   0       0        1.0   \n",
       "1           123597908     1.0                   0       1       -1.0   \n",
       "2           123526683     0.0                   0       2        0.0   \n",
       "3           123710391     1.0                   0       0        0.0   \n",
       "4           123590329     1.0                   0       1       -1.0   \n",
       "\n",
       "   TOTAL_SALARY  AMOUNT_CREDIT  AMOUNT_ANNUITY  EDUCATION_LEVEL  \\\n",
       "0      157500.0       855000.0         25128.0                0   \n",
       "1          -1.0           -1.0            -1.0                1   \n",
       "2      135000.0      1006920.0         42660.0                2   \n",
       "3      180000.0       518562.0         22972.5                0   \n",
       "4          -1.0           -1.0            -1.0                1   \n",
       "\n",
       "   FAMILY_STATUS  REGION_POPULATION      AGE  DAYS_ON_LAST_JOB  OWN_CAR_AGE  \\\n",
       "0              0           0.019101  15728.0            1719.0         11.0   \n",
       "1              1          -1.000000     -1.0              -1.0         -1.0   \n",
       "2              0           0.026392  21557.0            3618.0         -1.0   \n",
       "3              0           0.031329  22338.0              -1.0         -1.0   \n",
       "4              1          -1.000000     -1.0              -1.0         -1.0   \n",
       "\n",
       "   FLAG_PHONE  FLAG_EMAIL  FAMILY_SIZE  EXTERNAL_SCORING_RATING_1  \\\n",
       "0         0.0         0.0          3.0                   0.700784   \n",
       "1        -1.0        -1.0         -1.0                  -1.000000   \n",
       "2         1.0         0.0          2.0                  -1.000000   \n",
       "3         0.0         0.0          2.0                  -1.000000   \n",
       "4        -1.0        -1.0         -1.0                  -1.000000   \n",
       "\n",
       "   EXTERNAL_SCORING_RATING_2  EXTERNAL_SCORING_RATING_3  \\\n",
       "0                   0.645914                   0.716570   \n",
       "1                  -1.000000                  -1.000000   \n",
       "2                   0.682149                   0.267869   \n",
       "3                   0.171299                   0.170446   \n",
       "4                  -1.000000                  -1.000000   \n",
       "\n",
       "   AMT_REQ_CREDIT_BUREAU_HOUR  AMT_REQ_CREDIT_BUREAU_DAY  \\\n",
       "0                         0.0                        0.0   \n",
       "1                        -1.0                       -1.0   \n",
       "2                         0.0                        0.0   \n",
       "3                         0.0                        0.0   \n",
       "4                        -1.0                       -1.0   \n",
       "\n",
       "   AMT_REQ_CREDIT_BUREAU_WEEK  AMT_REQ_CREDIT_BUREAU_MON  \\\n",
       "0                         1.0                        0.0   \n",
       "1                        -1.0                       -1.0   \n",
       "2                         0.0                        7.0   \n",
       "3                         0.0                        0.0   \n",
       "4                        -1.0                       -1.0   \n",
       "\n",
       "   AMT_REQ_CREDIT_BUREAU_QRT  AMT_REQ_CREDIT_BUREAU_YEAR  \\\n",
       "0                        0.0                         2.0   \n",
       "1                       -1.0                        -1.0   \n",
       "2                        0.0                         4.0   \n",
       "3                        0.0                         0.0   \n",
       "4                       -1.0                        -1.0   \n",
       "\n",
       "   EXTERNAL_SCORING_PROD  EXTERNAL_SCORING_WEIGHTED  \\\n",
       "0               0.324353                   4.197193   \n",
       "1              -1.000000                  -1.000000   \n",
       "2              -1.000000                  -1.000000   \n",
       "3              -1.000000                  -1.000000   \n",
       "4              -1.000000                  -1.000000   \n",
       "\n",
       "   EXTERNAL_SCORING_RATING_min  EXTERNAL_SCORING_RATING_max  \\\n",
       "0                     0.645914                     0.716570   \n",
       "1                    -1.000000                    -1.000000   \n",
       "2                     0.267869                     0.682149   \n",
       "3                     0.170446                     0.171299   \n",
       "4                    -1.000000                    -1.000000   \n",
       "\n",
       "   EXTERNAL_SCORING_RATING_mean  EXTERNAL_SCORING_RATING_nanmedian  \\\n",
       "0                      0.687756                           0.700784   \n",
       "1                     -1.000000                          -1.000000   \n",
       "2                      0.475009                           0.475009   \n",
       "3                      0.170873                           0.170873   \n",
       "4                     -1.000000                          -1.000000   \n",
       "\n",
       "   EXTERNAL_SCORING_RATING_var  RATIO_CREDIT_TO_ANNUITY  \\\n",
       "0                 9.169231e-04                34.025788   \n",
       "1                -1.000000e+00                -1.000000   \n",
       "2                 4.290708e-02                23.603376   \n",
       "3                 1.818800e-07                22.573164   \n",
       "4                -1.000000e+00                -1.000000   \n",
       "\n",
       "   RATIO_ANNUITY_TO_SALARY  RATIO_CREDIT_TO_SALARY  EXPECTED_TOTAL_LOSS_1  \\\n",
       "0                 0.159543                5.428571          599170.547652   \n",
       "1                -1.000000               -1.000000              -1.000000   \n",
       "2                 0.316000                7.458667              -1.000000   \n",
       "3                 0.127625                2.880900              -1.000000   \n",
       "4                -1.000000               -1.000000              -1.000000   \n",
       "\n",
       "   EXPECTED_TOTAL_LOSS_2  EXPECTED_TOTAL_LOSS_3  EXPECTED_MONTHLY_LOSS_1  \\\n",
       "0          552256.266546          612667.559305             17609.307043   \n",
       "1              -1.000000              -1.000000                -1.000000   \n",
       "2          686869.876357          269722.588880                -1.000000   \n",
       "3           88829.188848           88386.882459                -1.000000   \n",
       "4              -1.000000              -1.000000                -1.000000   \n",
       "\n",
       "   EXPECTED_MONTHLY_LOSS_2  EXPECTED_MONTHLY_LOSS_3  EDUCATION_FAMILY_STATUS  \n",
       "0             16230.521013             18005.977111                        0  \n",
       "1                -1.000000                -1.000000                        1  \n",
       "2             29100.493510             11427.288803                        2  \n",
       "3              3935.167908              3915.573562                        0  \n",
       "4                -1.000000                -1.000000                        1  "
      ]
     },
     "execution_count": 58,
     "metadata": {},
     "output_type": "execute_result"
    }
   ],
   "source": [
    "data.head()"
   ]
  },
  {
   "cell_type": "code",
   "execution_count": 59,
   "metadata": {
    "execution": {
     "iopub.execute_input": "2020-10-04T17:46:44.014917Z",
     "iopub.status.busy": "2020-10-04T17:46:44.014241Z",
     "iopub.status.idle": "2020-10-04T17:46:44.045443Z",
     "shell.execute_reply": "2020-10-04T17:46:44.045912Z"
    },
    "id": "clde-KfHUec2",
    "outputId": "3c1f1367-c4e8-4853-96f0-8a64cd6aa5c8",
    "papermill": {
     "duration": 0.167156,
     "end_time": "2020-10-04T17:46:44.046047",
     "exception": false,
     "start_time": "2020-10-04T17:46:43.878891",
     "status": "completed"
    },
    "tags": []
   },
   "outputs": [
    {
     "data": {
      "text/html": [
       "<div>\n",
       "<style scoped>\n",
       "    .dataframe tbody tr th:only-of-type {\n",
       "        vertical-align: middle;\n",
       "    }\n",
       "\n",
       "    .dataframe tbody tr th {\n",
       "        vertical-align: top;\n",
       "    }\n",
       "\n",
       "    .dataframe thead th {\n",
       "        text-align: right;\n",
       "    }\n",
       "</style>\n",
       "<table border=\"1\" class=\"dataframe\">\n",
       "  <thead>\n",
       "    <tr style=\"text-align: right;\">\n",
       "      <th></th>\n",
       "      <th>APPLICATION_NUMBER</th>\n",
       "      <th>TARGET</th>\n",
       "      <th>NAME_CONTRACT_TYPE</th>\n",
       "      <th>GENDER</th>\n",
       "      <th>CHILDRENS</th>\n",
       "      <th>TOTAL_SALARY</th>\n",
       "      <th>AMOUNT_CREDIT</th>\n",
       "      <th>AMOUNT_ANNUITY</th>\n",
       "      <th>EDUCATION_LEVEL</th>\n",
       "      <th>FAMILY_STATUS</th>\n",
       "      <th>REGION_POPULATION</th>\n",
       "      <th>AGE</th>\n",
       "      <th>DAYS_ON_LAST_JOB</th>\n",
       "      <th>OWN_CAR_AGE</th>\n",
       "      <th>FLAG_PHONE</th>\n",
       "      <th>FLAG_EMAIL</th>\n",
       "      <th>FAMILY_SIZE</th>\n",
       "      <th>EXTERNAL_SCORING_RATING_1</th>\n",
       "      <th>EXTERNAL_SCORING_RATING_2</th>\n",
       "      <th>EXTERNAL_SCORING_RATING_3</th>\n",
       "      <th>AMT_REQ_CREDIT_BUREAU_HOUR</th>\n",
       "      <th>AMT_REQ_CREDIT_BUREAU_DAY</th>\n",
       "      <th>AMT_REQ_CREDIT_BUREAU_WEEK</th>\n",
       "      <th>AMT_REQ_CREDIT_BUREAU_MON</th>\n",
       "      <th>AMT_REQ_CREDIT_BUREAU_QRT</th>\n",
       "      <th>AMT_REQ_CREDIT_BUREAU_YEAR</th>\n",
       "      <th>EXTERNAL_SCORING_PROD</th>\n",
       "      <th>EXTERNAL_SCORING_WEIGHTED</th>\n",
       "      <th>EXTERNAL_SCORING_RATING_min</th>\n",
       "      <th>EXTERNAL_SCORING_RATING_max</th>\n",
       "      <th>EXTERNAL_SCORING_RATING_mean</th>\n",
       "      <th>EXTERNAL_SCORING_RATING_nanmedian</th>\n",
       "      <th>EXTERNAL_SCORING_RATING_var</th>\n",
       "      <th>RATIO_CREDIT_TO_ANNUITY</th>\n",
       "      <th>RATIO_ANNUITY_TO_SALARY</th>\n",
       "      <th>RATIO_CREDIT_TO_SALARY</th>\n",
       "      <th>EXPECTED_TOTAL_LOSS_1</th>\n",
       "      <th>EXPECTED_TOTAL_LOSS_2</th>\n",
       "      <th>EXPECTED_TOTAL_LOSS_3</th>\n",
       "      <th>EXPECTED_MONTHLY_LOSS_1</th>\n",
       "      <th>EXPECTED_MONTHLY_LOSS_2</th>\n",
       "      <th>EXPECTED_MONTHLY_LOSS_3</th>\n",
       "      <th>EDUCATION_FAMILY_STATUS</th>\n",
       "    </tr>\n",
       "  </thead>\n",
       "  <tbody>\n",
       "    <tr>\n",
       "      <th>0</th>\n",
       "      <td>123687442</td>\n",
       "      <td>0.0</td>\n",
       "      <td>Cash</td>\n",
       "      <td>M</td>\n",
       "      <td>1.0</td>\n",
       "      <td>157500.0</td>\n",
       "      <td>855000.0</td>\n",
       "      <td>25128.0</td>\n",
       "      <td>Secondary / secondary special</td>\n",
       "      <td>Married</td>\n",
       "      <td>0.019101</td>\n",
       "      <td>15728.0</td>\n",
       "      <td>1719.0</td>\n",
       "      <td>11.0</td>\n",
       "      <td>0.0</td>\n",
       "      <td>0.0</td>\n",
       "      <td>3.0</td>\n",
       "      <td>0.700784</td>\n",
       "      <td>0.645914</td>\n",
       "      <td>0.71657</td>\n",
       "      <td>0.0</td>\n",
       "      <td>0.0</td>\n",
       "      <td>1.0</td>\n",
       "      <td>0.0</td>\n",
       "      <td>0.0</td>\n",
       "      <td>2.0</td>\n",
       "      <td>0.324353</td>\n",
       "      <td>4.197193</td>\n",
       "      <td>0.645914</td>\n",
       "      <td>0.71657</td>\n",
       "      <td>0.687756</td>\n",
       "      <td>0.700784</td>\n",
       "      <td>0.000917</td>\n",
       "      <td>34.025788</td>\n",
       "      <td>0.159543</td>\n",
       "      <td>5.428571</td>\n",
       "      <td>599170.547652</td>\n",
       "      <td>552256.266546</td>\n",
       "      <td>612667.559305</td>\n",
       "      <td>17609.307043</td>\n",
       "      <td>16230.521013</td>\n",
       "      <td>18005.977111</td>\n",
       "      <td>Secondary / secondary special | Married</td>\n",
       "    </tr>\n",
       "    <tr>\n",
       "      <th>1</th>\n",
       "      <td>123597908</td>\n",
       "      <td>1.0</td>\n",
       "      <td>Cash</td>\n",
       "      <td>No</td>\n",
       "      <td>-1.0</td>\n",
       "      <td>-1.0</td>\n",
       "      <td>-1.0</td>\n",
       "      <td>-1.0</td>\n",
       "      <td>No</td>\n",
       "      <td>No</td>\n",
       "      <td>-1.000000</td>\n",
       "      <td>-1.0</td>\n",
       "      <td>-1.0</td>\n",
       "      <td>-1.0</td>\n",
       "      <td>-1.0</td>\n",
       "      <td>-1.0</td>\n",
       "      <td>-1.0</td>\n",
       "      <td>-1.000000</td>\n",
       "      <td>-1.000000</td>\n",
       "      <td>-1.00000</td>\n",
       "      <td>-1.0</td>\n",
       "      <td>-1.0</td>\n",
       "      <td>-1.0</td>\n",
       "      <td>-1.0</td>\n",
       "      <td>-1.0</td>\n",
       "      <td>-1.0</td>\n",
       "      <td>-1.000000</td>\n",
       "      <td>-1.000000</td>\n",
       "      <td>-1.000000</td>\n",
       "      <td>-1.00000</td>\n",
       "      <td>-1.000000</td>\n",
       "      <td>-1.000000</td>\n",
       "      <td>-1.000000</td>\n",
       "      <td>-1.000000</td>\n",
       "      <td>-1.000000</td>\n",
       "      <td>-1.000000</td>\n",
       "      <td>-1.000000</td>\n",
       "      <td>-1.000000</td>\n",
       "      <td>-1.000000</td>\n",
       "      <td>-1.000000</td>\n",
       "      <td>-1.000000</td>\n",
       "      <td>-1.000000</td>\n",
       "      <td>No | No</td>\n",
       "    </tr>\n",
       "  </tbody>\n",
       "</table>\n",
       "</div>"
      ],
      "text/plain": [
       "   APPLICATION_NUMBER  TARGET NAME_CONTRACT_TYPE GENDER  CHILDRENS  \\\n",
       "0           123687442     0.0               Cash      M        1.0   \n",
       "1           123597908     1.0               Cash     No       -1.0   \n",
       "\n",
       "   TOTAL_SALARY  AMOUNT_CREDIT  AMOUNT_ANNUITY                EDUCATION_LEVEL  \\\n",
       "0      157500.0       855000.0         25128.0  Secondary / secondary special   \n",
       "1          -1.0           -1.0            -1.0                             No   \n",
       "\n",
       "  FAMILY_STATUS  REGION_POPULATION      AGE  DAYS_ON_LAST_JOB  OWN_CAR_AGE  \\\n",
       "0       Married           0.019101  15728.0            1719.0         11.0   \n",
       "1            No          -1.000000     -1.0              -1.0         -1.0   \n",
       "\n",
       "   FLAG_PHONE  FLAG_EMAIL  FAMILY_SIZE  EXTERNAL_SCORING_RATING_1  \\\n",
       "0         0.0         0.0          3.0                   0.700784   \n",
       "1        -1.0        -1.0         -1.0                  -1.000000   \n",
       "\n",
       "   EXTERNAL_SCORING_RATING_2  EXTERNAL_SCORING_RATING_3  \\\n",
       "0                   0.645914                    0.71657   \n",
       "1                  -1.000000                   -1.00000   \n",
       "\n",
       "   AMT_REQ_CREDIT_BUREAU_HOUR  AMT_REQ_CREDIT_BUREAU_DAY  \\\n",
       "0                         0.0                        0.0   \n",
       "1                        -1.0                       -1.0   \n",
       "\n",
       "   AMT_REQ_CREDIT_BUREAU_WEEK  AMT_REQ_CREDIT_BUREAU_MON  \\\n",
       "0                         1.0                        0.0   \n",
       "1                        -1.0                       -1.0   \n",
       "\n",
       "   AMT_REQ_CREDIT_BUREAU_QRT  AMT_REQ_CREDIT_BUREAU_YEAR  \\\n",
       "0                        0.0                         2.0   \n",
       "1                       -1.0                        -1.0   \n",
       "\n",
       "   EXTERNAL_SCORING_PROD  EXTERNAL_SCORING_WEIGHTED  \\\n",
       "0               0.324353                   4.197193   \n",
       "1              -1.000000                  -1.000000   \n",
       "\n",
       "   EXTERNAL_SCORING_RATING_min  EXTERNAL_SCORING_RATING_max  \\\n",
       "0                     0.645914                      0.71657   \n",
       "1                    -1.000000                     -1.00000   \n",
       "\n",
       "   EXTERNAL_SCORING_RATING_mean  EXTERNAL_SCORING_RATING_nanmedian  \\\n",
       "0                      0.687756                           0.700784   \n",
       "1                     -1.000000                          -1.000000   \n",
       "\n",
       "   EXTERNAL_SCORING_RATING_var  RATIO_CREDIT_TO_ANNUITY  \\\n",
       "0                     0.000917                34.025788   \n",
       "1                    -1.000000                -1.000000   \n",
       "\n",
       "   RATIO_ANNUITY_TO_SALARY  RATIO_CREDIT_TO_SALARY  EXPECTED_TOTAL_LOSS_1  \\\n",
       "0                 0.159543                5.428571          599170.547652   \n",
       "1                -1.000000               -1.000000              -1.000000   \n",
       "\n",
       "   EXPECTED_TOTAL_LOSS_2  EXPECTED_TOTAL_LOSS_3  EXPECTED_MONTHLY_LOSS_1  \\\n",
       "0          552256.266546          612667.559305             17609.307043   \n",
       "1              -1.000000              -1.000000                -1.000000   \n",
       "\n",
       "   EXPECTED_MONTHLY_LOSS_2  EXPECTED_MONTHLY_LOSS_3  \\\n",
       "0             16230.521013             18005.977111   \n",
       "1                -1.000000                -1.000000   \n",
       "\n",
       "                   EDUCATION_FAMILY_STATUS  \n",
       "0  Secondary / secondary special | Married  \n",
       "1                                  No | No  "
      ]
     },
     "execution_count": 59,
     "metadata": {},
     "output_type": "execute_result"
    }
   ],
   "source": [
    "data_cat.head(2)"
   ]
  },
  {
   "cell_type": "markdown",
   "metadata": {
    "id": "nuhtiGbn6ZFV",
    "papermill": {
     "duration": 0.134904,
     "end_time": "2020-10-04T17:46:44.318837",
     "exception": false,
     "start_time": "2020-10-04T17:46:44.183933",
     "status": "completed"
    },
    "tags": []
   },
   "source": [
    "### Разделяем train и test"
   ]
  },
  {
   "cell_type": "code",
   "execution_count": 60,
   "metadata": {
    "execution": {
     "iopub.execute_input": "2020-10-04T17:46:44.597576Z",
     "iopub.status.busy": "2020-10-04T17:46:44.596930Z",
     "iopub.status.idle": "2020-10-04T17:46:44.626841Z",
     "shell.execute_reply": "2020-10-04T17:46:44.627375Z"
    },
    "id": "TU7vJq0P6ZFW",
    "outputId": "73635688-8a55-4760-d7be-ee9bb2425f8e",
    "papermill": {
     "duration": 0.173875,
     "end_time": "2020-10-04T17:46:44.627539",
     "exception": false,
     "start_time": "2020-10-04T17:46:44.453664",
     "status": "completed"
    },
    "tags": []
   },
   "outputs": [
    {
     "data": {
      "text/plain": [
       "(110093, 43)"
      ]
     },
     "execution_count": 60,
     "metadata": {},
     "output_type": "execute_result"
    }
   ],
   "source": [
    "train_prep = data.loc[data['TARGET'] != -1]\n",
    "train_prep.shape"
   ]
  },
  {
   "cell_type": "code",
   "execution_count": 61,
   "metadata": {
    "execution": {
     "iopub.execute_input": "2020-10-04T17:46:44.899300Z",
     "iopub.status.busy": "2020-10-04T17:46:44.898702Z",
     "iopub.status.idle": "2020-10-04T17:46:44.924190Z",
     "shell.execute_reply": "2020-10-04T17:46:44.923727Z"
    },
    "id": "BJpXtcfnU8Lm",
    "outputId": "8399980d-9bec-4854-8e74-5d4567127ca9",
    "papermill": {
     "duration": 0.161492,
     "end_time": "2020-10-04T17:46:44.924303",
     "exception": false,
     "start_time": "2020-10-04T17:46:44.762811",
     "status": "completed"
    },
    "tags": []
   },
   "outputs": [
    {
     "data": {
      "text/plain": [
       "(110093, 43)"
      ]
     },
     "execution_count": 61,
     "metadata": {},
     "output_type": "execute_result"
    }
   ],
   "source": [
    "train_cat_prep = data_cat.loc[data['TARGET'] != -1]\n",
    "train_cat_prep.shape"
   ]
  },
  {
   "cell_type": "code",
   "execution_count": 62,
   "metadata": {
    "execution": {
     "iopub.execute_input": "2020-10-04T17:46:45.250917Z",
     "iopub.status.busy": "2020-10-04T17:46:45.245727Z",
     "iopub.status.idle": "2020-10-04T17:46:45.271950Z",
     "shell.execute_reply": "2020-10-04T17:46:45.272373Z"
    },
    "id": "FaDkEqU06ZFa",
    "outputId": "45b49c3b-5cd6-4dcc-a177-c015839d0c34",
    "papermill": {
     "duration": 0.213854,
     "end_time": "2020-10-04T17:46:45.272525",
     "exception": false,
     "start_time": "2020-10-04T17:46:45.058671",
     "status": "completed"
    },
    "tags": []
   },
   "outputs": [
    {
     "data": {
      "text/html": [
       "<div>\n",
       "<style scoped>\n",
       "    .dataframe tbody tr th:only-of-type {\n",
       "        vertical-align: middle;\n",
       "    }\n",
       "\n",
       "    .dataframe tbody tr th {\n",
       "        vertical-align: top;\n",
       "    }\n",
       "\n",
       "    .dataframe thead th {\n",
       "        text-align: right;\n",
       "    }\n",
       "</style>\n",
       "<table border=\"1\" class=\"dataframe\">\n",
       "  <thead>\n",
       "    <tr style=\"text-align: right;\">\n",
       "      <th></th>\n",
       "      <th>APPLICATION_NUMBER</th>\n",
       "      <th>TARGET</th>\n",
       "      <th>NAME_CONTRACT_TYPE</th>\n",
       "      <th>GENDER</th>\n",
       "      <th>CHILDRENS</th>\n",
       "      <th>TOTAL_SALARY</th>\n",
       "      <th>AMOUNT_CREDIT</th>\n",
       "      <th>AMOUNT_ANNUITY</th>\n",
       "      <th>EDUCATION_LEVEL</th>\n",
       "      <th>FAMILY_STATUS</th>\n",
       "      <th>REGION_POPULATION</th>\n",
       "      <th>AGE</th>\n",
       "      <th>DAYS_ON_LAST_JOB</th>\n",
       "      <th>OWN_CAR_AGE</th>\n",
       "      <th>FLAG_PHONE</th>\n",
       "      <th>FLAG_EMAIL</th>\n",
       "      <th>FAMILY_SIZE</th>\n",
       "      <th>EXTERNAL_SCORING_RATING_1</th>\n",
       "      <th>EXTERNAL_SCORING_RATING_2</th>\n",
       "      <th>EXTERNAL_SCORING_RATING_3</th>\n",
       "      <th>AMT_REQ_CREDIT_BUREAU_HOUR</th>\n",
       "      <th>AMT_REQ_CREDIT_BUREAU_DAY</th>\n",
       "      <th>AMT_REQ_CREDIT_BUREAU_WEEK</th>\n",
       "      <th>AMT_REQ_CREDIT_BUREAU_MON</th>\n",
       "      <th>AMT_REQ_CREDIT_BUREAU_QRT</th>\n",
       "      <th>AMT_REQ_CREDIT_BUREAU_YEAR</th>\n",
       "      <th>EXTERNAL_SCORING_PROD</th>\n",
       "      <th>EXTERNAL_SCORING_WEIGHTED</th>\n",
       "      <th>EXTERNAL_SCORING_RATING_min</th>\n",
       "      <th>EXTERNAL_SCORING_RATING_max</th>\n",
       "      <th>EXTERNAL_SCORING_RATING_mean</th>\n",
       "      <th>EXTERNAL_SCORING_RATING_nanmedian</th>\n",
       "      <th>EXTERNAL_SCORING_RATING_var</th>\n",
       "      <th>RATIO_CREDIT_TO_ANNUITY</th>\n",
       "      <th>RATIO_ANNUITY_TO_SALARY</th>\n",
       "      <th>RATIO_CREDIT_TO_SALARY</th>\n",
       "      <th>EXPECTED_TOTAL_LOSS_1</th>\n",
       "      <th>EXPECTED_TOTAL_LOSS_2</th>\n",
       "      <th>EXPECTED_TOTAL_LOSS_3</th>\n",
       "      <th>EXPECTED_MONTHLY_LOSS_1</th>\n",
       "      <th>EXPECTED_MONTHLY_LOSS_2</th>\n",
       "      <th>EXPECTED_MONTHLY_LOSS_3</th>\n",
       "      <th>EDUCATION_FAMILY_STATUS</th>\n",
       "    </tr>\n",
       "  </thead>\n",
       "  <tbody>\n",
       "    <tr>\n",
       "      <th>0</th>\n",
       "      <td>123687442</td>\n",
       "      <td>0.0</td>\n",
       "      <td>0</td>\n",
       "      <td>0</td>\n",
       "      <td>1.0</td>\n",
       "      <td>157500.0</td>\n",
       "      <td>855000.0</td>\n",
       "      <td>25128.0</td>\n",
       "      <td>0</td>\n",
       "      <td>0</td>\n",
       "      <td>0.019101</td>\n",
       "      <td>15728.0</td>\n",
       "      <td>1719.0</td>\n",
       "      <td>11.0</td>\n",
       "      <td>0.0</td>\n",
       "      <td>0.0</td>\n",
       "      <td>3.0</td>\n",
       "      <td>0.700784</td>\n",
       "      <td>0.645914</td>\n",
       "      <td>0.716570</td>\n",
       "      <td>0.0</td>\n",
       "      <td>0.0</td>\n",
       "      <td>1.0</td>\n",
       "      <td>0.0</td>\n",
       "      <td>0.0</td>\n",
       "      <td>2.0</td>\n",
       "      <td>0.324353</td>\n",
       "      <td>4.197193</td>\n",
       "      <td>0.645914</td>\n",
       "      <td>0.716570</td>\n",
       "      <td>0.687756</td>\n",
       "      <td>0.700784</td>\n",
       "      <td>0.000917</td>\n",
       "      <td>34.025788</td>\n",
       "      <td>0.159543</td>\n",
       "      <td>5.428571</td>\n",
       "      <td>599170.547652</td>\n",
       "      <td>552256.266546</td>\n",
       "      <td>612667.559305</td>\n",
       "      <td>17609.307043</td>\n",
       "      <td>16230.521013</td>\n",
       "      <td>18005.977111</td>\n",
       "      <td>0</td>\n",
       "    </tr>\n",
       "    <tr>\n",
       "      <th>1</th>\n",
       "      <td>123597908</td>\n",
       "      <td>1.0</td>\n",
       "      <td>0</td>\n",
       "      <td>1</td>\n",
       "      <td>-1.0</td>\n",
       "      <td>-1.0</td>\n",
       "      <td>-1.0</td>\n",
       "      <td>-1.0</td>\n",
       "      <td>1</td>\n",
       "      <td>1</td>\n",
       "      <td>-1.000000</td>\n",
       "      <td>-1.0</td>\n",
       "      <td>-1.0</td>\n",
       "      <td>-1.0</td>\n",
       "      <td>-1.0</td>\n",
       "      <td>-1.0</td>\n",
       "      <td>-1.0</td>\n",
       "      <td>-1.000000</td>\n",
       "      <td>-1.000000</td>\n",
       "      <td>-1.000000</td>\n",
       "      <td>-1.0</td>\n",
       "      <td>-1.0</td>\n",
       "      <td>-1.0</td>\n",
       "      <td>-1.0</td>\n",
       "      <td>-1.0</td>\n",
       "      <td>-1.0</td>\n",
       "      <td>-1.000000</td>\n",
       "      <td>-1.000000</td>\n",
       "      <td>-1.000000</td>\n",
       "      <td>-1.000000</td>\n",
       "      <td>-1.000000</td>\n",
       "      <td>-1.000000</td>\n",
       "      <td>-1.000000</td>\n",
       "      <td>-1.000000</td>\n",
       "      <td>-1.000000</td>\n",
       "      <td>-1.000000</td>\n",
       "      <td>-1.000000</td>\n",
       "      <td>-1.000000</td>\n",
       "      <td>-1.000000</td>\n",
       "      <td>-1.000000</td>\n",
       "      <td>-1.000000</td>\n",
       "      <td>-1.000000</td>\n",
       "      <td>1</td>\n",
       "    </tr>\n",
       "    <tr>\n",
       "      <th>2</th>\n",
       "      <td>123526683</td>\n",
       "      <td>0.0</td>\n",
       "      <td>0</td>\n",
       "      <td>2</td>\n",
       "      <td>0.0</td>\n",
       "      <td>135000.0</td>\n",
       "      <td>1006920.0</td>\n",
       "      <td>42660.0</td>\n",
       "      <td>2</td>\n",
       "      <td>0</td>\n",
       "      <td>0.026392</td>\n",
       "      <td>21557.0</td>\n",
       "      <td>3618.0</td>\n",
       "      <td>-1.0</td>\n",
       "      <td>1.0</td>\n",
       "      <td>0.0</td>\n",
       "      <td>2.0</td>\n",
       "      <td>-1.000000</td>\n",
       "      <td>0.682149</td>\n",
       "      <td>0.267869</td>\n",
       "      <td>0.0</td>\n",
       "      <td>0.0</td>\n",
       "      <td>0.0</td>\n",
       "      <td>7.0</td>\n",
       "      <td>0.0</td>\n",
       "      <td>4.0</td>\n",
       "      <td>-1.000000</td>\n",
       "      <td>-1.000000</td>\n",
       "      <td>0.267869</td>\n",
       "      <td>0.682149</td>\n",
       "      <td>0.475009</td>\n",
       "      <td>0.475009</td>\n",
       "      <td>0.042907</td>\n",
       "      <td>23.603376</td>\n",
       "      <td>0.316000</td>\n",
       "      <td>7.458667</td>\n",
       "      <td>-1.000000</td>\n",
       "      <td>686869.876357</td>\n",
       "      <td>269722.588880</td>\n",
       "      <td>-1.000000</td>\n",
       "      <td>29100.493510</td>\n",
       "      <td>11427.288803</td>\n",
       "      <td>2</td>\n",
       "    </tr>\n",
       "  </tbody>\n",
       "</table>\n",
       "</div>"
      ],
      "text/plain": [
       "   APPLICATION_NUMBER  TARGET  NAME_CONTRACT_TYPE  GENDER  CHILDRENS  \\\n",
       "0           123687442     0.0                   0       0        1.0   \n",
       "1           123597908     1.0                   0       1       -1.0   \n",
       "2           123526683     0.0                   0       2        0.0   \n",
       "\n",
       "   TOTAL_SALARY  AMOUNT_CREDIT  AMOUNT_ANNUITY  EDUCATION_LEVEL  \\\n",
       "0      157500.0       855000.0         25128.0                0   \n",
       "1          -1.0           -1.0            -1.0                1   \n",
       "2      135000.0      1006920.0         42660.0                2   \n",
       "\n",
       "   FAMILY_STATUS  REGION_POPULATION      AGE  DAYS_ON_LAST_JOB  OWN_CAR_AGE  \\\n",
       "0              0           0.019101  15728.0            1719.0         11.0   \n",
       "1              1          -1.000000     -1.0              -1.0         -1.0   \n",
       "2              0           0.026392  21557.0            3618.0         -1.0   \n",
       "\n",
       "   FLAG_PHONE  FLAG_EMAIL  FAMILY_SIZE  EXTERNAL_SCORING_RATING_1  \\\n",
       "0         0.0         0.0          3.0                   0.700784   \n",
       "1        -1.0        -1.0         -1.0                  -1.000000   \n",
       "2         1.0         0.0          2.0                  -1.000000   \n",
       "\n",
       "   EXTERNAL_SCORING_RATING_2  EXTERNAL_SCORING_RATING_3  \\\n",
       "0                   0.645914                   0.716570   \n",
       "1                  -1.000000                  -1.000000   \n",
       "2                   0.682149                   0.267869   \n",
       "\n",
       "   AMT_REQ_CREDIT_BUREAU_HOUR  AMT_REQ_CREDIT_BUREAU_DAY  \\\n",
       "0                         0.0                        0.0   \n",
       "1                        -1.0                       -1.0   \n",
       "2                         0.0                        0.0   \n",
       "\n",
       "   AMT_REQ_CREDIT_BUREAU_WEEK  AMT_REQ_CREDIT_BUREAU_MON  \\\n",
       "0                         1.0                        0.0   \n",
       "1                        -1.0                       -1.0   \n",
       "2                         0.0                        7.0   \n",
       "\n",
       "   AMT_REQ_CREDIT_BUREAU_QRT  AMT_REQ_CREDIT_BUREAU_YEAR  \\\n",
       "0                        0.0                         2.0   \n",
       "1                       -1.0                        -1.0   \n",
       "2                        0.0                         4.0   \n",
       "\n",
       "   EXTERNAL_SCORING_PROD  EXTERNAL_SCORING_WEIGHTED  \\\n",
       "0               0.324353                   4.197193   \n",
       "1              -1.000000                  -1.000000   \n",
       "2              -1.000000                  -1.000000   \n",
       "\n",
       "   EXTERNAL_SCORING_RATING_min  EXTERNAL_SCORING_RATING_max  \\\n",
       "0                     0.645914                     0.716570   \n",
       "1                    -1.000000                    -1.000000   \n",
       "2                     0.267869                     0.682149   \n",
       "\n",
       "   EXTERNAL_SCORING_RATING_mean  EXTERNAL_SCORING_RATING_nanmedian  \\\n",
       "0                      0.687756                           0.700784   \n",
       "1                     -1.000000                          -1.000000   \n",
       "2                      0.475009                           0.475009   \n",
       "\n",
       "   EXTERNAL_SCORING_RATING_var  RATIO_CREDIT_TO_ANNUITY  \\\n",
       "0                     0.000917                34.025788   \n",
       "1                    -1.000000                -1.000000   \n",
       "2                     0.042907                23.603376   \n",
       "\n",
       "   RATIO_ANNUITY_TO_SALARY  RATIO_CREDIT_TO_SALARY  EXPECTED_TOTAL_LOSS_1  \\\n",
       "0                 0.159543                5.428571          599170.547652   \n",
       "1                -1.000000               -1.000000              -1.000000   \n",
       "2                 0.316000                7.458667              -1.000000   \n",
       "\n",
       "   EXPECTED_TOTAL_LOSS_2  EXPECTED_TOTAL_LOSS_3  EXPECTED_MONTHLY_LOSS_1  \\\n",
       "0          552256.266546          612667.559305             17609.307043   \n",
       "1              -1.000000              -1.000000                -1.000000   \n",
       "2          686869.876357          269722.588880                -1.000000   \n",
       "\n",
       "   EXPECTED_MONTHLY_LOSS_2  EXPECTED_MONTHLY_LOSS_3  EDUCATION_FAMILY_STATUS  \n",
       "0             16230.521013             18005.977111                        0  \n",
       "1                -1.000000                -1.000000                        1  \n",
       "2             29100.493510             11427.288803                        2  "
      ]
     },
     "execution_count": 62,
     "metadata": {},
     "output_type": "execute_result"
    }
   ],
   "source": [
    "train_prep.head(3)"
   ]
  },
  {
   "cell_type": "code",
   "execution_count": 63,
   "metadata": {
    "execution": {
     "iopub.execute_input": "2020-10-04T17:46:45.544130Z",
     "iopub.status.busy": "2020-10-04T17:46:45.543590Z",
     "iopub.status.idle": "2020-10-04T17:46:45.577187Z",
     "shell.execute_reply": "2020-10-04T17:46:45.576738Z"
    },
    "id": "Z4e6tpzcVI3Z",
    "outputId": "b87c328d-7175-4de6-9bc5-624fd593259c",
    "papermill": {
     "duration": 0.170354,
     "end_time": "2020-10-04T17:46:45.577296",
     "exception": false,
     "start_time": "2020-10-04T17:46:45.406942",
     "status": "completed"
    },
    "tags": []
   },
   "outputs": [
    {
     "data": {
      "text/html": [
       "<div>\n",
       "<style scoped>\n",
       "    .dataframe tbody tr th:only-of-type {\n",
       "        vertical-align: middle;\n",
       "    }\n",
       "\n",
       "    .dataframe tbody tr th {\n",
       "        vertical-align: top;\n",
       "    }\n",
       "\n",
       "    .dataframe thead th {\n",
       "        text-align: right;\n",
       "    }\n",
       "</style>\n",
       "<table border=\"1\" class=\"dataframe\">\n",
       "  <thead>\n",
       "    <tr style=\"text-align: right;\">\n",
       "      <th></th>\n",
       "      <th>APPLICATION_NUMBER</th>\n",
       "      <th>TARGET</th>\n",
       "      <th>NAME_CONTRACT_TYPE</th>\n",
       "      <th>GENDER</th>\n",
       "      <th>CHILDRENS</th>\n",
       "      <th>TOTAL_SALARY</th>\n",
       "      <th>AMOUNT_CREDIT</th>\n",
       "      <th>AMOUNT_ANNUITY</th>\n",
       "      <th>EDUCATION_LEVEL</th>\n",
       "      <th>FAMILY_STATUS</th>\n",
       "      <th>REGION_POPULATION</th>\n",
       "      <th>AGE</th>\n",
       "      <th>DAYS_ON_LAST_JOB</th>\n",
       "      <th>OWN_CAR_AGE</th>\n",
       "      <th>FLAG_PHONE</th>\n",
       "      <th>FLAG_EMAIL</th>\n",
       "      <th>FAMILY_SIZE</th>\n",
       "      <th>EXTERNAL_SCORING_RATING_1</th>\n",
       "      <th>EXTERNAL_SCORING_RATING_2</th>\n",
       "      <th>EXTERNAL_SCORING_RATING_3</th>\n",
       "      <th>AMT_REQ_CREDIT_BUREAU_HOUR</th>\n",
       "      <th>AMT_REQ_CREDIT_BUREAU_DAY</th>\n",
       "      <th>AMT_REQ_CREDIT_BUREAU_WEEK</th>\n",
       "      <th>AMT_REQ_CREDIT_BUREAU_MON</th>\n",
       "      <th>AMT_REQ_CREDIT_BUREAU_QRT</th>\n",
       "      <th>AMT_REQ_CREDIT_BUREAU_YEAR</th>\n",
       "      <th>EXTERNAL_SCORING_PROD</th>\n",
       "      <th>EXTERNAL_SCORING_WEIGHTED</th>\n",
       "      <th>EXTERNAL_SCORING_RATING_min</th>\n",
       "      <th>EXTERNAL_SCORING_RATING_max</th>\n",
       "      <th>EXTERNAL_SCORING_RATING_mean</th>\n",
       "      <th>EXTERNAL_SCORING_RATING_nanmedian</th>\n",
       "      <th>EXTERNAL_SCORING_RATING_var</th>\n",
       "      <th>RATIO_CREDIT_TO_ANNUITY</th>\n",
       "      <th>RATIO_ANNUITY_TO_SALARY</th>\n",
       "      <th>RATIO_CREDIT_TO_SALARY</th>\n",
       "      <th>EXPECTED_TOTAL_LOSS_1</th>\n",
       "      <th>EXPECTED_TOTAL_LOSS_2</th>\n",
       "      <th>EXPECTED_TOTAL_LOSS_3</th>\n",
       "      <th>EXPECTED_MONTHLY_LOSS_1</th>\n",
       "      <th>EXPECTED_MONTHLY_LOSS_2</th>\n",
       "      <th>EXPECTED_MONTHLY_LOSS_3</th>\n",
       "      <th>EDUCATION_FAMILY_STATUS</th>\n",
       "    </tr>\n",
       "  </thead>\n",
       "  <tbody>\n",
       "    <tr>\n",
       "      <th>0</th>\n",
       "      <td>123687442</td>\n",
       "      <td>0.0</td>\n",
       "      <td>Cash</td>\n",
       "      <td>M</td>\n",
       "      <td>1.0</td>\n",
       "      <td>157500.0</td>\n",
       "      <td>855000.0</td>\n",
       "      <td>25128.0</td>\n",
       "      <td>Secondary / secondary special</td>\n",
       "      <td>Married</td>\n",
       "      <td>0.019101</td>\n",
       "      <td>15728.0</td>\n",
       "      <td>1719.0</td>\n",
       "      <td>11.0</td>\n",
       "      <td>0.0</td>\n",
       "      <td>0.0</td>\n",
       "      <td>3.0</td>\n",
       "      <td>0.700784</td>\n",
       "      <td>0.645914</td>\n",
       "      <td>0.716570</td>\n",
       "      <td>0.0</td>\n",
       "      <td>0.0</td>\n",
       "      <td>1.0</td>\n",
       "      <td>0.0</td>\n",
       "      <td>0.0</td>\n",
       "      <td>2.0</td>\n",
       "      <td>0.324353</td>\n",
       "      <td>4.197193</td>\n",
       "      <td>0.645914</td>\n",
       "      <td>0.716570</td>\n",
       "      <td>0.687756</td>\n",
       "      <td>0.700784</td>\n",
       "      <td>0.000917</td>\n",
       "      <td>34.025788</td>\n",
       "      <td>0.159543</td>\n",
       "      <td>5.428571</td>\n",
       "      <td>599170.547652</td>\n",
       "      <td>552256.266546</td>\n",
       "      <td>612667.559305</td>\n",
       "      <td>17609.307043</td>\n",
       "      <td>16230.521013</td>\n",
       "      <td>18005.977111</td>\n",
       "      <td>Secondary / secondary special | Married</td>\n",
       "    </tr>\n",
       "    <tr>\n",
       "      <th>1</th>\n",
       "      <td>123597908</td>\n",
       "      <td>1.0</td>\n",
       "      <td>Cash</td>\n",
       "      <td>No</td>\n",
       "      <td>-1.0</td>\n",
       "      <td>-1.0</td>\n",
       "      <td>-1.0</td>\n",
       "      <td>-1.0</td>\n",
       "      <td>No</td>\n",
       "      <td>No</td>\n",
       "      <td>-1.000000</td>\n",
       "      <td>-1.0</td>\n",
       "      <td>-1.0</td>\n",
       "      <td>-1.0</td>\n",
       "      <td>-1.0</td>\n",
       "      <td>-1.0</td>\n",
       "      <td>-1.0</td>\n",
       "      <td>-1.000000</td>\n",
       "      <td>-1.000000</td>\n",
       "      <td>-1.000000</td>\n",
       "      <td>-1.0</td>\n",
       "      <td>-1.0</td>\n",
       "      <td>-1.0</td>\n",
       "      <td>-1.0</td>\n",
       "      <td>-1.0</td>\n",
       "      <td>-1.0</td>\n",
       "      <td>-1.000000</td>\n",
       "      <td>-1.000000</td>\n",
       "      <td>-1.000000</td>\n",
       "      <td>-1.000000</td>\n",
       "      <td>-1.000000</td>\n",
       "      <td>-1.000000</td>\n",
       "      <td>-1.000000</td>\n",
       "      <td>-1.000000</td>\n",
       "      <td>-1.000000</td>\n",
       "      <td>-1.000000</td>\n",
       "      <td>-1.000000</td>\n",
       "      <td>-1.000000</td>\n",
       "      <td>-1.000000</td>\n",
       "      <td>-1.000000</td>\n",
       "      <td>-1.000000</td>\n",
       "      <td>-1.000000</td>\n",
       "      <td>No | No</td>\n",
       "    </tr>\n",
       "    <tr>\n",
       "      <th>2</th>\n",
       "      <td>123526683</td>\n",
       "      <td>0.0</td>\n",
       "      <td>Cash</td>\n",
       "      <td>F</td>\n",
       "      <td>0.0</td>\n",
       "      <td>135000.0</td>\n",
       "      <td>1006920.0</td>\n",
       "      <td>42660.0</td>\n",
       "      <td>Higher education</td>\n",
       "      <td>Married</td>\n",
       "      <td>0.026392</td>\n",
       "      <td>21557.0</td>\n",
       "      <td>3618.0</td>\n",
       "      <td>-1.0</td>\n",
       "      <td>1.0</td>\n",
       "      <td>0.0</td>\n",
       "      <td>2.0</td>\n",
       "      <td>-1.000000</td>\n",
       "      <td>0.682149</td>\n",
       "      <td>0.267869</td>\n",
       "      <td>0.0</td>\n",
       "      <td>0.0</td>\n",
       "      <td>0.0</td>\n",
       "      <td>7.0</td>\n",
       "      <td>0.0</td>\n",
       "      <td>4.0</td>\n",
       "      <td>-1.000000</td>\n",
       "      <td>-1.000000</td>\n",
       "      <td>0.267869</td>\n",
       "      <td>0.682149</td>\n",
       "      <td>0.475009</td>\n",
       "      <td>0.475009</td>\n",
       "      <td>0.042907</td>\n",
       "      <td>23.603376</td>\n",
       "      <td>0.316000</td>\n",
       "      <td>7.458667</td>\n",
       "      <td>-1.000000</td>\n",
       "      <td>686869.876357</td>\n",
       "      <td>269722.588880</td>\n",
       "      <td>-1.000000</td>\n",
       "      <td>29100.493510</td>\n",
       "      <td>11427.288803</td>\n",
       "      <td>Higher education | Married</td>\n",
       "    </tr>\n",
       "  </tbody>\n",
       "</table>\n",
       "</div>"
      ],
      "text/plain": [
       "   APPLICATION_NUMBER  TARGET NAME_CONTRACT_TYPE GENDER  CHILDRENS  \\\n",
       "0           123687442     0.0               Cash      M        1.0   \n",
       "1           123597908     1.0               Cash     No       -1.0   \n",
       "2           123526683     0.0               Cash      F        0.0   \n",
       "\n",
       "   TOTAL_SALARY  AMOUNT_CREDIT  AMOUNT_ANNUITY                EDUCATION_LEVEL  \\\n",
       "0      157500.0       855000.0         25128.0  Secondary / secondary special   \n",
       "1          -1.0           -1.0            -1.0                             No   \n",
       "2      135000.0      1006920.0         42660.0               Higher education   \n",
       "\n",
       "  FAMILY_STATUS  REGION_POPULATION      AGE  DAYS_ON_LAST_JOB  OWN_CAR_AGE  \\\n",
       "0       Married           0.019101  15728.0            1719.0         11.0   \n",
       "1            No          -1.000000     -1.0              -1.0         -1.0   \n",
       "2       Married           0.026392  21557.0            3618.0         -1.0   \n",
       "\n",
       "   FLAG_PHONE  FLAG_EMAIL  FAMILY_SIZE  EXTERNAL_SCORING_RATING_1  \\\n",
       "0         0.0         0.0          3.0                   0.700784   \n",
       "1        -1.0        -1.0         -1.0                  -1.000000   \n",
       "2         1.0         0.0          2.0                  -1.000000   \n",
       "\n",
       "   EXTERNAL_SCORING_RATING_2  EXTERNAL_SCORING_RATING_3  \\\n",
       "0                   0.645914                   0.716570   \n",
       "1                  -1.000000                  -1.000000   \n",
       "2                   0.682149                   0.267869   \n",
       "\n",
       "   AMT_REQ_CREDIT_BUREAU_HOUR  AMT_REQ_CREDIT_BUREAU_DAY  \\\n",
       "0                         0.0                        0.0   \n",
       "1                        -1.0                       -1.0   \n",
       "2                         0.0                        0.0   \n",
       "\n",
       "   AMT_REQ_CREDIT_BUREAU_WEEK  AMT_REQ_CREDIT_BUREAU_MON  \\\n",
       "0                         1.0                        0.0   \n",
       "1                        -1.0                       -1.0   \n",
       "2                         0.0                        7.0   \n",
       "\n",
       "   AMT_REQ_CREDIT_BUREAU_QRT  AMT_REQ_CREDIT_BUREAU_YEAR  \\\n",
       "0                        0.0                         2.0   \n",
       "1                       -1.0                        -1.0   \n",
       "2                        0.0                         4.0   \n",
       "\n",
       "   EXTERNAL_SCORING_PROD  EXTERNAL_SCORING_WEIGHTED  \\\n",
       "0               0.324353                   4.197193   \n",
       "1              -1.000000                  -1.000000   \n",
       "2              -1.000000                  -1.000000   \n",
       "\n",
       "   EXTERNAL_SCORING_RATING_min  EXTERNAL_SCORING_RATING_max  \\\n",
       "0                     0.645914                     0.716570   \n",
       "1                    -1.000000                    -1.000000   \n",
       "2                     0.267869                     0.682149   \n",
       "\n",
       "   EXTERNAL_SCORING_RATING_mean  EXTERNAL_SCORING_RATING_nanmedian  \\\n",
       "0                      0.687756                           0.700784   \n",
       "1                     -1.000000                          -1.000000   \n",
       "2                      0.475009                           0.475009   \n",
       "\n",
       "   EXTERNAL_SCORING_RATING_var  RATIO_CREDIT_TO_ANNUITY  \\\n",
       "0                     0.000917                34.025788   \n",
       "1                    -1.000000                -1.000000   \n",
       "2                     0.042907                23.603376   \n",
       "\n",
       "   RATIO_ANNUITY_TO_SALARY  RATIO_CREDIT_TO_SALARY  EXPECTED_TOTAL_LOSS_1  \\\n",
       "0                 0.159543                5.428571          599170.547652   \n",
       "1                -1.000000               -1.000000              -1.000000   \n",
       "2                 0.316000                7.458667              -1.000000   \n",
       "\n",
       "   EXPECTED_TOTAL_LOSS_2  EXPECTED_TOTAL_LOSS_3  EXPECTED_MONTHLY_LOSS_1  \\\n",
       "0          552256.266546          612667.559305             17609.307043   \n",
       "1              -1.000000              -1.000000                -1.000000   \n",
       "2          686869.876357          269722.588880                -1.000000   \n",
       "\n",
       "   EXPECTED_MONTHLY_LOSS_2  EXPECTED_MONTHLY_LOSS_3  \\\n",
       "0             16230.521013             18005.977111   \n",
       "1                -1.000000                -1.000000   \n",
       "2             29100.493510             11427.288803   \n",
       "\n",
       "                   EDUCATION_FAMILY_STATUS  \n",
       "0  Secondary / secondary special | Married  \n",
       "1                                  No | No  \n",
       "2               Higher education | Married  "
      ]
     },
     "execution_count": 63,
     "metadata": {},
     "output_type": "execute_result"
    }
   ],
   "source": [
    "train_cat_prep.head(3)"
   ]
  },
  {
   "cell_type": "code",
   "execution_count": 64,
   "metadata": {
    "execution": {
     "iopub.execute_input": "2020-10-04T17:46:45.852507Z",
     "iopub.status.busy": "2020-10-04T17:46:45.851583Z",
     "iopub.status.idle": "2020-10-04T17:46:45.859224Z",
     "shell.execute_reply": "2020-10-04T17:46:45.859740Z"
    },
    "id": "WhcGIZpO6ZFf",
    "outputId": "7c6e88a0-f24f-4382-baaa-83e8c90a646f",
    "papermill": {
     "duration": 0.147222,
     "end_time": "2020-10-04T17:46:45.859873",
     "exception": false,
     "start_time": "2020-10-04T17:46:45.712651",
     "status": "completed"
    },
    "tags": []
   },
   "outputs": [
    {
     "data": {
      "text/html": [
       "<div>\n",
       "<style scoped>\n",
       "    .dataframe tbody tr th:only-of-type {\n",
       "        vertical-align: middle;\n",
       "    }\n",
       "\n",
       "    .dataframe tbody tr th {\n",
       "        vertical-align: top;\n",
       "    }\n",
       "\n",
       "    .dataframe thead th {\n",
       "        text-align: right;\n",
       "    }\n",
       "</style>\n",
       "<table border=\"1\" class=\"dataframe\">\n",
       "  <thead>\n",
       "    <tr style=\"text-align: right;\">\n",
       "      <th></th>\n",
       "      <th>APPLICATION_NUMBER</th>\n",
       "      <th>TARGET</th>\n",
       "      <th>NAME_CONTRACT_TYPE</th>\n",
       "    </tr>\n",
       "  </thead>\n",
       "  <tbody>\n",
       "    <tr>\n",
       "      <th>0</th>\n",
       "      <td>123687442</td>\n",
       "      <td>0</td>\n",
       "      <td>Cash</td>\n",
       "    </tr>\n",
       "    <tr>\n",
       "      <th>1</th>\n",
       "      <td>123597908</td>\n",
       "      <td>1</td>\n",
       "      <td>Cash</td>\n",
       "    </tr>\n",
       "    <tr>\n",
       "      <th>2</th>\n",
       "      <td>123526683</td>\n",
       "      <td>0</td>\n",
       "      <td>Cash</td>\n",
       "    </tr>\n",
       "    <tr>\n",
       "      <th>3</th>\n",
       "      <td>123710391</td>\n",
       "      <td>1</td>\n",
       "      <td>Cash</td>\n",
       "    </tr>\n",
       "    <tr>\n",
       "      <th>4</th>\n",
       "      <td>123590329</td>\n",
       "      <td>1</td>\n",
       "      <td>Cash</td>\n",
       "    </tr>\n",
       "  </tbody>\n",
       "</table>\n",
       "</div>"
      ],
      "text/plain": [
       "   APPLICATION_NUMBER  TARGET NAME_CONTRACT_TYPE\n",
       "0           123687442       0               Cash\n",
       "1           123597908       1               Cash\n",
       "2           123526683       0               Cash\n",
       "3           123710391       1               Cash\n",
       "4           123590329       1               Cash"
      ]
     },
     "execution_count": 64,
     "metadata": {},
     "output_type": "execute_result"
    }
   ],
   "source": [
    "source['train'].head()"
   ]
  },
  {
   "cell_type": "code",
   "execution_count": 65,
   "metadata": {
    "execution": {
     "iopub.execute_input": "2020-10-04T17:46:46.140361Z",
     "iopub.status.busy": "2020-10-04T17:46:46.139788Z",
     "iopub.status.idle": "2020-10-04T17:46:46.172542Z",
     "shell.execute_reply": "2020-10-04T17:46:46.173006Z"
    },
    "id": "wWVSWL3W6ZFi",
    "outputId": "bedc660d-a2c0-4608-fd79-d4879e302f1c",
    "papermill": {
     "duration": 0.171535,
     "end_time": "2020-10-04T17:46:46.173140",
     "exception": false,
     "start_time": "2020-10-04T17:46:46.001605",
     "status": "completed"
    },
    "tags": []
   },
   "outputs": [
    {
     "data": {
      "text/html": [
       "<div>\n",
       "<style scoped>\n",
       "    .dataframe tbody tr th:only-of-type {\n",
       "        vertical-align: middle;\n",
       "    }\n",
       "\n",
       "    .dataframe tbody tr th {\n",
       "        vertical-align: top;\n",
       "    }\n",
       "\n",
       "    .dataframe thead th {\n",
       "        text-align: right;\n",
       "    }\n",
       "</style>\n",
       "<table border=\"1\" class=\"dataframe\">\n",
       "  <thead>\n",
       "    <tr style=\"text-align: right;\">\n",
       "      <th></th>\n",
       "      <th>APPLICATION_NUMBER</th>\n",
       "      <th>TARGET</th>\n",
       "      <th>NAME_CONTRACT_TYPE</th>\n",
       "      <th>GENDER</th>\n",
       "      <th>CHILDRENS</th>\n",
       "      <th>TOTAL_SALARY</th>\n",
       "      <th>AMOUNT_CREDIT</th>\n",
       "      <th>AMOUNT_ANNUITY</th>\n",
       "      <th>EDUCATION_LEVEL</th>\n",
       "      <th>FAMILY_STATUS</th>\n",
       "      <th>REGION_POPULATION</th>\n",
       "      <th>AGE</th>\n",
       "      <th>DAYS_ON_LAST_JOB</th>\n",
       "      <th>OWN_CAR_AGE</th>\n",
       "      <th>FLAG_PHONE</th>\n",
       "      <th>FLAG_EMAIL</th>\n",
       "      <th>FAMILY_SIZE</th>\n",
       "      <th>EXTERNAL_SCORING_RATING_1</th>\n",
       "      <th>EXTERNAL_SCORING_RATING_2</th>\n",
       "      <th>EXTERNAL_SCORING_RATING_3</th>\n",
       "      <th>AMT_REQ_CREDIT_BUREAU_HOUR</th>\n",
       "      <th>AMT_REQ_CREDIT_BUREAU_DAY</th>\n",
       "      <th>AMT_REQ_CREDIT_BUREAU_WEEK</th>\n",
       "      <th>AMT_REQ_CREDIT_BUREAU_MON</th>\n",
       "      <th>AMT_REQ_CREDIT_BUREAU_QRT</th>\n",
       "      <th>AMT_REQ_CREDIT_BUREAU_YEAR</th>\n",
       "      <th>EXTERNAL_SCORING_PROD</th>\n",
       "      <th>EXTERNAL_SCORING_WEIGHTED</th>\n",
       "      <th>EXTERNAL_SCORING_RATING_min</th>\n",
       "      <th>EXTERNAL_SCORING_RATING_max</th>\n",
       "      <th>EXTERNAL_SCORING_RATING_mean</th>\n",
       "      <th>EXTERNAL_SCORING_RATING_nanmedian</th>\n",
       "      <th>EXTERNAL_SCORING_RATING_var</th>\n",
       "      <th>RATIO_CREDIT_TO_ANNUITY</th>\n",
       "      <th>RATIO_ANNUITY_TO_SALARY</th>\n",
       "      <th>RATIO_CREDIT_TO_SALARY</th>\n",
       "      <th>EXPECTED_TOTAL_LOSS_1</th>\n",
       "      <th>EXPECTED_TOTAL_LOSS_2</th>\n",
       "      <th>EXPECTED_TOTAL_LOSS_3</th>\n",
       "      <th>EXPECTED_MONTHLY_LOSS_1</th>\n",
       "      <th>EXPECTED_MONTHLY_LOSS_2</th>\n",
       "      <th>EXPECTED_MONTHLY_LOSS_3</th>\n",
       "      <th>EDUCATION_FAMILY_STATUS</th>\n",
       "    </tr>\n",
       "  </thead>\n",
       "  <tbody>\n",
       "    <tr>\n",
       "      <th>110088</th>\n",
       "      <td>123458312</td>\n",
       "      <td>0.0</td>\n",
       "      <td>0</td>\n",
       "      <td>1</td>\n",
       "      <td>-1.0</td>\n",
       "      <td>-1.0</td>\n",
       "      <td>-1.0</td>\n",
       "      <td>-1.0</td>\n",
       "      <td>1</td>\n",
       "      <td>1</td>\n",
       "      <td>-1.000000</td>\n",
       "      <td>-1.0</td>\n",
       "      <td>-1.0</td>\n",
       "      <td>-1.0</td>\n",
       "      <td>-1.0</td>\n",
       "      <td>-1.0</td>\n",
       "      <td>-1.0</td>\n",
       "      <td>-1.000000</td>\n",
       "      <td>-1.000000</td>\n",
       "      <td>-1.000000</td>\n",
       "      <td>-1.0</td>\n",
       "      <td>-1.0</td>\n",
       "      <td>-1.0</td>\n",
       "      <td>-1.0</td>\n",
       "      <td>-1.0</td>\n",
       "      <td>-1.0</td>\n",
       "      <td>-1.000000</td>\n",
       "      <td>-1.000000</td>\n",
       "      <td>-1.000000</td>\n",
       "      <td>-1.000000</td>\n",
       "      <td>-1.000000</td>\n",
       "      <td>-1.000000</td>\n",
       "      <td>-1.000000</td>\n",
       "      <td>-1.000000</td>\n",
       "      <td>-1.000000</td>\n",
       "      <td>-1.000000</td>\n",
       "      <td>-1.000000</td>\n",
       "      <td>-1.000000</td>\n",
       "      <td>-1.000000</td>\n",
       "      <td>-1.000000</td>\n",
       "      <td>-1.000000</td>\n",
       "      <td>-1.000000</td>\n",
       "      <td>1</td>\n",
       "    </tr>\n",
       "    <tr>\n",
       "      <th>110089</th>\n",
       "      <td>123672463</td>\n",
       "      <td>0.0</td>\n",
       "      <td>0</td>\n",
       "      <td>2</td>\n",
       "      <td>0.0</td>\n",
       "      <td>175500.0</td>\n",
       "      <td>269550.0</td>\n",
       "      <td>12618.0</td>\n",
       "      <td>0</td>\n",
       "      <td>0</td>\n",
       "      <td>0.010032</td>\n",
       "      <td>10519.0</td>\n",
       "      <td>1354.0</td>\n",
       "      <td>-1.0</td>\n",
       "      <td>0.0</td>\n",
       "      <td>0.0</td>\n",
       "      <td>2.0</td>\n",
       "      <td>0.528096</td>\n",
       "      <td>0.471774</td>\n",
       "      <td>0.581484</td>\n",
       "      <td>0.0</td>\n",
       "      <td>0.0</td>\n",
       "      <td>0.0</td>\n",
       "      <td>0.0</td>\n",
       "      <td>0.0</td>\n",
       "      <td>2.0</td>\n",
       "      <td>0.144872</td>\n",
       "      <td>3.272417</td>\n",
       "      <td>0.471774</td>\n",
       "      <td>0.581484</td>\n",
       "      <td>0.527118</td>\n",
       "      <td>0.528096</td>\n",
       "      <td>0.002007</td>\n",
       "      <td>21.362340</td>\n",
       "      <td>0.071897</td>\n",
       "      <td>1.535897</td>\n",
       "      <td>142348.303154</td>\n",
       "      <td>127166.558499</td>\n",
       "      <td>156738.932900</td>\n",
       "      <td>6663.516562</td>\n",
       "      <td>5952.838565</td>\n",
       "      <td>7337.161400</td>\n",
       "      <td>0</td>\n",
       "    </tr>\n",
       "    <tr>\n",
       "      <th>110090</th>\n",
       "      <td>123723001</td>\n",
       "      <td>0.0</td>\n",
       "      <td>0</td>\n",
       "      <td>1</td>\n",
       "      <td>-1.0</td>\n",
       "      <td>-1.0</td>\n",
       "      <td>-1.0</td>\n",
       "      <td>-1.0</td>\n",
       "      <td>1</td>\n",
       "      <td>1</td>\n",
       "      <td>-1.000000</td>\n",
       "      <td>-1.0</td>\n",
       "      <td>-1.0</td>\n",
       "      <td>-1.0</td>\n",
       "      <td>-1.0</td>\n",
       "      <td>-1.0</td>\n",
       "      <td>-1.0</td>\n",
       "      <td>-1.000000</td>\n",
       "      <td>-1.000000</td>\n",
       "      <td>-1.000000</td>\n",
       "      <td>-1.0</td>\n",
       "      <td>-1.0</td>\n",
       "      <td>-1.0</td>\n",
       "      <td>-1.0</td>\n",
       "      <td>-1.0</td>\n",
       "      <td>-1.0</td>\n",
       "      <td>-1.000000</td>\n",
       "      <td>-1.000000</td>\n",
       "      <td>-1.000000</td>\n",
       "      <td>-1.000000</td>\n",
       "      <td>-1.000000</td>\n",
       "      <td>-1.000000</td>\n",
       "      <td>-1.000000</td>\n",
       "      <td>-1.000000</td>\n",
       "      <td>-1.000000</td>\n",
       "      <td>-1.000000</td>\n",
       "      <td>-1.000000</td>\n",
       "      <td>-1.000000</td>\n",
       "      <td>-1.000000</td>\n",
       "      <td>-1.000000</td>\n",
       "      <td>-1.000000</td>\n",
       "      <td>-1.000000</td>\n",
       "      <td>1</td>\n",
       "    </tr>\n",
       "    <tr>\n",
       "      <th>110091</th>\n",
       "      <td>123554358</td>\n",
       "      <td>0.0</td>\n",
       "      <td>0</td>\n",
       "      <td>2</td>\n",
       "      <td>2.0</td>\n",
       "      <td>270000.0</td>\n",
       "      <td>1024740.0</td>\n",
       "      <td>49428.0</td>\n",
       "      <td>4</td>\n",
       "      <td>0</td>\n",
       "      <td>0.019101</td>\n",
       "      <td>15008.0</td>\n",
       "      <td>361.0</td>\n",
       "      <td>22.0</td>\n",
       "      <td>0.0</td>\n",
       "      <td>0.0</td>\n",
       "      <td>4.0</td>\n",
       "      <td>0.653826</td>\n",
       "      <td>0.651227</td>\n",
       "      <td>0.558507</td>\n",
       "      <td>0.0</td>\n",
       "      <td>0.0</td>\n",
       "      <td>0.0</td>\n",
       "      <td>1.0</td>\n",
       "      <td>0.0</td>\n",
       "      <td>1.0</td>\n",
       "      <td>0.237806</td>\n",
       "      <td>3.634399</td>\n",
       "      <td>0.558507</td>\n",
       "      <td>0.653826</td>\n",
       "      <td>0.621186</td>\n",
       "      <td>0.651227</td>\n",
       "      <td>0.001966</td>\n",
       "      <td>20.731974</td>\n",
       "      <td>0.183067</td>\n",
       "      <td>3.795333</td>\n",
       "      <td>670001.539719</td>\n",
       "      <td>667338.205604</td>\n",
       "      <td>572324.081646</td>\n",
       "      <td>32317.305956</td>\n",
       "      <td>32188.840903</td>\n",
       "      <td>27605.865593</td>\n",
       "      <td>10</td>\n",
       "    </tr>\n",
       "    <tr>\n",
       "      <th>110092</th>\n",
       "      <td>123676265</td>\n",
       "      <td>0.0</td>\n",
       "      <td>1</td>\n",
       "      <td>2</td>\n",
       "      <td>1.0</td>\n",
       "      <td>112500.0</td>\n",
       "      <td>337500.0</td>\n",
       "      <td>16875.0</td>\n",
       "      <td>0</td>\n",
       "      <td>0</td>\n",
       "      <td>0.031329</td>\n",
       "      <td>15781.0</td>\n",
       "      <td>258.0</td>\n",
       "      <td>-1.0</td>\n",
       "      <td>0.0</td>\n",
       "      <td>0.0</td>\n",
       "      <td>3.0</td>\n",
       "      <td>-1.000000</td>\n",
       "      <td>0.552043</td>\n",
       "      <td>-1.000000</td>\n",
       "      <td>-1.0</td>\n",
       "      <td>-1.0</td>\n",
       "      <td>-1.0</td>\n",
       "      <td>-1.0</td>\n",
       "      <td>-1.0</td>\n",
       "      <td>-1.0</td>\n",
       "      <td>-1.000000</td>\n",
       "      <td>-1.000000</td>\n",
       "      <td>0.552043</td>\n",
       "      <td>0.552043</td>\n",
       "      <td>0.552043</td>\n",
       "      <td>0.552043</td>\n",
       "      <td>0.000000</td>\n",
       "      <td>20.000000</td>\n",
       "      <td>0.150000</td>\n",
       "      <td>3.000000</td>\n",
       "      <td>-1.000000</td>\n",
       "      <td>186314.656055</td>\n",
       "      <td>-1.000000</td>\n",
       "      <td>-1.000000</td>\n",
       "      <td>9315.732803</td>\n",
       "      <td>-1.000000</td>\n",
       "      <td>0</td>\n",
       "    </tr>\n",
       "  </tbody>\n",
       "</table>\n",
       "</div>"
      ],
      "text/plain": [
       "        APPLICATION_NUMBER  TARGET  NAME_CONTRACT_TYPE  GENDER  CHILDRENS  \\\n",
       "110088           123458312     0.0                   0       1       -1.0   \n",
       "110089           123672463     0.0                   0       2        0.0   \n",
       "110090           123723001     0.0                   0       1       -1.0   \n",
       "110091           123554358     0.0                   0       2        2.0   \n",
       "110092           123676265     0.0                   1       2        1.0   \n",
       "\n",
       "        TOTAL_SALARY  AMOUNT_CREDIT  AMOUNT_ANNUITY  EDUCATION_LEVEL  \\\n",
       "110088          -1.0           -1.0            -1.0                1   \n",
       "110089      175500.0       269550.0         12618.0                0   \n",
       "110090          -1.0           -1.0            -1.0                1   \n",
       "110091      270000.0      1024740.0         49428.0                4   \n",
       "110092      112500.0       337500.0         16875.0                0   \n",
       "\n",
       "        FAMILY_STATUS  REGION_POPULATION      AGE  DAYS_ON_LAST_JOB  \\\n",
       "110088              1          -1.000000     -1.0              -1.0   \n",
       "110089              0           0.010032  10519.0            1354.0   \n",
       "110090              1          -1.000000     -1.0              -1.0   \n",
       "110091              0           0.019101  15008.0             361.0   \n",
       "110092              0           0.031329  15781.0             258.0   \n",
       "\n",
       "        OWN_CAR_AGE  FLAG_PHONE  FLAG_EMAIL  FAMILY_SIZE  \\\n",
       "110088         -1.0        -1.0        -1.0         -1.0   \n",
       "110089         -1.0         0.0         0.0          2.0   \n",
       "110090         -1.0        -1.0        -1.0         -1.0   \n",
       "110091         22.0         0.0         0.0          4.0   \n",
       "110092         -1.0         0.0         0.0          3.0   \n",
       "\n",
       "        EXTERNAL_SCORING_RATING_1  EXTERNAL_SCORING_RATING_2  \\\n",
       "110088                  -1.000000                  -1.000000   \n",
       "110089                   0.528096                   0.471774   \n",
       "110090                  -1.000000                  -1.000000   \n",
       "110091                   0.653826                   0.651227   \n",
       "110092                  -1.000000                   0.552043   \n",
       "\n",
       "        EXTERNAL_SCORING_RATING_3  AMT_REQ_CREDIT_BUREAU_HOUR  \\\n",
       "110088                  -1.000000                        -1.0   \n",
       "110089                   0.581484                         0.0   \n",
       "110090                  -1.000000                        -1.0   \n",
       "110091                   0.558507                         0.0   \n",
       "110092                  -1.000000                        -1.0   \n",
       "\n",
       "        AMT_REQ_CREDIT_BUREAU_DAY  AMT_REQ_CREDIT_BUREAU_WEEK  \\\n",
       "110088                       -1.0                        -1.0   \n",
       "110089                        0.0                         0.0   \n",
       "110090                       -1.0                        -1.0   \n",
       "110091                        0.0                         0.0   \n",
       "110092                       -1.0                        -1.0   \n",
       "\n",
       "        AMT_REQ_CREDIT_BUREAU_MON  AMT_REQ_CREDIT_BUREAU_QRT  \\\n",
       "110088                       -1.0                       -1.0   \n",
       "110089                        0.0                        0.0   \n",
       "110090                       -1.0                       -1.0   \n",
       "110091                        1.0                        0.0   \n",
       "110092                       -1.0                       -1.0   \n",
       "\n",
       "        AMT_REQ_CREDIT_BUREAU_YEAR  EXTERNAL_SCORING_PROD  \\\n",
       "110088                        -1.0              -1.000000   \n",
       "110089                         2.0               0.144872   \n",
       "110090                        -1.0              -1.000000   \n",
       "110091                         1.0               0.237806   \n",
       "110092                        -1.0              -1.000000   \n",
       "\n",
       "        EXTERNAL_SCORING_WEIGHTED  EXTERNAL_SCORING_RATING_min  \\\n",
       "110088                  -1.000000                    -1.000000   \n",
       "110089                   3.272417                     0.471774   \n",
       "110090                  -1.000000                    -1.000000   \n",
       "110091                   3.634399                     0.558507   \n",
       "110092                  -1.000000                     0.552043   \n",
       "\n",
       "        EXTERNAL_SCORING_RATING_max  EXTERNAL_SCORING_RATING_mean  \\\n",
       "110088                    -1.000000                     -1.000000   \n",
       "110089                     0.581484                      0.527118   \n",
       "110090                    -1.000000                     -1.000000   \n",
       "110091                     0.653826                      0.621186   \n",
       "110092                     0.552043                      0.552043   \n",
       "\n",
       "        EXTERNAL_SCORING_RATING_nanmedian  EXTERNAL_SCORING_RATING_var  \\\n",
       "110088                          -1.000000                    -1.000000   \n",
       "110089                           0.528096                     0.002007   \n",
       "110090                          -1.000000                    -1.000000   \n",
       "110091                           0.651227                     0.001966   \n",
       "110092                           0.552043                     0.000000   \n",
       "\n",
       "        RATIO_CREDIT_TO_ANNUITY  RATIO_ANNUITY_TO_SALARY  \\\n",
       "110088                -1.000000                -1.000000   \n",
       "110089                21.362340                 0.071897   \n",
       "110090                -1.000000                -1.000000   \n",
       "110091                20.731974                 0.183067   \n",
       "110092                20.000000                 0.150000   \n",
       "\n",
       "        RATIO_CREDIT_TO_SALARY  EXPECTED_TOTAL_LOSS_1  EXPECTED_TOTAL_LOSS_2  \\\n",
       "110088               -1.000000              -1.000000              -1.000000   \n",
       "110089                1.535897          142348.303154          127166.558499   \n",
       "110090               -1.000000              -1.000000              -1.000000   \n",
       "110091                3.795333          670001.539719          667338.205604   \n",
       "110092                3.000000              -1.000000          186314.656055   \n",
       "\n",
       "        EXPECTED_TOTAL_LOSS_3  EXPECTED_MONTHLY_LOSS_1  \\\n",
       "110088              -1.000000                -1.000000   \n",
       "110089          156738.932900              6663.516562   \n",
       "110090              -1.000000                -1.000000   \n",
       "110091          572324.081646             32317.305956   \n",
       "110092              -1.000000                -1.000000   \n",
       "\n",
       "        EXPECTED_MONTHLY_LOSS_2  EXPECTED_MONTHLY_LOSS_3  \\\n",
       "110088                -1.000000                -1.000000   \n",
       "110089              5952.838565              7337.161400   \n",
       "110090                -1.000000                -1.000000   \n",
       "110091             32188.840903             27605.865593   \n",
       "110092              9315.732803                -1.000000   \n",
       "\n",
       "        EDUCATION_FAMILY_STATUS  \n",
       "110088                        1  \n",
       "110089                        0  \n",
       "110090                        1  \n",
       "110091                       10  \n",
       "110092                        0  "
      ]
     },
     "execution_count": 65,
     "metadata": {},
     "output_type": "execute_result"
    }
   ],
   "source": [
    "train_prep.tail()"
   ]
  },
  {
   "cell_type": "code",
   "execution_count": 66,
   "metadata": {
    "execution": {
     "iopub.execute_input": "2020-10-04T17:46:46.456050Z",
     "iopub.status.busy": "2020-10-04T17:46:46.455469Z",
     "iopub.status.idle": "2020-10-04T17:46:46.463919Z",
     "shell.execute_reply": "2020-10-04T17:46:46.464393Z"
    },
    "id": "D2vAugoX6ZFl",
    "outputId": "d8868906-b020-4d18-971c-33a84e5553e5",
    "papermill": {
     "duration": 0.152282,
     "end_time": "2020-10-04T17:46:46.464549",
     "exception": false,
     "start_time": "2020-10-04T17:46:46.312267",
     "status": "completed"
    },
    "tags": []
   },
   "outputs": [
    {
     "data": {
      "text/html": [
       "<div>\n",
       "<style scoped>\n",
       "    .dataframe tbody tr th:only-of-type {\n",
       "        vertical-align: middle;\n",
       "    }\n",
       "\n",
       "    .dataframe tbody tr th {\n",
       "        vertical-align: top;\n",
       "    }\n",
       "\n",
       "    .dataframe thead th {\n",
       "        text-align: right;\n",
       "    }\n",
       "</style>\n",
       "<table border=\"1\" class=\"dataframe\">\n",
       "  <thead>\n",
       "    <tr style=\"text-align: right;\">\n",
       "      <th></th>\n",
       "      <th>APPLICATION_NUMBER</th>\n",
       "      <th>TARGET</th>\n",
       "      <th>NAME_CONTRACT_TYPE</th>\n",
       "    </tr>\n",
       "  </thead>\n",
       "  <tbody>\n",
       "    <tr>\n",
       "      <th>110088</th>\n",
       "      <td>123458312</td>\n",
       "      <td>0</td>\n",
       "      <td>Cash</td>\n",
       "    </tr>\n",
       "    <tr>\n",
       "      <th>110089</th>\n",
       "      <td>123672463</td>\n",
       "      <td>0</td>\n",
       "      <td>Cash</td>\n",
       "    </tr>\n",
       "    <tr>\n",
       "      <th>110090</th>\n",
       "      <td>123723001</td>\n",
       "      <td>0</td>\n",
       "      <td>Cash</td>\n",
       "    </tr>\n",
       "    <tr>\n",
       "      <th>110091</th>\n",
       "      <td>123554358</td>\n",
       "      <td>0</td>\n",
       "      <td>Cash</td>\n",
       "    </tr>\n",
       "    <tr>\n",
       "      <th>110092</th>\n",
       "      <td>123676265</td>\n",
       "      <td>0</td>\n",
       "      <td>Credit Card</td>\n",
       "    </tr>\n",
       "  </tbody>\n",
       "</table>\n",
       "</div>"
      ],
      "text/plain": [
       "        APPLICATION_NUMBER  TARGET NAME_CONTRACT_TYPE\n",
       "110088           123458312       0               Cash\n",
       "110089           123672463       0               Cash\n",
       "110090           123723001       0               Cash\n",
       "110091           123554358       0               Cash\n",
       "110092           123676265       0        Credit Card"
      ]
     },
     "execution_count": 66,
     "metadata": {},
     "output_type": "execute_result"
    }
   ],
   "source": [
    "source['train'].tail()"
   ]
  },
  {
   "cell_type": "code",
   "execution_count": 67,
   "metadata": {
    "execution": {
     "iopub.execute_input": "2020-10-04T17:46:46.742893Z",
     "iopub.status.busy": "2020-10-04T17:46:46.742259Z",
     "iopub.status.idle": "2020-10-04T17:46:46.845961Z",
     "shell.execute_reply": "2020-10-04T17:46:46.846855Z"
    },
    "id": "_WW5_M566ZFo",
    "outputId": "3ec45284-64fb-4e62-94af-a270fcf3d156",
    "papermill": {
     "duration": 0.246417,
     "end_time": "2020-10-04T17:46:46.847046",
     "exception": false,
     "start_time": "2020-10-04T17:46:46.600629",
     "status": "completed"
    },
    "tags": []
   },
   "outputs": [
    {
     "data": {
      "text/plain": [
       "(165141, 42)"
      ]
     },
     "execution_count": 67,
     "metadata": {},
     "output_type": "execute_result"
    }
   ],
   "source": [
    "test_prep = data.loc[data['TARGET'] == -1].copy().reset_index(drop=True)\n",
    "test_prep.drop('TARGET', axis=1, inplace=True)\n",
    "test_prep.shape"
   ]
  },
  {
   "cell_type": "code",
   "execution_count": 68,
   "metadata": {
    "execution": {
     "iopub.execute_input": "2020-10-04T17:46:47.166924Z",
     "iopub.status.busy": "2020-10-04T17:46:47.166352Z",
     "iopub.status.idle": "2020-10-04T17:46:47.287706Z",
     "shell.execute_reply": "2020-10-04T17:46:47.287126Z"
    },
    "id": "AOncx8iuVTNz",
    "outputId": "20d71c43-6a56-4a41-d891-256989728e0d",
    "papermill": {
     "duration": 0.275315,
     "end_time": "2020-10-04T17:46:47.287874",
     "exception": false,
     "start_time": "2020-10-04T17:46:47.012559",
     "status": "completed"
    },
    "tags": []
   },
   "outputs": [
    {
     "data": {
      "text/plain": [
       "(165141, 42)"
      ]
     },
     "execution_count": 68,
     "metadata": {},
     "output_type": "execute_result"
    }
   ],
   "source": [
    "test_cat_prep = data_cat.loc[data_cat['TARGET'] == -1].copy().reset_index(drop=True)\n",
    "test_cat_prep.drop('TARGET', axis=1, inplace=True)\n",
    "test_cat_prep.shape"
   ]
  },
  {
   "cell_type": "code",
   "execution_count": 69,
   "metadata": {
    "execution": {
     "iopub.execute_input": "2020-10-04T17:46:47.598274Z",
     "iopub.status.busy": "2020-10-04T17:46:47.593114Z",
     "iopub.status.idle": "2020-10-04T17:46:47.620640Z",
     "shell.execute_reply": "2020-10-04T17:46:47.620135Z"
    },
    "id": "jkU8eS4-6ZFs",
    "outputId": "1c0b3285-510f-4af4-f809-2a550159cdb2",
    "papermill": {
     "duration": 0.1812,
     "end_time": "2020-10-04T17:46:47.620758",
     "exception": false,
     "start_time": "2020-10-04T17:46:47.439558",
     "status": "completed"
    },
    "tags": []
   },
   "outputs": [
    {
     "data": {
      "text/html": [
       "<div>\n",
       "<style scoped>\n",
       "    .dataframe tbody tr th:only-of-type {\n",
       "        vertical-align: middle;\n",
       "    }\n",
       "\n",
       "    .dataframe tbody tr th {\n",
       "        vertical-align: top;\n",
       "    }\n",
       "\n",
       "    .dataframe thead th {\n",
       "        text-align: right;\n",
       "    }\n",
       "</style>\n",
       "<table border=\"1\" class=\"dataframe\">\n",
       "  <thead>\n",
       "    <tr style=\"text-align: right;\">\n",
       "      <th></th>\n",
       "      <th>APPLICATION_NUMBER</th>\n",
       "      <th>NAME_CONTRACT_TYPE</th>\n",
       "      <th>GENDER</th>\n",
       "      <th>CHILDRENS</th>\n",
       "      <th>TOTAL_SALARY</th>\n",
       "      <th>AMOUNT_CREDIT</th>\n",
       "      <th>AMOUNT_ANNUITY</th>\n",
       "      <th>EDUCATION_LEVEL</th>\n",
       "      <th>FAMILY_STATUS</th>\n",
       "      <th>REGION_POPULATION</th>\n",
       "      <th>AGE</th>\n",
       "      <th>DAYS_ON_LAST_JOB</th>\n",
       "      <th>OWN_CAR_AGE</th>\n",
       "      <th>FLAG_PHONE</th>\n",
       "      <th>FLAG_EMAIL</th>\n",
       "      <th>FAMILY_SIZE</th>\n",
       "      <th>EXTERNAL_SCORING_RATING_1</th>\n",
       "      <th>EXTERNAL_SCORING_RATING_2</th>\n",
       "      <th>EXTERNAL_SCORING_RATING_3</th>\n",
       "      <th>AMT_REQ_CREDIT_BUREAU_HOUR</th>\n",
       "      <th>AMT_REQ_CREDIT_BUREAU_DAY</th>\n",
       "      <th>AMT_REQ_CREDIT_BUREAU_WEEK</th>\n",
       "      <th>AMT_REQ_CREDIT_BUREAU_MON</th>\n",
       "      <th>AMT_REQ_CREDIT_BUREAU_QRT</th>\n",
       "      <th>AMT_REQ_CREDIT_BUREAU_YEAR</th>\n",
       "      <th>EXTERNAL_SCORING_PROD</th>\n",
       "      <th>EXTERNAL_SCORING_WEIGHTED</th>\n",
       "      <th>EXTERNAL_SCORING_RATING_min</th>\n",
       "      <th>EXTERNAL_SCORING_RATING_max</th>\n",
       "      <th>EXTERNAL_SCORING_RATING_mean</th>\n",
       "      <th>EXTERNAL_SCORING_RATING_nanmedian</th>\n",
       "      <th>EXTERNAL_SCORING_RATING_var</th>\n",
       "      <th>RATIO_CREDIT_TO_ANNUITY</th>\n",
       "      <th>RATIO_ANNUITY_TO_SALARY</th>\n",
       "      <th>RATIO_CREDIT_TO_SALARY</th>\n",
       "      <th>EXPECTED_TOTAL_LOSS_1</th>\n",
       "      <th>EXPECTED_TOTAL_LOSS_2</th>\n",
       "      <th>EXPECTED_TOTAL_LOSS_3</th>\n",
       "      <th>EXPECTED_MONTHLY_LOSS_1</th>\n",
       "      <th>EXPECTED_MONTHLY_LOSS_2</th>\n",
       "      <th>EXPECTED_MONTHLY_LOSS_3</th>\n",
       "      <th>EDUCATION_FAMILY_STATUS</th>\n",
       "    </tr>\n",
       "  </thead>\n",
       "  <tbody>\n",
       "    <tr>\n",
       "      <th>0</th>\n",
       "      <td>123724268</td>\n",
       "      <td>0</td>\n",
       "      <td>0</td>\n",
       "      <td>0.0</td>\n",
       "      <td>117000.0</td>\n",
       "      <td>1125000.0</td>\n",
       "      <td>32895.0</td>\n",
       "      <td>0</td>\n",
       "      <td>0</td>\n",
       "      <td>0.028663</td>\n",
       "      <td>16007.0</td>\n",
       "      <td>2646.0</td>\n",
       "      <td>20.0</td>\n",
       "      <td>0.0</td>\n",
       "      <td>0.0</td>\n",
       "      <td>2.0</td>\n",
       "      <td>-1.0</td>\n",
       "      <td>0.628266</td>\n",
       "      <td>-1.000000</td>\n",
       "      <td>0.0</td>\n",
       "      <td>0.0</td>\n",
       "      <td>0.0</td>\n",
       "      <td>0.0</td>\n",
       "      <td>1.0</td>\n",
       "      <td>4.0</td>\n",
       "      <td>-1.0</td>\n",
       "      <td>-1.0</td>\n",
       "      <td>0.628266</td>\n",
       "      <td>0.628266</td>\n",
       "      <td>0.628266</td>\n",
       "      <td>0.628266</td>\n",
       "      <td>0.000000</td>\n",
       "      <td>34.199726</td>\n",
       "      <td>0.281154</td>\n",
       "      <td>9.615385</td>\n",
       "      <td>-1.0</td>\n",
       "      <td>706799.427892</td>\n",
       "      <td>-1.000000</td>\n",
       "      <td>-1.0</td>\n",
       "      <td>20666.815272</td>\n",
       "      <td>-1.000000</td>\n",
       "      <td>0</td>\n",
       "    </tr>\n",
       "    <tr>\n",
       "      <th>1</th>\n",
       "      <td>123456549</td>\n",
       "      <td>0</td>\n",
       "      <td>2</td>\n",
       "      <td>2.0</td>\n",
       "      <td>81000.0</td>\n",
       "      <td>312768.0</td>\n",
       "      <td>17095.5</td>\n",
       "      <td>0</td>\n",
       "      <td>0</td>\n",
       "      <td>0.019689</td>\n",
       "      <td>10315.0</td>\n",
       "      <td>459.0</td>\n",
       "      <td>-1.0</td>\n",
       "      <td>0.0</td>\n",
       "      <td>0.0</td>\n",
       "      <td>4.0</td>\n",
       "      <td>-1.0</td>\n",
       "      <td>0.578161</td>\n",
       "      <td>0.188490</td>\n",
       "      <td>0.0</td>\n",
       "      <td>0.0</td>\n",
       "      <td>1.0</td>\n",
       "      <td>0.0</td>\n",
       "      <td>0.0</td>\n",
       "      <td>2.0</td>\n",
       "      <td>-1.0</td>\n",
       "      <td>-1.0</td>\n",
       "      <td>0.188490</td>\n",
       "      <td>0.578161</td>\n",
       "      <td>0.383325</td>\n",
       "      <td>0.383325</td>\n",
       "      <td>0.037961</td>\n",
       "      <td>18.295341</td>\n",
       "      <td>0.211056</td>\n",
       "      <td>3.861333</td>\n",
       "      <td>-1.0</td>\n",
       "      <td>180830.265914</td>\n",
       "      <td>58953.494506</td>\n",
       "      <td>-1.0</td>\n",
       "      <td>9883.951718</td>\n",
       "      <td>3222.322825</td>\n",
       "      <td>0</td>\n",
       "    </tr>\n",
       "    <tr>\n",
       "      <th>2</th>\n",
       "      <td>123428178</td>\n",
       "      <td>1</td>\n",
       "      <td>2</td>\n",
       "      <td>2.0</td>\n",
       "      <td>157500.0</td>\n",
       "      <td>450000.0</td>\n",
       "      <td>22500.0</td>\n",
       "      <td>0</td>\n",
       "      <td>0</td>\n",
       "      <td>0.019101</td>\n",
       "      <td>13016.0</td>\n",
       "      <td>977.0</td>\n",
       "      <td>-1.0</td>\n",
       "      <td>1.0</td>\n",
       "      <td>0.0</td>\n",
       "      <td>4.0</td>\n",
       "      <td>-1.0</td>\n",
       "      <td>0.152544</td>\n",
       "      <td>0.382502</td>\n",
       "      <td>0.0</td>\n",
       "      <td>0.0</td>\n",
       "      <td>0.0</td>\n",
       "      <td>0.0</td>\n",
       "      <td>1.0</td>\n",
       "      <td>6.0</td>\n",
       "      <td>-1.0</td>\n",
       "      <td>-1.0</td>\n",
       "      <td>0.152544</td>\n",
       "      <td>0.382502</td>\n",
       "      <td>0.267523</td>\n",
       "      <td>0.267523</td>\n",
       "      <td>0.013220</td>\n",
       "      <td>20.000000</td>\n",
       "      <td>0.142857</td>\n",
       "      <td>2.857143</td>\n",
       "      <td>-1.0</td>\n",
       "      <td>68644.984320</td>\n",
       "      <td>172125.811865</td>\n",
       "      <td>-1.0</td>\n",
       "      <td>3432.249216</td>\n",
       "      <td>8606.290593</td>\n",
       "      <td>0</td>\n",
       "    </tr>\n",
       "  </tbody>\n",
       "</table>\n",
       "</div>"
      ],
      "text/plain": [
       "   APPLICATION_NUMBER  NAME_CONTRACT_TYPE  GENDER  CHILDRENS  TOTAL_SALARY  \\\n",
       "0           123724268                   0       0        0.0      117000.0   \n",
       "1           123456549                   0       2        2.0       81000.0   \n",
       "2           123428178                   1       2        2.0      157500.0   \n",
       "\n",
       "   AMOUNT_CREDIT  AMOUNT_ANNUITY  EDUCATION_LEVEL  FAMILY_STATUS  \\\n",
       "0      1125000.0         32895.0                0              0   \n",
       "1       312768.0         17095.5                0              0   \n",
       "2       450000.0         22500.0                0              0   \n",
       "\n",
       "   REGION_POPULATION      AGE  DAYS_ON_LAST_JOB  OWN_CAR_AGE  FLAG_PHONE  \\\n",
       "0           0.028663  16007.0            2646.0         20.0         0.0   \n",
       "1           0.019689  10315.0             459.0         -1.0         0.0   \n",
       "2           0.019101  13016.0             977.0         -1.0         1.0   \n",
       "\n",
       "   FLAG_EMAIL  FAMILY_SIZE  EXTERNAL_SCORING_RATING_1  \\\n",
       "0         0.0          2.0                       -1.0   \n",
       "1         0.0          4.0                       -1.0   \n",
       "2         0.0          4.0                       -1.0   \n",
       "\n",
       "   EXTERNAL_SCORING_RATING_2  EXTERNAL_SCORING_RATING_3  \\\n",
       "0                   0.628266                  -1.000000   \n",
       "1                   0.578161                   0.188490   \n",
       "2                   0.152544                   0.382502   \n",
       "\n",
       "   AMT_REQ_CREDIT_BUREAU_HOUR  AMT_REQ_CREDIT_BUREAU_DAY  \\\n",
       "0                         0.0                        0.0   \n",
       "1                         0.0                        0.0   \n",
       "2                         0.0                        0.0   \n",
       "\n",
       "   AMT_REQ_CREDIT_BUREAU_WEEK  AMT_REQ_CREDIT_BUREAU_MON  \\\n",
       "0                         0.0                        0.0   \n",
       "1                         1.0                        0.0   \n",
       "2                         0.0                        0.0   \n",
       "\n",
       "   AMT_REQ_CREDIT_BUREAU_QRT  AMT_REQ_CREDIT_BUREAU_YEAR  \\\n",
       "0                        1.0                         4.0   \n",
       "1                        0.0                         2.0   \n",
       "2                        1.0                         6.0   \n",
       "\n",
       "   EXTERNAL_SCORING_PROD  EXTERNAL_SCORING_WEIGHTED  \\\n",
       "0                   -1.0                       -1.0   \n",
       "1                   -1.0                       -1.0   \n",
       "2                   -1.0                       -1.0   \n",
       "\n",
       "   EXTERNAL_SCORING_RATING_min  EXTERNAL_SCORING_RATING_max  \\\n",
       "0                     0.628266                     0.628266   \n",
       "1                     0.188490                     0.578161   \n",
       "2                     0.152544                     0.382502   \n",
       "\n",
       "   EXTERNAL_SCORING_RATING_mean  EXTERNAL_SCORING_RATING_nanmedian  \\\n",
       "0                      0.628266                           0.628266   \n",
       "1                      0.383325                           0.383325   \n",
       "2                      0.267523                           0.267523   \n",
       "\n",
       "   EXTERNAL_SCORING_RATING_var  RATIO_CREDIT_TO_ANNUITY  \\\n",
       "0                     0.000000                34.199726   \n",
       "1                     0.037961                18.295341   \n",
       "2                     0.013220                20.000000   \n",
       "\n",
       "   RATIO_ANNUITY_TO_SALARY  RATIO_CREDIT_TO_SALARY  EXPECTED_TOTAL_LOSS_1  \\\n",
       "0                 0.281154                9.615385                   -1.0   \n",
       "1                 0.211056                3.861333                   -1.0   \n",
       "2                 0.142857                2.857143                   -1.0   \n",
       "\n",
       "   EXPECTED_TOTAL_LOSS_2  EXPECTED_TOTAL_LOSS_3  EXPECTED_MONTHLY_LOSS_1  \\\n",
       "0          706799.427892              -1.000000                     -1.0   \n",
       "1          180830.265914           58953.494506                     -1.0   \n",
       "2           68644.984320          172125.811865                     -1.0   \n",
       "\n",
       "   EXPECTED_MONTHLY_LOSS_2  EXPECTED_MONTHLY_LOSS_3  EDUCATION_FAMILY_STATUS  \n",
       "0             20666.815272                -1.000000                        0  \n",
       "1              9883.951718              3222.322825                        0  \n",
       "2              3432.249216              8606.290593                        0  "
      ]
     },
     "execution_count": 69,
     "metadata": {},
     "output_type": "execute_result"
    }
   ],
   "source": [
    "test_prep.head(3)"
   ]
  },
  {
   "cell_type": "code",
   "execution_count": 70,
   "metadata": {
    "execution": {
     "iopub.execute_input": "2020-10-04T17:46:47.946167Z",
     "iopub.status.busy": "2020-10-04T17:46:47.945568Z",
     "iopub.status.idle": "2020-10-04T17:46:47.950530Z",
     "shell.execute_reply": "2020-10-04T17:46:47.949982Z"
    },
    "id": "-slR6xRNVrqV",
    "outputId": "e8063e95-1dec-4303-d4a5-0fc029d5fd94",
    "papermill": {
     "duration": 0.185456,
     "end_time": "2020-10-04T17:46:47.950652",
     "exception": false,
     "start_time": "2020-10-04T17:46:47.765196",
     "status": "completed"
    },
    "tags": []
   },
   "outputs": [
    {
     "data": {
      "text/html": [
       "<div>\n",
       "<style scoped>\n",
       "    .dataframe tbody tr th:only-of-type {\n",
       "        vertical-align: middle;\n",
       "    }\n",
       "\n",
       "    .dataframe tbody tr th {\n",
       "        vertical-align: top;\n",
       "    }\n",
       "\n",
       "    .dataframe thead th {\n",
       "        text-align: right;\n",
       "    }\n",
       "</style>\n",
       "<table border=\"1\" class=\"dataframe\">\n",
       "  <thead>\n",
       "    <tr style=\"text-align: right;\">\n",
       "      <th></th>\n",
       "      <th>APPLICATION_NUMBER</th>\n",
       "      <th>NAME_CONTRACT_TYPE</th>\n",
       "      <th>GENDER</th>\n",
       "      <th>CHILDRENS</th>\n",
       "      <th>TOTAL_SALARY</th>\n",
       "      <th>AMOUNT_CREDIT</th>\n",
       "      <th>AMOUNT_ANNUITY</th>\n",
       "      <th>EDUCATION_LEVEL</th>\n",
       "      <th>FAMILY_STATUS</th>\n",
       "      <th>REGION_POPULATION</th>\n",
       "      <th>AGE</th>\n",
       "      <th>DAYS_ON_LAST_JOB</th>\n",
       "      <th>OWN_CAR_AGE</th>\n",
       "      <th>FLAG_PHONE</th>\n",
       "      <th>FLAG_EMAIL</th>\n",
       "      <th>FAMILY_SIZE</th>\n",
       "      <th>EXTERNAL_SCORING_RATING_1</th>\n",
       "      <th>EXTERNAL_SCORING_RATING_2</th>\n",
       "      <th>EXTERNAL_SCORING_RATING_3</th>\n",
       "      <th>AMT_REQ_CREDIT_BUREAU_HOUR</th>\n",
       "      <th>AMT_REQ_CREDIT_BUREAU_DAY</th>\n",
       "      <th>AMT_REQ_CREDIT_BUREAU_WEEK</th>\n",
       "      <th>AMT_REQ_CREDIT_BUREAU_MON</th>\n",
       "      <th>AMT_REQ_CREDIT_BUREAU_QRT</th>\n",
       "      <th>AMT_REQ_CREDIT_BUREAU_YEAR</th>\n",
       "      <th>EXTERNAL_SCORING_PROD</th>\n",
       "      <th>EXTERNAL_SCORING_WEIGHTED</th>\n",
       "      <th>EXTERNAL_SCORING_RATING_min</th>\n",
       "      <th>EXTERNAL_SCORING_RATING_max</th>\n",
       "      <th>EXTERNAL_SCORING_RATING_mean</th>\n",
       "      <th>EXTERNAL_SCORING_RATING_nanmedian</th>\n",
       "      <th>EXTERNAL_SCORING_RATING_var</th>\n",
       "      <th>RATIO_CREDIT_TO_ANNUITY</th>\n",
       "      <th>RATIO_ANNUITY_TO_SALARY</th>\n",
       "      <th>RATIO_CREDIT_TO_SALARY</th>\n",
       "      <th>EXPECTED_TOTAL_LOSS_1</th>\n",
       "      <th>EXPECTED_TOTAL_LOSS_2</th>\n",
       "      <th>EXPECTED_TOTAL_LOSS_3</th>\n",
       "      <th>EXPECTED_MONTHLY_LOSS_1</th>\n",
       "      <th>EXPECTED_MONTHLY_LOSS_2</th>\n",
       "      <th>EXPECTED_MONTHLY_LOSS_3</th>\n",
       "      <th>EDUCATION_FAMILY_STATUS</th>\n",
       "    </tr>\n",
       "  </thead>\n",
       "  <tbody>\n",
       "    <tr>\n",
       "      <th>0</th>\n",
       "      <td>123724268</td>\n",
       "      <td>Cash</td>\n",
       "      <td>M</td>\n",
       "      <td>0.0</td>\n",
       "      <td>117000.0</td>\n",
       "      <td>1125000.0</td>\n",
       "      <td>32895.0</td>\n",
       "      <td>Secondary / secondary special</td>\n",
       "      <td>Married</td>\n",
       "      <td>0.028663</td>\n",
       "      <td>16007.0</td>\n",
       "      <td>2646.0</td>\n",
       "      <td>20.0</td>\n",
       "      <td>0.0</td>\n",
       "      <td>0.0</td>\n",
       "      <td>2.0</td>\n",
       "      <td>-1.0</td>\n",
       "      <td>0.628266</td>\n",
       "      <td>-1.000000</td>\n",
       "      <td>0.0</td>\n",
       "      <td>0.0</td>\n",
       "      <td>0.0</td>\n",
       "      <td>0.0</td>\n",
       "      <td>1.0</td>\n",
       "      <td>4.0</td>\n",
       "      <td>-1.0</td>\n",
       "      <td>-1.0</td>\n",
       "      <td>0.628266</td>\n",
       "      <td>0.628266</td>\n",
       "      <td>0.628266</td>\n",
       "      <td>0.628266</td>\n",
       "      <td>0.000000</td>\n",
       "      <td>34.199726</td>\n",
       "      <td>0.281154</td>\n",
       "      <td>9.615385</td>\n",
       "      <td>-1.0</td>\n",
       "      <td>706799.427892</td>\n",
       "      <td>-1.000000</td>\n",
       "      <td>-1.0</td>\n",
       "      <td>20666.815272</td>\n",
       "      <td>-1.000000</td>\n",
       "      <td>Secondary / secondary special | Married</td>\n",
       "    </tr>\n",
       "    <tr>\n",
       "      <th>1</th>\n",
       "      <td>123456549</td>\n",
       "      <td>Cash</td>\n",
       "      <td>F</td>\n",
       "      <td>2.0</td>\n",
       "      <td>81000.0</td>\n",
       "      <td>312768.0</td>\n",
       "      <td>17095.5</td>\n",
       "      <td>Secondary / secondary special</td>\n",
       "      <td>Married</td>\n",
       "      <td>0.019689</td>\n",
       "      <td>10315.0</td>\n",
       "      <td>459.0</td>\n",
       "      <td>-1.0</td>\n",
       "      <td>0.0</td>\n",
       "      <td>0.0</td>\n",
       "      <td>4.0</td>\n",
       "      <td>-1.0</td>\n",
       "      <td>0.578161</td>\n",
       "      <td>0.188490</td>\n",
       "      <td>0.0</td>\n",
       "      <td>0.0</td>\n",
       "      <td>1.0</td>\n",
       "      <td>0.0</td>\n",
       "      <td>0.0</td>\n",
       "      <td>2.0</td>\n",
       "      <td>-1.0</td>\n",
       "      <td>-1.0</td>\n",
       "      <td>0.188490</td>\n",
       "      <td>0.578161</td>\n",
       "      <td>0.383325</td>\n",
       "      <td>0.383325</td>\n",
       "      <td>0.037961</td>\n",
       "      <td>18.295341</td>\n",
       "      <td>0.211056</td>\n",
       "      <td>3.861333</td>\n",
       "      <td>-1.0</td>\n",
       "      <td>180830.265914</td>\n",
       "      <td>58953.494506</td>\n",
       "      <td>-1.0</td>\n",
       "      <td>9883.951718</td>\n",
       "      <td>3222.322825</td>\n",
       "      <td>Secondary / secondary special | Married</td>\n",
       "    </tr>\n",
       "    <tr>\n",
       "      <th>2</th>\n",
       "      <td>123428178</td>\n",
       "      <td>Credit Card</td>\n",
       "      <td>F</td>\n",
       "      <td>2.0</td>\n",
       "      <td>157500.0</td>\n",
       "      <td>450000.0</td>\n",
       "      <td>22500.0</td>\n",
       "      <td>Secondary / secondary special</td>\n",
       "      <td>Married</td>\n",
       "      <td>0.019101</td>\n",
       "      <td>13016.0</td>\n",
       "      <td>977.0</td>\n",
       "      <td>-1.0</td>\n",
       "      <td>1.0</td>\n",
       "      <td>0.0</td>\n",
       "      <td>4.0</td>\n",
       "      <td>-1.0</td>\n",
       "      <td>0.152544</td>\n",
       "      <td>0.382502</td>\n",
       "      <td>0.0</td>\n",
       "      <td>0.0</td>\n",
       "      <td>0.0</td>\n",
       "      <td>0.0</td>\n",
       "      <td>1.0</td>\n",
       "      <td>6.0</td>\n",
       "      <td>-1.0</td>\n",
       "      <td>-1.0</td>\n",
       "      <td>0.152544</td>\n",
       "      <td>0.382502</td>\n",
       "      <td>0.267523</td>\n",
       "      <td>0.267523</td>\n",
       "      <td>0.013220</td>\n",
       "      <td>20.000000</td>\n",
       "      <td>0.142857</td>\n",
       "      <td>2.857143</td>\n",
       "      <td>-1.0</td>\n",
       "      <td>68644.984320</td>\n",
       "      <td>172125.811865</td>\n",
       "      <td>-1.0</td>\n",
       "      <td>3432.249216</td>\n",
       "      <td>8606.290593</td>\n",
       "      <td>Secondary / secondary special | Married</td>\n",
       "    </tr>\n",
       "  </tbody>\n",
       "</table>\n",
       "</div>"
      ],
      "text/plain": [
       "   APPLICATION_NUMBER NAME_CONTRACT_TYPE GENDER  CHILDRENS  TOTAL_SALARY  \\\n",
       "0           123724268               Cash      M        0.0      117000.0   \n",
       "1           123456549               Cash      F        2.0       81000.0   \n",
       "2           123428178        Credit Card      F        2.0      157500.0   \n",
       "\n",
       "   AMOUNT_CREDIT  AMOUNT_ANNUITY                EDUCATION_LEVEL FAMILY_STATUS  \\\n",
       "0      1125000.0         32895.0  Secondary / secondary special       Married   \n",
       "1       312768.0         17095.5  Secondary / secondary special       Married   \n",
       "2       450000.0         22500.0  Secondary / secondary special       Married   \n",
       "\n",
       "   REGION_POPULATION      AGE  DAYS_ON_LAST_JOB  OWN_CAR_AGE  FLAG_PHONE  \\\n",
       "0           0.028663  16007.0            2646.0         20.0         0.0   \n",
       "1           0.019689  10315.0             459.0         -1.0         0.0   \n",
       "2           0.019101  13016.0             977.0         -1.0         1.0   \n",
       "\n",
       "   FLAG_EMAIL  FAMILY_SIZE  EXTERNAL_SCORING_RATING_1  \\\n",
       "0         0.0          2.0                       -1.0   \n",
       "1         0.0          4.0                       -1.0   \n",
       "2         0.0          4.0                       -1.0   \n",
       "\n",
       "   EXTERNAL_SCORING_RATING_2  EXTERNAL_SCORING_RATING_3  \\\n",
       "0                   0.628266                  -1.000000   \n",
       "1                   0.578161                   0.188490   \n",
       "2                   0.152544                   0.382502   \n",
       "\n",
       "   AMT_REQ_CREDIT_BUREAU_HOUR  AMT_REQ_CREDIT_BUREAU_DAY  \\\n",
       "0                         0.0                        0.0   \n",
       "1                         0.0                        0.0   \n",
       "2                         0.0                        0.0   \n",
       "\n",
       "   AMT_REQ_CREDIT_BUREAU_WEEK  AMT_REQ_CREDIT_BUREAU_MON  \\\n",
       "0                         0.0                        0.0   \n",
       "1                         1.0                        0.0   \n",
       "2                         0.0                        0.0   \n",
       "\n",
       "   AMT_REQ_CREDIT_BUREAU_QRT  AMT_REQ_CREDIT_BUREAU_YEAR  \\\n",
       "0                        1.0                         4.0   \n",
       "1                        0.0                         2.0   \n",
       "2                        1.0                         6.0   \n",
       "\n",
       "   EXTERNAL_SCORING_PROD  EXTERNAL_SCORING_WEIGHTED  \\\n",
       "0                   -1.0                       -1.0   \n",
       "1                   -1.0                       -1.0   \n",
       "2                   -1.0                       -1.0   \n",
       "\n",
       "   EXTERNAL_SCORING_RATING_min  EXTERNAL_SCORING_RATING_max  \\\n",
       "0                     0.628266                     0.628266   \n",
       "1                     0.188490                     0.578161   \n",
       "2                     0.152544                     0.382502   \n",
       "\n",
       "   EXTERNAL_SCORING_RATING_mean  EXTERNAL_SCORING_RATING_nanmedian  \\\n",
       "0                      0.628266                           0.628266   \n",
       "1                      0.383325                           0.383325   \n",
       "2                      0.267523                           0.267523   \n",
       "\n",
       "   EXTERNAL_SCORING_RATING_var  RATIO_CREDIT_TO_ANNUITY  \\\n",
       "0                     0.000000                34.199726   \n",
       "1                     0.037961                18.295341   \n",
       "2                     0.013220                20.000000   \n",
       "\n",
       "   RATIO_ANNUITY_TO_SALARY  RATIO_CREDIT_TO_SALARY  EXPECTED_TOTAL_LOSS_1  \\\n",
       "0                 0.281154                9.615385                   -1.0   \n",
       "1                 0.211056                3.861333                   -1.0   \n",
       "2                 0.142857                2.857143                   -1.0   \n",
       "\n",
       "   EXPECTED_TOTAL_LOSS_2  EXPECTED_TOTAL_LOSS_3  EXPECTED_MONTHLY_LOSS_1  \\\n",
       "0          706799.427892              -1.000000                     -1.0   \n",
       "1          180830.265914           58953.494506                     -1.0   \n",
       "2           68644.984320          172125.811865                     -1.0   \n",
       "\n",
       "   EXPECTED_MONTHLY_LOSS_2  EXPECTED_MONTHLY_LOSS_3  \\\n",
       "0             20666.815272                -1.000000   \n",
       "1              9883.951718              3222.322825   \n",
       "2              3432.249216              8606.290593   \n",
       "\n",
       "                   EDUCATION_FAMILY_STATUS  \n",
       "0  Secondary / secondary special | Married  \n",
       "1  Secondary / secondary special | Married  \n",
       "2  Secondary / secondary special | Married  "
      ]
     },
     "execution_count": 70,
     "metadata": {},
     "output_type": "execute_result"
    }
   ],
   "source": [
    "test_cat_prep.head(3)"
   ]
  },
  {
   "cell_type": "code",
   "execution_count": 71,
   "metadata": {
    "execution": {
     "iopub.execute_input": "2020-10-04T17:46:48.244601Z",
     "iopub.status.busy": "2020-10-04T17:46:48.243497Z",
     "iopub.status.idle": "2020-10-04T17:46:48.248153Z",
     "shell.execute_reply": "2020-10-04T17:46:48.247684Z"
    },
    "id": "CQ7LiqCV6ZFv",
    "outputId": "921ee1be-acec-46ee-fe38-698e58b344df",
    "papermill": {
     "duration": 0.158321,
     "end_time": "2020-10-04T17:46:48.248257",
     "exception": false,
     "start_time": "2020-10-04T17:46:48.089936",
     "status": "completed"
    },
    "tags": []
   },
   "outputs": [
    {
     "data": {
      "text/html": [
       "<div>\n",
       "<style scoped>\n",
       "    .dataframe tbody tr th:only-of-type {\n",
       "        vertical-align: middle;\n",
       "    }\n",
       "\n",
       "    .dataframe tbody tr th {\n",
       "        vertical-align: top;\n",
       "    }\n",
       "\n",
       "    .dataframe thead th {\n",
       "        text-align: right;\n",
       "    }\n",
       "</style>\n",
       "<table border=\"1\" class=\"dataframe\">\n",
       "  <thead>\n",
       "    <tr style=\"text-align: right;\">\n",
       "      <th></th>\n",
       "      <th>APPLICATION_NUMBER</th>\n",
       "      <th>NAME_CONTRACT_TYPE</th>\n",
       "      <th>TARGET</th>\n",
       "    </tr>\n",
       "  </thead>\n",
       "  <tbody>\n",
       "    <tr>\n",
       "      <th>0</th>\n",
       "      <td>123724268</td>\n",
       "      <td>Cash</td>\n",
       "      <td>NaN</td>\n",
       "    </tr>\n",
       "    <tr>\n",
       "      <th>1</th>\n",
       "      <td>123456549</td>\n",
       "      <td>Cash</td>\n",
       "      <td>NaN</td>\n",
       "    </tr>\n",
       "    <tr>\n",
       "      <th>2</th>\n",
       "      <td>123428178</td>\n",
       "      <td>Credit Card</td>\n",
       "      <td>NaN</td>\n",
       "    </tr>\n",
       "    <tr>\n",
       "      <th>3</th>\n",
       "      <td>123619984</td>\n",
       "      <td>Cash</td>\n",
       "      <td>NaN</td>\n",
       "    </tr>\n",
       "    <tr>\n",
       "      <th>4</th>\n",
       "      <td>123671104</td>\n",
       "      <td>Cash</td>\n",
       "      <td>NaN</td>\n",
       "    </tr>\n",
       "  </tbody>\n",
       "</table>\n",
       "</div>"
      ],
      "text/plain": [
       "   APPLICATION_NUMBER NAME_CONTRACT_TYPE  TARGET\n",
       "0           123724268               Cash     NaN\n",
       "1           123456549               Cash     NaN\n",
       "2           123428178        Credit Card     NaN\n",
       "3           123619984               Cash     NaN\n",
       "4           123671104               Cash     NaN"
      ]
     },
     "execution_count": 71,
     "metadata": {},
     "output_type": "execute_result"
    }
   ],
   "source": [
    "source['test'].head()"
   ]
  },
  {
   "cell_type": "code",
   "execution_count": 72,
   "metadata": {
    "execution": {
     "iopub.execute_input": "2020-10-04T17:46:48.553213Z",
     "iopub.status.busy": "2020-10-04T17:46:48.552589Z",
     "iopub.status.idle": "2020-10-04T17:46:48.571554Z",
     "shell.execute_reply": "2020-10-04T17:46:48.571966Z"
    },
    "id": "cSljrJ1g6ZFx",
    "outputId": "ccf2544d-a50a-4734-96fc-befc32b32f67",
    "papermill": {
     "duration": 0.177121,
     "end_time": "2020-10-04T17:46:48.572176",
     "exception": false,
     "start_time": "2020-10-04T17:46:48.395055",
     "status": "completed"
    },
    "tags": []
   },
   "outputs": [
    {
     "data": {
      "text/html": [
       "<div>\n",
       "<style scoped>\n",
       "    .dataframe tbody tr th:only-of-type {\n",
       "        vertical-align: middle;\n",
       "    }\n",
       "\n",
       "    .dataframe tbody tr th {\n",
       "        vertical-align: top;\n",
       "    }\n",
       "\n",
       "    .dataframe thead th {\n",
       "        text-align: right;\n",
       "    }\n",
       "</style>\n",
       "<table border=\"1\" class=\"dataframe\">\n",
       "  <thead>\n",
       "    <tr style=\"text-align: right;\">\n",
       "      <th></th>\n",
       "      <th>APPLICATION_NUMBER</th>\n",
       "      <th>NAME_CONTRACT_TYPE</th>\n",
       "      <th>GENDER</th>\n",
       "      <th>CHILDRENS</th>\n",
       "      <th>TOTAL_SALARY</th>\n",
       "      <th>AMOUNT_CREDIT</th>\n",
       "      <th>AMOUNT_ANNUITY</th>\n",
       "      <th>EDUCATION_LEVEL</th>\n",
       "      <th>FAMILY_STATUS</th>\n",
       "      <th>REGION_POPULATION</th>\n",
       "      <th>AGE</th>\n",
       "      <th>DAYS_ON_LAST_JOB</th>\n",
       "      <th>OWN_CAR_AGE</th>\n",
       "      <th>FLAG_PHONE</th>\n",
       "      <th>FLAG_EMAIL</th>\n",
       "      <th>FAMILY_SIZE</th>\n",
       "      <th>EXTERNAL_SCORING_RATING_1</th>\n",
       "      <th>EXTERNAL_SCORING_RATING_2</th>\n",
       "      <th>EXTERNAL_SCORING_RATING_3</th>\n",
       "      <th>AMT_REQ_CREDIT_BUREAU_HOUR</th>\n",
       "      <th>AMT_REQ_CREDIT_BUREAU_DAY</th>\n",
       "      <th>AMT_REQ_CREDIT_BUREAU_WEEK</th>\n",
       "      <th>AMT_REQ_CREDIT_BUREAU_MON</th>\n",
       "      <th>AMT_REQ_CREDIT_BUREAU_QRT</th>\n",
       "      <th>AMT_REQ_CREDIT_BUREAU_YEAR</th>\n",
       "      <th>EXTERNAL_SCORING_PROD</th>\n",
       "      <th>EXTERNAL_SCORING_WEIGHTED</th>\n",
       "      <th>EXTERNAL_SCORING_RATING_min</th>\n",
       "      <th>EXTERNAL_SCORING_RATING_max</th>\n",
       "      <th>EXTERNAL_SCORING_RATING_mean</th>\n",
       "      <th>EXTERNAL_SCORING_RATING_nanmedian</th>\n",
       "      <th>EXTERNAL_SCORING_RATING_var</th>\n",
       "      <th>RATIO_CREDIT_TO_ANNUITY</th>\n",
       "      <th>RATIO_ANNUITY_TO_SALARY</th>\n",
       "      <th>RATIO_CREDIT_TO_SALARY</th>\n",
       "      <th>EXPECTED_TOTAL_LOSS_1</th>\n",
       "      <th>EXPECTED_TOTAL_LOSS_2</th>\n",
       "      <th>EXPECTED_TOTAL_LOSS_3</th>\n",
       "      <th>EXPECTED_MONTHLY_LOSS_1</th>\n",
       "      <th>EXPECTED_MONTHLY_LOSS_2</th>\n",
       "      <th>EXPECTED_MONTHLY_LOSS_3</th>\n",
       "      <th>EDUCATION_FAMILY_STATUS</th>\n",
       "    </tr>\n",
       "  </thead>\n",
       "  <tbody>\n",
       "    <tr>\n",
       "      <th>165136</th>\n",
       "      <td>123487967</td>\n",
       "      <td>0</td>\n",
       "      <td>1</td>\n",
       "      <td>-1.0</td>\n",
       "      <td>-1.0</td>\n",
       "      <td>-1.0</td>\n",
       "      <td>-1.0</td>\n",
       "      <td>1</td>\n",
       "      <td>1</td>\n",
       "      <td>-1.000000</td>\n",
       "      <td>-1.0</td>\n",
       "      <td>-1.0</td>\n",
       "      <td>-1.0</td>\n",
       "      <td>-1.0</td>\n",
       "      <td>-1.0</td>\n",
       "      <td>-1.0</td>\n",
       "      <td>-1.0</td>\n",
       "      <td>-1.000000</td>\n",
       "      <td>-1.000000</td>\n",
       "      <td>-1.0</td>\n",
       "      <td>-1.0</td>\n",
       "      <td>-1.0</td>\n",
       "      <td>-1.0</td>\n",
       "      <td>-1.0</td>\n",
       "      <td>-1.0</td>\n",
       "      <td>-1.0</td>\n",
       "      <td>-1.0</td>\n",
       "      <td>-1.000000</td>\n",
       "      <td>-1.000000</td>\n",
       "      <td>-1.000000</td>\n",
       "      <td>-1.000000</td>\n",
       "      <td>-1.000000</td>\n",
       "      <td>-1.000000</td>\n",
       "      <td>-1.000000</td>\n",
       "      <td>-1.000000</td>\n",
       "      <td>-1.0</td>\n",
       "      <td>-1.000000</td>\n",
       "      <td>-1.000000</td>\n",
       "      <td>-1.0</td>\n",
       "      <td>-1.000000</td>\n",
       "      <td>-1.000000</td>\n",
       "      <td>1</td>\n",
       "    </tr>\n",
       "    <tr>\n",
       "      <th>165137</th>\n",
       "      <td>123536402</td>\n",
       "      <td>0</td>\n",
       "      <td>0</td>\n",
       "      <td>0.0</td>\n",
       "      <td>135000.0</td>\n",
       "      <td>450000.0</td>\n",
       "      <td>16807.5</td>\n",
       "      <td>0</td>\n",
       "      <td>2</td>\n",
       "      <td>0.028663</td>\n",
       "      <td>18610.0</td>\n",
       "      <td>10398.0</td>\n",
       "      <td>23.0</td>\n",
       "      <td>0.0</td>\n",
       "      <td>0.0</td>\n",
       "      <td>1.0</td>\n",
       "      <td>-1.0</td>\n",
       "      <td>0.665971</td>\n",
       "      <td>0.535276</td>\n",
       "      <td>0.0</td>\n",
       "      <td>0.0</td>\n",
       "      <td>0.0</td>\n",
       "      <td>0.0</td>\n",
       "      <td>0.0</td>\n",
       "      <td>0.0</td>\n",
       "      <td>-1.0</td>\n",
       "      <td>-1.0</td>\n",
       "      <td>0.535276</td>\n",
       "      <td>0.665971</td>\n",
       "      <td>0.600624</td>\n",
       "      <td>0.600624</td>\n",
       "      <td>0.004270</td>\n",
       "      <td>26.773762</td>\n",
       "      <td>0.124500</td>\n",
       "      <td>3.333333</td>\n",
       "      <td>-1.0</td>\n",
       "      <td>299686.841680</td>\n",
       "      <td>240874.312713</td>\n",
       "      <td>-1.0</td>\n",
       "      <td>11193.303537</td>\n",
       "      <td>8996.655580</td>\n",
       "      <td>3</td>\n",
       "    </tr>\n",
       "    <tr>\n",
       "      <th>165138</th>\n",
       "      <td>123718238</td>\n",
       "      <td>0</td>\n",
       "      <td>1</td>\n",
       "      <td>-1.0</td>\n",
       "      <td>-1.0</td>\n",
       "      <td>-1.0</td>\n",
       "      <td>-1.0</td>\n",
       "      <td>1</td>\n",
       "      <td>1</td>\n",
       "      <td>-1.000000</td>\n",
       "      <td>-1.0</td>\n",
       "      <td>-1.0</td>\n",
       "      <td>-1.0</td>\n",
       "      <td>-1.0</td>\n",
       "      <td>-1.0</td>\n",
       "      <td>-1.0</td>\n",
       "      <td>-1.0</td>\n",
       "      <td>-1.000000</td>\n",
       "      <td>-1.000000</td>\n",
       "      <td>-1.0</td>\n",
       "      <td>-1.0</td>\n",
       "      <td>-1.0</td>\n",
       "      <td>-1.0</td>\n",
       "      <td>-1.0</td>\n",
       "      <td>-1.0</td>\n",
       "      <td>-1.0</td>\n",
       "      <td>-1.0</td>\n",
       "      <td>-1.000000</td>\n",
       "      <td>-1.000000</td>\n",
       "      <td>-1.000000</td>\n",
       "      <td>-1.000000</td>\n",
       "      <td>-1.000000</td>\n",
       "      <td>-1.000000</td>\n",
       "      <td>-1.000000</td>\n",
       "      <td>-1.000000</td>\n",
       "      <td>-1.0</td>\n",
       "      <td>-1.000000</td>\n",
       "      <td>-1.000000</td>\n",
       "      <td>-1.0</td>\n",
       "      <td>-1.000000</td>\n",
       "      <td>-1.000000</td>\n",
       "      <td>1</td>\n",
       "    </tr>\n",
       "    <tr>\n",
       "      <th>165139</th>\n",
       "      <td>123631557</td>\n",
       "      <td>0</td>\n",
       "      <td>2</td>\n",
       "      <td>0.0</td>\n",
       "      <td>112500.0</td>\n",
       "      <td>350181.0</td>\n",
       "      <td>36769.5</td>\n",
       "      <td>0</td>\n",
       "      <td>0</td>\n",
       "      <td>0.030755</td>\n",
       "      <td>20551.0</td>\n",
       "      <td>-1.0</td>\n",
       "      <td>-1.0</td>\n",
       "      <td>0.0</td>\n",
       "      <td>1.0</td>\n",
       "      <td>2.0</td>\n",
       "      <td>-1.0</td>\n",
       "      <td>0.761376</td>\n",
       "      <td>-1.000000</td>\n",
       "      <td>-1.0</td>\n",
       "      <td>-1.0</td>\n",
       "      <td>-1.0</td>\n",
       "      <td>-1.0</td>\n",
       "      <td>-1.0</td>\n",
       "      <td>-1.0</td>\n",
       "      <td>-1.0</td>\n",
       "      <td>-1.0</td>\n",
       "      <td>0.761376</td>\n",
       "      <td>0.761376</td>\n",
       "      <td>0.761376</td>\n",
       "      <td>0.761376</td>\n",
       "      <td>0.000000</td>\n",
       "      <td>9.523681</td>\n",
       "      <td>0.326840</td>\n",
       "      <td>3.112720</td>\n",
       "      <td>-1.0</td>\n",
       "      <td>266619.257702</td>\n",
       "      <td>-1.000000</td>\n",
       "      <td>-1.0</td>\n",
       "      <td>27995.398940</td>\n",
       "      <td>-1.000000</td>\n",
       "      <td>0</td>\n",
       "    </tr>\n",
       "    <tr>\n",
       "      <th>165140</th>\n",
       "      <td>123433260</td>\n",
       "      <td>0</td>\n",
       "      <td>0</td>\n",
       "      <td>0.0</td>\n",
       "      <td>247500.0</td>\n",
       "      <td>1241437.5</td>\n",
       "      <td>36427.5</td>\n",
       "      <td>0</td>\n",
       "      <td>0</td>\n",
       "      <td>0.018029</td>\n",
       "      <td>18853.0</td>\n",
       "      <td>6543.0</td>\n",
       "      <td>15.0</td>\n",
       "      <td>0.0</td>\n",
       "      <td>0.0</td>\n",
       "      <td>2.0</td>\n",
       "      <td>-1.0</td>\n",
       "      <td>0.493617</td>\n",
       "      <td>0.546023</td>\n",
       "      <td>0.0</td>\n",
       "      <td>0.0</td>\n",
       "      <td>0.0</td>\n",
       "      <td>1.0</td>\n",
       "      <td>0.0</td>\n",
       "      <td>2.0</td>\n",
       "      <td>-1.0</td>\n",
       "      <td>-1.0</td>\n",
       "      <td>0.493617</td>\n",
       "      <td>0.546023</td>\n",
       "      <td>0.519820</td>\n",
       "      <td>0.519820</td>\n",
       "      <td>0.000687</td>\n",
       "      <td>34.079679</td>\n",
       "      <td>0.147182</td>\n",
       "      <td>5.015909</td>\n",
       "      <td>-1.0</td>\n",
       "      <td>612794.525674</td>\n",
       "      <td>677853.672632</td>\n",
       "      <td>-1.0</td>\n",
       "      <td>17981.229489</td>\n",
       "      <td>19890.260009</td>\n",
       "      <td>0</td>\n",
       "    </tr>\n",
       "  </tbody>\n",
       "</table>\n",
       "</div>"
      ],
      "text/plain": [
       "        APPLICATION_NUMBER  NAME_CONTRACT_TYPE  GENDER  CHILDRENS  \\\n",
       "165136           123487967                   0       1       -1.0   \n",
       "165137           123536402                   0       0        0.0   \n",
       "165138           123718238                   0       1       -1.0   \n",
       "165139           123631557                   0       2        0.0   \n",
       "165140           123433260                   0       0        0.0   \n",
       "\n",
       "        TOTAL_SALARY  AMOUNT_CREDIT  AMOUNT_ANNUITY  EDUCATION_LEVEL  \\\n",
       "165136          -1.0           -1.0            -1.0                1   \n",
       "165137      135000.0       450000.0         16807.5                0   \n",
       "165138          -1.0           -1.0            -1.0                1   \n",
       "165139      112500.0       350181.0         36769.5                0   \n",
       "165140      247500.0      1241437.5         36427.5                0   \n",
       "\n",
       "        FAMILY_STATUS  REGION_POPULATION      AGE  DAYS_ON_LAST_JOB  \\\n",
       "165136              1          -1.000000     -1.0              -1.0   \n",
       "165137              2           0.028663  18610.0           10398.0   \n",
       "165138              1          -1.000000     -1.0              -1.0   \n",
       "165139              0           0.030755  20551.0              -1.0   \n",
       "165140              0           0.018029  18853.0            6543.0   \n",
       "\n",
       "        OWN_CAR_AGE  FLAG_PHONE  FLAG_EMAIL  FAMILY_SIZE  \\\n",
       "165136         -1.0        -1.0        -1.0         -1.0   \n",
       "165137         23.0         0.0         0.0          1.0   \n",
       "165138         -1.0        -1.0        -1.0         -1.0   \n",
       "165139         -1.0         0.0         1.0          2.0   \n",
       "165140         15.0         0.0         0.0          2.0   \n",
       "\n",
       "        EXTERNAL_SCORING_RATING_1  EXTERNAL_SCORING_RATING_2  \\\n",
       "165136                       -1.0                  -1.000000   \n",
       "165137                       -1.0                   0.665971   \n",
       "165138                       -1.0                  -1.000000   \n",
       "165139                       -1.0                   0.761376   \n",
       "165140                       -1.0                   0.493617   \n",
       "\n",
       "        EXTERNAL_SCORING_RATING_3  AMT_REQ_CREDIT_BUREAU_HOUR  \\\n",
       "165136                  -1.000000                        -1.0   \n",
       "165137                   0.535276                         0.0   \n",
       "165138                  -1.000000                        -1.0   \n",
       "165139                  -1.000000                        -1.0   \n",
       "165140                   0.546023                         0.0   \n",
       "\n",
       "        AMT_REQ_CREDIT_BUREAU_DAY  AMT_REQ_CREDIT_BUREAU_WEEK  \\\n",
       "165136                       -1.0                        -1.0   \n",
       "165137                        0.0                         0.0   \n",
       "165138                       -1.0                        -1.0   \n",
       "165139                       -1.0                        -1.0   \n",
       "165140                        0.0                         0.0   \n",
       "\n",
       "        AMT_REQ_CREDIT_BUREAU_MON  AMT_REQ_CREDIT_BUREAU_QRT  \\\n",
       "165136                       -1.0                       -1.0   \n",
       "165137                        0.0                        0.0   \n",
       "165138                       -1.0                       -1.0   \n",
       "165139                       -1.0                       -1.0   \n",
       "165140                        1.0                        0.0   \n",
       "\n",
       "        AMT_REQ_CREDIT_BUREAU_YEAR  EXTERNAL_SCORING_PROD  \\\n",
       "165136                        -1.0                   -1.0   \n",
       "165137                         0.0                   -1.0   \n",
       "165138                        -1.0                   -1.0   \n",
       "165139                        -1.0                   -1.0   \n",
       "165140                         2.0                   -1.0   \n",
       "\n",
       "        EXTERNAL_SCORING_WEIGHTED  EXTERNAL_SCORING_RATING_min  \\\n",
       "165136                       -1.0                    -1.000000   \n",
       "165137                       -1.0                     0.535276   \n",
       "165138                       -1.0                    -1.000000   \n",
       "165139                       -1.0                     0.761376   \n",
       "165140                       -1.0                     0.493617   \n",
       "\n",
       "        EXTERNAL_SCORING_RATING_max  EXTERNAL_SCORING_RATING_mean  \\\n",
       "165136                    -1.000000                     -1.000000   \n",
       "165137                     0.665971                      0.600624   \n",
       "165138                    -1.000000                     -1.000000   \n",
       "165139                     0.761376                      0.761376   \n",
       "165140                     0.546023                      0.519820   \n",
       "\n",
       "        EXTERNAL_SCORING_RATING_nanmedian  EXTERNAL_SCORING_RATING_var  \\\n",
       "165136                          -1.000000                    -1.000000   \n",
       "165137                           0.600624                     0.004270   \n",
       "165138                          -1.000000                    -1.000000   \n",
       "165139                           0.761376                     0.000000   \n",
       "165140                           0.519820                     0.000687   \n",
       "\n",
       "        RATIO_CREDIT_TO_ANNUITY  RATIO_ANNUITY_TO_SALARY  \\\n",
       "165136                -1.000000                -1.000000   \n",
       "165137                26.773762                 0.124500   \n",
       "165138                -1.000000                -1.000000   \n",
       "165139                 9.523681                 0.326840   \n",
       "165140                34.079679                 0.147182   \n",
       "\n",
       "        RATIO_CREDIT_TO_SALARY  EXPECTED_TOTAL_LOSS_1  EXPECTED_TOTAL_LOSS_2  \\\n",
       "165136               -1.000000                   -1.0              -1.000000   \n",
       "165137                3.333333                   -1.0          299686.841680   \n",
       "165138               -1.000000                   -1.0              -1.000000   \n",
       "165139                3.112720                   -1.0          266619.257702   \n",
       "165140                5.015909                   -1.0          612794.525674   \n",
       "\n",
       "        EXPECTED_TOTAL_LOSS_3  EXPECTED_MONTHLY_LOSS_1  \\\n",
       "165136              -1.000000                     -1.0   \n",
       "165137          240874.312713                     -1.0   \n",
       "165138              -1.000000                     -1.0   \n",
       "165139              -1.000000                     -1.0   \n",
       "165140          677853.672632                     -1.0   \n",
       "\n",
       "        EXPECTED_MONTHLY_LOSS_2  EXPECTED_MONTHLY_LOSS_3  \\\n",
       "165136                -1.000000                -1.000000   \n",
       "165137             11193.303537              8996.655580   \n",
       "165138                -1.000000                -1.000000   \n",
       "165139             27995.398940                -1.000000   \n",
       "165140             17981.229489             19890.260009   \n",
       "\n",
       "        EDUCATION_FAMILY_STATUS  \n",
       "165136                        1  \n",
       "165137                        3  \n",
       "165138                        1  \n",
       "165139                        0  \n",
       "165140                        0  "
      ]
     },
     "execution_count": 72,
     "metadata": {},
     "output_type": "execute_result"
    }
   ],
   "source": [
    "test_prep.tail()"
   ]
  },
  {
   "cell_type": "code",
   "execution_count": 73,
   "metadata": {
    "execution": {
     "iopub.execute_input": "2020-10-04T17:46:48.866212Z",
     "iopub.status.busy": "2020-10-04T17:46:48.865621Z",
     "iopub.status.idle": "2020-10-04T17:46:48.874786Z",
     "shell.execute_reply": "2020-10-04T17:46:48.875275Z"
    },
    "id": "svlsVXCz6ZF1",
    "outputId": "3997b4c3-204c-45c4-bf06-48e218dc3e07",
    "papermill": {
     "duration": 0.157109,
     "end_time": "2020-10-04T17:46:48.875469",
     "exception": false,
     "start_time": "2020-10-04T17:46:48.718360",
     "status": "completed"
    },
    "tags": []
   },
   "outputs": [
    {
     "data": {
      "text/html": [
       "<div>\n",
       "<style scoped>\n",
       "    .dataframe tbody tr th:only-of-type {\n",
       "        vertical-align: middle;\n",
       "    }\n",
       "\n",
       "    .dataframe tbody tr th {\n",
       "        vertical-align: top;\n",
       "    }\n",
       "\n",
       "    .dataframe thead th {\n",
       "        text-align: right;\n",
       "    }\n",
       "</style>\n",
       "<table border=\"1\" class=\"dataframe\">\n",
       "  <thead>\n",
       "    <tr style=\"text-align: right;\">\n",
       "      <th></th>\n",
       "      <th>APPLICATION_NUMBER</th>\n",
       "      <th>NAME_CONTRACT_TYPE</th>\n",
       "      <th>TARGET</th>\n",
       "    </tr>\n",
       "  </thead>\n",
       "  <tbody>\n",
       "    <tr>\n",
       "      <th>165136</th>\n",
       "      <td>123487967</td>\n",
       "      <td>Cash</td>\n",
       "      <td>NaN</td>\n",
       "    </tr>\n",
       "    <tr>\n",
       "      <th>165137</th>\n",
       "      <td>123536402</td>\n",
       "      <td>Cash</td>\n",
       "      <td>NaN</td>\n",
       "    </tr>\n",
       "    <tr>\n",
       "      <th>165138</th>\n",
       "      <td>123718238</td>\n",
       "      <td>Cash</td>\n",
       "      <td>NaN</td>\n",
       "    </tr>\n",
       "    <tr>\n",
       "      <th>165139</th>\n",
       "      <td>123631557</td>\n",
       "      <td>Cash</td>\n",
       "      <td>NaN</td>\n",
       "    </tr>\n",
       "    <tr>\n",
       "      <th>165140</th>\n",
       "      <td>123433260</td>\n",
       "      <td>Cash</td>\n",
       "      <td>NaN</td>\n",
       "    </tr>\n",
       "  </tbody>\n",
       "</table>\n",
       "</div>"
      ],
      "text/plain": [
       "        APPLICATION_NUMBER NAME_CONTRACT_TYPE  TARGET\n",
       "165136           123487967               Cash     NaN\n",
       "165137           123536402               Cash     NaN\n",
       "165138           123718238               Cash     NaN\n",
       "165139           123631557               Cash     NaN\n",
       "165140           123433260               Cash     NaN"
      ]
     },
     "execution_count": 73,
     "metadata": {},
     "output_type": "execute_result"
    }
   ],
   "source": [
    "source['test'].tail()"
   ]
  },
  {
   "cell_type": "markdown",
   "metadata": {
    "id": "v642RoBu6ZF3",
    "papermill": {
     "duration": 0.142296,
     "end_time": "2020-10-04T17:46:49.159089",
     "exception": false,
     "start_time": "2020-10-04T17:46:49.016793",
     "status": "completed"
    },
    "tags": []
   },
   "source": [
    "### Сохраняем train и test"
   ]
  },
  {
   "cell_type": "code",
   "execution_count": 74,
   "metadata": {
    "execution": {
     "iopub.execute_input": "2020-10-04T17:46:49.458523Z",
     "iopub.status.busy": "2020-10-04T17:46:49.457919Z",
     "iopub.status.idle": "2020-10-04T17:46:49.461127Z",
     "shell.execute_reply": "2020-10-04T17:46:49.460693Z"
    },
    "id": "j22faTc06ZF4",
    "papermill": {
     "duration": 0.150714,
     "end_time": "2020-10-04T17:46:49.461237",
     "exception": false,
     "start_time": "2020-10-04T17:46:49.310523",
     "status": "completed"
    },
    "tags": []
   },
   "outputs": [],
   "source": [
    "# train_prep.to_csv(data_dir + \"train_prep.csv\", sep=\";\", index=False)\n",
    "# test_prep.to_csv(data_dir + \"test_prep.csv\", sep=\";\", index=False)\n",
    "# train_cat_prep.to_csv(data_dir + \"train_cat_prep.csv\", sep=\";\", index=False)\n",
    "# test_cat_prep.to_csv(data_dir + \"test_cat_prep.csv\", sep=\";\", index=False)\n",
    "\n",
    "# from google.colab import files\n",
    "# files.upload()\n",
    "\n",
    "# train_prep = pd.read_csv(data_dir + \"train_prep.csv\")\n",
    "# test_prep = pd.read_csv(data_dir + \"test_prep.csv\")"
   ]
  },
  {
   "cell_type": "markdown",
   "metadata": {
    "id": "tZ5MdPvLDU3M",
    "papermill": {
     "duration": 0.140987,
     "end_time": "2020-10-04T17:46:49.741869",
     "exception": false,
     "start_time": "2020-10-04T17:46:49.600882",
     "status": "completed"
    },
    "tags": []
   },
   "source": [
    "## LightGBM"
   ]
  },
  {
   "cell_type": "code",
   "execution_count": 75,
   "metadata": {
    "execution": {
     "iopub.execute_input": "2020-10-04T17:46:50.042315Z",
     "iopub.status.busy": "2020-10-04T17:46:50.041630Z",
     "iopub.status.idle": "2020-10-04T17:46:50.045230Z",
     "shell.execute_reply": "2020-10-04T17:46:50.044784Z"
    },
    "id": "MfCb8FxW_PT3",
    "papermill": {
     "duration": 0.160076,
     "end_time": "2020-10-04T17:46:50.045337",
     "exception": false,
     "start_time": "2020-10-04T17:46:49.885261",
     "status": "completed"
    },
    "tags": []
   },
   "outputs": [],
   "source": [
    "def make_cross_validation_adapt_l(X: pd.DataFrame,\n",
    "                                  y: pd.Series,\n",
    "                                  params: Dict,\n",
    "                                  metric: callable,\n",
    "                                  cv_strategy):\n",
    "    \"\"\"\n",
    "    Кросс-валидация.\n",
    "\n",
    "    Parameters\n",
    "    ----------\n",
    "    X: pd.DataFrame\n",
    "        Матрица признаков.\n",
    "\n",
    "    y: pd.Series\n",
    "        Вектор целевой переменной.\n",
    "\n",
    "    params: Dict\n",
    "        Параметры модели.\n",
    "\n",
    "    metric: callable\n",
    "        Метрика для оценки качества решения.\n",
    "        Ожидается, что на вход будет передана функция,\n",
    "        которая принимает 2 аргумента: y_true, y_pred.\n",
    "\n",
    "    cv_strategy: cross-validation generator\n",
    "        Объект для описания стратегии кросс-валидации.\n",
    "        Ожидается, что на вход будет передан объект типа\n",
    "        KFold или StratifiedKFold.\n",
    "\n",
    "    Returns\n",
    "    -------\n",
    "    oof_score: float\n",
    "        Значение метрики качества на OOF-прогнозах.\n",
    "\n",
    "    fold_train_scores: List[float]\n",
    "        Значение метрики качества на каждом обучающем датасете кросс-валидации.\n",
    "\n",
    "    fold_valid_scores: List[float]\n",
    "        Значение метрики качества на каждом валидационном датасете кросс-валидации.\n",
    "\n",
    "    oof_predictions: np.array\n",
    "        Прогнозы на OOF.\n",
    "\n",
    "    \"\"\"\n",
    "    estimators, fold_train_scores, fold_valid_scores = [], [], []\n",
    "    oof_predictions = np.zeros(X.shape[0]) \n",
    "    \n",
    "    for fold_number, (train_idx, valid_idx) in enumerate(cv_strategy.split(X, y)):\n",
    "        x_train, x_valid = X.loc[train_idx], X.loc[valid_idx]\n",
    "        y_train, y_valid = y.loc[train_idx], y.loc[valid_idx]\n",
    "\n",
    "        model = lgbm.LGBMRegressor(num_leaves=params['num_leaves'],\n",
    "                                #    max_depth=params['max_depth'], \n",
    "                                   n_estimators=params[\"n_estimators\"],\n",
    "                                   learning_rate=params['learning_rate'],\n",
    "                                   subsample=0.5,\n",
    "                                   seed=42)\n",
    "\n",
    "        model.fit(x_train, \n",
    "                  y_train, \n",
    "                  early_stopping_rounds=50, \n",
    "                  eval_set = [(x_valid, y_valid)], \n",
    "                  eval_metric = 'auc',\n",
    "                  verbose=False)\n",
    "\n",
    "        y_train_pred = model.predict(x_train)\n",
    "        y_valid_pred = model.predict(x_valid)\n",
    "\n",
    "        fold_train_scores.append(metric(y_train, y_train_pred))\n",
    "        fold_valid_scores.append(metric(y_valid, y_valid_pred))\n",
    "        oof_predictions[valid_idx] = y_valid_pred\n",
    "\n",
    "        msg = (\n",
    "            f\"Fold: {fold_number+1}, train-observations = {len(train_idx)}, \"\n",
    "            f\"valid-observations = {len(valid_idx)}\\n\"\n",
    "            f\"train-score = {round(fold_train_scores[fold_number], 4)}, \"\n",
    "            f\"valid-score = {round(fold_valid_scores[fold_number], 4)}\" \n",
    "        )\n",
    "        print(msg)\n",
    "        print(\"=\"*69)\n",
    "        estimators.append(model)\n",
    "\n",
    "    oof_score = metric(y, oof_predictions)\n",
    "    print(f\"CV-results train: {round(np.mean(fold_train_scores), 4)} +/- {round(np.std(fold_train_scores), 3)}\")\n",
    "    print(f\"CV-results valid: {round(np.mean(fold_valid_scores), 4)} +/- {round(np.std(fold_valid_scores), 3)}\")\n",
    "    print(f\"OOF-score = {round(oof_score, 4)}\")\n",
    "\n",
    "    return estimators, oof_score, fold_train_scores, fold_valid_scores, oof_predictions"
   ]
  },
  {
   "cell_type": "code",
   "execution_count": 76,
   "metadata": {
    "execution": {
     "iopub.execute_input": "2020-10-04T17:46:50.336887Z",
     "iopub.status.busy": "2020-10-04T17:46:50.336222Z",
     "iopub.status.idle": "2020-10-04T17:46:50.339604Z",
     "shell.execute_reply": "2020-10-04T17:46:50.338973Z"
    },
    "id": "sJdrlkXc-xL0",
    "papermill": {
     "duration": 0.152032,
     "end_time": "2020-10-04T17:46:50.339716",
     "exception": false,
     "start_time": "2020-10-04T17:46:50.187684",
     "status": "completed"
    },
    "tags": []
   },
   "outputs": [],
   "source": [
    "parameters_l = {\n",
    "    'num_leaves': 31,\n",
    "    'n_estimators': 100,\n",
    "    'learning_rate': 0.1\n",
    "}"
   ]
  },
  {
   "cell_type": "code",
   "execution_count": 77,
   "metadata": {
    "execution": {
     "iopub.execute_input": "2020-10-04T17:46:50.629008Z",
     "iopub.status.busy": "2020-10-04T17:46:50.628197Z",
     "iopub.status.idle": "2020-10-04T17:46:50.637119Z",
     "shell.execute_reply": "2020-10-04T17:46:50.636490Z"
    },
    "papermill": {
     "duration": 0.154701,
     "end_time": "2020-10-04T17:46:50.637227",
     "exception": false,
     "start_time": "2020-10-04T17:46:50.482526",
     "status": "completed"
    },
    "tags": []
   },
   "outputs": [
    {
     "name": "stderr",
     "output_type": "stream",
     "text": [
      "/opt/conda/lib/python3.7/site-packages/sklearn/model_selection/_split.py:297: FutureWarning: Setting a random_state has no effect since shuffle is False. This will raise an error in 0.24. You should leave random_state to its default (None), or set shuffle=True.\n",
      "  FutureWarning\n"
     ]
    }
   ],
   "source": [
    "cv_strategy = KFold(n_splits=5, random_state=42)"
   ]
  },
  {
   "cell_type": "code",
   "execution_count": 78,
   "metadata": {
    "execution": {
     "iopub.execute_input": "2020-10-04T17:46:50.947933Z",
     "iopub.status.busy": "2020-10-04T17:46:50.947283Z",
     "iopub.status.idle": "2020-10-04T17:46:59.321667Z",
     "shell.execute_reply": "2020-10-04T17:46:59.322309Z"
    },
    "id": "i7gDLAgiCXSo",
    "outputId": "6534e595-801d-4a20-c7a1-6bf9ec8c0085",
    "papermill": {
     "duration": 8.541269,
     "end_time": "2020-10-04T17:46:59.322523",
     "exception": false,
     "start_time": "2020-10-04T17:46:50.781254",
     "status": "completed"
    },
    "tags": []
   },
   "outputs": [
    {
     "name": "stdout",
     "output_type": "stream",
     "text": [
      "Fold: 1, train-observations = 88074, valid-observations = 22019\n",
      "train-score = 0.7924, valid-score = 0.7216\n",
      "=====================================================================\n",
      "Fold: 2, train-observations = 88074, valid-observations = 22019\n",
      "train-score = 0.7767, valid-score = 0.7194\n",
      "=====================================================================\n",
      "Fold: 3, train-observations = 88074, valid-observations = 22019\n",
      "train-score = 0.7688, valid-score = 0.7314\n",
      "=====================================================================\n",
      "Fold: 4, train-observations = 88075, valid-observations = 22018\n",
      "train-score = 0.7837, valid-score = 0.7234\n",
      "=====================================================================\n",
      "Fold: 5, train-observations = 88075, valid-observations = 22018\n",
      "train-score = 0.7558, valid-score = 0.7287\n",
      "=====================================================================\n",
      "CV-results train: 0.7755 +/- 0.013\n",
      "CV-results valid: 0.7249 +/- 0.004\n",
      "OOF-score = 0.7239\n"
     ]
    }
   ],
   "source": [
    "estimators_lgbm_f, oof_score_lgbm_f, fold_train_scores_lgbm_f, fold_valid_scores_lgbm_f, oof_predictions_lgbm_f = make_cross_validation_adapt_l(\n",
    "    train_prep.drop([\"APPLICATION_NUMBER\", \"TARGET\"], axis=1),\n",
    "    train_prep[\"TARGET\"],\n",
    "    params=parameters_l,\n",
    "    metric=roc_auc_score, \n",
    "    cv_strategy=cv_strategy\n",
    ")"
   ]
  },
  {
   "cell_type": "code",
   "execution_count": 79,
   "metadata": {
    "execution": {
     "iopub.execute_input": "2020-10-04T17:46:59.650499Z",
     "iopub.status.busy": "2020-10-04T17:46:59.649863Z",
     "iopub.status.idle": "2020-10-04T17:46:59.652882Z",
     "shell.execute_reply": "2020-10-04T17:46:59.652442Z"
    },
    "id": "IbcKjeuPHCZM",
    "papermill": {
     "duration": 0.151614,
     "end_time": "2020-10-04T17:46:59.653005",
     "exception": false,
     "start_time": "2020-10-04T17:46:59.501391",
     "status": "completed"
    },
    "tags": []
   },
   "outputs": [],
   "source": [
    "lgbm_params =  {\n",
    "    'boosting_type': 'gbdt',\n",
    "    'objective': 'binary',\n",
    "    'metric': 'auc',\n",
    "    \"learning_rate\": 0.1,\n",
    "    \"num_leaves\": 31,\n",
    "    \"random_state\": 42 \n",
    "    }"
   ]
  },
  {
   "cell_type": "code",
   "execution_count": 80,
   "metadata": {
    "execution": {
     "iopub.execute_input": "2020-10-04T17:46:59.961191Z",
     "iopub.status.busy": "2020-10-04T17:46:59.960574Z",
     "iopub.status.idle": "2020-10-04T17:47:06.201097Z",
     "shell.execute_reply": "2020-10-04T17:47:06.201751Z"
    },
    "id": "PAssfp3cGfLz",
    "papermill": {
     "duration": 6.404116,
     "end_time": "2020-10-04T17:47:06.201959",
     "exception": false,
     "start_time": "2020-10-04T17:46:59.797843",
     "status": "completed"
    },
    "tags": []
   },
   "outputs": [],
   "source": [
    "dftrainLGB = lgbm.Dataset(data = train_prep.drop([\"APPLICATION_NUMBER\", \"TARGET\"], axis=1), \n",
    "                          label = train_prep[\"TARGET\"])\n",
    "                        #   feature_name = list(x_train))\n",
    "\n",
    "cv_results_l = lgbm.cv(\n",
    "        lgbm_params,\n",
    "        dftrainLGB,\n",
    "        num_boost_round=1000,\n",
    "        nfold=5,\n",
    "        metrics='auc',\n",
    "        early_stopping_rounds=10\n",
    "        )"
   ]
  },
  {
   "cell_type": "code",
   "execution_count": 81,
   "metadata": {
    "execution": {
     "iopub.execute_input": "2020-10-04T17:47:06.545791Z",
     "iopub.status.busy": "2020-10-04T17:47:06.544998Z",
     "iopub.status.idle": "2020-10-04T17:47:06.549611Z",
     "shell.execute_reply": "2020-10-04T17:47:06.550261Z"
    },
    "id": "Mh0cup8XGekF",
    "outputId": "ad8065ac-3973-460a-f2f4-1bacd3f8ab85",
    "papermill": {
     "duration": 0.155925,
     "end_time": "2020-10-04T17:47:06.550463",
     "exception": false,
     "start_time": "2020-10-04T17:47:06.394538",
     "status": "completed"
    },
    "tags": []
   },
   "outputs": [
    {
     "name": "stdout",
     "output_type": "stream",
     "text": [
      "lgbm.cv auc-mean: 0.7228, auc-stdv: 0.0053\n"
     ]
    }
   ],
   "source": [
    "print(f\"lgbm.cv auc-mean: {cv_results_l['auc-mean'][len(cv_results_l['auc-mean'])-1]:.4f}, auc-stdv: {cv_results_l['auc-stdv'][len(cv_results_l['auc-stdv'])-1]:.4f}\")"
   ]
  },
  {
   "cell_type": "markdown",
   "metadata": {
    "id": "NECnlLHFxURF",
    "papermill": {
     "duration": 0.142118,
     "end_time": "2020-10-04T17:47:06.839096",
     "exception": false,
     "start_time": "2020-10-04T17:47:06.696978",
     "status": "completed"
    },
    "tags": []
   },
   "source": [
    "### Отбор признаков"
   ]
  },
  {
   "cell_type": "code",
   "execution_count": 82,
   "metadata": {
    "execution": {
     "iopub.execute_input": "2020-10-04T17:47:07.143967Z",
     "iopub.status.busy": "2020-10-04T17:47:07.141019Z",
     "iopub.status.idle": "2020-10-04T17:47:09.091823Z",
     "shell.execute_reply": "2020-10-04T17:47:09.092559Z"
    },
    "id": "BcGaMw8AQqKL",
    "papermill": {
     "duration": 2.110783,
     "end_time": "2020-10-04T17:47:09.092766",
     "exception": false,
     "start_time": "2020-10-04T17:47:06.981983",
     "status": "completed"
    },
    "tags": []
   },
   "outputs": [],
   "source": [
    "X_train, X_valid, y_train, y_valid = train_test_split(train_prep.drop([\"APPLICATION_NUMBER\", \"TARGET\"], axis=1), \n",
    "                                                      train_prep[\"TARGET\"], \n",
    "                                                      test_size=0.2, \n",
    "                                                      random_state=42)\n",
    "\n",
    "train_data = lgbm.Dataset(X_train, label=y_train)\n",
    "test_data = lgbm.Dataset(X_valid, label=y_valid)\n",
    "\n",
    "model = lgbm.train(lgbm_params,\n",
    "                   train_data,\n",
    "                   valid_sets=test_data,\n",
    "                   num_boost_round=1000,\n",
    "                   early_stopping_rounds=50,\n",
    "                   verbose_eval=False)"
   ]
  },
  {
   "cell_type": "code",
   "execution_count": 83,
   "metadata": {
    "execution": {
     "iopub.execute_input": "2020-10-04T17:47:09.463696Z",
     "iopub.status.busy": "2020-10-04T17:47:09.462988Z",
     "iopub.status.idle": "2020-10-04T17:47:10.052724Z",
     "shell.execute_reply": "2020-10-04T17:47:10.053212Z"
    },
    "id": "61oT3AXhWf97",
    "outputId": "bc076239-c6ac-4675-de30-655a1a74d108",
    "papermill": {
     "duration": 0.741616,
     "end_time": "2020-10-04T17:47:10.053351",
     "exception": false,
     "start_time": "2020-10-04T17:47:09.311735",
     "status": "completed"
    },
    "tags": []
   },
   "outputs": [
    {
     "data": {
      "image/png": "[encoded data removed]",
      "text/plain": [
       "<Figure size 360x3240 with 1 Axes>"
      ]
     },
     "metadata": {
      "needs_background": "light"
     },
     "output_type": "display_data"
    }
   ],
   "source": [
    "ax = lgbm.plot_importance(model, max_num_features=355, figsize=(5,45))   #, figsize=(45,5)\n",
    "plt.show()"
   ]
  },
  {
   "cell_type": "code",
   "execution_count": 84,
   "metadata": {
    "execution": {
     "iopub.execute_input": "2020-10-04T17:47:10.368304Z",
     "iopub.status.busy": "2020-10-04T17:47:10.367654Z",
     "iopub.status.idle": "2020-10-04T17:47:10.370366Z",
     "shell.execute_reply": "2020-10-04T17:47:10.369872Z"
    },
    "id": "FbswlzOiXH5p",
    "papermill": {
     "duration": 0.162829,
     "end_time": "2020-10-04T17:47:10.370510",
     "exception": false,
     "start_time": "2020-10-04T17:47:10.207681",
     "status": "completed"
    },
    "tags": []
   },
   "outputs": [],
   "source": [
    "# keys = X_train.columns\n",
    "# values = model.feature_importance()\n",
    "\n",
    "# fi_dt = pd.DataFrame(data=values, index=keys, columns=[\"score\"]).sort_values(by = \"score\", ascending=False)\n",
    "# fi_dt"
   ]
  },
  {
   "cell_type": "code",
   "execution_count": 85,
   "metadata": {
    "execution": {
     "iopub.execute_input": "2020-10-04T17:47:10.674568Z",
     "iopub.status.busy": "2020-10-04T17:47:10.673541Z",
     "iopub.status.idle": "2020-10-04T17:47:10.676189Z",
     "shell.execute_reply": "2020-10-04T17:47:10.675719Z"
    },
    "id": "-DDAz9fwX5j3",
    "papermill": {
     "duration": 0.156444,
     "end_time": "2020-10-04T17:47:10.676291",
     "exception": false,
     "start_time": "2020-10-04T17:47:10.519847",
     "status": "completed"
    },
    "tags": []
   },
   "outputs": [],
   "source": [
    "feature_imp = pd.DataFrame({'Value':model.feature_importance(),'Feature':X_train.columns})"
   ]
  },
  {
   "cell_type": "code",
   "execution_count": 86,
   "metadata": {
    "execution": {
     "iopub.execute_input": "2020-10-04T17:47:10.995454Z",
     "iopub.status.busy": "2020-10-04T17:47:10.994571Z",
     "iopub.status.idle": "2020-10-04T17:47:10.997078Z",
     "shell.execute_reply": "2020-10-04T17:47:10.997554Z"
    },
    "id": "wJJQdf08ai7B",
    "papermill": {
     "duration": 0.173041,
     "end_time": "2020-10-04T17:47:10.997692",
     "exception": false,
     "start_time": "2020-10-04T17:47:10.824651",
     "status": "completed"
    },
    "tags": []
   },
   "outputs": [],
   "source": [
    "f_imp = feature_imp.sort_values(\"Value\", ascending=False).reset_index(drop=True)"
   ]
  },
  {
   "cell_type": "code",
   "execution_count": 87,
   "metadata": {
    "execution": {
     "iopub.execute_input": "2020-10-04T17:47:11.314785Z",
     "iopub.status.busy": "2020-10-04T17:47:11.313794Z",
     "iopub.status.idle": "2020-10-04T17:47:11.316864Z",
     "shell.execute_reply": "2020-10-04T17:47:11.316245Z"
    },
    "id": "4nf4Ok-rZj4b",
    "papermill": {
     "duration": 0.161324,
     "end_time": "2020-10-04T17:47:11.316974",
     "exception": false,
     "start_time": "2020-10-04T17:47:11.155650",
     "status": "completed"
    },
    "tags": []
   },
   "outputs": [],
   "source": [
    "# pd.set_option('display.max_rows', 20)"
   ]
  },
  {
   "cell_type": "code",
   "execution_count": 88,
   "metadata": {
    "execution": {
     "iopub.execute_input": "2020-10-04T17:47:11.623610Z",
     "iopub.status.busy": "2020-10-04T17:47:11.623003Z",
     "iopub.status.idle": "2020-10-04T17:47:11.630920Z",
     "shell.execute_reply": "2020-10-04T17:47:11.631437Z"
    },
    "id": "oVjJ8Ht1bGIM",
    "outputId": "98fa5c75-ebaf-4192-bfee-61eb1173f47c",
    "papermill": {
     "duration": 0.160824,
     "end_time": "2020-10-04T17:47:11.631591",
     "exception": false,
     "start_time": "2020-10-04T17:47:11.470767",
     "status": "completed"
    },
    "tags": []
   },
   "outputs": [
    {
     "data": {
      "text/plain": [
       "0               RATIO_CREDIT_TO_ANNUITY\n",
       "1                                   AGE\n",
       "2                      DAYS_ON_LAST_JOB\n",
       "3               RATIO_ANNUITY_TO_SALARY\n",
       "4          EXTERNAL_SCORING_RATING_mean\n",
       "5           EXTERNAL_SCORING_RATING_min\n",
       "6             EXTERNAL_SCORING_RATING_2\n",
       "7     EXTERNAL_SCORING_RATING_nanmedian\n",
       "8                        AMOUNT_ANNUITY\n",
       "9           EXTERNAL_SCORING_RATING_max\n",
       "10                        AMOUNT_CREDIT\n",
       "11               RATIO_CREDIT_TO_SALARY\n",
       "12                    REGION_POPULATION\n",
       "13            EXTERNAL_SCORING_RATING_3\n",
       "14          EXTERNAL_SCORING_RATING_var\n",
       "15                EXPECTED_TOTAL_LOSS_2\n",
       "16                EXTERNAL_SCORING_PROD\n",
       "17                EXPECTED_TOTAL_LOSS_3\n",
       "18                          OWN_CAR_AGE\n",
       "19            EXTERNAL_SCORING_RATING_1\n",
       "20                         TOTAL_SALARY\n",
       "21              EXPECTED_MONTHLY_LOSS_2\n",
       "22              EDUCATION_FAMILY_STATUS\n",
       "23              EXPECTED_MONTHLY_LOSS_3\n",
       "24                EXPECTED_TOTAL_LOSS_1\n",
       "25            EXTERNAL_SCORING_WEIGHTED\n",
       "26                      EDUCATION_LEVEL\n",
       "27              EXPECTED_MONTHLY_LOSS_1\n",
       "28                               GENDER\n",
       "29                   NAME_CONTRACT_TYPE\n",
       "30           AMT_REQ_CREDIT_BUREAU_YEAR\n",
       "31                        FAMILY_STATUS\n",
       "32            AMT_REQ_CREDIT_BUREAU_MON\n",
       "33            AMT_REQ_CREDIT_BUREAU_QRT\n",
       "34                          FAMILY_SIZE\n",
       "35           AMT_REQ_CREDIT_BUREAU_HOUR\n",
       "36                            CHILDRENS\n",
       "37           AMT_REQ_CREDIT_BUREAU_WEEK\n",
       "38                           FLAG_PHONE\n",
       "39                           FLAG_EMAIL\n",
       "Name: Feature, dtype: object"
      ]
     },
     "execution_count": 88,
     "metadata": {},
     "output_type": "execute_result"
    }
   ],
   "source": [
    "f_imp.loc[f_imp['Value'] > 0, 'Feature']"
   ]
  },
  {
   "cell_type": "code",
   "execution_count": 89,
   "metadata": {
    "execution": {
     "iopub.execute_input": "2020-10-04T17:47:11.987682Z",
     "iopub.status.busy": "2020-10-04T17:47:11.986522Z",
     "iopub.status.idle": "2020-10-04T17:47:11.988320Z",
     "shell.execute_reply": "2020-10-04T17:47:11.988819Z"
    },
    "id": "QbtETxWub1rW",
    "papermill": {
     "duration": 0.204841,
     "end_time": "2020-10-04T17:47:11.988959",
     "exception": false,
     "start_time": "2020-10-04T17:47:11.784118",
     "status": "completed"
    },
    "tags": []
   },
   "outputs": [],
   "source": [
    "col_list = f_imp.loc[f_imp['Value'] > 0, 'Feature'].values"
   ]
  },
  {
   "cell_type": "code",
   "execution_count": 90,
   "metadata": {
    "execution": {
     "iopub.execute_input": "2020-10-04T17:47:12.290489Z",
     "iopub.status.busy": "2020-10-04T17:47:12.289575Z",
     "iopub.status.idle": "2020-10-04T17:47:12.303139Z",
     "shell.execute_reply": "2020-10-04T17:47:12.303588Z"
    },
    "id": "ZwTifbd3cRAI",
    "papermill": {
     "duration": 0.165641,
     "end_time": "2020-10-04T17:47:12.303739",
     "exception": false,
     "start_time": "2020-10-04T17:47:12.138098",
     "status": "completed"
    },
    "tags": []
   },
   "outputs": [],
   "source": [
    "train_crop = train_prep[col_list]"
   ]
  },
  {
   "cell_type": "code",
   "execution_count": 91,
   "metadata": {
    "execution": {
     "iopub.execute_input": "2020-10-04T17:47:12.606880Z",
     "iopub.status.busy": "2020-10-04T17:47:12.605929Z",
     "iopub.status.idle": "2020-10-04T17:47:12.622589Z",
     "shell.execute_reply": "2020-10-04T17:47:12.623007Z"
    },
    "id": "O7JjF5-OfeBN",
    "papermill": {
     "duration": 0.168199,
     "end_time": "2020-10-04T17:47:12.623159",
     "exception": false,
     "start_time": "2020-10-04T17:47:12.454960",
     "status": "completed"
    },
    "tags": []
   },
   "outputs": [],
   "source": [
    "train_cat_crop = train_cat_prep[col_list]"
   ]
  },
  {
   "cell_type": "code",
   "execution_count": 92,
   "metadata": {
    "execution": {
     "iopub.execute_input": "2020-10-04T17:47:12.930174Z",
     "iopub.status.busy": "2020-10-04T17:47:12.929238Z",
     "iopub.status.idle": "2020-10-04T17:47:12.962026Z",
     "shell.execute_reply": "2020-10-04T17:47:12.962467Z"
    },
    "id": "DBg0TG-Yh9wv",
    "papermill": {
     "duration": 0.187527,
     "end_time": "2020-10-04T17:47:12.962614",
     "exception": false,
     "start_time": "2020-10-04T17:47:12.775087",
     "status": "completed"
    },
    "tags": []
   },
   "outputs": [],
   "source": [
    "test_crop = test_prep[col_list]"
   ]
  },
  {
   "cell_type": "code",
   "execution_count": 93,
   "metadata": {
    "execution": {
     "iopub.execute_input": "2020-10-04T17:47:13.267116Z",
     "iopub.status.busy": "2020-10-04T17:47:13.266478Z",
     "iopub.status.idle": "2020-10-04T17:47:13.296719Z",
     "shell.execute_reply": "2020-10-04T17:47:13.297180Z"
    },
    "id": "axP0nK6Mh-pX",
    "papermill": {
     "duration": 0.185869,
     "end_time": "2020-10-04T17:47:13.297322",
     "exception": false,
     "start_time": "2020-10-04T17:47:13.111453",
     "status": "completed"
    },
    "tags": []
   },
   "outputs": [],
   "source": [
    "test_cat_crop = test_cat_prep[col_list]"
   ]
  },
  {
   "cell_type": "code",
   "execution_count": 94,
   "metadata": {
    "execution": {
     "iopub.execute_input": "2020-10-04T17:47:13.640002Z",
     "iopub.status.busy": "2020-10-04T17:47:13.639153Z",
     "iopub.status.idle": "2020-10-04T17:47:13.643927Z",
     "shell.execute_reply": "2020-10-04T17:47:13.643489Z"
    },
    "id": "r91eB4-6fx3n",
    "outputId": "e1f6d5bb-f34b-4a75-b17a-79d7d7de7cae",
    "papermill": {
     "duration": 0.194453,
     "end_time": "2020-10-04T17:47:13.644035",
     "exception": false,
     "start_time": "2020-10-04T17:47:13.449582",
     "status": "completed"
    },
    "tags": []
   },
   "outputs": [
    {
     "data": {
      "text/html": [
       "<div>\n",
       "<style scoped>\n",
       "    .dataframe tbody tr th:only-of-type {\n",
       "        vertical-align: middle;\n",
       "    }\n",
       "\n",
       "    .dataframe tbody tr th {\n",
       "        vertical-align: top;\n",
       "    }\n",
       "\n",
       "    .dataframe thead th {\n",
       "        text-align: right;\n",
       "    }\n",
       "</style>\n",
       "<table border=\"1\" class=\"dataframe\">\n",
       "  <thead>\n",
       "    <tr style=\"text-align: right;\">\n",
       "      <th></th>\n",
       "      <th>RATIO_CREDIT_TO_ANNUITY</th>\n",
       "      <th>AGE</th>\n",
       "      <th>DAYS_ON_LAST_JOB</th>\n",
       "      <th>RATIO_ANNUITY_TO_SALARY</th>\n",
       "      <th>EXTERNAL_SCORING_RATING_mean</th>\n",
       "      <th>EXTERNAL_SCORING_RATING_min</th>\n",
       "      <th>EXTERNAL_SCORING_RATING_2</th>\n",
       "      <th>EXTERNAL_SCORING_RATING_nanmedian</th>\n",
       "      <th>AMOUNT_ANNUITY</th>\n",
       "      <th>EXTERNAL_SCORING_RATING_max</th>\n",
       "      <th>AMOUNT_CREDIT</th>\n",
       "      <th>RATIO_CREDIT_TO_SALARY</th>\n",
       "      <th>REGION_POPULATION</th>\n",
       "      <th>EXTERNAL_SCORING_RATING_3</th>\n",
       "      <th>EXTERNAL_SCORING_RATING_var</th>\n",
       "      <th>EXPECTED_TOTAL_LOSS_2</th>\n",
       "      <th>EXTERNAL_SCORING_PROD</th>\n",
       "      <th>EXPECTED_TOTAL_LOSS_3</th>\n",
       "      <th>OWN_CAR_AGE</th>\n",
       "      <th>EXTERNAL_SCORING_RATING_1</th>\n",
       "      <th>TOTAL_SALARY</th>\n",
       "      <th>EXPECTED_MONTHLY_LOSS_2</th>\n",
       "      <th>EDUCATION_FAMILY_STATUS</th>\n",
       "      <th>EXPECTED_MONTHLY_LOSS_3</th>\n",
       "      <th>EXPECTED_TOTAL_LOSS_1</th>\n",
       "      <th>EXTERNAL_SCORING_WEIGHTED</th>\n",
       "      <th>EDUCATION_LEVEL</th>\n",
       "      <th>EXPECTED_MONTHLY_LOSS_1</th>\n",
       "      <th>GENDER</th>\n",
       "      <th>NAME_CONTRACT_TYPE</th>\n",
       "      <th>AMT_REQ_CREDIT_BUREAU_YEAR</th>\n",
       "      <th>FAMILY_STATUS</th>\n",
       "      <th>AMT_REQ_CREDIT_BUREAU_MON</th>\n",
       "      <th>AMT_REQ_CREDIT_BUREAU_QRT</th>\n",
       "      <th>FAMILY_SIZE</th>\n",
       "      <th>AMT_REQ_CREDIT_BUREAU_HOUR</th>\n",
       "      <th>CHILDRENS</th>\n",
       "      <th>AMT_REQ_CREDIT_BUREAU_WEEK</th>\n",
       "      <th>FLAG_PHONE</th>\n",
       "      <th>FLAG_EMAIL</th>\n",
       "    </tr>\n",
       "  </thead>\n",
       "  <tbody>\n",
       "    <tr>\n",
       "      <th>0</th>\n",
       "      <td>34.025788</td>\n",
       "      <td>15728.0</td>\n",
       "      <td>1719.0</td>\n",
       "      <td>0.159543</td>\n",
       "      <td>0.687756</td>\n",
       "      <td>0.645914</td>\n",
       "      <td>0.645914</td>\n",
       "      <td>0.700784</td>\n",
       "      <td>25128.0</td>\n",
       "      <td>0.716570</td>\n",
       "      <td>855000.0</td>\n",
       "      <td>5.428571</td>\n",
       "      <td>0.019101</td>\n",
       "      <td>0.716570</td>\n",
       "      <td>0.000917</td>\n",
       "      <td>552256.266546</td>\n",
       "      <td>0.324353</td>\n",
       "      <td>612667.559305</td>\n",
       "      <td>11.0</td>\n",
       "      <td>0.700784</td>\n",
       "      <td>157500.0</td>\n",
       "      <td>16230.521013</td>\n",
       "      <td>Secondary / secondary special | Married</td>\n",
       "      <td>18005.977111</td>\n",
       "      <td>599170.547652</td>\n",
       "      <td>4.197193</td>\n",
       "      <td>Secondary / secondary special</td>\n",
       "      <td>17609.307043</td>\n",
       "      <td>M</td>\n",
       "      <td>Cash</td>\n",
       "      <td>2.0</td>\n",
       "      <td>Married</td>\n",
       "      <td>0.0</td>\n",
       "      <td>0.0</td>\n",
       "      <td>3.0</td>\n",
       "      <td>0.0</td>\n",
       "      <td>1.0</td>\n",
       "      <td>1.0</td>\n",
       "      <td>0.0</td>\n",
       "      <td>0.0</td>\n",
       "    </tr>\n",
       "    <tr>\n",
       "      <th>1</th>\n",
       "      <td>-1.000000</td>\n",
       "      <td>-1.0</td>\n",
       "      <td>-1.0</td>\n",
       "      <td>-1.000000</td>\n",
       "      <td>-1.000000</td>\n",
       "      <td>-1.000000</td>\n",
       "      <td>-1.000000</td>\n",
       "      <td>-1.000000</td>\n",
       "      <td>-1.0</td>\n",
       "      <td>-1.000000</td>\n",
       "      <td>-1.0</td>\n",
       "      <td>-1.000000</td>\n",
       "      <td>-1.000000</td>\n",
       "      <td>-1.000000</td>\n",
       "      <td>-1.000000</td>\n",
       "      <td>-1.000000</td>\n",
       "      <td>-1.000000</td>\n",
       "      <td>-1.000000</td>\n",
       "      <td>-1.0</td>\n",
       "      <td>-1.000000</td>\n",
       "      <td>-1.0</td>\n",
       "      <td>-1.000000</td>\n",
       "      <td>No | No</td>\n",
       "      <td>-1.000000</td>\n",
       "      <td>-1.000000</td>\n",
       "      <td>-1.000000</td>\n",
       "      <td>No</td>\n",
       "      <td>-1.000000</td>\n",
       "      <td>No</td>\n",
       "      <td>Cash</td>\n",
       "      <td>-1.0</td>\n",
       "      <td>No</td>\n",
       "      <td>-1.0</td>\n",
       "      <td>-1.0</td>\n",
       "      <td>-1.0</td>\n",
       "      <td>-1.0</td>\n",
       "      <td>-1.0</td>\n",
       "      <td>-1.0</td>\n",
       "      <td>-1.0</td>\n",
       "      <td>-1.0</td>\n",
       "    </tr>\n",
       "    <tr>\n",
       "      <th>2</th>\n",
       "      <td>23.603376</td>\n",
       "      <td>21557.0</td>\n",
       "      <td>3618.0</td>\n",
       "      <td>0.316000</td>\n",
       "      <td>0.475009</td>\n",
       "      <td>0.267869</td>\n",
       "      <td>0.682149</td>\n",
       "      <td>0.475009</td>\n",
       "      <td>42660.0</td>\n",
       "      <td>0.682149</td>\n",
       "      <td>1006920.0</td>\n",
       "      <td>7.458667</td>\n",
       "      <td>0.026392</td>\n",
       "      <td>0.267869</td>\n",
       "      <td>0.042907</td>\n",
       "      <td>686869.876357</td>\n",
       "      <td>-1.000000</td>\n",
       "      <td>269722.588880</td>\n",
       "      <td>-1.0</td>\n",
       "      <td>-1.000000</td>\n",
       "      <td>135000.0</td>\n",
       "      <td>29100.493510</td>\n",
       "      <td>Higher education | Married</td>\n",
       "      <td>11427.288803</td>\n",
       "      <td>-1.000000</td>\n",
       "      <td>-1.000000</td>\n",
       "      <td>Higher education</td>\n",
       "      <td>-1.000000</td>\n",
       "      <td>F</td>\n",
       "      <td>Cash</td>\n",
       "      <td>4.0</td>\n",
       "      <td>Married</td>\n",
       "      <td>7.0</td>\n",
       "      <td>0.0</td>\n",
       "      <td>2.0</td>\n",
       "      <td>0.0</td>\n",
       "      <td>0.0</td>\n",
       "      <td>0.0</td>\n",
       "      <td>1.0</td>\n",
       "      <td>0.0</td>\n",
       "    </tr>\n",
       "  </tbody>\n",
       "</table>\n",
       "</div>"
      ],
      "text/plain": [
       "   RATIO_CREDIT_TO_ANNUITY      AGE  DAYS_ON_LAST_JOB  \\\n",
       "0                34.025788  15728.0            1719.0   \n",
       "1                -1.000000     -1.0              -1.0   \n",
       "2                23.603376  21557.0            3618.0   \n",
       "\n",
       "   RATIO_ANNUITY_TO_SALARY  EXTERNAL_SCORING_RATING_mean  \\\n",
       "0                 0.159543                      0.687756   \n",
       "1                -1.000000                     -1.000000   \n",
       "2                 0.316000                      0.475009   \n",
       "\n",
       "   EXTERNAL_SCORING_RATING_min  EXTERNAL_SCORING_RATING_2  \\\n",
       "0                     0.645914                   0.645914   \n",
       "1                    -1.000000                  -1.000000   \n",
       "2                     0.267869                   0.682149   \n",
       "\n",
       "   EXTERNAL_SCORING_RATING_nanmedian  AMOUNT_ANNUITY  \\\n",
       "0                           0.700784         25128.0   \n",
       "1                          -1.000000            -1.0   \n",
       "2                           0.475009         42660.0   \n",
       "\n",
       "   EXTERNAL_SCORING_RATING_max  AMOUNT_CREDIT  RATIO_CREDIT_TO_SALARY  \\\n",
       "0                     0.716570       855000.0                5.428571   \n",
       "1                    -1.000000           -1.0               -1.000000   \n",
       "2                     0.682149      1006920.0                7.458667   \n",
       "\n",
       "   REGION_POPULATION  EXTERNAL_SCORING_RATING_3  EXTERNAL_SCORING_RATING_var  \\\n",
       "0           0.019101                   0.716570                     0.000917   \n",
       "1          -1.000000                  -1.000000                    -1.000000   \n",
       "2           0.026392                   0.267869                     0.042907   \n",
       "\n",
       "   EXPECTED_TOTAL_LOSS_2  EXTERNAL_SCORING_PROD  EXPECTED_TOTAL_LOSS_3  \\\n",
       "0          552256.266546               0.324353          612667.559305   \n",
       "1              -1.000000              -1.000000              -1.000000   \n",
       "2          686869.876357              -1.000000          269722.588880   \n",
       "\n",
       "   OWN_CAR_AGE  EXTERNAL_SCORING_RATING_1  TOTAL_SALARY  \\\n",
       "0         11.0                   0.700784      157500.0   \n",
       "1         -1.0                  -1.000000          -1.0   \n",
       "2         -1.0                  -1.000000      135000.0   \n",
       "\n",
       "   EXPECTED_MONTHLY_LOSS_2                  EDUCATION_FAMILY_STATUS  \\\n",
       "0             16230.521013  Secondary / secondary special | Married   \n",
       "1                -1.000000                                  No | No   \n",
       "2             29100.493510               Higher education | Married   \n",
       "\n",
       "   EXPECTED_MONTHLY_LOSS_3  EXPECTED_TOTAL_LOSS_1  EXTERNAL_SCORING_WEIGHTED  \\\n",
       "0             18005.977111          599170.547652                   4.197193   \n",
       "1                -1.000000              -1.000000                  -1.000000   \n",
       "2             11427.288803              -1.000000                  -1.000000   \n",
       "\n",
       "                 EDUCATION_LEVEL  EXPECTED_MONTHLY_LOSS_1 GENDER  \\\n",
       "0  Secondary / secondary special             17609.307043      M   \n",
       "1                             No                -1.000000     No   \n",
       "2               Higher education                -1.000000      F   \n",
       "\n",
       "  NAME_CONTRACT_TYPE  AMT_REQ_CREDIT_BUREAU_YEAR FAMILY_STATUS  \\\n",
       "0               Cash                         2.0       Married   \n",
       "1               Cash                        -1.0            No   \n",
       "2               Cash                         4.0       Married   \n",
       "\n",
       "   AMT_REQ_CREDIT_BUREAU_MON  AMT_REQ_CREDIT_BUREAU_QRT  FAMILY_SIZE  \\\n",
       "0                        0.0                        0.0          3.0   \n",
       "1                       -1.0                       -1.0         -1.0   \n",
       "2                        7.0                        0.0          2.0   \n",
       "\n",
       "   AMT_REQ_CREDIT_BUREAU_HOUR  CHILDRENS  AMT_REQ_CREDIT_BUREAU_WEEK  \\\n",
       "0                         0.0        1.0                         1.0   \n",
       "1                        -1.0       -1.0                        -1.0   \n",
       "2                         0.0        0.0                         0.0   \n",
       "\n",
       "   FLAG_PHONE  FLAG_EMAIL  \n",
       "0         0.0         0.0  \n",
       "1        -1.0        -1.0  \n",
       "2         1.0         0.0  "
      ]
     },
     "execution_count": 94,
     "metadata": {},
     "output_type": "execute_result"
    }
   ],
   "source": [
    "train_cat_crop.head(3)"
   ]
  },
  {
   "cell_type": "code",
   "execution_count": 95,
   "metadata": {
    "execution": {
     "iopub.execute_input": "2020-10-04T17:47:13.955282Z",
     "iopub.status.busy": "2020-10-04T17:47:13.954375Z",
     "iopub.status.idle": "2020-10-04T17:47:13.957637Z",
     "shell.execute_reply": "2020-10-04T17:47:13.958106Z"
    },
    "id": "Zt1qo9eKh9Tx",
    "papermill": {
     "duration": 0.15841,
     "end_time": "2020-10-04T17:47:13.958245",
     "exception": false,
     "start_time": "2020-10-04T17:47:13.799835",
     "status": "completed"
    },
    "tags": []
   },
   "outputs": [],
   "source": [
    "# train_crop.to_csv(data_dir + \"train_crop.csv\", sep=\";\", index=False)\n",
    "# train_cat_crop.to_csv(data_dir + \"train_cat_crop.csv\", sep=\";\", index=False)\n",
    "# test_crop.to_csv(data_dir + \"test_crop.csv\", sep=\";\", index=False)\n",
    "# test_cat_crop.to_csv(data_dir + \"test_cat_crop.csv\", sep=\";\", index=False)"
   ]
  },
  {
   "cell_type": "markdown",
   "metadata": {
    "id": "TakXoPVLrUSW",
    "papermill": {
     "duration": 0.148703,
     "end_time": "2020-10-04T17:47:14.255176",
     "exception": false,
     "start_time": "2020-10-04T17:47:14.106473",
     "status": "completed"
    },
    "tags": []
   },
   "source": [
    "### Пермутированная важность (permutation importance)"
   ]
  },
  {
   "cell_type": "code",
   "execution_count": 96,
   "metadata": {
    "execution": {
     "iopub.execute_input": "2020-10-04T17:47:14.557299Z",
     "iopub.status.busy": "2020-10-04T17:47:14.556373Z",
     "iopub.status.idle": "2020-10-04T17:47:14.563714Z",
     "shell.execute_reply": "2020-10-04T17:47:14.564169Z"
    },
    "id": "PyledI7H6ZGT",
    "papermill": {
     "duration": 0.158714,
     "end_time": "2020-10-04T17:47:14.564312",
     "exception": false,
     "start_time": "2020-10-04T17:47:14.405598",
     "status": "completed"
    },
    "tags": []
   },
   "outputs": [],
   "source": [
    "def calculate_permutation_importance(estimator, \n",
    "                                     metric: callable,\n",
    "                                     x_valid: pd.DataFrame,\n",
    "                                     y_valid: pd.Series) -> pd.Series:\n",
    "    \"\"\"\n",
    "    Расчет пермутированной важности признаков.\n",
    "    \"\"\"\n",
    "    scores = {}\n",
    "    y_pred = estimator.predict(x_valid)\n",
    "    base_score = metric(y_valid, y_pred)\n",
    "\n",
    "    for feature in tqdm(x_valid.columns):\n",
    "        x_valid_copy = x_valid.copy()\n",
    "        x_valid_copy[feature] = np.random.permutation(x_valid_copy[feature])\n",
    "\n",
    "        y_pred = estimator.predict(x_valid_copy)\n",
    "        score = metric(y_valid, y_pred)\n",
    "        scores[feature] = base_score - score\n",
    "\n",
    "    scores = pd.Series(scores)\n",
    "    scores = scores.sort_values(ascending=False)\n",
    "\n",
    "    return scores"
   ]
  },
  {
   "cell_type": "code",
   "execution_count": 97,
   "metadata": {
    "execution": {
     "iopub.execute_input": "2020-10-04T17:47:14.863927Z",
     "iopub.status.busy": "2020-10-04T17:47:14.863255Z",
     "iopub.status.idle": "2020-10-04T17:47:17.014257Z",
     "shell.execute_reply": "2020-10-04T17:47:17.014923Z"
    },
    "id": "AxIcJw-dtJk4",
    "papermill": {
     "duration": 2.303014,
     "end_time": "2020-10-04T17:47:17.015104",
     "exception": false,
     "start_time": "2020-10-04T17:47:14.712090",
     "status": "completed"
    },
    "tags": []
   },
   "outputs": [],
   "source": [
    "X_train, X_valid, y_train, y_valid = train_test_split(train_prep.drop([\"APPLICATION_NUMBER\", \"TARGET\"], axis=1), \n",
    "                                                      train_prep[\"TARGET\"], \n",
    "                                                      test_size=0.2, \n",
    "                                                      random_state=42)\n",
    "\n",
    "train_data = lgbm.Dataset(X_train, label=y_train)\n",
    "test_data = lgbm.Dataset(X_valid, label=y_valid)\n",
    "\n",
    "model = lgbm.train(lgbm_params,\n",
    "                   train_data,\n",
    "                   valid_sets=test_data,\n",
    "                   num_boost_round=1000,\n",
    "                   early_stopping_rounds=50,\n",
    "                   verbose_eval=False)"
   ]
  },
  {
   "cell_type": "code",
   "execution_count": 98,
   "metadata": {
    "execution": {
     "iopub.execute_input": "2020-10-04T17:47:17.387538Z",
     "iopub.status.busy": "2020-10-04T17:47:17.386886Z",
     "iopub.status.idle": "2020-10-04T17:47:19.911620Z",
     "shell.execute_reply": "2020-10-04T17:47:19.913954Z"
    },
    "id": "yuMG575Lsro1",
    "outputId": "d9ec1e8e-1d76-4e2f-af67-5747ba113311",
    "papermill": {
     "duration": 2.685054,
     "end_time": "2020-10-04T17:47:19.914186",
     "exception": false,
     "start_time": "2020-10-04T17:47:17.229132",
     "status": "completed"
    },
    "tags": []
   },
   "outputs": [
    {
     "name": "stderr",
     "output_type": "stream",
     "text": [
      "100%|██████████| 41/41 [00:02<00:00, 16.70it/s]\n"
     ]
    }
   ],
   "source": [
    "perm_importance = calculate_permutation_importance(\n",
    "    estimator=model, metric=roc_auc_score, x_valid=X_valid, y_valid=y_valid\n",
    ")"
   ]
  },
  {
   "cell_type": "code",
   "execution_count": 99,
   "metadata": {
    "execution": {
     "iopub.execute_input": "2020-10-04T17:47:20.297977Z",
     "iopub.status.busy": "2020-10-04T17:47:20.295826Z",
     "iopub.status.idle": "2020-10-04T17:47:20.300282Z",
     "shell.execute_reply": "2020-10-04T17:47:20.299822Z"
    },
    "id": "FJDRfWYGs9t-",
    "outputId": "920394dd-ccbb-4a38-a4f3-2e8bf7e0817d",
    "papermill": {
     "duration": 0.168411,
     "end_time": "2020-10-04T17:47:20.300397",
     "exception": false,
     "start_time": "2020-10-04T17:47:20.131986",
     "status": "completed"
    },
    "tags": []
   },
   "outputs": [
    {
     "data": {
      "text/plain": [
       "EXTERNAL_SCORING_RATING_mean         0.076518\n",
       "RATIO_CREDIT_TO_ANNUITY              0.018427\n",
       "AGE                                  0.014113\n",
       "EDUCATION_LEVEL                      0.013856\n",
       "EXPECTED_MONTHLY_LOSS_3              0.009722\n",
       "DAYS_ON_LAST_JOB                     0.008636\n",
       "EXTERNAL_SCORING_RATING_min          0.006543\n",
       "AMOUNT_ANNUITY                       0.006541\n",
       "EXTERNAL_SCORING_RATING_3            0.006079\n",
       "NAME_CONTRACT_TYPE                   0.005765\n",
       "EXTERNAL_SCORING_RATING_2            0.003577\n",
       "GENDER                               0.003556\n",
       "EXTERNAL_SCORING_PROD                0.003385\n",
       "EXPECTED_TOTAL_LOSS_2                0.002763\n",
       "AMOUNT_CREDIT                        0.002728\n",
       "OWN_CAR_AGE                          0.002661\n",
       "EXTERNAL_SCORING_WEIGHTED            0.002626\n",
       "TOTAL_SALARY                         0.002619\n",
       "EDUCATION_FAMILY_STATUS              0.002603\n",
       "EXTERNAL_SCORING_RATING_nanmedian    0.002367\n",
       "EXPECTED_MONTHLY_LOSS_2              0.002100\n",
       "EXTERNAL_SCORING_RATING_1            0.002028\n",
       "REGION_POPULATION                    0.001843\n",
       "RATIO_CREDIT_TO_SALARY               0.001725\n",
       "EXPECTED_TOTAL_LOSS_3                0.001255\n",
       "EXTERNAL_SCORING_RATING_max          0.001174\n",
       "EXPECTED_TOTAL_LOSS_1                0.000983\n",
       "RATIO_ANNUITY_TO_SALARY              0.000905\n",
       "FAMILY_STATUS                        0.000657\n",
       "AMT_REQ_CREDIT_BUREAU_YEAR           0.000502\n",
       "EXTERNAL_SCORING_RATING_var          0.000171\n",
       "AMT_REQ_CREDIT_BUREAU_QRT            0.000051\n",
       "FLAG_PHONE                           0.000036\n",
       "AMT_REQ_CREDIT_BUREAU_WEEK           0.000002\n",
       "AMT_REQ_CREDIT_BUREAU_DAY            0.000000\n",
       "AMT_REQ_CREDIT_BUREAU_MON           -0.000046\n",
       "FLAG_EMAIL                          -0.000137\n",
       "CHILDRENS                           -0.000198\n",
       "AMT_REQ_CREDIT_BUREAU_HOUR          -0.000220\n",
       "FAMILY_SIZE                         -0.000884\n",
       "EXPECTED_MONTHLY_LOSS_1             -0.001160\n",
       "dtype: float64"
      ]
     },
     "execution_count": 99,
     "metadata": {},
     "output_type": "execute_result"
    }
   ],
   "source": [
    "perm_importance"
   ]
  },
  {
   "cell_type": "code",
   "execution_count": 100,
   "metadata": {
    "execution": {
     "iopub.execute_input": "2020-10-04T17:47:20.617156Z",
     "iopub.status.busy": "2020-10-04T17:47:20.616527Z",
     "iopub.status.idle": "2020-10-04T17:47:20.619959Z",
     "shell.execute_reply": "2020-10-04T17:47:20.619316Z"
    },
    "id": "7QIlaDmZHSU0",
    "papermill": {
     "duration": 0.162188,
     "end_time": "2020-10-04T17:47:20.620100",
     "exception": false,
     "start_time": "2020-10-04T17:47:20.457912",
     "status": "completed"
    },
    "tags": []
   },
   "outputs": [],
   "source": [
    "col_list_2 = perm_importance[perm_importance > 0.0001].index"
   ]
  },
  {
   "cell_type": "code",
   "execution_count": 101,
   "metadata": {
    "execution": {
     "iopub.execute_input": "2020-10-04T17:47:20.947300Z",
     "iopub.status.busy": "2020-10-04T17:47:20.946666Z",
     "iopub.status.idle": "2020-10-04T17:47:20.951827Z",
     "shell.execute_reply": "2020-10-04T17:47:20.951306Z"
    },
    "id": "1IYfuQj_ezFW",
    "outputId": "818c6127-0c6c-4742-bba6-0948f54f0548",
    "papermill": {
     "duration": 0.17077,
     "end_time": "2020-10-04T17:47:20.951952",
     "exception": false,
     "start_time": "2020-10-04T17:47:20.781182",
     "status": "completed"
    },
    "tags": []
   },
   "outputs": [
    {
     "data": {
      "text/plain": [
       "Index(['EXTERNAL_SCORING_RATING_mean', 'RATIO_CREDIT_TO_ANNUITY', 'AGE',\n",
       "       'EDUCATION_LEVEL', 'EXPECTED_MONTHLY_LOSS_3', 'DAYS_ON_LAST_JOB',\n",
       "       'EXTERNAL_SCORING_RATING_min', 'AMOUNT_ANNUITY',\n",
       "       'EXTERNAL_SCORING_RATING_3', 'NAME_CONTRACT_TYPE',\n",
       "       'EXTERNAL_SCORING_RATING_2', 'GENDER', 'EXTERNAL_SCORING_PROD',\n",
       "       'EXPECTED_TOTAL_LOSS_2', 'AMOUNT_CREDIT', 'OWN_CAR_AGE',\n",
       "       'EXTERNAL_SCORING_WEIGHTED', 'TOTAL_SALARY', 'EDUCATION_FAMILY_STATUS',\n",
       "       'EXTERNAL_SCORING_RATING_nanmedian', 'EXPECTED_MONTHLY_LOSS_2',\n",
       "       'EXTERNAL_SCORING_RATING_1', 'REGION_POPULATION',\n",
       "       'RATIO_CREDIT_TO_SALARY', 'EXPECTED_TOTAL_LOSS_3',\n",
       "       'EXTERNAL_SCORING_RATING_max', 'EXPECTED_TOTAL_LOSS_1',\n",
       "       'RATIO_ANNUITY_TO_SALARY', 'FAMILY_STATUS',\n",
       "       'AMT_REQ_CREDIT_BUREAU_YEAR', 'EXTERNAL_SCORING_RATING_var'],\n",
       "      dtype='object')"
      ]
     },
     "execution_count": 101,
     "metadata": {},
     "output_type": "execute_result"
    }
   ],
   "source": [
    "col_list_2"
   ]
  },
  {
   "cell_type": "code",
   "execution_count": 102,
   "metadata": {
    "execution": {
     "iopub.execute_input": "2020-10-04T17:47:21.277974Z",
     "iopub.status.busy": "2020-10-04T17:47:21.277326Z",
     "iopub.status.idle": "2020-10-04T17:47:21.280634Z",
     "shell.execute_reply": "2020-10-04T17:47:21.280133Z"
    },
    "id": "hfDfZIjgHSU5",
    "papermill": {
     "duration": 0.171938,
     "end_time": "2020-10-04T17:47:21.280759",
     "exception": false,
     "start_time": "2020-10-04T17:47:21.108821",
     "status": "completed"
    },
    "tags": []
   },
   "outputs": [],
   "source": [
    "train_crop_2 = train_prep[col_list_2]"
   ]
  },
  {
   "cell_type": "code",
   "execution_count": 103,
   "metadata": {
    "execution": {
     "iopub.execute_input": "2020-10-04T17:47:21.622555Z",
     "iopub.status.busy": "2020-10-04T17:47:21.621598Z",
     "iopub.status.idle": "2020-10-04T17:47:21.628625Z",
     "shell.execute_reply": "2020-10-04T17:47:21.627984Z"
    },
    "id": "pPDAg4VZgFgh",
    "papermill": {
     "duration": 0.184885,
     "end_time": "2020-10-04T17:47:21.628748",
     "exception": false,
     "start_time": "2020-10-04T17:47:21.443863",
     "status": "completed"
    },
    "tags": []
   },
   "outputs": [],
   "source": [
    "train_cat_crop_2 = train_cat_prep[col_list_2]"
   ]
  },
  {
   "cell_type": "code",
   "execution_count": 104,
   "metadata": {
    "execution": {
     "iopub.execute_input": "2020-10-04T17:47:21.963298Z",
     "iopub.status.busy": "2020-10-04T17:47:21.962712Z",
     "iopub.status.idle": "2020-10-04T17:47:21.964666Z",
     "shell.execute_reply": "2020-10-04T17:47:21.965136Z"
    },
    "id": "aD7IbuReiRYg",
    "papermill": {
     "duration": 0.181071,
     "end_time": "2020-10-04T17:47:21.965277",
     "exception": false,
     "start_time": "2020-10-04T17:47:21.784206",
     "status": "completed"
    },
    "tags": []
   },
   "outputs": [],
   "source": [
    "test_crop_2 = test_prep[col_list_2]"
   ]
  },
  {
   "cell_type": "code",
   "execution_count": 105,
   "metadata": {
    "execution": {
     "iopub.execute_input": "2020-10-04T17:47:22.279488Z",
     "iopub.status.busy": "2020-10-04T17:47:22.278806Z",
     "iopub.status.idle": "2020-10-04T17:47:22.306171Z",
     "shell.execute_reply": "2020-10-04T17:47:22.305646Z"
    },
    "id": "MEPrk93arCQh",
    "papermill": {
     "duration": 0.185225,
     "end_time": "2020-10-04T17:47:22.306278",
     "exception": false,
     "start_time": "2020-10-04T17:47:22.121053",
     "status": "completed"
    },
    "tags": []
   },
   "outputs": [],
   "source": [
    "test_cat_crop_2 = test_cat_prep[col_list_2]"
   ]
  },
  {
   "cell_type": "code",
   "execution_count": 106,
   "metadata": {
    "execution": {
     "iopub.execute_input": "2020-10-04T17:47:22.648952Z",
     "iopub.status.busy": "2020-10-04T17:47:22.648088Z",
     "iopub.status.idle": "2020-10-04T17:47:22.652841Z",
     "shell.execute_reply": "2020-10-04T17:47:22.652235Z"
    },
    "id": "4pvf7GVHfP8K",
    "outputId": "ecb3f861-515c-4010-99e6-87952b6472cf",
    "papermill": {
     "duration": 0.18902,
     "end_time": "2020-10-04T17:47:22.652945",
     "exception": false,
     "start_time": "2020-10-04T17:47:22.463925",
     "status": "completed"
    },
    "tags": []
   },
   "outputs": [
    {
     "data": {
      "text/html": [
       "<div>\n",
       "<style scoped>\n",
       "    .dataframe tbody tr th:only-of-type {\n",
       "        vertical-align: middle;\n",
       "    }\n",
       "\n",
       "    .dataframe tbody tr th {\n",
       "        vertical-align: top;\n",
       "    }\n",
       "\n",
       "    .dataframe thead th {\n",
       "        text-align: right;\n",
       "    }\n",
       "</style>\n",
       "<table border=\"1\" class=\"dataframe\">\n",
       "  <thead>\n",
       "    <tr style=\"text-align: right;\">\n",
       "      <th></th>\n",
       "      <th>EXTERNAL_SCORING_RATING_mean</th>\n",
       "      <th>RATIO_CREDIT_TO_ANNUITY</th>\n",
       "      <th>AGE</th>\n",
       "      <th>EDUCATION_LEVEL</th>\n",
       "      <th>EXPECTED_MONTHLY_LOSS_3</th>\n",
       "      <th>DAYS_ON_LAST_JOB</th>\n",
       "      <th>EXTERNAL_SCORING_RATING_min</th>\n",
       "      <th>AMOUNT_ANNUITY</th>\n",
       "      <th>EXTERNAL_SCORING_RATING_3</th>\n",
       "      <th>NAME_CONTRACT_TYPE</th>\n",
       "      <th>EXTERNAL_SCORING_RATING_2</th>\n",
       "      <th>GENDER</th>\n",
       "      <th>EXTERNAL_SCORING_PROD</th>\n",
       "      <th>EXPECTED_TOTAL_LOSS_2</th>\n",
       "      <th>AMOUNT_CREDIT</th>\n",
       "      <th>OWN_CAR_AGE</th>\n",
       "      <th>EXTERNAL_SCORING_WEIGHTED</th>\n",
       "      <th>TOTAL_SALARY</th>\n",
       "      <th>EDUCATION_FAMILY_STATUS</th>\n",
       "      <th>EXTERNAL_SCORING_RATING_nanmedian</th>\n",
       "      <th>EXPECTED_MONTHLY_LOSS_2</th>\n",
       "      <th>EXTERNAL_SCORING_RATING_1</th>\n",
       "      <th>REGION_POPULATION</th>\n",
       "      <th>RATIO_CREDIT_TO_SALARY</th>\n",
       "      <th>EXPECTED_TOTAL_LOSS_3</th>\n",
       "      <th>EXTERNAL_SCORING_RATING_max</th>\n",
       "      <th>EXPECTED_TOTAL_LOSS_1</th>\n",
       "      <th>RATIO_ANNUITY_TO_SALARY</th>\n",
       "      <th>FAMILY_STATUS</th>\n",
       "      <th>AMT_REQ_CREDIT_BUREAU_YEAR</th>\n",
       "      <th>EXTERNAL_SCORING_RATING_var</th>\n",
       "    </tr>\n",
       "  </thead>\n",
       "  <tbody>\n",
       "    <tr>\n",
       "      <th>0</th>\n",
       "      <td>0.628266</td>\n",
       "      <td>34.199726</td>\n",
       "      <td>16007.0</td>\n",
       "      <td>Secondary / secondary special</td>\n",
       "      <td>-1.000000</td>\n",
       "      <td>2646.0</td>\n",
       "      <td>0.628266</td>\n",
       "      <td>32895.0</td>\n",
       "      <td>-1.000000</td>\n",
       "      <td>Cash</td>\n",
       "      <td>0.628266</td>\n",
       "      <td>M</td>\n",
       "      <td>-1.0</td>\n",
       "      <td>706799.427892</td>\n",
       "      <td>1125000.0</td>\n",
       "      <td>20.0</td>\n",
       "      <td>-1.0</td>\n",
       "      <td>117000.0</td>\n",
       "      <td>Secondary / secondary special | Married</td>\n",
       "      <td>0.628266</td>\n",
       "      <td>20666.815272</td>\n",
       "      <td>-1.0</td>\n",
       "      <td>0.028663</td>\n",
       "      <td>9.615385</td>\n",
       "      <td>-1.000000</td>\n",
       "      <td>0.628266</td>\n",
       "      <td>-1.0</td>\n",
       "      <td>0.281154</td>\n",
       "      <td>Married</td>\n",
       "      <td>4.0</td>\n",
       "      <td>0.000000</td>\n",
       "    </tr>\n",
       "    <tr>\n",
       "      <th>1</th>\n",
       "      <td>0.383325</td>\n",
       "      <td>18.295341</td>\n",
       "      <td>10315.0</td>\n",
       "      <td>Secondary / secondary special</td>\n",
       "      <td>3222.322825</td>\n",
       "      <td>459.0</td>\n",
       "      <td>0.188490</td>\n",
       "      <td>17095.5</td>\n",
       "      <td>0.188490</td>\n",
       "      <td>Cash</td>\n",
       "      <td>0.578161</td>\n",
       "      <td>F</td>\n",
       "      <td>-1.0</td>\n",
       "      <td>180830.265914</td>\n",
       "      <td>312768.0</td>\n",
       "      <td>-1.0</td>\n",
       "      <td>-1.0</td>\n",
       "      <td>81000.0</td>\n",
       "      <td>Secondary / secondary special | Married</td>\n",
       "      <td>0.383325</td>\n",
       "      <td>9883.951718</td>\n",
       "      <td>-1.0</td>\n",
       "      <td>0.019689</td>\n",
       "      <td>3.861333</td>\n",
       "      <td>58953.494506</td>\n",
       "      <td>0.578161</td>\n",
       "      <td>-1.0</td>\n",
       "      <td>0.211056</td>\n",
       "      <td>Married</td>\n",
       "      <td>2.0</td>\n",
       "      <td>0.037961</td>\n",
       "    </tr>\n",
       "    <tr>\n",
       "      <th>2</th>\n",
       "      <td>0.267523</td>\n",
       "      <td>20.000000</td>\n",
       "      <td>13016.0</td>\n",
       "      <td>Secondary / secondary special</td>\n",
       "      <td>8606.290593</td>\n",
       "      <td>977.0</td>\n",
       "      <td>0.152544</td>\n",
       "      <td>22500.0</td>\n",
       "      <td>0.382502</td>\n",
       "      <td>Credit Card</td>\n",
       "      <td>0.152544</td>\n",
       "      <td>F</td>\n",
       "      <td>-1.0</td>\n",
       "      <td>68644.984320</td>\n",
       "      <td>450000.0</td>\n",
       "      <td>-1.0</td>\n",
       "      <td>-1.0</td>\n",
       "      <td>157500.0</td>\n",
       "      <td>Secondary / secondary special | Married</td>\n",
       "      <td>0.267523</td>\n",
       "      <td>3432.249216</td>\n",
       "      <td>-1.0</td>\n",
       "      <td>0.019101</td>\n",
       "      <td>2.857143</td>\n",
       "      <td>172125.811865</td>\n",
       "      <td>0.382502</td>\n",
       "      <td>-1.0</td>\n",
       "      <td>0.142857</td>\n",
       "      <td>Married</td>\n",
       "      <td>6.0</td>\n",
       "      <td>0.013220</td>\n",
       "    </tr>\n",
       "  </tbody>\n",
       "</table>\n",
       "</div>"
      ],
      "text/plain": [
       "   EXTERNAL_SCORING_RATING_mean  RATIO_CREDIT_TO_ANNUITY      AGE  \\\n",
       "0                      0.628266                34.199726  16007.0   \n",
       "1                      0.383325                18.295341  10315.0   \n",
       "2                      0.267523                20.000000  13016.0   \n",
       "\n",
       "                 EDUCATION_LEVEL  EXPECTED_MONTHLY_LOSS_3  DAYS_ON_LAST_JOB  \\\n",
       "0  Secondary / secondary special                -1.000000            2646.0   \n",
       "1  Secondary / secondary special              3222.322825             459.0   \n",
       "2  Secondary / secondary special              8606.290593             977.0   \n",
       "\n",
       "   EXTERNAL_SCORING_RATING_min  AMOUNT_ANNUITY  EXTERNAL_SCORING_RATING_3  \\\n",
       "0                     0.628266         32895.0                  -1.000000   \n",
       "1                     0.188490         17095.5                   0.188490   \n",
       "2                     0.152544         22500.0                   0.382502   \n",
       "\n",
       "  NAME_CONTRACT_TYPE  EXTERNAL_SCORING_RATING_2 GENDER  EXTERNAL_SCORING_PROD  \\\n",
       "0               Cash                   0.628266      M                   -1.0   \n",
       "1               Cash                   0.578161      F                   -1.0   \n",
       "2        Credit Card                   0.152544      F                   -1.0   \n",
       "\n",
       "   EXPECTED_TOTAL_LOSS_2  AMOUNT_CREDIT  OWN_CAR_AGE  \\\n",
       "0          706799.427892      1125000.0         20.0   \n",
       "1          180830.265914       312768.0         -1.0   \n",
       "2           68644.984320       450000.0         -1.0   \n",
       "\n",
       "   EXTERNAL_SCORING_WEIGHTED  TOTAL_SALARY  \\\n",
       "0                       -1.0      117000.0   \n",
       "1                       -1.0       81000.0   \n",
       "2                       -1.0      157500.0   \n",
       "\n",
       "                   EDUCATION_FAMILY_STATUS  EXTERNAL_SCORING_RATING_nanmedian  \\\n",
       "0  Secondary / secondary special | Married                           0.628266   \n",
       "1  Secondary / secondary special | Married                           0.383325   \n",
       "2  Secondary / secondary special | Married                           0.267523   \n",
       "\n",
       "   EXPECTED_MONTHLY_LOSS_2  EXTERNAL_SCORING_RATING_1  REGION_POPULATION  \\\n",
       "0             20666.815272                       -1.0           0.028663   \n",
       "1              9883.951718                       -1.0           0.019689   \n",
       "2              3432.249216                       -1.0           0.019101   \n",
       "\n",
       "   RATIO_CREDIT_TO_SALARY  EXPECTED_TOTAL_LOSS_3  EXTERNAL_SCORING_RATING_max  \\\n",
       "0                9.615385              -1.000000                     0.628266   \n",
       "1                3.861333           58953.494506                     0.578161   \n",
       "2                2.857143          172125.811865                     0.382502   \n",
       "\n",
       "   EXPECTED_TOTAL_LOSS_1  RATIO_ANNUITY_TO_SALARY FAMILY_STATUS  \\\n",
       "0                   -1.0                 0.281154       Married   \n",
       "1                   -1.0                 0.211056       Married   \n",
       "2                   -1.0                 0.142857       Married   \n",
       "\n",
       "   AMT_REQ_CREDIT_BUREAU_YEAR  EXTERNAL_SCORING_RATING_var  \n",
       "0                         4.0                     0.000000  \n",
       "1                         2.0                     0.037961  \n",
       "2                         6.0                     0.013220  "
      ]
     },
     "execution_count": 106,
     "metadata": {},
     "output_type": "execute_result"
    }
   ],
   "source": [
    "test_cat_crop_2.head(3)"
   ]
  },
  {
   "cell_type": "code",
   "execution_count": 107,
   "metadata": {
    "execution": {
     "iopub.execute_input": "2020-10-04T17:47:22.968082Z",
     "iopub.status.busy": "2020-10-04T17:47:22.967478Z",
     "iopub.status.idle": "2020-10-04T17:47:22.970655Z",
     "shell.execute_reply": "2020-10-04T17:47:22.970141Z"
    },
    "id": "4Rpg09vGHSU-",
    "papermill": {
     "duration": 0.163003,
     "end_time": "2020-10-04T17:47:22.970767",
     "exception": false,
     "start_time": "2020-10-04T17:47:22.807764",
     "status": "completed"
    },
    "tags": []
   },
   "outputs": [],
   "source": [
    "# train_crop_2.to_csv(data_dir + \"train_crop_2.csv\", sep=\";\", index=False)\n",
    "# train_cat_crop_2.to_csv(data_dir + \"train_cat_crop_2.csv\", sep=\";\", index=False)\n",
    "# test_crop_2.to_csv(data_dir + \"test_crop_2.csv\", sep=\";\", index=False)\n",
    "# test_cat_crop_2.to_csv(data_dir + \"test_cat_crop_2.csv\", sep=\";\", index=False)"
   ]
  },
  {
   "cell_type": "markdown",
   "metadata": {
    "id": "pLtbHnabHACp",
    "papermill": {
     "duration": 0.158735,
     "end_time": "2020-10-04T17:47:23.287217",
     "exception": false,
     "start_time": "2020-10-04T17:47:23.128482",
     "status": "completed"
    },
    "tags": []
   },
   "source": [
    "### Подбор параметров на сокращённых наборах"
   ]
  },
  {
   "cell_type": "code",
   "execution_count": 108,
   "metadata": {
    "execution": {
     "iopub.execute_input": "2020-10-04T17:47:23.604281Z",
     "iopub.status.busy": "2020-10-04T17:47:23.603671Z",
     "iopub.status.idle": "2020-10-04T17:47:23.611542Z",
     "shell.execute_reply": "2020-10-04T17:47:23.610900Z"
    },
    "id": "qaAY4yWpaDMd",
    "papermill": {
     "duration": 0.166615,
     "end_time": "2020-10-04T17:47:23.611661",
     "exception": false,
     "start_time": "2020-10-04T17:47:23.445046",
     "status": "completed"
    },
    "tags": []
   },
   "outputs": [],
   "source": [
    "def get_model_lgbm_reg_hp(parameters, X, y):\n",
    "    clf = GridSearchCV(\n",
    "        estimator=lgbm.LGBMClassifier(subsample=0.5, random_state=42),\n",
    "        param_grid=parameters,\n",
    "        scoring='roc_auc',\n",
    "        cv=5,\n",
    "        return_train_score = True\n",
    "    )\n",
    "    \n",
    "    clf.fit(X, y)\n",
    "    \n",
    "    cv_results = pd.DataFrame(clf.cv_results_)\n",
    "\n",
    "    #print(cv_results.columns)\n",
    "    \n",
    "    param_columns = [\n",
    "        column\n",
    "        for column in cv_results.columns\n",
    "        if column.startswith('param_')\n",
    "    ]\n",
    "\n",
    "    score_columns = ['mean_test_score', 'mean_train_score']\n",
    "\n",
    "    cv_results = (cv_results[param_columns + score_columns]\n",
    "                  .sort_values(by=score_columns, ascending=False))\n",
    "\n",
    "    print(cv_results)\n",
    "    print(f\"\\nbest params: {clf.best_params_}\\n\")\n",
    "    return clf"
   ]
  },
  {
   "cell_type": "code",
   "execution_count": 109,
   "metadata": {
    "execution": {
     "iopub.execute_input": "2020-10-04T17:47:23.928236Z",
     "iopub.status.busy": "2020-10-04T17:47:23.927669Z",
     "iopub.status.idle": "2020-10-04T17:47:23.931789Z",
     "shell.execute_reply": "2020-10-04T17:47:23.932300Z"
    },
    "id": "n_-UVjnzagtV",
    "papermill": {
     "duration": 0.162882,
     "end_time": "2020-10-04T17:47:23.932495",
     "exception": false,
     "start_time": "2020-10-04T17:47:23.769613",
     "status": "completed"
    },
    "tags": []
   },
   "outputs": [],
   "source": [
    "parameters_l_2 = {\n",
    "    'num_leaves': [26, 31],\n",
    "    # 'max_depth': [5], #, 3, 7\n",
    "    'n_estimators': [50, 100, 200],\n",
    "    'learning_rate': [0.1, 0.05]\n",
    "}"
   ]
  },
  {
   "cell_type": "code",
   "execution_count": 110,
   "metadata": {
    "execution": {
     "iopub.execute_input": "2020-10-04T17:47:24.246554Z",
     "iopub.status.busy": "2020-10-04T17:47:24.245999Z",
     "iopub.status.idle": "2020-10-04T17:47:24.250111Z",
     "shell.execute_reply": "2020-10-04T17:47:24.249699Z"
    },
    "id": "_lO5ErNUdCKU",
    "papermill": {
     "duration": 0.161743,
     "end_time": "2020-10-04T17:47:24.250208",
     "exception": false,
     "start_time": "2020-10-04T17:47:24.088465",
     "status": "completed"
    },
    "tags": []
   },
   "outputs": [],
   "source": [
    "# clf_l_c1 = get_model_lgbm_reg_hp(parameters_l_2, train_crop,  train_prep[\"TARGET\"])"
   ]
  },
  {
   "cell_type": "code",
   "execution_count": 111,
   "metadata": {
    "execution": {
     "iopub.execute_input": "2020-10-04T17:47:24.567364Z",
     "iopub.status.busy": "2020-10-04T17:47:24.566783Z",
     "iopub.status.idle": "2020-10-04T17:47:24.568661Z",
     "shell.execute_reply": "2020-10-04T17:47:24.569194Z"
    },
    "id": "8KlePXFVKqph",
    "papermill": {
     "duration": 0.161868,
     "end_time": "2020-10-04T17:47:24.569328",
     "exception": false,
     "start_time": "2020-10-04T17:47:24.407460",
     "status": "completed"
    },
    "tags": []
   },
   "outputs": [],
   "source": [
    "# clf_l_c2 = get_model_lgbm_reg_hp(parameters_l_2, train_crop_2,  train_prep[\"TARGET\"])"
   ]
  },
  {
   "cell_type": "code",
   "execution_count": 112,
   "metadata": {
    "execution": {
     "iopub.execute_input": "2020-10-04T17:47:24.891729Z",
     "iopub.status.busy": "2020-10-04T17:47:24.890756Z",
     "iopub.status.idle": "2020-10-04T17:47:24.895922Z",
     "shell.execute_reply": "2020-10-04T17:47:24.896505Z"
    },
    "papermill": {
     "duration": 0.166493,
     "end_time": "2020-10-04T17:47:24.896647",
     "exception": false,
     "start_time": "2020-10-04T17:47:24.730154",
     "status": "completed"
    },
    "tags": []
   },
   "outputs": [
    {
     "name": "stderr",
     "output_type": "stream",
     "text": [
      "/opt/conda/lib/python3.7/site-packages/sklearn/model_selection/_split.py:297: FutureWarning: Setting a random_state has no effect since shuffle is False. This will raise an error in 0.24. You should leave random_state to its default (None), or set shuffle=True.\n",
      "  FutureWarning\n"
     ]
    }
   ],
   "source": [
    "cv_strategy = KFold(n_splits=5, random_state=42)"
   ]
  },
  {
   "cell_type": "code",
   "execution_count": 113,
   "metadata": {
    "execution": {
     "iopub.execute_input": "2020-10-04T17:47:25.218034Z",
     "iopub.status.busy": "2020-10-04T17:47:25.217453Z",
     "iopub.status.idle": "2020-10-04T17:47:25.221193Z",
     "shell.execute_reply": "2020-10-04T17:47:25.221643Z"
    },
    "id": "10MHbzrRdByp",
    "papermill": {
     "duration": 0.168532,
     "end_time": "2020-10-04T17:47:25.221788",
     "exception": false,
     "start_time": "2020-10-04T17:47:25.053256",
     "status": "completed"
    },
    "tags": []
   },
   "outputs": [],
   "source": [
    "# best params: {'learning_rate': 0.05, 'n_estimators': 100, 'num_leaves': 26}\n",
    "params_l_2_1 = {}\n",
    "params_l_2_1[\"num_leaves\"] = 26 # clf_l_c1.best_params_['num_leaves']\n",
    "# params_l2[\"max_depth\"] = clf_l_c1.best_params_['max_depth']\n",
    "params_l_2_1[\"n_estimators\"] = 100 # clf_l_c1.best_params_['n_estimators']\n",
    "params_l_2_1[\"learning_rate\"] = 0.05 # clf_l_c1.best_params_['learning_rate']"
   ]
  },
  {
   "cell_type": "code",
   "execution_count": 114,
   "metadata": {
    "execution": {
     "iopub.execute_input": "2020-10-04T17:47:25.541339Z",
     "iopub.status.busy": "2020-10-04T17:47:25.540770Z",
     "iopub.status.idle": "2020-10-04T17:47:34.688891Z",
     "shell.execute_reply": "2020-10-04T17:47:34.689880Z"
    },
    "id": "mdqVsTcsl8wn",
    "outputId": "f80ff4b3-fe29-4f40-f00c-1585b2d4570e",
    "papermill": {
     "duration": 9.311805,
     "end_time": "2020-10-04T17:47:34.690201",
     "exception": false,
     "start_time": "2020-10-04T17:47:25.378396",
     "status": "completed"
    },
    "tags": []
   },
   "outputs": [
    {
     "name": "stdout",
     "output_type": "stream",
     "text": [
      "Fold: 1, train-observations = 88074, valid-observations = 22019\n",
      "train-score = 0.7566, valid-score = 0.7205\n",
      "=====================================================================\n",
      "Fold: 2, train-observations = 88074, valid-observations = 22019\n",
      "train-score = 0.7551, valid-score = 0.7191\n",
      "=====================================================================\n",
      "Fold: 3, train-observations = 88074, valid-observations = 22019\n",
      "train-score = 0.7525, valid-score = 0.7283\n",
      "=====================================================================\n",
      "Fold: 4, train-observations = 88075, valid-observations = 22018\n",
      "train-score = 0.7544, valid-score = 0.7231\n",
      "=====================================================================\n",
      "Fold: 5, train-observations = 88075, valid-observations = 22018\n",
      "train-score = 0.7525, valid-score = 0.7296\n",
      "=====================================================================\n",
      "CV-results train: 0.7542 +/- 0.002\n",
      "CV-results valid: 0.7241 +/- 0.004\n",
      "OOF-score = 0.7233\n"
     ]
    }
   ],
   "source": [
    "estimators_lgbm_c1, oof_score_lgbm_c1, fold_train_scores_lgbm_c1, fold_valid_scores_lgbm_c1, oof_predictions_lgbm_c1 = make_cross_validation_adapt_l(\n",
    "    train_crop,\n",
    "    train_prep[\"TARGET\"],\n",
    "    params=params_l_2_1,\n",
    "    metric=roc_auc_score, \n",
    "    cv_strategy=cv_strategy\n",
    ")"
   ]
  },
  {
   "cell_type": "code",
   "execution_count": 115,
   "metadata": {
    "execution": {
     "iopub.execute_input": "2020-10-04T17:47:35.044895Z",
     "iopub.status.busy": "2020-10-04T17:47:35.044305Z",
     "iopub.status.idle": "2020-10-04T17:47:35.047336Z",
     "shell.execute_reply": "2020-10-04T17:47:35.046733Z"
    },
    "id": "thM1xzx4rsgl",
    "papermill": {
     "duration": 0.165305,
     "end_time": "2020-10-04T17:47:35.047486",
     "exception": false,
     "start_time": "2020-10-04T17:47:34.882181",
     "status": "completed"
    },
    "tags": []
   },
   "outputs": [],
   "source": [
    "# best params: {'learning_rate': 0.05, 'n_estimators': 200, 'num_leaves': 26}\n",
    "params_l_2_2 = {}\n",
    "params_l_2_2[\"num_leaves\"] = 26 # clf_l_c2.best_params_['num_leaves']\n",
    "# params_l2[\"max_depth\"] = clf_l_c1.best_params_['max_depth']\n",
    "params_l_2_2[\"n_estimators\"] = 200 # clf_l_c2.best_params_['n_estimators']\n",
    "params_l_2_2[\"learning_rate\"] = 0.05 # clf_l_c2.best_params_['learning_rate']"
   ]
  },
  {
   "cell_type": "code",
   "execution_count": 116,
   "metadata": {
    "execution": {
     "iopub.execute_input": "2020-10-04T17:47:35.372685Z",
     "iopub.status.busy": "2020-10-04T17:47:35.371775Z",
     "iopub.status.idle": "2020-10-04T17:47:47.375652Z",
     "shell.execute_reply": "2020-10-04T17:47:47.376226Z"
    },
    "id": "_7PVlagdlVG8",
    "outputId": "38a0ba49-41f5-4878-8ac6-a44e5b6851e3",
    "papermill": {
     "duration": 12.169637,
     "end_time": "2020-10-04T17:47:47.376430",
     "exception": false,
     "start_time": "2020-10-04T17:47:35.206793",
     "status": "completed"
    },
    "tags": []
   },
   "outputs": [
    {
     "name": "stdout",
     "output_type": "stream",
     "text": [
      "Fold: 1, train-observations = 88074, valid-observations = 22019\n",
      "train-score = 0.7774, valid-score = 0.7223\n",
      "=====================================================================\n",
      "Fold: 2, train-observations = 88074, valid-observations = 22019\n",
      "train-score = 0.7689, valid-score = 0.7218\n",
      "=====================================================================\n",
      "Fold: 3, train-observations = 88074, valid-observations = 22019\n",
      "train-score = 0.7812, valid-score = 0.731\n",
      "=====================================================================\n",
      "Fold: 4, train-observations = 88075, valid-observations = 22018\n",
      "train-score = 0.7624, valid-score = 0.7223\n",
      "=====================================================================\n",
      "Fold: 5, train-observations = 88075, valid-observations = 22018\n",
      "train-score = 0.7442, valid-score = 0.728\n",
      "=====================================================================\n",
      "CV-results train: 0.7668 +/- 0.013\n",
      "CV-results valid: 0.7251 +/- 0.004\n",
      "OOF-score = 0.7242\n"
     ]
    }
   ],
   "source": [
    "estimators_lgbm_c2, oof_score_lgbm_c2, fold_train_scores_lgbm_c2, fold_valid_scores_lgbm_c2, oof_predictions_lgbm_c2 = make_cross_validation_adapt_l(\n",
    "    train_crop_2,\n",
    "    train_prep[\"TARGET\"],\n",
    "    params=params_l_2_2,\n",
    "    metric=roc_auc_score, \n",
    "    cv_strategy=cv_strategy\n",
    ")"
   ]
  },
  {
   "cell_type": "code",
   "execution_count": 117,
   "metadata": {
    "execution": {
     "iopub.execute_input": "2020-10-04T17:47:47.783862Z",
     "iopub.status.busy": "2020-10-04T17:47:47.783182Z",
     "iopub.status.idle": "2020-10-04T17:47:47.786269Z",
     "shell.execute_reply": "2020-10-04T17:47:47.785825Z"
    },
    "id": "IMm614EkmD9Q",
    "papermill": {
     "duration": 0.210748,
     "end_time": "2020-10-04T17:47:47.786379",
     "exception": false,
     "start_time": "2020-10-04T17:47:47.575631",
     "status": "completed"
    },
    "tags": []
   },
   "outputs": [],
   "source": [
    "# best params: {'learning_rate': 0.05, 'n_estimators': 100, 'num_leaves': 26}\n",
    "lgbm_params_2_1 =  {\n",
    "    'boosting_type': 'gbdt',\n",
    "    'objective': 'binary',\n",
    "    'metric': 'auc',\n",
    "    \"num_leaves\": 26, # clf_l_c1.best_params_['num_leaves'],\n",
    "    \"learning_rate\": 0.05, # clf_l_c1.best_params_['learning_rate'],\n",
    "    # \"n_estimators\": 100, # clf_l_c1.best_params_['n_estimators'],\n",
    "    \"random_state\": 42 \n",
    "    }"
   ]
  },
  {
   "cell_type": "code",
   "execution_count": 118,
   "metadata": {
    "execution": {
     "iopub.execute_input": "2020-10-04T17:47:48.117049Z",
     "iopub.status.busy": "2020-10-04T17:47:48.116367Z",
     "iopub.status.idle": "2020-10-04T17:48:03.881713Z",
     "shell.execute_reply": "2020-10-04T17:48:03.882355Z"
    },
    "id": "TlD3PuE26ZGE",
    "papermill": {
     "duration": 15.934756,
     "end_time": "2020-10-04T17:48:03.882542",
     "exception": false,
     "start_time": "2020-10-04T17:47:47.947786",
     "status": "completed"
    },
    "tags": []
   },
   "outputs": [],
   "source": [
    "dftrainLGB = lgbm.Dataset(data = train_crop, \n",
    "                          label = train_prep[\"TARGET\"])\n",
    "                        #   feature_name = list(x_train))\n",
    "\n",
    "cv_results_l_2_1 = lgbm.cv(\n",
    "        lgbm_params_2_1,\n",
    "        dftrainLGB,\n",
    "        num_boost_round=2000,\n",
    "        nfold=5,\n",
    "        metrics='auc',\n",
    "        early_stopping_rounds=50\n",
    "        )"
   ]
  },
  {
   "cell_type": "code",
   "execution_count": 119,
   "metadata": {
    "execution": {
     "iopub.execute_input": "2020-10-04T17:48:04.250562Z",
     "iopub.status.busy": "2020-10-04T17:48:04.249779Z",
     "iopub.status.idle": "2020-10-04T17:48:04.252400Z",
     "shell.execute_reply": "2020-10-04T17:48:04.252847Z"
    },
    "id": "SqQebN-Bm0Td",
    "outputId": "6eeb26b9-f5c2-4b79-ebd7-3ab36a3634e2",
    "papermill": {
     "duration": 0.166303,
     "end_time": "2020-10-04T17:48:04.252977",
     "exception": false,
     "start_time": "2020-10-04T17:48:04.086674",
     "status": "completed"
    },
    "tags": []
   },
   "outputs": [
    {
     "name": "stdout",
     "output_type": "stream",
     "text": [
      "lgbm.cv auc-mean: 0.7243, auc-stdv: 0.0064\n"
     ]
    }
   ],
   "source": [
    "print(f\"lgbm.cv auc-mean: {cv_results_l_2_1['auc-mean'][len(cv_results_l_2_1['auc-mean'])-1]:.4f}, \\\n",
    "auc-stdv: {cv_results_l_2_1['auc-stdv'][len(cv_results_l_2_1['auc-stdv'])-1]:.4f}\")"
   ]
  },
  {
   "cell_type": "code",
   "execution_count": 120,
   "metadata": {
    "execution": {
     "iopub.execute_input": "2020-10-04T17:48:04.579463Z",
     "iopub.status.busy": "2020-10-04T17:48:04.578836Z",
     "iopub.status.idle": "2020-10-04T17:48:04.581499Z",
     "shell.execute_reply": "2020-10-04T17:48:04.581973Z"
    },
    "id": "s_RhNyXYtCGw",
    "papermill": {
     "duration": 0.168303,
     "end_time": "2020-10-04T17:48:04.582117",
     "exception": false,
     "start_time": "2020-10-04T17:48:04.413814",
     "status": "completed"
    },
    "tags": []
   },
   "outputs": [],
   "source": [
    "# best params: {'learning_rate': 0.05, 'n_estimators': 200, 'num_leaves': 26}\n",
    "lgbm_params_2_2 =  {\n",
    "    'boosting_type': 'gbdt',\n",
    "    'objective': 'binary',\n",
    "    'metric': 'auc',\n",
    "    \"num_leaves\": 26, # clf_l_c2.best_params_['num_leaves'],\n",
    "    \"learning_rate\": 0.05, # clf_l_c2.best_params_['learning_rate'],\n",
    "    # \"n_estimators\": 200, # clf_l_c2.best_params_['n_estimators'],\n",
    "    \"random_state\": 42 \n",
    "    }"
   ]
  },
  {
   "cell_type": "code",
   "execution_count": 121,
   "metadata": {
    "execution": {
     "iopub.execute_input": "2020-10-04T17:48:04.915634Z",
     "iopub.status.busy": "2020-10-04T17:48:04.914368Z",
     "iopub.status.idle": "2020-10-04T17:48:19.140221Z",
     "shell.execute_reply": "2020-10-04T17:48:19.140852Z"
    },
    "id": "_HYJ40SZtDCh",
    "papermill": {
     "duration": 14.393305,
     "end_time": "2020-10-04T17:48:19.141045",
     "exception": false,
     "start_time": "2020-10-04T17:48:04.747740",
     "status": "completed"
    },
    "tags": []
   },
   "outputs": [],
   "source": [
    "dftrainLGB = lgbm.Dataset(data = train_crop_2, \n",
    "                          label = train_prep[\"TARGET\"])\n",
    "                        #   feature_name = list(x_train))\n",
    "\n",
    "cv_results_l_2_2 = lgbm.cv(\n",
    "        lgbm_params_2_2,\n",
    "        dftrainLGB,\n",
    "        num_boost_round=2000,\n",
    "        nfold=5,\n",
    "        metrics='auc',\n",
    "        early_stopping_rounds=50\n",
    "        )"
   ]
  },
  {
   "cell_type": "code",
   "execution_count": 122,
   "metadata": {
    "execution": {
     "iopub.execute_input": "2020-10-04T17:48:19.516076Z",
     "iopub.status.busy": "2020-10-04T17:48:19.515378Z",
     "iopub.status.idle": "2020-10-04T17:48:19.519469Z",
     "shell.execute_reply": "2020-10-04T17:48:19.518858Z"
    },
    "id": "9kHqsciZtDzE",
    "outputId": "3872799d-1e5f-4f55-db49-ea3aea97714c",
    "papermill": {
     "duration": 0.172883,
     "end_time": "2020-10-04T17:48:19.519587",
     "exception": false,
     "start_time": "2020-10-04T17:48:19.346704",
     "status": "completed"
    },
    "tags": []
   },
   "outputs": [
    {
     "name": "stdout",
     "output_type": "stream",
     "text": [
      "lgbm.cv auc-mean: 0.7244, auc-stdv: 0.0064\n"
     ]
    }
   ],
   "source": [
    "print(f\"lgbm.cv auc-mean: {cv_results_l_2_2['auc-mean'][len(cv_results_l_2_2['auc-mean'])-1]:.4f}, \\\n",
    "auc-stdv: {cv_results_l_2_2['auc-stdv'][len(cv_results_l_2_2['auc-stdv'])-1]:.4f}\")"
   ]
  },
  {
   "cell_type": "code",
   "execution_count": 123,
   "metadata": {
    "execution": {
     "iopub.execute_input": "2020-10-04T17:48:19.852750Z",
     "iopub.status.busy": "2020-10-04T17:48:19.852116Z",
     "iopub.status.idle": "2020-10-04T17:48:20.061022Z",
     "shell.execute_reply": "2020-10-04T17:48:20.060521Z"
    },
    "papermill": {
     "duration": 0.379974,
     "end_time": "2020-10-04T17:48:20.061127",
     "exception": false,
     "start_time": "2020-10-04T17:48:19.681153",
     "status": "completed"
    },
    "tags": []
   },
   "outputs": [
    {
     "name": "stdout",
     "output_type": "stream",
     "text": [
      "oof_predictions_lgbm_f score: 0.7239 mod 0.7239\n",
      "oof_predictions_lgbm_c1 score: 0.7233 mod 0.7228\n",
      "oof_predictions_lgbm_c2 score: 0.7242 mod 0.7175\n"
     ]
    }
   ],
   "source": [
    "oof_predictions_lgbm_f_copy = oof_predictions_lgbm_f.copy()\n",
    "oof_predictions_lgbm_c1_copy = oof_predictions_lgbm_c1.copy()\n",
    "oof_predictions_lgbm_c2_copy = oof_predictions_lgbm_c2.copy()\n",
    "\n",
    "oof_predictions_lgbm_f_copy[oof_predictions_lgbm_f_copy < 0.01] = 0\n",
    "oof_predictions_lgbm_f_copy[oof_predictions_lgbm_f_copy > 0.99] = 1\n",
    "\n",
    "oof_predictions_lgbm_c1_copy[oof_predictions_lgbm_c1_copy < 0.03] = 0\n",
    "oof_predictions_lgbm_c1_copy[oof_predictions_lgbm_c1_copy > 0.97] = 1\n",
    "\n",
    "oof_predictions_lgbm_c2_copy[oof_predictions_lgbm_c2_copy < 0.05] = 0\n",
    "oof_predictions_lgbm_c2_copy[oof_predictions_lgbm_c2_copy > 0.95] = 1\n",
    "\n",
    "score_lgbm_f = roc_auc_score(train_prep[\"TARGET\"].values, oof_predictions_lgbm_f)\n",
    "score_lgbm_f_c = roc_auc_score(train_prep[\"TARGET\"].values, oof_predictions_lgbm_f_copy)\n",
    "print(f\"oof_predictions_lgbm_f score: {round(score_lgbm_f, 4)} mod {round(score_lgbm_f_c, 4)}\")\n",
    "\n",
    "score_lgbm_c1 = roc_auc_score(train_prep[\"TARGET\"].values, oof_predictions_lgbm_c1)\n",
    "score_lgbm_c1_c = roc_auc_score(train_prep[\"TARGET\"].values, oof_predictions_lgbm_c1_copy)\n",
    "print(f\"oof_predictions_lgbm_c1 score: {round(score_lgbm_c1, 4)} mod {round(score_lgbm_c1_c, 4)}\")\n",
    "\n",
    "score_lgbm_c2 = roc_auc_score(train_prep[\"TARGET\"].values, oof_predictions_lgbm_c2)\n",
    "score_lgbm_c2_c = roc_auc_score(train_prep[\"TARGET\"].values, oof_predictions_lgbm_c2_copy)\n",
    "print(f\"oof_predictions_lgbm_c2 score: {round(score_lgbm_c2, 4)} mod {round(score_lgbm_c2_c, 4)}\")"
   ]
  },
  {
   "cell_type": "markdown",
   "metadata": {
    "id": "JACjnP0Zk_bX",
    "papermill": {
     "duration": 0.163717,
     "end_time": "2020-10-04T17:48:20.390436",
     "exception": false,
     "start_time": "2020-10-04T17:48:20.226719",
     "status": "completed"
    },
    "tags": []
   },
   "source": [
    "### LightGBM данные для загрузки"
   ]
  },
  {
   "cell_type": "code",
   "execution_count": 124,
   "metadata": {
    "execution": {
     "iopub.execute_input": "2020-10-04T17:48:20.731837Z",
     "iopub.status.busy": "2020-10-04T17:48:20.730740Z",
     "iopub.status.idle": "2020-10-04T17:48:20.739851Z",
     "shell.execute_reply": "2020-10-04T17:48:20.740289Z"
    },
    "id": "AzsOjC1UJAOl",
    "outputId": "b251c0f8-8952-41c0-86e3-cd5eba763f7b",
    "papermill": {
     "duration": 0.182473,
     "end_time": "2020-10-04T17:48:20.740466",
     "exception": false,
     "start_time": "2020-10-04T17:48:20.557993",
     "status": "completed"
    },
    "tags": []
   },
   "outputs": [
    {
     "data": {
      "text/html": [
       "<div>\n",
       "<style scoped>\n",
       "    .dataframe tbody tr th:only-of-type {\n",
       "        vertical-align: middle;\n",
       "    }\n",
       "\n",
       "    .dataframe tbody tr th {\n",
       "        vertical-align: top;\n",
       "    }\n",
       "\n",
       "    .dataframe thead th {\n",
       "        text-align: right;\n",
       "    }\n",
       "</style>\n",
       "<table border=\"1\" class=\"dataframe\">\n",
       "  <thead>\n",
       "    <tr style=\"text-align: right;\">\n",
       "      <th></th>\n",
       "      <th>APPLICATION_NUMBER</th>\n",
       "      <th>TARGET</th>\n",
       "    </tr>\n",
       "  </thead>\n",
       "  <tbody>\n",
       "    <tr>\n",
       "      <th>0</th>\n",
       "      <td>123724268</td>\n",
       "      <td>0</td>\n",
       "    </tr>\n",
       "    <tr>\n",
       "      <th>1</th>\n",
       "      <td>123456549</td>\n",
       "      <td>0</td>\n",
       "    </tr>\n",
       "    <tr>\n",
       "      <th>2</th>\n",
       "      <td>123428178</td>\n",
       "      <td>0</td>\n",
       "    </tr>\n",
       "    <tr>\n",
       "      <th>3</th>\n",
       "      <td>123619984</td>\n",
       "      <td>0</td>\n",
       "    </tr>\n",
       "    <tr>\n",
       "      <th>4</th>\n",
       "      <td>123671104</td>\n",
       "      <td>0</td>\n",
       "    </tr>\n",
       "  </tbody>\n",
       "</table>\n",
       "</div>"
      ],
      "text/plain": [
       "   APPLICATION_NUMBER  TARGET\n",
       "0           123724268       0\n",
       "1           123456549       0\n",
       "2           123428178       0\n",
       "3           123619984       0\n",
       "4           123671104       0"
      ]
     },
     "execution_count": 124,
     "metadata": {},
     "output_type": "execute_result"
    }
   ],
   "source": [
    "prediction_lgbm_c2 = test[['APPLICATION_NUMBER']].copy()\n",
    "prediction_lgbm_c2[\"TARGET\"] = 0\n",
    "prediction_lgbm_c2.head()"
   ]
  },
  {
   "cell_type": "code",
   "execution_count": 125,
   "metadata": {
    "execution": {
     "iopub.execute_input": "2020-10-04T17:48:21.076304Z",
     "iopub.status.busy": "2020-10-04T17:48:21.075680Z",
     "iopub.status.idle": "2020-10-04T17:48:27.009621Z",
     "shell.execute_reply": "2020-10-04T17:48:27.010260Z"
    },
    "id": "6S6hRMFhRoqo",
    "papermill": {
     "duration": 6.100798,
     "end_time": "2020-10-04T17:48:27.010441",
     "exception": false,
     "start_time": "2020-10-04T17:48:20.909643",
     "status": "completed"
    },
    "tags": []
   },
   "outputs": [],
   "source": [
    "test_predictions_lgbm_f = np.zeros(prediction_lgbm_c2[\"TARGET\"].shape[0])\n",
    "test_predictions_lgbm_c1 = np.zeros(prediction_lgbm_c2[\"TARGET\"].shape[0])\n",
    "test_predictions_lgbm_c2 = np.zeros(prediction_lgbm_c2[\"TARGET\"].shape[0])\n",
    "\n",
    "for i in range(5):\n",
    "    test_predictions_lgbm_f += estimators_lgbm_f[i].predict(test_prep.drop([\"APPLICATION_NUMBER\"], axis=1))\n",
    "    test_predictions_lgbm_c1 += estimators_lgbm_c1[i].predict(test_crop)\n",
    "    test_predictions_lgbm_c2 += estimators_lgbm_c2[i].predict(test_crop_2)\n",
    "\n",
    "test_predictions_lgbm_f /= 5\n",
    "test_predictions_lgbm_c1 /= 5\n",
    "test_predictions_lgbm_c2 /= 5"
   ]
  },
  {
   "cell_type": "code",
   "execution_count": 126,
   "metadata": {
    "execution": {
     "iopub.execute_input": "2020-10-04T17:48:27.419658Z",
     "iopub.status.busy": "2020-10-04T17:48:27.418996Z",
     "iopub.status.idle": "2020-10-04T17:48:27.423744Z",
     "shell.execute_reply": "2020-10-04T17:48:27.424340Z"
    },
    "papermill": {
     "duration": 0.185693,
     "end_time": "2020-10-04T17:48:27.424537",
     "exception": false,
     "start_time": "2020-10-04T17:48:27.238844",
     "status": "completed"
    },
    "tags": []
   },
   "outputs": [],
   "source": [
    "test_predictions_lgbm_f[test_predictions_lgbm_f < 0] = 0\n",
    "test_predictions_lgbm_f[test_predictions_lgbm_f > 1] = 1\n",
    "\n",
    "test_predictions_lgbm_c1[test_predictions_lgbm_c1 < 0] = 0\n",
    "test_predictions_lgbm_c1[test_predictions_lgbm_c1 > 1] = 1\n",
    "\n",
    "test_predictions_lgbm_c2[test_predictions_lgbm_c2 < 0] = 0\n",
    "test_predictions_lgbm_c2[test_predictions_lgbm_c2 > 1] = 1"
   ]
  },
  {
   "cell_type": "code",
   "execution_count": 127,
   "metadata": {
    "execution": {
     "iopub.execute_input": "2020-10-04T17:48:27.759582Z",
     "iopub.status.busy": "2020-10-04T17:48:27.758970Z",
     "iopub.status.idle": "2020-10-04T17:48:27.767110Z",
     "shell.execute_reply": "2020-10-04T17:48:27.767528Z"
    },
    "id": "Kr5xvio3JAOt",
    "outputId": "94c0427d-dfa5-4c9f-e21b-c0bf8a1b52e2",
    "papermill": {
     "duration": 0.175416,
     "end_time": "2020-10-04T17:48:27.767670",
     "exception": false,
     "start_time": "2020-10-04T17:48:27.592254",
     "status": "completed"
    },
    "tags": []
   },
   "outputs": [
    {
     "data": {
      "text/html": [
       "<div>\n",
       "<style scoped>\n",
       "    .dataframe tbody tr th:only-of-type {\n",
       "        vertical-align: middle;\n",
       "    }\n",
       "\n",
       "    .dataframe tbody tr th {\n",
       "        vertical-align: top;\n",
       "    }\n",
       "\n",
       "    .dataframe thead th {\n",
       "        text-align: right;\n",
       "    }\n",
       "</style>\n",
       "<table border=\"1\" class=\"dataframe\">\n",
       "  <thead>\n",
       "    <tr style=\"text-align: right;\">\n",
       "      <th></th>\n",
       "      <th>APPLICATION_NUMBER</th>\n",
       "      <th>TARGET</th>\n",
       "    </tr>\n",
       "  </thead>\n",
       "  <tbody>\n",
       "    <tr>\n",
       "      <th>165136</th>\n",
       "      <td>123487967</td>\n",
       "      <td>0.083334</td>\n",
       "    </tr>\n",
       "    <tr>\n",
       "      <th>165137</th>\n",
       "      <td>123536402</td>\n",
       "      <td>0.037703</td>\n",
       "    </tr>\n",
       "    <tr>\n",
       "      <th>165138</th>\n",
       "      <td>123718238</td>\n",
       "      <td>0.083334</td>\n",
       "    </tr>\n",
       "    <tr>\n",
       "      <th>165139</th>\n",
       "      <td>123631557</td>\n",
       "      <td>0.022199</td>\n",
       "    </tr>\n",
       "    <tr>\n",
       "      <th>165140</th>\n",
       "      <td>123433260</td>\n",
       "      <td>0.052735</td>\n",
       "    </tr>\n",
       "  </tbody>\n",
       "</table>\n",
       "</div>"
      ],
      "text/plain": [
       "        APPLICATION_NUMBER    TARGET\n",
       "165136           123487967  0.083334\n",
       "165137           123536402  0.037703\n",
       "165138           123718238  0.083334\n",
       "165139           123631557  0.022199\n",
       "165140           123433260  0.052735"
      ]
     },
     "execution_count": 127,
     "metadata": {},
     "output_type": "execute_result"
    }
   ],
   "source": [
    "prediction_lgbm_c2[\"TARGET\"] = test_predictions_lgbm_c2.copy()\n",
    "prediction_lgbm_c2.tail()"
   ]
  },
  {
   "cell_type": "code",
   "execution_count": 128,
   "metadata": {
    "execution": {
     "iopub.execute_input": "2020-10-04T17:48:28.108913Z",
     "iopub.status.busy": "2020-10-04T17:48:28.108008Z",
     "iopub.status.idle": "2020-10-04T17:48:28.831575Z",
     "shell.execute_reply": "2020-10-04T17:48:28.829513Z"
    },
    "id": "MXczNdBZJAOx",
    "papermill": {
     "duration": 0.897115,
     "end_time": "2020-10-04T17:48:28.831736",
     "exception": false,
     "start_time": "2020-10-04T17:48:27.934621",
     "status": "completed"
    },
    "tags": []
   },
   "outputs": [],
   "source": [
    "prediction_lgbm_c2.to_csv(working_dir + \"prediction_lgbm_c2.csv\", sep=\",\", index=False)"
   ]
  },
  {
   "cell_type": "markdown",
   "metadata": {
    "id": "bG74R5nNDEja",
    "papermill": {
     "duration": 0.166835,
     "end_time": "2020-10-04T17:48:29.172495",
     "exception": false,
     "start_time": "2020-10-04T17:48:29.005660",
     "status": "completed"
    },
    "tags": []
   },
   "source": [
    "## XGBoost"
   ]
  },
  {
   "cell_type": "code",
   "execution_count": 129,
   "metadata": {
    "execution": {
     "iopub.execute_input": "2020-10-04T17:48:29.523635Z",
     "iopub.status.busy": "2020-10-04T17:48:29.520387Z",
     "iopub.status.idle": "2020-10-04T17:48:29.526443Z",
     "shell.execute_reply": "2020-10-04T17:48:29.525947Z"
    },
    "id": "3FRaDrbdMxyq",
    "papermill": {
     "duration": 0.182326,
     "end_time": "2020-10-04T17:48:29.526558",
     "exception": false,
     "start_time": "2020-10-04T17:48:29.344232",
     "status": "completed"
    },
    "tags": []
   },
   "outputs": [],
   "source": [
    "def get_model_hp(parameters, X, y):\n",
    "    clf = GridSearchCV(\n",
    "        estimator=xgb.XGBClassifier(silent=False, subsample=0.5, random_state=42),\n",
    "        param_grid=parameters,\n",
    "        scoring='roc_auc',\n",
    "        cv=5,\n",
    "        return_train_score = True\n",
    "    )\n",
    "    \n",
    "    clf.fit(X, y)\n",
    "    \n",
    "    cv_results = pd.DataFrame(clf.cv_results_)\n",
    "\n",
    "    #print(cv_results.columns)\n",
    "    \n",
    "    param_columns = [\n",
    "        column\n",
    "        for column in cv_results.columns\n",
    "        if column.startswith('param_')\n",
    "    ]\n",
    "\n",
    "    score_columns = ['mean_test_score', 'mean_train_score']\n",
    "\n",
    "    cv_results = (cv_results[param_columns + score_columns]\n",
    "                  .sort_values(by=score_columns, ascending=False))\n",
    "\n",
    "    print(cv_results)\n",
    "    print(f\"\\nbest params: {clf.best_params_}\\n\")\n",
    "    return clf"
   ]
  },
  {
   "cell_type": "code",
   "execution_count": 130,
   "metadata": {
    "execution": {
     "iopub.execute_input": "2020-10-04T17:48:29.862499Z",
     "iopub.status.busy": "2020-10-04T17:48:29.861608Z",
     "iopub.status.idle": "2020-10-04T17:48:29.864986Z",
     "shell.execute_reply": "2020-10-04T17:48:29.864323Z"
    },
    "id": "zb6MW9UUMyNv",
    "papermill": {
     "duration": 0.172796,
     "end_time": "2020-10-04T17:48:29.865097",
     "exception": false,
     "start_time": "2020-10-04T17:48:29.692301",
     "status": "completed"
    },
    "tags": []
   },
   "outputs": [],
   "source": [
    "parameters = {\n",
    "    'max_depth': [4, 6, 8],\n",
    "    'eta': [0.3, 0.05]\n",
    "    }"
   ]
  },
  {
   "cell_type": "code",
   "execution_count": 131,
   "metadata": {
    "execution": {
     "iopub.execute_input": "2020-10-04T17:48:30.195212Z",
     "iopub.status.busy": "2020-10-04T17:48:30.194347Z",
     "iopub.status.idle": "2020-10-04T17:48:30.197047Z",
     "shell.execute_reply": "2020-10-04T17:48:30.196208Z"
    },
    "id": "CgsDlvhcOepL",
    "outputId": "05d534cf-c3e1-4bd8-c94d-c6f4285e4f8c",
    "papermill": {
     "duration": 0.167799,
     "end_time": "2020-10-04T17:48:30.197199",
     "exception": false,
     "start_time": "2020-10-04T17:48:30.029400",
     "status": "completed"
    },
    "tags": []
   },
   "outputs": [],
   "source": [
    "# clf_1 = get_model_hp(parameters, train_crop,  train_prep[\"TARGET\"])"
   ]
  },
  {
   "cell_type": "code",
   "execution_count": 132,
   "metadata": {
    "execution": {
     "iopub.execute_input": "2020-10-04T17:48:30.532053Z",
     "iopub.status.busy": "2020-10-04T17:48:30.531456Z",
     "iopub.status.idle": "2020-10-04T17:48:30.534488Z",
     "shell.execute_reply": "2020-10-04T17:48:30.533977Z"
    },
    "id": "TW2xpIR1mwcL",
    "outputId": "e5abc889-4a4f-452a-ca68-c355e9baeece",
    "papermill": {
     "duration": 0.17075,
     "end_time": "2020-10-04T17:48:30.534596",
     "exception": false,
     "start_time": "2020-10-04T17:48:30.363846",
     "status": "completed"
    },
    "tags": []
   },
   "outputs": [],
   "source": [
    "# clf_2 = get_model_hp(parameters, train_crop_2,  train_prep[\"TARGET\"])"
   ]
  },
  {
   "cell_type": "code",
   "execution_count": 133,
   "metadata": {
    "execution": {
     "iopub.execute_input": "2020-10-04T17:48:30.904603Z",
     "iopub.status.busy": "2020-10-04T17:48:30.903563Z",
     "iopub.status.idle": "2020-10-04T17:48:30.906069Z",
     "shell.execute_reply": "2020-10-04T17:48:30.906480Z"
    },
    "id": "fZEb9_RV6ZGB",
    "papermill": {
     "duration": 0.194462,
     "end_time": "2020-10-04T17:48:30.906621",
     "exception": false,
     "start_time": "2020-10-04T17:48:30.712159",
     "status": "completed"
    },
    "tags": []
   },
   "outputs": [],
   "source": [
    "def make_cross_validation_adapt(X: pd.DataFrame,\n",
    "                                y: pd.Series,\n",
    "                                params: Dict,\n",
    "                                metric: callable,\n",
    "                                cv_strategy):\n",
    "    \"\"\"\n",
    "    Кросс-валидация.\n",
    "\n",
    "    Parameters\n",
    "    ----------\n",
    "    X: pd.DataFrame\n",
    "        Матрица признаков.\n",
    "\n",
    "    y: pd.Series\n",
    "        Вектор целевой переменной.\n",
    "\n",
    "    params: Dict\n",
    "        Параметры модели.\n",
    "\n",
    "    metric: callable\n",
    "        Метрика для оценки качества решения.\n",
    "        Ожидается, что на вход будет передана функция,\n",
    "        которая принимает 2 аргумента: y_true, y_pred.\n",
    "\n",
    "    cv_strategy: cross-validation generator\n",
    "        Объект для описания стратегии кросс-валидации.\n",
    "        Ожидается, что на вход будет передан объект типа\n",
    "        KFold или StratifiedKFold.\n",
    "\n",
    "    Returns\n",
    "    -------\n",
    "    oof_score: float\n",
    "        Значение метрики качества на OOF-прогнозах.\n",
    "\n",
    "    fold_train_scores: List[float]\n",
    "        Значение метрики качества на каждом обучающем датасете кросс-валидации.\n",
    "\n",
    "    fold_valid_scores: List[float]\n",
    "        Значение метрики качества на каждом валидационном датасете кросс-валидации.\n",
    "\n",
    "    oof_predictions: np.array\n",
    "        Прогнозы на OOF.\n",
    "\n",
    "    \"\"\"\n",
    "    estimators, fold_train_scores, fold_valid_scores = [], [], []\n",
    "    oof_predictions = np.zeros(X.shape[0])\n",
    "\n",
    "#     plst = list(params.items())\n",
    "\n",
    "    num_rounds=1000 \n",
    "    \n",
    "    for fold_number, (train_idx, valid_idx) in enumerate(cv_strategy.split(X, y)):\n",
    "        x_train, x_valid = X.loc[train_idx], X.loc[valid_idx]\n",
    "        y_train, y_valid = y.loc[train_idx], y.loc[valid_idx]\n",
    "\n",
    "        xgtrain = xgb.DMatrix(x_train, label=y_train)\n",
    "        xgval = xgb.DMatrix(x_valid, label=y_valid)\n",
    "\n",
    "        watchlist = [(xgtrain,'train'), (xgval,'eval')]\n",
    "\n",
    "        model = xgb.train(params, #plst, \n",
    "                          xgtrain, \n",
    "                          num_rounds,\n",
    "                          watchlist,\n",
    "                          verbose_eval=False,\n",
    "                          early_stopping_rounds=10)\n",
    "\n",
    "        y_train_pred = model.predict(xgtrain)\n",
    "        y_valid_pred = model.predict(xgval)\n",
    "\n",
    "        fold_train_scores.append(metric(y_train, y_train_pred))\n",
    "        fold_valid_scores.append(metric(y_valid, y_valid_pred))\n",
    "        oof_predictions[valid_idx] = y_valid_pred\n",
    "\n",
    "        msg = (\n",
    "            f\"Fold: {fold_number+1}, train-observations = {len(train_idx)}, \"\n",
    "            f\"valid-observations = {len(valid_idx)}\\n\"\n",
    "            f\"train-score = {round(fold_train_scores[fold_number], 4)}, \"\n",
    "            f\"valid-score = {round(fold_valid_scores[fold_number], 4)}\" \n",
    "        )\n",
    "        print(msg)\n",
    "        print(\"=\"*69)\n",
    "        estimators.append(model)\n",
    "\n",
    "    oof_score = metric(y, oof_predictions)\n",
    "    print(f\"CV-results train: {round(np.mean(fold_train_scores), 4)} +/- {round(np.std(fold_train_scores), 3)}\")\n",
    "    print(f\"CV-results valid: {round(np.mean(fold_valid_scores), 4)} +/- {round(np.std(fold_valid_scores), 3)}\")\n",
    "    print(f\"OOF-score = {round(oof_score, 4)}\")\n",
    "\n",
    "    return estimators, oof_score, fold_train_scores, fold_valid_scores, oof_predictions"
   ]
  },
  {
   "cell_type": "code",
   "execution_count": 134,
   "metadata": {
    "execution": {
     "iopub.execute_input": "2020-10-04T17:48:31.261610Z",
     "iopub.status.busy": "2020-10-04T17:48:31.260732Z",
     "iopub.status.idle": "2020-10-04T17:48:31.264067Z",
     "shell.execute_reply": "2020-10-04T17:48:31.263473Z"
    },
    "id": "uxKC8DXyE1oi",
    "papermill": {
     "duration": 0.189422,
     "end_time": "2020-10-04T17:48:31.264177",
     "exception": false,
     "start_time": "2020-10-04T17:48:31.074755",
     "status": "completed"
    },
    "tags": []
   },
   "outputs": [],
   "source": [
    "# best params: {'eta': 0.3, 'max_depth': 4}\n",
    "params = {}\n",
    "params[\"objective\"] = \"binary:logistic\"\n",
    "params[\"eta\"] = 0.3 # clf_1.best_params_['eta']\n",
    "# params[\"n_estimators\"] = clf.best_params_['n_estimators']\n",
    "params[\"random_state\"] = 42\n",
    "params[\"max_depth\"] = 4 # clf_1.best_params_['max_depth']\n",
    "params[\"eval_metric\"] = \"auc\""
   ]
  },
  {
   "cell_type": "code",
   "execution_count": 135,
   "metadata": {
    "execution": {
     "iopub.execute_input": "2020-10-04T17:48:31.612188Z",
     "iopub.status.busy": "2020-10-04T17:48:31.611240Z",
     "iopub.status.idle": "2020-10-04T17:48:31.614547Z",
     "shell.execute_reply": "2020-10-04T17:48:31.615238Z"
    },
    "papermill": {
     "duration": 0.175575,
     "end_time": "2020-10-04T17:48:31.615453",
     "exception": false,
     "start_time": "2020-10-04T17:48:31.439878",
     "status": "completed"
    },
    "tags": []
   },
   "outputs": [
    {
     "name": "stderr",
     "output_type": "stream",
     "text": [
      "/opt/conda/lib/python3.7/site-packages/sklearn/model_selection/_split.py:297: FutureWarning: Setting a random_state has no effect since shuffle is False. This will raise an error in 0.24. You should leave random_state to its default (None), or set shuffle=True.\n",
      "  FutureWarning\n"
     ]
    }
   ],
   "source": [
    "cv_strategy = KFold(n_splits=5, random_state=42)"
   ]
  },
  {
   "cell_type": "code",
   "execution_count": 136,
   "metadata": {
    "execution": {
     "iopub.execute_input": "2020-10-04T17:48:31.954049Z",
     "iopub.status.busy": "2020-10-04T17:48:31.953445Z",
     "iopub.status.idle": "2020-10-04T17:48:56.883094Z",
     "shell.execute_reply": "2020-10-04T17:48:56.883798Z"
    },
    "id": "4vx8VBWYE1Zc",
    "outputId": "7653aad5-b324-42c1-e69f-e623de5a4edc",
    "papermill": {
     "duration": 25.098361,
     "end_time": "2020-10-04T17:48:56.883995",
     "exception": false,
     "start_time": "2020-10-04T17:48:31.785634",
     "status": "completed"
    },
    "tags": []
   },
   "outputs": [
    {
     "name": "stdout",
     "output_type": "stream",
     "text": [
      "Fold: 1, train-observations = 88074, valid-observations = 22019\n",
      "train-score = 0.7752, valid-score = 0.7239\n",
      "=====================================================================\n",
      "Fold: 2, train-observations = 88074, valid-observations = 22019\n",
      "train-score = 0.779, valid-score = 0.716\n",
      "=====================================================================\n",
      "Fold: 3, train-observations = 88074, valid-observations = 22019\n",
      "train-score = 0.7592, valid-score = 0.7254\n",
      "=====================================================================\n",
      "Fold: 4, train-observations = 88075, valid-observations = 22018\n",
      "train-score = 0.7645, valid-score = 0.7218\n",
      "=====================================================================\n",
      "Fold: 5, train-observations = 88075, valid-observations = 22018\n",
      "train-score = 0.7677, valid-score = 0.7297\n",
      "=====================================================================\n",
      "CV-results train: 0.7691 +/- 0.007\n",
      "CV-results valid: 0.7234 +/- 0.005\n",
      "OOF-score = 0.7226\n"
     ]
    }
   ],
   "source": [
    "estimators_xgb_c1, oof_score_xgb_c1, fold_train_scores_xgb_c1, fold_valid_scores_xgb_c1, oof_predictions_xgb_c1 = make_cross_validation_adapt(\n",
    "    train_crop,\n",
    "    train_prep[\"TARGET\"],\n",
    "    params=params,\n",
    "    metric=roc_auc_score, \n",
    "    cv_strategy=cv_strategy\n",
    ")"
   ]
  },
  {
   "cell_type": "code",
   "execution_count": 137,
   "metadata": {
    "execution": {
     "iopub.execute_input": "2020-10-04T17:48:57.256755Z",
     "iopub.status.busy": "2020-10-04T17:48:57.255777Z",
     "iopub.status.idle": "2020-10-04T17:49:27.920867Z",
     "shell.execute_reply": "2020-10-04T17:49:27.921784Z"
    },
    "id": "ERl8uQtk0h_w",
    "outputId": "24718f57-5382-42ea-ad30-9f93421e7767",
    "papermill": {
     "duration": 30.840514,
     "end_time": "2020-10-04T17:49:27.922011",
     "exception": false,
     "start_time": "2020-10-04T17:48:57.081497",
     "status": "completed"
    },
    "tags": []
   },
   "outputs": [
    {
     "name": "stdout",
     "output_type": "stream",
     "text": [
      "Fold: 1, train-observations = 88074, valid-observations = 22019\n",
      "train-score = 0.7686, valid-score = 0.7238\n",
      "=====================================================================\n",
      "Fold: 2, train-observations = 88074, valid-observations = 22019\n",
      "train-score = 0.7804, valid-score = 0.7164\n",
      "=====================================================================\n",
      "Fold: 3, train-observations = 88074, valid-observations = 22019\n",
      "train-score = 0.7798, valid-score = 0.7277\n",
      "=====================================================================\n",
      "Fold: 4, train-observations = 88075, valid-observations = 22018\n",
      "train-score = 0.7988, valid-score = 0.7237\n",
      "=====================================================================\n",
      "Fold: 5, train-observations = 88075, valid-observations = 22018\n",
      "train-score = 0.7859, valid-score = 0.7305\n",
      "=====================================================================\n",
      "CV-results train: 0.7827 +/- 0.01\n",
      "CV-results valid: 0.7244 +/- 0.005\n",
      "OOF-score = 0.7236\n"
     ]
    }
   ],
   "source": [
    "estimators_xgb_c2, oof_score_xgb_c2, fold_train_scores_xgb_c2, fold_valid_scores_xgb_c2, oof_predictions_xgb_c2 = make_cross_validation_adapt(\n",
    "    train_crop_2,\n",
    "    train_prep[\"TARGET\"],\n",
    "    params=params,\n",
    "    metric=roc_auc_score, \n",
    "    cv_strategy=cv_strategy\n",
    ")"
   ]
  },
  {
   "cell_type": "code",
   "execution_count": 138,
   "metadata": {
    "execution": {
     "iopub.execute_input": "2020-10-04T17:49:28.259927Z",
     "iopub.status.busy": "2020-10-04T17:49:28.259294Z",
     "iopub.status.idle": "2020-10-04T17:49:28.262521Z",
     "shell.execute_reply": "2020-10-04T17:49:28.262026Z"
    },
    "papermill": {
     "duration": 0.172262,
     "end_time": "2020-10-04T17:49:28.262647",
     "exception": false,
     "start_time": "2020-10-04T17:49:28.090385",
     "status": "completed"
    },
    "tags": []
   },
   "outputs": [],
   "source": [
    "params2 = {}\n",
    "params2[\"objective\"] = \"binary:logistic\"\n",
    "params2[\"eta\"] = 0.05 # clf_1.best_params_['eta']\n",
    "# params[\"n_estimators\"] = clf.best_params_['n_estimators']\n",
    "params2[\"random_state\"] = 42\n",
    "params2[\"max_depth\"] = 4 # clf_1.best_params_['max_depth']\n",
    "params2[\"eval_metric\"] = \"auc\""
   ]
  },
  {
   "cell_type": "code",
   "execution_count": 139,
   "metadata": {
    "execution": {
     "iopub.execute_input": "2020-10-04T17:49:28.594969Z",
     "iopub.status.busy": "2020-10-04T17:49:28.593999Z",
     "iopub.status.idle": "2020-10-04T17:49:28.606157Z",
     "shell.execute_reply": "2020-10-04T17:49:28.606632Z"
    },
    "papermill": {
     "duration": 0.180139,
     "end_time": "2020-10-04T17:49:28.606763",
     "exception": false,
     "start_time": "2020-10-04T17:49:28.426624",
     "status": "completed"
    },
    "tags": []
   },
   "outputs": [],
   "source": [
    "def make_cross_validation_adapt2(X: pd.DataFrame,\n",
    "                                y: pd.Series,\n",
    "                                params: Dict,\n",
    "                                metric: callable,\n",
    "                                cv_strategy):\n",
    "    \"\"\"\n",
    "    Кросс-валидация.\n",
    "\n",
    "    Parameters\n",
    "    ----------\n",
    "    X: pd.DataFrame\n",
    "        Матрица признаков.\n",
    "\n",
    "    y: pd.Series\n",
    "        Вектор целевой переменной.\n",
    "\n",
    "    params: Dict\n",
    "        Параметры модели.\n",
    "\n",
    "    metric: callable\n",
    "        Метрика для оценки качества решения.\n",
    "        Ожидается, что на вход будет передана функция,\n",
    "        которая принимает 2 аргумента: y_true, y_pred.\n",
    "\n",
    "    cv_strategy: cross-validation generator\n",
    "        Объект для описания стратегии кросс-валидации.\n",
    "        Ожидается, что на вход будет передан объект типа\n",
    "        KFold или StratifiedKFold.\n",
    "\n",
    "    Returns\n",
    "    -------\n",
    "    oof_score: float\n",
    "        Значение метрики качества на OOF-прогнозах.\n",
    "\n",
    "    fold_train_scores: List[float]\n",
    "        Значение метрики качества на каждом обучающем датасете кросс-валидации.\n",
    "\n",
    "    fold_valid_scores: List[float]\n",
    "        Значение метрики качества на каждом валидационном датасете кросс-валидации.\n",
    "\n",
    "    oof_predictions: np.array\n",
    "        Прогнозы на OOF.\n",
    "\n",
    "    \"\"\"\n",
    "    estimators, fold_train_scores, fold_valid_scores = [], [], []\n",
    "    oof_predictions = np.zeros(X.shape[0])\n",
    "\n",
    "    plst = list(params.items())\n",
    "\n",
    "    num_rounds=10000 \n",
    "    \n",
    "    for fold_number, (train_idx, valid_idx) in enumerate(cv_strategy.split(X, y)):\n",
    "        x_train, x_valid = X.loc[train_idx], X.loc[valid_idx]\n",
    "        y_train, y_valid = y.loc[train_idx], y.loc[valid_idx]\n",
    "\n",
    "        xgtrain = xgb.DMatrix(x_train, label=y_train)\n",
    "        xgval = xgb.DMatrix(x_valid, label=y_valid)\n",
    "\n",
    "        watchlist = [(xgtrain,'train'), (xgval,'eval')]\n",
    "\n",
    "        model = xgb.train(plst, \n",
    "                          xgtrain, \n",
    "                          num_rounds,\n",
    "                          watchlist,\n",
    "                          verbose_eval=False,\n",
    "                          early_stopping_rounds=50)\n",
    "\n",
    "        y_train_pred = model.predict(xgtrain)\n",
    "        y_valid_pred = model.predict(xgval)\n",
    "\n",
    "        fold_train_scores.append(metric(y_train, y_train_pred))\n",
    "        fold_valid_scores.append(metric(y_valid, y_valid_pred))\n",
    "        oof_predictions[valid_idx] = y_valid_pred\n",
    "\n",
    "        msg = (\n",
    "            f\"Fold: {fold_number+1}, train-observations = {len(train_idx)}, \"\n",
    "            f\"valid-observations = {len(valid_idx)}\\n\"\n",
    "            f\"train-score = {round(fold_train_scores[fold_number], 4)}, \"\n",
    "            f\"valid-score = {round(fold_valid_scores[fold_number], 4)}\" \n",
    "        )\n",
    "        print(msg)\n",
    "        print(\"=\"*69)\n",
    "        estimators.append(model)\n",
    "\n",
    "    oof_score = metric(y, oof_predictions)\n",
    "    print(f\"CV-results train: {round(np.mean(fold_train_scores), 4)} +/- {round(np.std(fold_train_scores), 3)}\")\n",
    "    print(f\"CV-results valid: {round(np.mean(fold_valid_scores), 4)} +/- {round(np.std(fold_valid_scores), 3)}\")\n",
    "    print(f\"OOF-score = {round(oof_score, 4)}\")\n",
    "\n",
    "    return estimators, oof_score, fold_train_scores, fold_valid_scores, oof_predictions"
   ]
  },
  {
   "cell_type": "code",
   "execution_count": 140,
   "metadata": {
    "execution": {
     "iopub.execute_input": "2020-10-04T17:49:28.951768Z",
     "iopub.status.busy": "2020-10-04T17:49:28.951153Z",
     "iopub.status.idle": "2020-10-04T17:52:19.552035Z",
     "shell.execute_reply": "2020-10-04T17:52:19.552867Z"
    },
    "papermill": {
     "duration": 170.772976,
     "end_time": "2020-10-04T17:52:19.553077",
     "exception": false,
     "start_time": "2020-10-04T17:49:28.780101",
     "status": "completed"
    },
    "tags": []
   },
   "outputs": [
    {
     "name": "stdout",
     "output_type": "stream",
     "text": [
      "Fold: 1, train-observations = 88074, valid-observations = 22019\n",
      "train-score = 0.7748, valid-score = 0.7263\n",
      "=====================================================================\n",
      "Fold: 2, train-observations = 88074, valid-observations = 22019\n",
      "train-score = 0.7852, valid-score = 0.7211\n",
      "=====================================================================\n",
      "Fold: 3, train-observations = 88074, valid-observations = 22019\n",
      "train-score = 0.7817, valid-score = 0.7307\n",
      "=====================================================================\n",
      "Fold: 4, train-observations = 88075, valid-observations = 22018\n",
      "train-score = 0.7923, valid-score = 0.7293\n",
      "=====================================================================\n",
      "Fold: 5, train-observations = 88075, valid-observations = 22018\n",
      "train-score = 0.7759, valid-score = 0.7342\n",
      "=====================================================================\n",
      "CV-results train: 0.782 +/- 0.006\n",
      "CV-results valid: 0.7283 +/- 0.004\n",
      "OOF-score = 0.7275\n"
     ]
    }
   ],
   "source": [
    "estimators_xgb2_c2, oof_score_xgb2_c2, fold_train_scores_xgb2_c2, fold_valid_scores_xgb2_c2, oof_predictions_xgb2_c2 = make_cross_validation_adapt2(\n",
    "    train_crop_2,\n",
    "    train_prep[\"TARGET\"],\n",
    "    params=params2,\n",
    "    metric=roc_auc_score, \n",
    "    cv_strategy=cv_strategy\n",
    ")"
   ]
  },
  {
   "cell_type": "code",
   "execution_count": 141,
   "metadata": {
    "execution": {
     "iopub.execute_input": "2020-10-04T17:52:19.934702Z",
     "iopub.status.busy": "2020-10-04T17:52:19.934046Z",
     "iopub.status.idle": "2020-10-04T17:52:19.970978Z",
     "shell.execute_reply": "2020-10-04T17:52:19.970377Z"
    },
    "papermill": {
     "duration": 0.212801,
     "end_time": "2020-10-04T17:52:19.971083",
     "exception": false,
     "start_time": "2020-10-04T17:52:19.758282",
     "status": "completed"
    },
    "tags": []
   },
   "outputs": [
    {
     "name": "stdout",
     "output_type": "stream",
     "text": [
      "oof_predictions_xgb2_c2 score: 0.7275\n"
     ]
    }
   ],
   "source": [
    "oof_predictions_xgb2_c2_score = roc_auc_score(train_prep[\"TARGET\"].values, oof_predictions_xgb2_c2)\n",
    "print(f\"oof_predictions_xgb2_c2 score: {round(oof_predictions_xgb2_c2_score, 4)}\")"
   ]
  },
  {
   "cell_type": "code",
   "execution_count": 142,
   "metadata": {
    "execution": {
     "iopub.execute_input": "2020-10-04T17:52:20.317397Z",
     "iopub.status.busy": "2020-10-04T17:52:20.316767Z",
     "iopub.status.idle": "2020-10-04T17:53:06.532448Z",
     "shell.execute_reply": "2020-10-04T17:53:06.533120Z"
    },
    "id": "niTNuQoMHIEH",
    "papermill": {
     "duration": 46.391301,
     "end_time": "2020-10-04T17:53:06.533312",
     "exception": false,
     "start_time": "2020-10-04T17:52:20.142011",
     "status": "completed"
    },
    "tags": []
   },
   "outputs": [],
   "source": [
    "cv_results_1 = xgb.cv(dtrain=xgb.DMatrix(train_crop, label=train_prep[\"TARGET\"]), \n",
    "                      params=params, \n",
    "                      nfold=5,\n",
    "                      num_boost_round=1000,\n",
    "                      early_stopping_rounds=50,\n",
    "                      metrics=\"auc\", \n",
    "                      as_pandas=True, \n",
    "                      seed=42)"
   ]
  },
  {
   "cell_type": "code",
   "execution_count": 143,
   "metadata": {
    "execution": {
     "iopub.execute_input": "2020-10-04T17:53:06.946111Z",
     "iopub.status.busy": "2020-10-04T17:53:06.945493Z",
     "iopub.status.idle": "2020-10-04T17:53:50.091043Z",
     "shell.execute_reply": "2020-10-04T17:53:50.091596Z"
    },
    "id": "NNMH6WSgM-Or",
    "papermill": {
     "duration": 43.323599,
     "end_time": "2020-10-04T17:53:50.091779",
     "exception": false,
     "start_time": "2020-10-04T17:53:06.768180",
     "status": "completed"
    },
    "tags": []
   },
   "outputs": [],
   "source": [
    "cv_results_2 = xgb.cv(dtrain=xgb.DMatrix(train_crop_2, label=train_prep[\"TARGET\"]), \n",
    "                      params=params, \n",
    "                      nfold=5,\n",
    "                      num_boost_round=1000,\n",
    "                      early_stopping_rounds=50,\n",
    "                      metrics=\"auc\", \n",
    "                      as_pandas=True, \n",
    "                      seed=42)"
   ]
  },
  {
   "cell_type": "code",
   "execution_count": 144,
   "metadata": {
    "execution": {
     "iopub.execute_input": "2020-10-04T17:53:50.507720Z",
     "iopub.status.busy": "2020-10-04T17:53:50.505723Z",
     "iopub.status.idle": "2020-10-04T17:57:17.232833Z",
     "shell.execute_reply": "2020-10-04T17:57:17.233513Z"
    },
    "papermill": {
     "duration": 206.907985,
     "end_time": "2020-10-04T17:57:17.233724",
     "exception": false,
     "start_time": "2020-10-04T17:53:50.325739",
     "status": "completed"
    },
    "tags": []
   },
   "outputs": [],
   "source": [
    "\n",
    "cv_results_3 = xgb.cv(dtrain=xgb.DMatrix(train_crop_2, label=train_prep[\"TARGET\"]), \n",
    "                      params=params2, \n",
    "                      nfold=5,\n",
    "                      num_boost_round=10000,\n",
    "                      early_stopping_rounds=50,\n",
    "                      metrics=\"auc\", \n",
    "                      as_pandas=True, \n",
    "                      seed=42)"
   ]
  },
  {
   "cell_type": "code",
   "execution_count": 145,
   "metadata": {
    "execution": {
     "iopub.execute_input": "2020-10-04T17:57:17.700986Z",
     "iopub.status.busy": "2020-10-04T17:57:17.699017Z",
     "iopub.status.idle": "2020-10-04T17:57:17.701936Z",
     "shell.execute_reply": "2020-10-04T17:57:17.702463Z"
    },
    "id": "-srdHv1DHH2O",
    "outputId": "a6e07491-ee34-44f0-9aa0-0de19cdd40e8",
    "papermill": {
     "duration": 0.181693,
     "end_time": "2020-10-04T17:57:17.702607",
     "exception": false,
     "start_time": "2020-10-04T17:57:17.520914",
     "status": "completed"
    },
    "tags": []
   },
   "outputs": [],
   "source": [
    "# cv_results_1.head()"
   ]
  },
  {
   "cell_type": "code",
   "execution_count": 146,
   "metadata": {
    "execution": {
     "iopub.execute_input": "2020-10-04T17:57:18.046212Z",
     "iopub.status.busy": "2020-10-04T17:57:18.045680Z",
     "iopub.status.idle": "2020-10-04T17:57:18.049097Z",
     "shell.execute_reply": "2020-10-04T17:57:18.048666Z"
    },
    "id": "kltmejx1NFgx",
    "outputId": "6ce1c5a7-ba41-41b0-cffa-268bd06cbbaa",
    "papermill": {
     "duration": 0.174691,
     "end_time": "2020-10-04T17:57:18.049201",
     "exception": false,
     "start_time": "2020-10-04T17:57:17.874510",
     "status": "completed"
    },
    "tags": []
   },
   "outputs": [],
   "source": [
    "# cv_results_2.head()"
   ]
  },
  {
   "cell_type": "code",
   "execution_count": 147,
   "metadata": {
    "execution": {
     "iopub.execute_input": "2020-10-04T17:57:18.389786Z",
     "iopub.status.busy": "2020-10-04T17:57:18.389167Z",
     "iopub.status.idle": "2020-10-04T17:57:18.393330Z",
     "shell.execute_reply": "2020-10-04T17:57:18.392892Z"
    },
    "id": "4Rfk8uUyO_v0",
    "outputId": "76a2fadc-7370-476f-c5d0-6d0ba216fdce",
    "papermill": {
     "duration": 0.177757,
     "end_time": "2020-10-04T17:57:18.393464",
     "exception": false,
     "start_time": "2020-10-04T17:57:18.215707",
     "status": "completed"
    },
    "tags": []
   },
   "outputs": [
    {
     "name": "stdout",
     "output_type": "stream",
     "text": [
      "44    0.727117\n",
      "Name: test-auc-mean, dtype: float64\n"
     ]
    }
   ],
   "source": [
    "print((cv_results_1[\"test-auc-mean\"]).tail(1))"
   ]
  },
  {
   "cell_type": "code",
   "execution_count": 148,
   "metadata": {
    "execution": {
     "iopub.execute_input": "2020-10-04T17:57:18.739966Z",
     "iopub.status.busy": "2020-10-04T17:57:18.739325Z",
     "iopub.status.idle": "2020-10-04T17:57:18.743635Z",
     "shell.execute_reply": "2020-10-04T17:57:18.743189Z"
    },
    "id": "Ed2WEI99NL55",
    "outputId": "db1cc3d6-0be6-4314-a9fc-31980e259644",
    "papermill": {
     "duration": 0.181804,
     "end_time": "2020-10-04T17:57:18.743744",
     "exception": false,
     "start_time": "2020-10-04T17:57:18.561940",
     "status": "completed"
    },
    "tags": []
   },
   "outputs": [
    {
     "name": "stdout",
     "output_type": "stream",
     "text": [
      "42    0.726041\n",
      "Name: test-auc-mean, dtype: float64\n"
     ]
    }
   ],
   "source": [
    "print((cv_results_2[\"test-auc-mean\"]).tail(1))"
   ]
  },
  {
   "cell_type": "code",
   "execution_count": 149,
   "metadata": {
    "execution": {
     "iopub.execute_input": "2020-10-04T17:57:19.086921Z",
     "iopub.status.busy": "2020-10-04T17:57:19.086129Z",
     "iopub.status.idle": "2020-10-04T17:57:19.090406Z",
     "shell.execute_reply": "2020-10-04T17:57:19.089824Z"
    },
    "papermill": {
     "duration": 0.177894,
     "end_time": "2020-10-04T17:57:19.090542",
     "exception": false,
     "start_time": "2020-10-04T17:57:18.912648",
     "status": "completed"
    },
    "tags": []
   },
   "outputs": [
    {
     "name": "stdout",
     "output_type": "stream",
     "text": [
      "397    0.729998\n",
      "Name: test-auc-mean, dtype: float64\n"
     ]
    }
   ],
   "source": [
    "print((cv_results_3[\"test-auc-mean\"]).tail(1))"
   ]
  },
  {
   "cell_type": "markdown",
   "metadata": {
    "papermill": {
     "duration": 0.172333,
     "end_time": "2020-10-04T17:57:19.446520",
     "exception": false,
     "start_time": "2020-10-04T17:57:19.274187",
     "status": "completed"
    },
    "tags": []
   },
   "source": [
    "\n",
    "### Обучение XGBoost с последовательным добавлением характеристик из perm_importance"
   ]
  },
  {
   "cell_type": "code",
   "execution_count": 150,
   "metadata": {
    "execution": {
     "iopub.execute_input": "2020-10-04T17:57:19.800835Z",
     "iopub.status.busy": "2020-10-04T17:57:19.795777Z",
     "iopub.status.idle": "2020-10-04T17:57:19.802852Z",
     "shell.execute_reply": "2020-10-04T17:57:19.803235Z"
    },
    "papermill": {
     "duration": 0.187824,
     "end_time": "2020-10-04T17:57:19.803377",
     "exception": false,
     "start_time": "2020-10-04T17:57:19.615553",
     "status": "completed"
    },
    "tags": []
   },
   "outputs": [],
   "source": [
    "def feature_sort(feat_list: pd.Series, params: Dict, fn1=True)->List: #pd.Series, List, List, List, List, List:\n",
    "    perm_imp = feat_list.copy()\n",
    "    print(f\"Характеристики до: \\n{perm_imp}\\n\")\n",
    "#     print(\"\\n\")\n",
    "    \n",
    "    estimators = []\n",
    "    oof_score = []\n",
    "    fold_train_scores = []\n",
    "    fold_valid_scores = []\n",
    "    oof_predictions = []\n",
    "    \n",
    "    for j in range(2):\n",
    "        estimators.clear()\n",
    "        oof_score.clear()\n",
    "        fold_train_scores.clear()\n",
    "        fold_valid_scores.clear()\n",
    "        oof_predictions.clear()\n",
    "\n",
    "        for i in range(len(perm_imp)):\n",
    "            print(f\"{i+1} Новый параметр {perm_imp.index[i]}\\n\")\n",
    "            if fn1:\n",
    "                estimators_tmp, oof_score_tmp, fold_train_scores_tmp, fold_valid_scores_tmp, oof_predictions_tmp = make_cross_validation_adapt(\n",
    "                        train_prep[perm_imp.index[:i+1]],\n",
    "                        train_prep[\"TARGET\"],\n",
    "                        params=params,\n",
    "                        metric=roc_auc_score, \n",
    "                        cv_strategy=cv_strategy\n",
    "                    )\n",
    "            else:\n",
    "                estimators_tmp, oof_score_tmp, fold_train_scores_tmp, fold_valid_scores_tmp, oof_predictions_tmp = make_cross_validation_adapt2(\n",
    "                        train_prep[perm_imp.index[:i+1]],\n",
    "                        train_prep[\"TARGET\"],\n",
    "                        params=params,\n",
    "                        metric=roc_auc_score, \n",
    "                        cv_strategy=cv_strategy\n",
    "                    )\n",
    "            estimators.append(estimators_tmp)\n",
    "            oof_score.append(oof_score_tmp)\n",
    "            fold_train_scores.append(fold_train_scores_tmp)\n",
    "            fold_valid_scores.append(fold_valid_scores_tmp)\n",
    "            oof_predictions.append(oof_predictions_tmp)\n",
    "        #     score = roc_auc_score(train_prep[\"TARGET\"].values, oof_predictions_tmp)\n",
    "        #     print(f\"{i+1} Новый параметр {perm_importance.index[i]} score: {round(score, 4)}\")\n",
    "            print(\"\\n\")\n",
    "        \n",
    "        plt.plot(oof_score)\n",
    "        plt.show()\n",
    "        lst = [oof_score[0]]\n",
    "        lst.extend(list(np.array(oof_score[1:]) - np.array(oof_score[:-1])))\n",
    "        perm_imp_prev = perm_imp.copy()\n",
    "        perm_imp = pd.Series(lst, index=perm_imp_prev.index)\n",
    "        perm_imp.sort_values(ascending=False, inplace=True)\n",
    "        print(f\"Характеристики после:\\n{perm_imp}\\n\")\n",
    "#         print(\"\\n\")\n",
    "    \n",
    "    return perm_imp, perm_imp_prev, estimators, oof_score, fold_train_scores, fold_valid_scores, oof_predictions"
   ]
  },
  {
   "cell_type": "code",
   "execution_count": 151,
   "metadata": {
    "execution": {
     "iopub.execute_input": "2020-10-04T17:57:20.154081Z",
     "iopub.status.busy": "2020-10-04T17:57:20.153399Z",
     "iopub.status.idle": "2020-10-04T17:57:20.156600Z",
     "shell.execute_reply": "2020-10-04T17:57:20.157033Z"
    },
    "papermill": {
     "duration": 0.180331,
     "end_time": "2020-10-04T17:57:20.157190",
     "exception": false,
     "start_time": "2020-10-04T17:57:19.976859",
     "status": "completed"
    },
    "tags": []
   },
   "outputs": [],
   "source": [
    "# feat_lst, feat_lst_prev, estimators, oof_score, fold_train_scores, fold_valid_scores, oof_predictions = feature_sort(perm_importance, params)"
   ]
  },
  {
   "cell_type": "code",
   "execution_count": 152,
   "metadata": {
    "execution": {
     "iopub.execute_input": "2020-10-04T17:57:20.515271Z",
     "iopub.status.busy": "2020-10-04T17:57:20.514713Z",
     "iopub.status.idle": "2020-10-04T17:57:20.517863Z",
     "shell.execute_reply": "2020-10-04T17:57:20.517375Z"
    },
    "papermill": {
     "duration": 0.179988,
     "end_time": "2020-10-04T17:57:20.517982",
     "exception": false,
     "start_time": "2020-10-04T17:57:20.337994",
     "status": "completed"
    },
    "tags": []
   },
   "outputs": [],
   "source": [
    "# feat_lst2, feat_lst_prev2, estimators2, oof_score2, fold_train_scores2, fold_valid_scores2, oof_predictions2 = feature_sort(perm_importance, params2, False)"
   ]
  },
  {
   "cell_type": "code",
   "execution_count": 153,
   "metadata": {
    "execution": {
     "iopub.execute_input": "2020-10-04T17:57:20.871166Z",
     "iopub.status.busy": "2020-10-04T17:57:20.870618Z",
     "iopub.status.idle": "2020-10-04T17:57:20.873574Z",
     "shell.execute_reply": "2020-10-04T17:57:20.872967Z"
    },
    "papermill": {
     "duration": 0.176519,
     "end_time": "2020-10-04T17:57:20.873684",
     "exception": false,
     "start_time": "2020-10-04T17:57:20.697165",
     "status": "completed"
    },
    "tags": []
   },
   "outputs": [],
   "source": [
    "# train_crop_3 = train_prep[feat_lst[:30]].copy()\n",
    "# train_crop_3.head()\n",
    "\n",
    "# test_crop_3 = test_prep[feat_lst[:30]].copy()\n",
    "# test_crop_3.head()"
   ]
  },
  {
   "cell_type": "code",
   "execution_count": 154,
   "metadata": {
    "execution": {
     "iopub.execute_input": "2020-10-04T17:57:21.217767Z",
     "iopub.status.busy": "2020-10-04T17:57:21.217106Z",
     "iopub.status.idle": "2020-10-04T17:57:21.220179Z",
     "shell.execute_reply": "2020-10-04T17:57:21.219680Z"
    },
    "papermill": {
     "duration": 0.175899,
     "end_time": "2020-10-04T17:57:21.220289",
     "exception": false,
     "start_time": "2020-10-04T17:57:21.044390",
     "status": "completed"
    },
    "tags": []
   },
   "outputs": [],
   "source": [
    "# train_crop_4 = train_prep[perm_importance.index[:31]].copy()\n",
    "# train_crop_4.head(2)\n",
    "\n",
    "# test_crop_4 = test_prep[perm_importance.index[:31]].copy()\n",
    "# test_crop_4.head(2)"
   ]
  },
  {
   "cell_type": "markdown",
   "metadata": {
    "papermill": {
     "duration": 0.170858,
     "end_time": "2020-10-04T17:57:21.592127",
     "exception": false,
     "start_time": "2020-10-04T17:57:21.421269",
     "status": "completed"
    },
    "tags": []
   },
   "source": [
    "### Обучение XGBoost на отобранных признаках"
   ]
  },
  {
   "cell_type": "code",
   "execution_count": 155,
   "metadata": {
    "execution": {
     "iopub.execute_input": "2020-10-04T17:57:21.941358Z",
     "iopub.status.busy": "2020-10-04T17:57:21.940477Z",
     "iopub.status.idle": "2020-10-04T17:57:21.943518Z",
     "shell.execute_reply": "2020-10-04T17:57:21.942923Z"
    },
    "papermill": {
     "duration": 0.176964,
     "end_time": "2020-10-04T17:57:21.943632",
     "exception": false,
     "start_time": "2020-10-04T17:57:21.766668",
     "status": "completed"
    },
    "tags": []
   },
   "outputs": [],
   "source": [
    "# estimators_xgb_c3, oof_score_xgb_c3, fold_train_scores_xgb_c3, fold_valid_scores_xgb_c3, oof_predictions_xgb_c3 = make_cross_validation_adapt2(\n",
    "#     train_crop_3,\n",
    "#     train_prep[\"TARGET\"],\n",
    "#     params=params2,\n",
    "#     metric=roc_auc_score, \n",
    "#     cv_strategy=cv_strategy\n",
    "# )"
   ]
  },
  {
   "cell_type": "code",
   "execution_count": 156,
   "metadata": {
    "execution": {
     "iopub.execute_input": "2020-10-04T17:57:22.292679Z",
     "iopub.status.busy": "2020-10-04T17:57:22.292034Z",
     "iopub.status.idle": "2020-10-04T17:57:22.296095Z",
     "shell.execute_reply": "2020-10-04T17:57:22.295629Z"
    },
    "papermill": {
     "duration": 0.17776,
     "end_time": "2020-10-04T17:57:22.296205",
     "exception": false,
     "start_time": "2020-10-04T17:57:22.118445",
     "status": "completed"
    },
    "tags": []
   },
   "outputs": [],
   "source": [
    "# estimators_xgb_c4, oof_score_xgb_c4, fold_train_scores_xgb_c4, fold_valid_scores_xgb_c4, oof_predictions_xgb_c4 = make_cross_validation_adapt2(\n",
    "#     train_crop_4,\n",
    "#     train_prep[\"TARGET\"],\n",
    "#     params=params2,\n",
    "#     metric=roc_auc_score, \n",
    "#     cv_strategy=cv_strategy\n",
    "# )"
   ]
  },
  {
   "cell_type": "markdown",
   "metadata": {
    "id": "0A-qFiy9ljGC",
    "papermill": {
     "duration": 0.175062,
     "end_time": "2020-10-04T17:57:22.643568",
     "exception": false,
     "start_time": "2020-10-04T17:57:22.468506",
     "status": "completed"
    },
    "tags": []
   },
   "source": [
    "### XGBoost данные для загрузки"
   ]
  },
  {
   "cell_type": "code",
   "execution_count": 157,
   "metadata": {
    "execution": {
     "iopub.execute_input": "2020-10-04T17:57:22.997896Z",
     "iopub.status.busy": "2020-10-04T17:57:22.997220Z",
     "iopub.status.idle": "2020-10-04T17:57:23.013177Z",
     "shell.execute_reply": "2020-10-04T17:57:23.012675Z"
    },
    "papermill": {
     "duration": 0.196474,
     "end_time": "2020-10-04T17:57:23.013284",
     "exception": false,
     "start_time": "2020-10-04T17:57:22.816810",
     "status": "completed"
    },
    "tags": []
   },
   "outputs": [
    {
     "data": {
      "text/html": [
       "<div>\n",
       "<style scoped>\n",
       "    .dataframe tbody tr th:only-of-type {\n",
       "        vertical-align: middle;\n",
       "    }\n",
       "\n",
       "    .dataframe tbody tr th {\n",
       "        vertical-align: top;\n",
       "    }\n",
       "\n",
       "    .dataframe thead th {\n",
       "        text-align: right;\n",
       "    }\n",
       "</style>\n",
       "<table border=\"1\" class=\"dataframe\">\n",
       "  <thead>\n",
       "    <tr style=\"text-align: right;\">\n",
       "      <th></th>\n",
       "      <th>APPLICATION_NUMBER</th>\n",
       "      <th>TARGET</th>\n",
       "    </tr>\n",
       "  </thead>\n",
       "  <tbody>\n",
       "    <tr>\n",
       "      <th>0</th>\n",
       "      <td>123724268</td>\n",
       "      <td>0</td>\n",
       "    </tr>\n",
       "    <tr>\n",
       "      <th>1</th>\n",
       "      <td>123456549</td>\n",
       "      <td>0</td>\n",
       "    </tr>\n",
       "    <tr>\n",
       "      <th>2</th>\n",
       "      <td>123428178</td>\n",
       "      <td>0</td>\n",
       "    </tr>\n",
       "    <tr>\n",
       "      <th>3</th>\n",
       "      <td>123619984</td>\n",
       "      <td>0</td>\n",
       "    </tr>\n",
       "    <tr>\n",
       "      <th>4</th>\n",
       "      <td>123671104</td>\n",
       "      <td>0</td>\n",
       "    </tr>\n",
       "  </tbody>\n",
       "</table>\n",
       "</div>"
      ],
      "text/plain": [
       "   APPLICATION_NUMBER  TARGET\n",
       "0           123724268       0\n",
       "1           123456549       0\n",
       "2           123428178       0\n",
       "3           123619984       0\n",
       "4           123671104       0"
      ]
     },
     "execution_count": 157,
     "metadata": {},
     "output_type": "execute_result"
    }
   ],
   "source": [
    "prediction_xgb_c1 = test[['APPLICATION_NUMBER']].copy()\n",
    "prediction_xgb_c1[\"TARGET\"] = 0\n",
    "prediction_xgb_c1.head()\n",
    "\n",
    "prediction_xgb_c2 = test[['APPLICATION_NUMBER']].copy()\n",
    "prediction_xgb_c2[\"TARGET\"] = 0\n",
    "prediction_xgb_c2.head()\n",
    "\n",
    "prediction_xgb2_c2 = test[['APPLICATION_NUMBER']].copy()\n",
    "prediction_xgb2_c2[\"TARGET\"] = 0\n",
    "prediction_xgb2_c2.head()\n",
    "\n",
    "# prediction_xgb_c3 = test[['APPLICATION_NUMBER']].copy()\n",
    "# prediction_xgb_c3[\"TARGET\"] = 0\n",
    "# prediction_xgb_c3.head()\n",
    "\n",
    "# prediction_xgb_c4 = test[['APPLICATION_NUMBER']].copy()\n",
    "# prediction_xgb_c4[\"TARGET\"] = 0\n",
    "# prediction_xgb_c4.head()"
   ]
  },
  {
   "cell_type": "code",
   "execution_count": 158,
   "metadata": {
    "execution": {
     "iopub.execute_input": "2020-10-04T17:57:23.372906Z",
     "iopub.status.busy": "2020-10-04T17:57:23.372071Z",
     "iopub.status.idle": "2020-10-04T17:57:30.613894Z",
     "shell.execute_reply": "2020-10-04T17:57:30.614600Z"
    },
    "id": "ES3KJ6EIS765",
    "papermill": {
     "duration": 7.425962,
     "end_time": "2020-10-04T17:57:30.614800",
     "exception": false,
     "start_time": "2020-10-04T17:57:23.188838",
     "status": "completed"
    },
    "tags": []
   },
   "outputs": [],
   "source": [
    "test_predictions_xgb_c1 = np.zeros(test[['APPLICATION_NUMBER']].shape[0])\n",
    "test_predictions_xgb_c2 = np.zeros(test[['APPLICATION_NUMBER']].shape[0])\n",
    "test_predictions_xgb2_c2 = np.zeros(test[['APPLICATION_NUMBER']].shape[0])\n",
    "# test_predictions_xgb_c3 = np.zeros(test[['APPLICATION_NUMBER']].shape[0])\n",
    "# test_predictions_xgb_c4 = np.zeros(test[['APPLICATION_NUMBER']].shape[0])\n",
    "\n",
    "for i in range(5):\n",
    "    test_predictions_xgb_c1 += estimators_xgb_c1[i].predict(xgb.DMatrix(test_crop))\n",
    "    test_predictions_xgb_c2 += estimators_xgb_c2[i].predict(xgb.DMatrix(test_crop_2))\n",
    "    test_predictions_xgb2_c2 += estimators_xgb2_c2[i].predict(xgb.DMatrix(test_crop_2))\n",
    "#     test_predictions_xgb_c3 += estimators_xgb_c3[i].predict(xgb.DMatrix(test_crop_3))\n",
    "#     test_predictions_xgb_c4 += estimators_xgb_c4[i].predict(xgb.DMatrix(test_crop_4))\n",
    "\n",
    "test_predictions_xgb_c1 /= 5\n",
    "test_predictions_xgb_c2 /= 5\n",
    "test_predictions_xgb2_c2 /= 5\n",
    "# test_predictions_xgb_c3 /= 5\n",
    "# test_predictions_xgb_c4 /= 5\n",
    "\n",
    "test_predictions_xgb_c1[test_predictions_xgb_c1 < 0] = 0\n",
    "test_predictions_xgb_c1[test_predictions_xgb_c1 > 1] = 1\n",
    "\n",
    "test_predictions_xgb_c2[test_predictions_xgb_c2 < 0] = 0\n",
    "test_predictions_xgb_c2[test_predictions_xgb_c2 > 1] = 1\n",
    "\n",
    "test_predictions_xgb2_c2[test_predictions_xgb2_c2 < 0] = 0\n",
    "test_predictions_xgb2_c2[test_predictions_xgb2_c2 > 1] = 1\n",
    "\n",
    "# test_predictions_xgb_c3[test_predictions_xgb_c3 < 0] = 0\n",
    "# test_predictions_xgb_c3[test_predictions_xgb_c3 > 1] = 1\n",
    "\n",
    "# test_predictions_xgb_c4[test_predictions_xgb_c4 < 0] = 0\n",
    "# test_predictions_xgb_c4[test_predictions_xgb_c4 > 1] = 1"
   ]
  },
  {
   "cell_type": "code",
   "execution_count": 159,
   "metadata": {
    "execution": {
     "iopub.execute_input": "2020-10-04T17:57:31.025326Z",
     "iopub.status.busy": "2020-10-04T17:57:31.024724Z",
     "iopub.status.idle": "2020-10-04T17:57:31.035900Z",
     "shell.execute_reply": "2020-10-04T17:57:31.035309Z"
    },
    "papermill": {
     "duration": 0.186363,
     "end_time": "2020-10-04T17:57:31.036004",
     "exception": false,
     "start_time": "2020-10-04T17:57:30.849641",
     "status": "completed"
    },
    "tags": []
   },
   "outputs": [
    {
     "data": {
      "text/html": [
       "<div>\n",
       "<style scoped>\n",
       "    .dataframe tbody tr th:only-of-type {\n",
       "        vertical-align: middle;\n",
       "    }\n",
       "\n",
       "    .dataframe tbody tr th {\n",
       "        vertical-align: top;\n",
       "    }\n",
       "\n",
       "    .dataframe thead th {\n",
       "        text-align: right;\n",
       "    }\n",
       "</style>\n",
       "<table border=\"1\" class=\"dataframe\">\n",
       "  <thead>\n",
       "    <tr style=\"text-align: right;\">\n",
       "      <th></th>\n",
       "      <th>APPLICATION_NUMBER</th>\n",
       "      <th>TARGET</th>\n",
       "    </tr>\n",
       "  </thead>\n",
       "  <tbody>\n",
       "    <tr>\n",
       "      <th>165136</th>\n",
       "      <td>123487967</td>\n",
       "      <td>0.084323</td>\n",
       "    </tr>\n",
       "    <tr>\n",
       "      <th>165137</th>\n",
       "      <td>123536402</td>\n",
       "      <td>0.038977</td>\n",
       "    </tr>\n",
       "    <tr>\n",
       "      <th>165138</th>\n",
       "      <td>123718238</td>\n",
       "      <td>0.084323</td>\n",
       "    </tr>\n",
       "    <tr>\n",
       "      <th>165139</th>\n",
       "      <td>123631557</td>\n",
       "      <td>0.012140</td>\n",
       "    </tr>\n",
       "    <tr>\n",
       "      <th>165140</th>\n",
       "      <td>123433260</td>\n",
       "      <td>0.044129</td>\n",
       "    </tr>\n",
       "  </tbody>\n",
       "</table>\n",
       "</div>"
      ],
      "text/plain": [
       "        APPLICATION_NUMBER    TARGET\n",
       "165136           123487967  0.084323\n",
       "165137           123536402  0.038977\n",
       "165138           123718238  0.084323\n",
       "165139           123631557  0.012140\n",
       "165140           123433260  0.044129"
      ]
     },
     "execution_count": 159,
     "metadata": {},
     "output_type": "execute_result"
    }
   ],
   "source": [
    "prediction_xgb_c1[\"TARGET\"] = test_predictions_xgb_c1.copy()\n",
    "prediction_xgb_c1.tail()\n",
    "\n",
    "prediction_xgb_c2[\"TARGET\"] = test_predictions_xgb_c2.copy()\n",
    "prediction_xgb_c2.tail()\n",
    "\n",
    "prediction_xgb2_c2[\"TARGET\"] = test_predictions_xgb2_c2.copy()\n",
    "prediction_xgb2_c2.tail()\n",
    "\n",
    "# prediction_xgb_c3[\"TARGET\"] = test_predictions_xgb_c3.copy()\n",
    "# prediction_xgb_c3.tail()\n",
    "\n",
    "# prediction_xgb_c4[\"TARGET\"] = test_predictions_xgb_c4.copy()\n",
    "# prediction_xgb_c4.tail()"
   ]
  },
  {
   "cell_type": "code",
   "execution_count": 160,
   "metadata": {
    "execution": {
     "iopub.execute_input": "2020-10-04T17:57:31.387765Z",
     "iopub.status.busy": "2020-10-04T17:57:31.385548Z",
     "iopub.status.idle": "2020-10-04T17:57:32.796826Z",
     "shell.execute_reply": "2020-10-04T17:57:32.797295Z"
    },
    "papermill": {
     "duration": 1.590165,
     "end_time": "2020-10-04T17:57:32.797447",
     "exception": false,
     "start_time": "2020-10-04T17:57:31.207282",
     "status": "completed"
    },
    "tags": []
   },
   "outputs": [],
   "source": [
    "prediction_xgb_c1.to_csv(working_dir + \"prediction_xgb_c1.csv\", sep=\",\", index=False)\n",
    "prediction_xgb_c2.to_csv(working_dir + \"prediction_xgb_c2.csv\", sep=\",\", index=False)\n",
    "prediction_xgb2_c2.to_csv(working_dir + \"prediction_xgb2_c2.csv\", sep=\",\", index=False)\n",
    "# prediction_xgb_c3.to_csv(working_dir + \"prediction_xgb_c3.csv\", sep=\",\", index=False)\n",
    "# prediction_xgb_c4.to_csv(working_dir + \"prediction_xgb_c4.csv\", sep=\",\", index=False)"
   ]
  },
  {
   "cell_type": "markdown",
   "metadata": {
    "id": "jhl4IP4zPA5e",
    "papermill": {
     "duration": 0.177304,
     "end_time": "2020-10-04T17:57:33.148638",
     "exception": false,
     "start_time": "2020-10-04T17:57:32.971334",
     "status": "completed"
    },
    "tags": []
   },
   "source": [
    "## CatBoost"
   ]
  },
  {
   "cell_type": "code",
   "execution_count": 161,
   "metadata": {
    "execution": {
     "iopub.execute_input": "2020-10-04T17:57:33.504499Z",
     "iopub.status.busy": "2020-10-04T17:57:33.503889Z",
     "iopub.status.idle": "2020-10-04T17:57:33.513764Z",
     "shell.execute_reply": "2020-10-04T17:57:33.514316Z"
    },
    "id": "Qt6w4riyLa4P",
    "papermill": {
     "duration": 0.182574,
     "end_time": "2020-10-04T17:57:33.514479",
     "exception": false,
     "start_time": "2020-10-04T17:57:33.331905",
     "status": "completed"
    },
    "tags": []
   },
   "outputs": [],
   "source": [
    "import time\n",
    "\n",
    "def catboost_cross_validation(params, X, y, cv, categorical = None):\n",
    "    \"\"\"\n",
    "    Кросс-валидация для модели catbooost.\n",
    "\n",
    "    Parameters\n",
    "    ----------\n",
    "    params: dict\n",
    "        Словарь гиперпараметров модели.\n",
    "\n",
    "    X: pandas.core.frame.DataFrame\n",
    "        Матрица признаков для обучения модели.\n",
    "\n",
    "    y: pandas.core.frame.Series\n",
    "        Вектор целевой переменной для обучения модели.\n",
    "\n",
    "    cv: KFold or StratifiedKFold generator.\n",
    "        Объект KFold / StratifiedKFold для определения\n",
    "        стратегии кросс-валидации модели.\n",
    "\n",
    "    categorical: str, optional, default = None\n",
    "        Список категориальных признаков.\n",
    "        Опциональный параметр, по умолчанию, не используется.\n",
    "\n",
    "    Returns\n",
    "    -------\n",
    "    estimators: list\n",
    "        Список с объектами обученной модели.\n",
    "\n",
    "    oof_preds: np.array\n",
    "        Вектор OOF-прогнозов.\n",
    "\n",
    "    \"\"\"\n",
    "    estimators, folds_scores = [], []\n",
    "    oof_preds = np.zeros(X.shape[0])\n",
    "\n",
    "    print(f\"{time.ctime()}, Cross-Validation, {X.shape[0]} rows, {X.shape[1]} cols\")\n",
    "    X[categorical] = X[categorical].astype(str)\n",
    "\n",
    "    for fold, (train_idx, valid_idx) in enumerate(cv.split(X, y)):\n",
    "\n",
    "        x_train, x_valid = X.loc[train_idx], X.loc[valid_idx]\n",
    "        y_train, y_valid = y[train_idx], y[valid_idx]\n",
    "\n",
    "        model = catb.CatBoostClassifier(**params)\n",
    "        model.fit(\n",
    "            x_train, y_train, categorical,\n",
    "            eval_set=[(x_train, y_train), (x_valid, y_valid)],\n",
    "            verbose_eval=False\n",
    "        )\n",
    "        oof_preds[valid_idx] = model.predict_proba(x_valid)[:, 1]\n",
    "        score = roc_auc_score(y_valid, oof_preds[valid_idx])\n",
    "        print(f\"Fold {fold+1}, Valid score = {round(score, 5)}\")\n",
    "        folds_scores.append(round(score, 5))\n",
    "        estimators.append(model)\n",
    "\n",
    "    print(f\"Score by each fold: {folds_scores}\")\n",
    "    print(\"=\"*65)\n",
    "    return estimators, oof_preds"
   ]
  },
  {
   "cell_type": "code",
   "execution_count": 162,
   "metadata": {
    "execution": {
     "iopub.execute_input": "2020-10-04T17:57:33.901637Z",
     "iopub.status.busy": "2020-10-04T17:57:33.901048Z",
     "iopub.status.idle": "2020-10-04T17:57:33.907158Z",
     "shell.execute_reply": "2020-10-04T17:57:33.906722Z"
    },
    "id": "XvlxVgnlLaa9",
    "papermill": {
     "duration": 0.178679,
     "end_time": "2020-10-04T17:57:33.907262",
     "exception": false,
     "start_time": "2020-10-04T17:57:33.728583",
     "status": "completed"
    },
    "tags": []
   },
   "outputs": [],
   "source": [
    "cb_params = {\n",
    "    \"n_estimators\": 2000,\n",
    "    \"learning_rate\": 0.01,\n",
    "    \"loss_function\": \"Logloss\",\n",
    "    \"eval_metric\": \"AUC\",\n",
    "    \"task_type\": \"CPU\",\n",
    "    \"max_bin\": 20,\n",
    "    \"verbose\": 10,\n",
    "    \"max_depth\": 6,\n",
    "    \"l2_leaf_reg\": 10,\n",
    "    \"early_stopping_rounds\": 50,\n",
    "    \"thread_count\": 6,\n",
    "    \"random_seed\": 42\n",
    "}\n",
    "\n",
    "cv = KFold(n_splits=5, random_state=42, shuffle=True)"
   ]
  },
  {
   "cell_type": "code",
   "execution_count": 163,
   "metadata": {
    "execution": {
     "iopub.execute_input": "2020-10-04T17:57:34.254611Z",
     "iopub.status.busy": "2020-10-04T17:57:34.253658Z",
     "iopub.status.idle": "2020-10-04T18:06:53.208057Z",
     "shell.execute_reply": "2020-10-04T18:06:53.208890Z"
    },
    "id": "1Xhc9m_4POOh",
    "outputId": "3e670fd6-2fd9-4d20-bced-f12a3e9d25cb",
    "papermill": {
     "duration": 559.131314,
     "end_time": "2020-10-04T18:06:53.209128",
     "exception": false,
     "start_time": "2020-10-04T17:57:34.077814",
     "status": "completed"
    },
    "tags": []
   },
   "outputs": [
    {
     "name": "stdout",
     "output_type": "stream",
     "text": [
      "Sun Oct  4 17:57:34 2020, Cross-Validation, 110093 rows, 41 cols\n",
      "Fold 1, Valid score = 0.74023\n",
      "Fold 2, Valid score = 0.71905\n",
      "Fold 3, Valid score = 0.72627\n",
      "Fold 4, Valid score = 0.72749\n",
      "Fold 5, Valid score = 0.7126\n",
      "Score by each fold: [0.74023, 0.71905, 0.72627, 0.72749, 0.7126]\n",
      "=================================================================\n"
     ]
    }
   ],
   "source": [
    "train_cat = train_cat_prep.drop([\"APPLICATION_NUMBER\", \"TARGET\"], axis=1)\n",
    "categorial = train_cat.dtypes[train_cat.dtypes == \"object\"].index\n",
    "estimators_catb_f, oof_preds_catb_f = catboost_cross_validation(\n",
    "        params=cb_params, \n",
    "        X=train_cat, \n",
    "        y=train_prep[\"TARGET\"], \n",
    "        cv=cv, \n",
    "        categorical=categorial\n",
    ")"
   ]
  },
  {
   "cell_type": "code",
   "execution_count": 164,
   "metadata": {
    "execution": {
     "iopub.execute_input": "2020-10-04T18:06:53.585900Z",
     "iopub.status.busy": "2020-10-04T18:06:53.585281Z",
     "iopub.status.idle": "2020-10-04T18:06:53.626930Z",
     "shell.execute_reply": "2020-10-04T18:06:53.627572Z"
    },
    "id": "A9qTO6hric9n",
    "outputId": "22155fa6-39f7-43e0-b0ad-a99d9b6ca633",
    "papermill": {
     "duration": 0.218653,
     "end_time": "2020-10-04T18:06:53.627735",
     "exception": false,
     "start_time": "2020-10-04T18:06:53.409082",
     "status": "completed"
    },
    "tags": []
   },
   "outputs": [
    {
     "name": "stdout",
     "output_type": "stream",
     "text": [
      "OOF-score = 0.7243\n"
     ]
    }
   ],
   "source": [
    "score = roc_auc_score(train_prep[\"TARGET\"].values, oof_preds_catb_f)\n",
    "print(f\"OOF-score = {score:.4f}\")"
   ]
  },
  {
   "cell_type": "code",
   "execution_count": 165,
   "metadata": {
    "execution": {
     "iopub.execute_input": "2020-10-04T18:06:53.987698Z",
     "iopub.status.busy": "2020-10-04T18:06:53.986634Z",
     "iopub.status.idle": "2020-10-04T18:15:18.871615Z",
     "shell.execute_reply": "2020-10-04T18:15:18.872096Z"
    },
    "id": "f0aI39wxOpYE",
    "outputId": "6fbd9202-05ca-4a78-f447-7c437f35c462",
    "papermill": {
     "duration": 505.065656,
     "end_time": "2020-10-04T18:15:18.872246",
     "exception": false,
     "start_time": "2020-10-04T18:06:53.806590",
     "status": "completed"
    },
    "tags": []
   },
   "outputs": [
    {
     "name": "stdout",
     "output_type": "stream",
     "text": [
      "Sun Oct  4 18:06:53 2020, Cross-Validation, 110093 rows, 40 cols\n"
     ]
    },
    {
     "name": "stderr",
     "output_type": "stream",
     "text": [
      "/opt/conda/lib/python3.7/site-packages/pandas/core/frame.py:3065: SettingWithCopyWarning: \n",
      "A value is trying to be set on a copy of a slice from a DataFrame.\n",
      "Try using .loc[row_indexer,col_indexer] = value instead\n",
      "\n",
      "See the caveats in the documentation: https://pandas.pydata.org/pandas-docs/stable/user_guide/indexing.html#returning-a-view-versus-a-copy\n",
      "  self[k1] = value[k2]\n"
     ]
    },
    {
     "name": "stdout",
     "output_type": "stream",
     "text": [
      "Fold 1, Valid score = 0.74029\n",
      "Fold 2, Valid score = 0.71886\n",
      "Fold 3, Valid score = 0.72579\n",
      "Fold 4, Valid score = 0.72742\n",
      "Fold 5, Valid score = 0.71059\n",
      "Score by each fold: [0.74029, 0.71886, 0.72579, 0.72742, 0.71059]\n",
      "=================================================================\n"
     ]
    }
   ],
   "source": [
    "categorial = train_cat_crop.dtypes[train_cat_crop.dtypes == \"object\"].index\n",
    "estimators_catb_c1, oof_preds_catb_c1 = catboost_cross_validation(\n",
    "        params=cb_params, \n",
    "        X=train_cat_crop, \n",
    "        y=train_prep[\"TARGET\"], \n",
    "        cv=cv, \n",
    "        categorical=categorial\n",
    ")"
   ]
  },
  {
   "cell_type": "code",
   "execution_count": 166,
   "metadata": {
    "execution": {
     "iopub.execute_input": "2020-10-04T18:15:19.288492Z",
     "iopub.status.busy": "2020-10-04T18:15:19.287903Z",
     "iopub.status.idle": "2020-10-04T18:15:19.330211Z",
     "shell.execute_reply": "2020-10-04T18:15:19.330636Z"
    },
    "id": "-6uLqyjcie_r",
    "outputId": "0cdf2d93-3dd3-4f1a-c27a-a78dcde1ef7b",
    "papermill": {
     "duration": 0.259695,
     "end_time": "2020-10-04T18:15:19.330781",
     "exception": false,
     "start_time": "2020-10-04T18:15:19.071086",
     "status": "completed"
    },
    "tags": []
   },
   "outputs": [
    {
     "name": "stdout",
     "output_type": "stream",
     "text": [
      "OOF-score = 0.7237\n"
     ]
    }
   ],
   "source": [
    "score = roc_auc_score(train_prep[\"TARGET\"].values, oof_preds_catb_c1)\n",
    "print(f\"OOF-score = {score:.4f}\")"
   ]
  },
  {
   "cell_type": "code",
   "execution_count": 167,
   "metadata": {
    "execution": {
     "iopub.execute_input": "2020-10-04T18:15:19.687200Z",
     "iopub.status.busy": "2020-10-04T18:15:19.686609Z",
     "iopub.status.idle": "2020-10-04T18:24:59.736729Z",
     "shell.execute_reply": "2020-10-04T18:24:59.737726Z"
    },
    "id": "84-USEHyOqHu",
    "outputId": "3dcd01b8-cd50-410f-91e7-dd58771df335",
    "papermill": {
     "duration": 580.231555,
     "end_time": "2020-10-04T18:24:59.737978",
     "exception": false,
     "start_time": "2020-10-04T18:15:19.506423",
     "status": "completed"
    },
    "tags": []
   },
   "outputs": [
    {
     "name": "stdout",
     "output_type": "stream",
     "text": [
      "Sun Oct  4 18:15:19 2020, Cross-Validation, 110093 rows, 31 cols\n"
     ]
    },
    {
     "name": "stderr",
     "output_type": "stream",
     "text": [
      "/opt/conda/lib/python3.7/site-packages/pandas/core/frame.py:3065: SettingWithCopyWarning: \n",
      "A value is trying to be set on a copy of a slice from a DataFrame.\n",
      "Try using .loc[row_indexer,col_indexer] = value instead\n",
      "\n",
      "See the caveats in the documentation: https://pandas.pydata.org/pandas-docs/stable/user_guide/indexing.html#returning-a-view-versus-a-copy\n",
      "  self[k1] = value[k2]\n"
     ]
    },
    {
     "name": "stdout",
     "output_type": "stream",
     "text": [
      "Fold 1, Valid score = 0.7405\n",
      "Fold 2, Valid score = 0.71914\n",
      "Fold 3, Valid score = 0.72745\n",
      "Fold 4, Valid score = 0.72889\n",
      "Fold 5, Valid score = 0.7111\n",
      "Score by each fold: [0.7405, 0.71914, 0.72745, 0.72889, 0.7111]\n",
      "=================================================================\n"
     ]
    }
   ],
   "source": [
    "categorial = train_cat_crop_2.dtypes[train_cat_crop_2.dtypes == \"object\"].index\n",
    "estimators_catb_c2, oof_preds_catb_c2 = catboost_cross_validation(\n",
    "        params=cb_params, \n",
    "        X=train_cat_crop_2, \n",
    "        y=train_prep[\"TARGET\"], \n",
    "        cv=cv, \n",
    "        categorical=categorial\n",
    ")"
   ]
  },
  {
   "cell_type": "code",
   "execution_count": 168,
   "metadata": {
    "execution": {
     "iopub.execute_input": "2020-10-04T18:25:00.147101Z",
     "iopub.status.busy": "2020-10-04T18:25:00.146517Z",
     "iopub.status.idle": "2020-10-04T18:25:00.187294Z",
     "shell.execute_reply": "2020-10-04T18:25:00.186723Z"
    },
    "id": "6VigJThBfWUJ",
    "outputId": "539cc2d8-b83b-4950-df48-a6e6960d6e95",
    "papermill": {
     "duration": 0.269302,
     "end_time": "2020-10-04T18:25:00.187396",
     "exception": false,
     "start_time": "2020-10-04T18:24:59.918094",
     "status": "completed"
    },
    "tags": []
   },
   "outputs": [
    {
     "name": "stdout",
     "output_type": "stream",
     "text": [
      "OOF-score = 0.7246\n"
     ]
    }
   ],
   "source": [
    "score = roc_auc_score(train_prep[\"TARGET\"].values, oof_preds_catb_c2)\n",
    "print(f\"OOF-score = {score:.4f}\")"
   ]
  },
  {
   "cell_type": "markdown",
   "metadata": {
    "id": "ZcXhjOzulsld",
    "papermill": {
     "duration": 0.175523,
     "end_time": "2020-10-04T18:25:00.544636",
     "exception": false,
     "start_time": "2020-10-04T18:25:00.369113",
     "status": "completed"
    },
    "tags": []
   },
   "source": [
    "### CatBoost данные для загрузки"
   ]
  },
  {
   "cell_type": "code",
   "execution_count": 169,
   "metadata": {
    "execution": {
     "iopub.execute_input": "2020-10-04T18:25:00.921336Z",
     "iopub.status.busy": "2020-10-04T18:25:00.920277Z",
     "iopub.status.idle": "2020-10-04T18:25:00.936901Z",
     "shell.execute_reply": "2020-10-04T18:25:00.936434Z"
    },
    "id": "ADDw8-X1l0E0",
    "outputId": "6982df02-1223-45da-c4db-6fae795ac369",
    "papermill": {
     "duration": 0.210828,
     "end_time": "2020-10-04T18:25:00.937012",
     "exception": false,
     "start_time": "2020-10-04T18:25:00.726184",
     "status": "completed"
    },
    "tags": []
   },
   "outputs": [
    {
     "data": {
      "text/html": [
       "<div>\n",
       "<style scoped>\n",
       "    .dataframe tbody tr th:only-of-type {\n",
       "        vertical-align: middle;\n",
       "    }\n",
       "\n",
       "    .dataframe tbody tr th {\n",
       "        vertical-align: top;\n",
       "    }\n",
       "\n",
       "    .dataframe thead th {\n",
       "        text-align: right;\n",
       "    }\n",
       "</style>\n",
       "<table border=\"1\" class=\"dataframe\">\n",
       "  <thead>\n",
       "    <tr style=\"text-align: right;\">\n",
       "      <th></th>\n",
       "      <th>APPLICATION_NUMBER</th>\n",
       "      <th>TARGET</th>\n",
       "    </tr>\n",
       "  </thead>\n",
       "  <tbody>\n",
       "    <tr>\n",
       "      <th>0</th>\n",
       "      <td>123724268</td>\n",
       "      <td>0</td>\n",
       "    </tr>\n",
       "    <tr>\n",
       "      <th>1</th>\n",
       "      <td>123456549</td>\n",
       "      <td>0</td>\n",
       "    </tr>\n",
       "    <tr>\n",
       "      <th>2</th>\n",
       "      <td>123428178</td>\n",
       "      <td>0</td>\n",
       "    </tr>\n",
       "    <tr>\n",
       "      <th>3</th>\n",
       "      <td>123619984</td>\n",
       "      <td>0</td>\n",
       "    </tr>\n",
       "    <tr>\n",
       "      <th>4</th>\n",
       "      <td>123671104</td>\n",
       "      <td>0</td>\n",
       "    </tr>\n",
       "  </tbody>\n",
       "</table>\n",
       "</div>"
      ],
      "text/plain": [
       "   APPLICATION_NUMBER  TARGET\n",
       "0           123724268       0\n",
       "1           123456549       0\n",
       "2           123428178       0\n",
       "3           123619984       0\n",
       "4           123671104       0"
      ]
     },
     "execution_count": 169,
     "metadata": {},
     "output_type": "execute_result"
    }
   ],
   "source": [
    "prediction_cat_f = test[['APPLICATION_NUMBER']].copy()\n",
    "prediction_cat_f[\"TARGET\"] = 0\n",
    "prediction_cat_f.head()\n",
    "\n",
    "prediction_cat_c1 = test[['APPLICATION_NUMBER']].copy()\n",
    "prediction_cat_c1[\"TARGET\"] = 0\n",
    "prediction_cat_c1.head()\n",
    "\n",
    "prediction_cat_c2 = test[['APPLICATION_NUMBER']].copy()\n",
    "prediction_cat_c2[\"TARGET\"] = 0\n",
    "prediction_cat_c2.head()"
   ]
  },
  {
   "cell_type": "code",
   "execution_count": 170,
   "metadata": {
    "execution": {
     "iopub.execute_input": "2020-10-04T18:25:01.329208Z",
     "iopub.status.busy": "2020-10-04T18:25:01.328186Z",
     "iopub.status.idle": "2020-10-04T18:25:08.194310Z",
     "shell.execute_reply": "2020-10-04T18:25:08.194856Z"
    },
    "id": "Mq85yC0qUCtP",
    "papermill": {
     "duration": 7.077466,
     "end_time": "2020-10-04T18:25:08.195024",
     "exception": false,
     "start_time": "2020-10-04T18:25:01.117558",
     "status": "completed"
    },
    "tags": []
   },
   "outputs": [],
   "source": [
    "test_preds_catb_f = np.zeros(prediction_cat_c2[\"TARGET\"].shape[0])\n",
    "test_preds_catb_c1 = np.zeros(prediction_cat_c2[\"TARGET\"].shape[0])\n",
    "test_preds_catb_c2 = np.zeros(prediction_cat_c2[\"TARGET\"].shape[0])\n",
    "\n",
    "for i in range(5):\n",
    "    test_preds_catb_f += estimators_catb_f[i].predict_proba(test_prep.drop([\"APPLICATION_NUMBER\"], axis=1))[:, 1]\n",
    "    test_preds_catb_c1 += estimators_catb_c1[i].predict_proba(test_cat_crop)[:, 1]\n",
    "    test_preds_catb_c2 += estimators_catb_c2[i].predict_proba(test_cat_crop_2)[:, 1]\n",
    "\n",
    "test_preds_catb_f /= 5\n",
    "test_preds_catb_c1 /= 5\n",
    "test_preds_catb_c2 /= 5\n",
    "\n",
    "test_preds_catb_f[test_preds_catb_f < 0] = 0\n",
    "test_preds_catb_f[test_preds_catb_f > 1] = 1\n",
    "\n",
    "test_preds_catb_c1[test_preds_catb_c1 < 0] = 0\n",
    "test_preds_catb_c1[test_preds_catb_c1 > 1] = 1\n",
    "\n",
    "test_preds_catb_c2[test_preds_catb_c2 < 0] = 0\n",
    "test_preds_catb_c2[test_preds_catb_c2 > 1] = 1"
   ]
  },
  {
   "cell_type": "code",
   "execution_count": 171,
   "metadata": {
    "execution": {
     "iopub.execute_input": "2020-10-04T18:25:08.577971Z",
     "iopub.status.busy": "2020-10-04T18:25:08.577170Z",
     "iopub.status.idle": "2020-10-04T18:25:08.589576Z",
     "shell.execute_reply": "2020-10-04T18:25:08.589120Z"
    },
    "id": "KFN1moCIUCtT",
    "outputId": "f07e1abc-24e5-4008-b9cc-6e5a686faed7",
    "papermill": {
     "duration": 0.201904,
     "end_time": "2020-10-04T18:25:08.589687",
     "exception": false,
     "start_time": "2020-10-04T18:25:08.387783",
     "status": "completed"
    },
    "tags": []
   },
   "outputs": [
    {
     "data": {
      "text/html": [
       "<div>\n",
       "<style scoped>\n",
       "    .dataframe tbody tr th:only-of-type {\n",
       "        vertical-align: middle;\n",
       "    }\n",
       "\n",
       "    .dataframe tbody tr th {\n",
       "        vertical-align: top;\n",
       "    }\n",
       "\n",
       "    .dataframe thead th {\n",
       "        text-align: right;\n",
       "    }\n",
       "</style>\n",
       "<table border=\"1\" class=\"dataframe\">\n",
       "  <thead>\n",
       "    <tr style=\"text-align: right;\">\n",
       "      <th></th>\n",
       "      <th>APPLICATION_NUMBER</th>\n",
       "      <th>TARGET</th>\n",
       "    </tr>\n",
       "  </thead>\n",
       "  <tbody>\n",
       "    <tr>\n",
       "      <th>165136</th>\n",
       "      <td>123487967</td>\n",
       "      <td>0.084458</td>\n",
       "    </tr>\n",
       "    <tr>\n",
       "      <th>165137</th>\n",
       "      <td>123536402</td>\n",
       "      <td>0.047148</td>\n",
       "    </tr>\n",
       "    <tr>\n",
       "      <th>165138</th>\n",
       "      <td>123718238</td>\n",
       "      <td>0.084458</td>\n",
       "    </tr>\n",
       "    <tr>\n",
       "      <th>165139</th>\n",
       "      <td>123631557</td>\n",
       "      <td>0.021638</td>\n",
       "    </tr>\n",
       "    <tr>\n",
       "      <th>165140</th>\n",
       "      <td>123433260</td>\n",
       "      <td>0.050954</td>\n",
       "    </tr>\n",
       "  </tbody>\n",
       "</table>\n",
       "</div>"
      ],
      "text/plain": [
       "        APPLICATION_NUMBER    TARGET\n",
       "165136           123487967  0.084458\n",
       "165137           123536402  0.047148\n",
       "165138           123718238  0.084458\n",
       "165139           123631557  0.021638\n",
       "165140           123433260  0.050954"
      ]
     },
     "execution_count": 171,
     "metadata": {},
     "output_type": "execute_result"
    }
   ],
   "source": [
    "prediction_cat_f[\"TARGET\"] = test_preds_catb_f.copy()\n",
    "prediction_cat_f.tail()\n",
    "\n",
    "prediction_cat_c1[\"TARGET\"] = test_preds_catb_c1.copy()\n",
    "prediction_cat_c1.tail()\n",
    "\n",
    "prediction_cat_c2[\"TARGET\"] = test_preds_catb_c2.copy()\n",
    "prediction_cat_c2.tail()"
   ]
  },
  {
   "cell_type": "code",
   "execution_count": 172,
   "metadata": {
    "execution": {
     "iopub.execute_input": "2020-10-04T18:25:08.984358Z",
     "iopub.status.busy": "2020-10-04T18:25:08.983147Z",
     "iopub.status.idle": "2020-10-04T18:25:10.283873Z",
     "shell.execute_reply": "2020-10-04T18:25:10.284338Z"
    },
    "papermill": {
     "duration": 1.499593,
     "end_time": "2020-10-04T18:25:10.284496",
     "exception": false,
     "start_time": "2020-10-04T18:25:08.784903",
     "status": "completed"
    },
    "tags": []
   },
   "outputs": [],
   "source": [
    "prediction_cat_f.to_csv(working_dir + \"prediction_cat_f.csv\", sep=\",\", index=False)\n",
    "prediction_cat_c1.to_csv(working_dir + \"prediction_cat_c1.csv\", sep=\",\", index=False)\n",
    "prediction_cat_c2.to_csv(working_dir + \"prediction_cat_c2.csv\", sep=\",\", index=False)"
   ]
  },
  {
   "cell_type": "markdown",
   "metadata": {
    "papermill": {
     "duration": 0.178576,
     "end_time": "2020-10-04T18:25:10.640060",
     "exception": false,
     "start_time": "2020-10-04T18:25:10.461484",
     "status": "completed"
    },
    "tags": []
   },
   "source": [
    "## Support Vector Machine"
   ]
  },
  {
   "cell_type": "code",
   "execution_count": 173,
   "metadata": {
    "execution": {
     "iopub.execute_input": "2020-10-04T18:25:10.998368Z",
     "iopub.status.busy": "2020-10-04T18:25:10.997801Z",
     "iopub.status.idle": "2020-10-04T18:25:11.374264Z",
     "shell.execute_reply": "2020-10-04T18:25:11.374783Z"
    },
    "papermill": {
     "duration": 0.555622,
     "end_time": "2020-10-04T18:25:11.374934",
     "exception": false,
     "start_time": "2020-10-04T18:25:10.819312",
     "status": "completed"
    },
    "tags": []
   },
   "outputs": [],
   "source": [
    "from sklearn.model_selection import train_test_split\n",
    "from sklearn.svm import SVC\n",
    "from sklearn.preprocessing import StandardScaler\n",
    "from sklearn.preprocessing import MinMaxScaler\n",
    "from sklearn.preprocessing import RobustScaler\n",
    "from sklearn.neighbors import KNeighborsClassifier\n",
    "from sklearn.ensemble import RandomForestClassifier"
   ]
  },
  {
   "cell_type": "code",
   "execution_count": 174,
   "metadata": {
    "execution": {
     "iopub.execute_input": "2020-10-04T18:25:11.749282Z",
     "iopub.status.busy": "2020-10-04T18:25:11.748772Z",
     "iopub.status.idle": "2020-10-04T18:25:11.783140Z",
     "shell.execute_reply": "2020-10-04T18:25:11.783627Z"
    },
    "papermill": {
     "duration": 0.220843,
     "end_time": "2020-10-04T18:25:11.783766",
     "exception": false,
     "start_time": "2020-10-04T18:25:11.562923",
     "status": "completed"
    },
    "tags": []
   },
   "outputs": [],
   "source": [
    "# X = train_prep.drop([\"APPLICATION_NUMBER\", \"TARGET\"], axis=1)\n",
    "X = train_crop_2\n",
    "X_train, X_valid, y_train, y_valid = train_test_split(X, train_prep[\"TARGET\"].values, test_size=0.2, random_state=42)"
   ]
  },
  {
   "cell_type": "code",
   "execution_count": 175,
   "metadata": {
    "execution": {
     "iopub.execute_input": "2020-10-04T18:25:12.147618Z",
     "iopub.status.busy": "2020-10-04T18:25:12.147039Z",
     "iopub.status.idle": "2020-10-04T18:25:12.152493Z",
     "shell.execute_reply": "2020-10-04T18:25:12.152953Z"
    },
    "papermill": {
     "duration": 0.188823,
     "end_time": "2020-10-04T18:25:12.153084",
     "exception": false,
     "start_time": "2020-10-04T18:25:11.964261",
     "status": "completed"
    },
    "tags": []
   },
   "outputs": [
    {
     "data": {
      "text/plain": [
       "array([0, 0, 0, ..., 0, 0, 0])"
      ]
     },
     "execution_count": 175,
     "metadata": {},
     "output_type": "execute_result"
    }
   ],
   "source": [
    "y_train = y_train.astype(int)\n",
    "y_valid = y_valid.astype(int)\n",
    "y_train"
   ]
  },
  {
   "cell_type": "code",
   "execution_count": 176,
   "metadata": {
    "execution": {
     "iopub.execute_input": "2020-10-04T18:25:12.526493Z",
     "iopub.status.busy": "2020-10-04T18:25:12.525917Z",
     "iopub.status.idle": "2020-10-04T18:25:12.657653Z",
     "shell.execute_reply": "2020-10-04T18:25:12.657145Z"
    },
    "papermill": {
     "duration": 0.318023,
     "end_time": "2020-10-04T18:25:12.657767",
     "exception": false,
     "start_time": "2020-10-04T18:25:12.339744",
     "status": "completed"
    },
    "tags": []
   },
   "outputs": [],
   "source": [
    "scaler = StandardScaler()\n",
    "\n",
    "scaler.fit_transform(X)\n",
    "X_sc = pd.DataFrame(scaler.transform(X), columns=X.columns)\n",
    "X_train_sc = pd.DataFrame(scaler.transform(X_train), columns=X_train.columns)\n",
    "X_valid_sc = pd.DataFrame(scaler.transform(X_valid), columns=X_valid.columns)"
   ]
  },
  {
   "cell_type": "code",
   "execution_count": 177,
   "metadata": {
    "execution": {
     "iopub.execute_input": "2020-10-04T18:25:13.024452Z",
     "iopub.status.busy": "2020-10-04T18:25:13.023456Z",
     "iopub.status.idle": "2020-10-04T18:25:13.082699Z",
     "shell.execute_reply": "2020-10-04T18:25:13.081876Z"
    },
    "papermill": {
     "duration": 0.246765,
     "end_time": "2020-10-04T18:25:13.082857",
     "exception": false,
     "start_time": "2020-10-04T18:25:12.836092",
     "status": "completed"
    },
    "tags": []
   },
   "outputs": [],
   "source": [
    "# tst = test_prep.drop([\"APPLICATION_NUMBER\"], axis=1)\n",
    "# tst = scaler.transform(test_crop_2)\n",
    "# np.isfinite(tst).all()\n",
    "# np.isfinite(X).all()\n",
    "X_test_sc = pd.DataFrame(scaler.transform(test_crop_2), columns=test_crop_2.columns)"
   ]
  },
  {
   "cell_type": "code",
   "execution_count": 178,
   "metadata": {
    "execution": {
     "iopub.execute_input": "2020-10-04T18:25:13.470824Z",
     "iopub.status.busy": "2020-10-04T18:25:13.470010Z",
     "iopub.status.idle": "2020-10-04T18:25:13.474084Z",
     "shell.execute_reply": "2020-10-04T18:25:13.473211Z"
    },
    "papermill": {
     "duration": 0.188627,
     "end_time": "2020-10-04T18:25:13.474218",
     "exception": false,
     "start_time": "2020-10-04T18:25:13.285591",
     "status": "completed"
    },
    "tags": []
   },
   "outputs": [],
   "source": [
    "# clf = SVC(gamma=\"auto\", random_state=42)\n",
    "\n",
    "# clf.fit(X_train_sc, y_train)\n",
    "\n",
    "# y_pred = clf.predict(X_valid_sc)\n",
    "# y_pred_train = clf.predict(X_train_sc)"
   ]
  },
  {
   "cell_type": "code",
   "execution_count": 179,
   "metadata": {
    "execution": {
     "iopub.execute_input": "2020-10-04T18:25:13.852730Z",
     "iopub.status.busy": "2020-10-04T18:25:13.852160Z",
     "iopub.status.idle": "2020-10-04T18:25:13.854340Z",
     "shell.execute_reply": "2020-10-04T18:25:13.853846Z"
    },
    "papermill": {
     "duration": 0.187089,
     "end_time": "2020-10-04T18:25:13.854474",
     "exception": false,
     "start_time": "2020-10-04T18:25:13.667385",
     "status": "completed"
    },
    "tags": []
   },
   "outputs": [],
   "source": [
    "# score_t = roc_auc_score(y_train, y_pred_train)\n",
    "# print(f\"AUC on train = {score_t:.4f}\")\n",
    "# score_v = roc_auc_score(y_valid, y_pred)\n",
    "# print(f\"AUC on valid = {score_v:.4f}\")"
   ]
  },
  {
   "cell_type": "markdown",
   "metadata": {
    "papermill": {
     "duration": 0.184557,
     "end_time": "2020-10-04T18:25:14.218432",
     "exception": false,
     "start_time": "2020-10-04T18:25:14.033875",
     "status": "completed"
    },
    "tags": []
   },
   "source": [
    "## KNN"
   ]
  },
  {
   "cell_type": "code",
   "execution_count": 180,
   "metadata": {
    "execution": {
     "iopub.execute_input": "2020-10-04T18:25:14.596620Z",
     "iopub.status.busy": "2020-10-04T18:25:14.596008Z",
     "iopub.status.idle": "2020-10-04T18:25:14.703490Z",
     "shell.execute_reply": "2020-10-04T18:25:14.702962Z"
    },
    "papermill": {
     "duration": 0.298228,
     "end_time": "2020-10-04T18:25:14.703617",
     "exception": false,
     "start_time": "2020-10-04T18:25:14.405389",
     "status": "completed"
    },
    "tags": []
   },
   "outputs": [],
   "source": [
    "scaler_mm = StandardScaler() # MinMaxScaler()  #RobustScaler()  \n",
    "\n",
    "scaler_mm.fit_transform(X)\n",
    "X_train_sc = pd.DataFrame(scaler_mm.transform(X_train), columns=X_train.columns)\n",
    "X_valid_sc = pd.DataFrame(scaler_mm.transform(X_valid), columns=X_valid.columns)"
   ]
  },
  {
   "cell_type": "code",
   "execution_count": 181,
   "metadata": {
    "execution": {
     "iopub.execute_input": "2020-10-04T18:25:15.112081Z",
     "iopub.status.busy": "2020-10-04T18:25:15.111482Z",
     "iopub.status.idle": "2020-10-04T18:25:15.115293Z",
     "shell.execute_reply": "2020-10-04T18:25:15.114639Z"
    },
    "papermill": {
     "duration": 0.233966,
     "end_time": "2020-10-04T18:25:15.115496",
     "exception": false,
     "start_time": "2020-10-04T18:25:14.881530",
     "status": "completed"
    },
    "tags": []
   },
   "outputs": [],
   "source": [
    "k_values = np.arange(1, 5)\n",
    "\n",
    "auc_on_train = []\n",
    "auc_on_valid = []\n",
    "\n",
    "# for i, value in enumerate(k_values):\n",
    "#     clf = KNeighborsClassifier(n_neighbors=value)\n",
    "    \n",
    "#     clf.fit(X_train_sc, y_train)\n",
    "    \n",
    "#     y_pred = clf.predict(X_valid_sc)\n",
    "#     y_pred_train = clf.predict(X_train_sc)\n",
    "        \n",
    "#     auc_valid = roc_auc_score(y_valid, y_pred)\n",
    "#     auc_train = roc_auc_score(y_train, y_pred_train)\n",
    "    \n",
    "#     #if i% 2 == 0: \n",
    "#     print('K = {}'.format(value))\n",
    "#     print('\\tacc_train = {}'.format(auc_train))\n",
    "#     print('\\tacc_valid = {}\\n'.format(auc_valid))\n",
    "    \n",
    "#     auc_on_train.append(auc_train)\n",
    "#     auc_on_valid.append(auc_valid)"
   ]
  },
  {
   "cell_type": "code",
   "execution_count": 182,
   "metadata": {
    "execution": {
     "iopub.execute_input": "2020-10-04T18:25:15.489384Z",
     "iopub.status.busy": "2020-10-04T18:25:15.488797Z",
     "iopub.status.idle": "2020-10-04T18:25:15.491562Z",
     "shell.execute_reply": "2020-10-04T18:25:15.491031Z"
    },
    "papermill": {
     "duration": 0.191213,
     "end_time": "2020-10-04T18:25:15.491677",
     "exception": false,
     "start_time": "2020-10-04T18:25:15.300464",
     "status": "completed"
    },
    "tags": []
   },
   "outputs": [],
   "source": [
    "# plt.plot(k_values, auc_on_valid, label=\"valid\")\n",
    "# plt.plot(k_values, auc_on_train, label=\"train\")\n",
    "\n",
    "# plt.xlabel('K')\n",
    "# plt.ylabel('AUC')\n",
    "\n",
    "# plt.legend()\n",
    "# plt.grid()\n",
    "\n",
    "# plt.show()"
   ]
  },
  {
   "cell_type": "code",
   "execution_count": 183,
   "metadata": {
    "execution": {
     "iopub.execute_input": "2020-10-04T18:25:15.876128Z",
     "iopub.status.busy": "2020-10-04T18:25:15.875307Z",
     "iopub.status.idle": "2020-10-04T18:25:15.877119Z",
     "shell.execute_reply": "2020-10-04T18:25:15.876669Z"
    },
    "papermill": {
     "duration": 0.192905,
     "end_time": "2020-10-04T18:25:15.877220",
     "exception": false,
     "start_time": "2020-10-04T18:25:15.684315",
     "status": "completed"
    },
    "tags": []
   },
   "outputs": [],
   "source": [
    "# clf = KNeighborsClassifier(n_neighbors=3)\n",
    "\n",
    "# clf.fit(X_train_sc, y_train)\n",
    "\n",
    "# y_pred = clf.predict(X_valid_sc)\n",
    "\n",
    "# score = roc_auc_score(y_valid, y_pred)\n",
    "# print(f\"Score = {score:.4f}\")"
   ]
  },
  {
   "cell_type": "markdown",
   "metadata": {
    "papermill": {
     "duration": 0.182559,
     "end_time": "2020-10-04T18:25:16.241001",
     "exception": false,
     "start_time": "2020-10-04T18:25:16.058442",
     "status": "completed"
    },
    "tags": []
   },
   "source": [
    "## Random Forest"
   ]
  },
  {
   "cell_type": "code",
   "execution_count": 184,
   "metadata": {
    "execution": {
     "iopub.execute_input": "2020-10-04T18:25:16.617780Z",
     "iopub.status.busy": "2020-10-04T18:25:16.616872Z",
     "iopub.status.idle": "2020-10-04T18:25:16.619943Z",
     "shell.execute_reply": "2020-10-04T18:25:16.619510Z"
    },
    "papermill": {
     "duration": 0.190962,
     "end_time": "2020-10-04T18:25:16.620053",
     "exception": false,
     "start_time": "2020-10-04T18:25:16.429091",
     "status": "completed"
    },
    "tags": []
   },
   "outputs": [],
   "source": [
    "# clf = RandomForestClassifier(max_depth=15, max_features=15, n_estimators=2000, random_state=42)\n",
    "\n",
    "# clf.fit(X_train, y_train)\n",
    "\n",
    "# y_pred = clf.predict(X_valid)\n",
    "\n",
    "# score = roc_auc_score(y_valid, y_pred)\n",
    "# print(f\"Score = {score:.4f}\")"
   ]
  },
  {
   "cell_type": "markdown",
   "metadata": {
    "papermill": {
     "duration": 0.185501,
     "end_time": "2020-10-04T18:25:16.992021",
     "exception": false,
     "start_time": "2020-10-04T18:25:16.806520",
     "status": "completed"
    },
    "tags": []
   },
   "source": [
    "## Полносвязная нейросеть"
   ]
  },
  {
   "cell_type": "code",
   "execution_count": 185,
   "metadata": {
    "execution": {
     "iopub.execute_input": "2020-10-04T18:25:17.362839Z",
     "iopub.status.busy": "2020-10-04T18:25:17.362015Z",
     "iopub.status.idle": "2020-10-04T18:25:24.084714Z",
     "shell.execute_reply": "2020-10-04T18:25:24.083701Z"
    },
    "papermill": {
     "duration": 6.910911,
     "end_time": "2020-10-04T18:25:24.084867",
     "exception": false,
     "start_time": "2020-10-04T18:25:17.173956",
     "status": "completed"
    },
    "tags": []
   },
   "outputs": [],
   "source": [
    "import tensorflow as tf\n",
    "\n",
    "# !pip install -q tensorflow-hub\n",
    "# !pip install -q tensorflow-datasets\n",
    "import tensorflow_hub as hub\n",
    "import tensorflow_datasets as tfds\n",
    "\n",
    "import keras\n",
    "\n",
    "from keras.models import Sequential\n",
    "from keras.layers import Dense, Conv1D, MaxPooling1D, Dropout, Flatten\n",
    "from keras.utils import to_categorical"
   ]
  },
  {
   "cell_type": "code",
   "execution_count": 186,
   "metadata": {
    "execution": {
     "iopub.execute_input": "2020-10-04T18:25:24.464329Z",
     "iopub.status.busy": "2020-10-04T18:25:24.463744Z",
     "iopub.status.idle": "2020-10-04T18:25:24.467039Z",
     "shell.execute_reply": "2020-10-04T18:25:24.466451Z"
    },
    "papermill": {
     "duration": 0.190563,
     "end_time": "2020-10-04T18:25:24.467141",
     "exception": false,
     "start_time": "2020-10-04T18:25:24.276578",
     "status": "completed"
    },
    "tags": []
   },
   "outputs": [],
   "source": [
    "def calculate_confidence_interval(scores: list, conf_interval: float = 0.95) -> Tuple[float]:\n",
    "    \"\"\"\n",
    "    Вычисление доверительного интервала.\n",
    "\n",
    "    Parameters\n",
    "    ----------\n",
    "    scores: List[float / int]\n",
    "        Список с оценками изучаемой величины.\n",
    "\n",
    "    conf_interval: float, optional, default = 0.95\n",
    "        Уровень доверия для построения интервала.\n",
    "        Опциональный параметр, по умолчанию, равен 0.95.\n",
    "\n",
    "    Returns\n",
    "    -------\n",
    "    conf_interval: Tuple[float]\n",
    "        Кортеж с границами доверительного интервала.\n",
    "\n",
    "    \"\"\"\n",
    "    left_bound = np.percentile(\n",
    "        scores, ((1 - conf_interval) / 2) * 100\n",
    "    )\n",
    "    right_bound = np.percentile(\n",
    "        scores, (conf_interval + ((1 - conf_interval) / 2)) * 100\n",
    "    )\n",
    "\n",
    "    return left_bound, right_bound"
   ]
  },
  {
   "cell_type": "code",
   "execution_count": 187,
   "metadata": {
    "execution": {
     "iopub.execute_input": "2020-10-04T18:25:24.834697Z",
     "iopub.status.busy": "2020-10-04T18:25:24.833756Z",
     "iopub.status.idle": "2020-10-04T18:25:24.837500Z",
     "shell.execute_reply": "2020-10-04T18:25:24.837004Z"
    },
    "papermill": {
     "duration": 0.187822,
     "end_time": "2020-10-04T18:25:24.837613",
     "exception": false,
     "start_time": "2020-10-04T18:25:24.649791",
     "status": "completed"
    },
    "tags": []
   },
   "outputs": [
    {
     "data": {
      "text/plain": [
       "(88074, 31)"
      ]
     },
     "execution_count": 187,
     "metadata": {},
     "output_type": "execute_result"
    }
   ],
   "source": [
    "train_data = X_train_sc.values\n",
    "validation_data = X_valid_sc.values\n",
    "train_data.shape"
   ]
  },
  {
   "cell_type": "code",
   "execution_count": 188,
   "metadata": {
    "execution": {
     "iopub.execute_input": "2020-10-04T18:25:25.203019Z",
     "iopub.status.busy": "2020-10-04T18:25:25.202104Z",
     "iopub.status.idle": "2020-10-04T18:25:25.207172Z",
     "shell.execute_reply": "2020-10-04T18:25:25.207686Z"
    },
    "papermill": {
     "duration": 0.189062,
     "end_time": "2020-10-04T18:25:25.207823",
     "exception": false,
     "start_time": "2020-10-04T18:25:25.018761",
     "status": "completed"
    },
    "tags": []
   },
   "outputs": [
    {
     "data": {
      "text/plain": [
       "array([0, 0, 0, ..., 0, 0, 0])"
      ]
     },
     "execution_count": 188,
     "metadata": {},
     "output_type": "execute_result"
    }
   ],
   "source": [
    "y_train"
   ]
  },
  {
   "cell_type": "code",
   "execution_count": 189,
   "metadata": {
    "execution": {
     "iopub.execute_input": "2020-10-04T18:25:25.580155Z",
     "iopub.status.busy": "2020-10-04T18:25:25.579521Z",
     "iopub.status.idle": "2020-10-04T18:25:25.582115Z",
     "shell.execute_reply": "2020-10-04T18:25:25.582631Z"
    },
    "papermill": {
     "duration": 0.193818,
     "end_time": "2020-10-04T18:25:25.582775",
     "exception": false,
     "start_time": "2020-10-04T18:25:25.388957",
     "status": "completed"
    },
    "tags": []
   },
   "outputs": [],
   "source": [
    "def net_gen(func='relu', lay_cnt=1, neurons=16):\n",
    "    model = tf.keras.Sequential()\n",
    "    model.add(tf.keras.layers.Dense(neurons, activation=func, input_shape=(train_data.shape[1], )))\n",
    "    if not lay_cnt==1:\n",
    "        model.add(tf.keras.layers.Dense(neurons, activation=func))\n",
    "    model.add(tf.keras.layers.Dense(1, activation='sigmoid'))\n",
    "    \n",
    "    model.compile( #optimizer='sgd', loss='mse', metrics=[tf.keras.metrics.AUC()])\n",
    "                    optimizer=tf.keras.optimizers.Adam(1e-3),\n",
    "                    loss=tf.keras.losses.BinaryCrossentropy(),\n",
    "                    metrics=[tf.keras.metrics.AUC()])\n",
    "        \n",
    "#                 optimizer=tf.keras.optimizers.Adam(1e-3),\n",
    "#                 loss=tf.keras.losses.BinaryCrossentropy(),\n",
    "#                 metrics=['accuracy'])\n",
    "\n",
    "    return model"
   ]
  },
  {
   "cell_type": "code",
   "execution_count": 190,
   "metadata": {
    "execution": {
     "iopub.execute_input": "2020-10-04T18:25:25.954683Z",
     "iopub.status.busy": "2020-10-04T18:25:25.953992Z",
     "iopub.status.idle": "2020-10-04T18:25:25.956390Z",
     "shell.execute_reply": "2020-10-04T18:25:25.955925Z"
    },
    "papermill": {
     "duration": 0.188063,
     "end_time": "2020-10-04T18:25:25.956519",
     "exception": false,
     "start_time": "2020-10-04T18:25:25.768456",
     "status": "completed"
    },
    "tags": []
   },
   "outputs": [],
   "source": [
    "def net_iter(model, ep=10, batch_size=512):\n",
    "    history = model.fit(train_data,\n",
    "                        y_train,\n",
    "                        epochs=ep,\n",
    "                        validation_data=(validation_data, y_valid),\n",
    "                        batch_size=batch_size,\n",
    "                        verbose=0)\n",
    "    return history.history"
   ]
  },
  {
   "cell_type": "code",
   "execution_count": 191,
   "metadata": {
    "execution": {
     "iopub.execute_input": "2020-10-04T18:25:26.330600Z",
     "iopub.status.busy": "2020-10-04T18:25:26.329671Z",
     "iopub.status.idle": "2020-10-04T18:25:26.333063Z",
     "shell.execute_reply": "2020-10-04T18:25:26.333503Z"
    },
    "papermill": {
     "duration": 0.190619,
     "end_time": "2020-10-04T18:25:26.333655",
     "exception": false,
     "start_time": "2020-10-04T18:25:26.143036",
     "status": "completed"
    },
    "tags": []
   },
   "outputs": [],
   "source": [
    "# model = net_gen(func='relu', lay_cnt=2, neurons=64)\n",
    "# model.summary()"
   ]
  },
  {
   "cell_type": "code",
   "execution_count": 192,
   "metadata": {
    "execution": {
     "iopub.execute_input": "2020-10-04T18:25:26.701790Z",
     "iopub.status.busy": "2020-10-04T18:25:26.701185Z",
     "iopub.status.idle": "2020-10-04T18:25:26.705883Z",
     "shell.execute_reply": "2020-10-04T18:25:26.705359Z"
    },
    "papermill": {
     "duration": 0.188343,
     "end_time": "2020-10-04T18:25:26.706028",
     "exception": false,
     "start_time": "2020-10-04T18:25:26.517685",
     "status": "completed"
    },
    "tags": []
   },
   "outputs": [],
   "source": [
    "# model = tf.keras.Sequential()\n",
    "# model.add(tf.keras.layers.Dense(128, activation='relu', input_shape=(train_data.shape[1],)))\n",
    "# model.add(tf.keras.layers.Dense(128, activation='relu'))\n",
    "# model.add(tf.keras.layers.Dense(128, activation='relu'))\n",
    "# model.add(tf.keras.layers.Dense(1, activation='sigmoid'))\n",
    "\n",
    "# model.compile( #optimizer='sgd', loss='mse', metrics=[tf.keras.metrics.AUC()])\n",
    "#                 optimizer=tf.keras.optimizers.Adam(1e-3),\n",
    "#                 loss=tf.keras.losses.BinaryCrossentropy(),\n",
    "#                 metrics=[tf.keras.metrics.AUC()])\n",
    "# model.summary()"
   ]
  },
  {
   "cell_type": "code",
   "execution_count": 193,
   "metadata": {
    "execution": {
     "iopub.execute_input": "2020-10-04T18:25:27.083139Z",
     "iopub.status.busy": "2020-10-04T18:25:27.082291Z",
     "iopub.status.idle": "2020-10-04T18:25:27.085662Z",
     "shell.execute_reply": "2020-10-04T18:25:27.085049Z"
    },
    "papermill": {
     "duration": 0.192216,
     "end_time": "2020-10-04T18:25:27.085771",
     "exception": false,
     "start_time": "2020-10-04T18:25:26.893555",
     "status": "completed"
    },
    "tags": []
   },
   "outputs": [],
   "source": [
    "# history = model.fit(train_data,\n",
    "#                     y_train,\n",
    "#                     epochs=15,\n",
    "#                     validation_data=(validation_data, y_valid),\n",
    "#                     batch_size=512,\n",
    "#                     verbose=1)"
   ]
  },
  {
   "cell_type": "code",
   "execution_count": 194,
   "metadata": {
    "execution": {
     "iopub.execute_input": "2020-10-04T18:25:27.463174Z",
     "iopub.status.busy": "2020-10-04T18:25:27.462534Z",
     "iopub.status.idle": "2020-10-04T18:25:27.465493Z",
     "shell.execute_reply": "2020-10-04T18:25:27.465019Z"
    },
    "papermill": {
     "duration": 0.198485,
     "end_time": "2020-10-04T18:25:27.465596",
     "exception": false,
     "start_time": "2020-10-04T18:25:27.267111",
     "status": "completed"
    },
    "tags": []
   },
   "outputs": [],
   "source": [
    "summary_data = pd.DataFrame(data=[[0, 0, 0, 0, 0, 0, 0, 0, 0]], \n",
    "                            columns=['func', 'batch', 'layers', 'neurons', 'mean_train_score', 'mean_val_score', 'variance', 'l_b', 'r_b'])\n",
    "cnt = 0\n",
    "fc = ['relu', 'sigmoid']\n",
    "b_s = [256, 512]\n",
    "l_c = [1, 2]\n",
    "nr = [16, 32]\n",
    "epochs = 10\n",
    "\n",
    "# net_res = []\n",
    "\n",
    "# for fc_i in fc:\n",
    "#     for b_s_i in b_s:\n",
    "#         for l_c_i in l_c:\n",
    "#             for nr_i in nr:\n",
    "#                 err_score = []\n",
    "#                 err_val_score = []\n",
    "#                 print(f\"Модель: функция {fc_i}, батч {b_s_i}, слоёв {l_c_i}, нейронов {nr_i}, эпох {epochs}\\n\")\n",
    "#                 model = net_gen(func=fc_i, lay_cnt=l_c_i, neurons=nr_i)\n",
    "#                 model.summary()\n",
    "#                 for i in range(6):\n",
    "#                     print(f\"\\tИтерация: {i+1}\")\n",
    "#                     hist = net_iter(model, batch_size=b_s_i, ep=epochs)\n",
    "#                     # net_res.append(hist)\n",
    "#                     err_score.append(hist[list(hist.keys())[1]][-1])\n",
    "#                     err_val_score.append(hist[list(hist.keys())[3]][-1])\n",
    "\n",
    "#                 vr = np.var(err_val_score)\n",
    "#                 l_b, r_b = calculate_confidence_interval(err_val_score)\n",
    "#                 mean_err_score, mean_err_val_score = np.mean(err_score), np.mean(err_val_score)\n",
    "#                 print(f\"Ошибки на train. Средняя: {mean_err_score} список: {err_score}\")\n",
    "#                 print(f\"Ошибки на valid. Средняя: {mean_err_val_score} список: {err_val_score}\")\n",
    "#                 print(f\"Дисперсия ошибки на valid: {vr}\")\n",
    "#                 print(f\"Доверительный интервал: {l_b} - {r_b}\\n\\n\")\n",
    "#                 summary_data.loc[cnt, ['func', 'batch', 'layers', 'neurons', 'mean_train_score', \n",
    "#                                        'mean_val_score', 'variance', 'l_b', 'r_b']] = [fc_i, \n",
    "#                                         b_s_i, l_c_i, nr_i, np.mean(err_score), \n",
    "#                                         np.mean(err_val_score), vr, l_b, r_b]\n",
    "#                 cnt += 1"
   ]
  },
  {
   "cell_type": "code",
   "execution_count": 195,
   "metadata": {
    "execution": {
     "iopub.execute_input": "2020-10-04T18:25:27.837202Z",
     "iopub.status.busy": "2020-10-04T18:25:27.836580Z",
     "iopub.status.idle": "2020-10-04T18:25:27.840087Z",
     "shell.execute_reply": "2020-10-04T18:25:27.839604Z"
    },
    "papermill": {
     "duration": 0.189234,
     "end_time": "2020-10-04T18:25:27.840190",
     "exception": false,
     "start_time": "2020-10-04T18:25:27.650956",
     "status": "completed"
    },
    "tags": []
   },
   "outputs": [],
   "source": [
    "# summary_data"
   ]
  },
  {
   "cell_type": "code",
   "execution_count": 196,
   "metadata": {
    "execution": {
     "iopub.execute_input": "2020-10-04T18:25:28.206079Z",
     "iopub.status.busy": "2020-10-04T18:25:28.205519Z",
     "iopub.status.idle": "2020-10-04T18:25:28.208484Z",
     "shell.execute_reply": "2020-10-04T18:25:28.207899Z"
    },
    "papermill": {
     "duration": 0.186078,
     "end_time": "2020-10-04T18:25:28.208604",
     "exception": false,
     "start_time": "2020-10-04T18:25:28.022526",
     "status": "completed"
    },
    "tags": []
   },
   "outputs": [],
   "source": [
    "# summary_data.sort_values('mean_val_score', ascending=False)"
   ]
  },
  {
   "cell_type": "markdown",
   "metadata": {
    "papermill": {
     "duration": 0.182494,
     "end_time": "2020-10-04T18:25:28.573570",
     "exception": false,
     "start_time": "2020-10-04T18:25:28.391076",
     "status": "completed"
    },
    "tags": []
   },
   "source": [
    "### Данные для загрузки"
   ]
  },
  {
   "cell_type": "code",
   "execution_count": 197,
   "metadata": {
    "execution": {
     "iopub.execute_input": "2020-10-04T18:25:28.994389Z",
     "iopub.status.busy": "2020-10-04T18:25:28.993497Z",
     "iopub.status.idle": "2020-10-04T18:25:29.133441Z",
     "shell.execute_reply": "2020-10-04T18:25:29.134086Z"
    },
    "papermill": {
     "duration": 0.326166,
     "end_time": "2020-10-04T18:25:29.134266",
     "exception": false,
     "start_time": "2020-10-04T18:25:28.808100",
     "status": "completed"
    },
    "tags": []
   },
   "outputs": [
    {
     "name": "stdout",
     "output_type": "stream",
     "text": [
      "Model: \"sequential\"\n",
      "_________________________________________________________________\n",
      "Layer (type)                 Output Shape              Param #   \n",
      "=================================================================\n",
      "dense (Dense)                (None, 32)                1024      \n",
      "_________________________________________________________________\n",
      "dense_1 (Dense)              (None, 1)                 33        \n",
      "=================================================================\n",
      "Total params: 1,057\n",
      "Trainable params: 1,057\n",
      "Non-trainable params: 0\n",
      "_________________________________________________________________\n"
     ]
    }
   ],
   "source": [
    "model = net_gen(func='relu', lay_cnt=1, neurons=32)\n",
    "model.summary()"
   ]
  },
  {
   "cell_type": "code",
   "execution_count": 198,
   "metadata": {
    "execution": {
     "iopub.execute_input": "2020-10-04T18:25:29.505118Z",
     "iopub.status.busy": "2020-10-04T18:25:29.504518Z",
     "iopub.status.idle": "2020-10-04T18:25:29.508130Z",
     "shell.execute_reply": "2020-10-04T18:25:29.507631Z"
    },
    "papermill": {
     "duration": 0.19118,
     "end_time": "2020-10-04T18:25:29.508251",
     "exception": false,
     "start_time": "2020-10-04T18:25:29.317071",
     "status": "completed"
    },
    "tags": []
   },
   "outputs": [],
   "source": [
    "callback = tf.keras.callbacks.EarlyStopping(monitor='loss', patience=4)"
   ]
  },
  {
   "cell_type": "code",
   "execution_count": 199,
   "metadata": {
    "execution": {
     "iopub.execute_input": "2020-10-04T18:25:29.881764Z",
     "iopub.status.busy": "2020-10-04T18:25:29.880869Z",
     "iopub.status.idle": "2020-10-04T18:26:06.366095Z",
     "shell.execute_reply": "2020-10-04T18:26:06.365450Z"
    },
    "papermill": {
     "duration": 36.671468,
     "end_time": "2020-10-04T18:26:06.366224",
     "exception": false,
     "start_time": "2020-10-04T18:25:29.694756",
     "status": "completed"
    },
    "tags": []
   },
   "outputs": [
    {
     "name": "stdout",
     "output_type": "stream",
     "text": [
      "Epoch 1/150\n",
      "345/345 [==============================] - 1s 3ms/step - loss: 0.2904 - auc: 0.6383 - val_loss: 0.2532 - val_auc: 0.7038\n",
      "Epoch 2/150\n",
      "345/345 [==============================] - 1s 2ms/step - loss: 0.2629 - auc: 0.6969 - val_loss: 0.2512 - val_auc: 0.7140\n",
      "Epoch 3/150\n",
      "345/345 [==============================] - 1s 2ms/step - loss: 0.2614 - auc: 0.7034 - val_loss: 0.2497 - val_auc: 0.7192\n",
      "Epoch 4/150\n",
      "345/345 [==============================] - 1s 2ms/step - loss: 0.2604 - auc: 0.7069 - val_loss: 0.2500 - val_auc: 0.7194\n",
      "Epoch 5/150\n",
      "345/345 [==============================] - 1s 2ms/step - loss: 0.2599 - auc: 0.7088 - val_loss: 0.2491 - val_auc: 0.7200\n",
      "Epoch 6/150\n",
      "345/345 [==============================] - 1s 2ms/step - loss: 0.2594 - auc: 0.7112 - val_loss: 0.2496 - val_auc: 0.7228\n",
      "Epoch 7/150\n",
      "345/345 [==============================] - 1s 2ms/step - loss: 0.2589 - auc: 0.7115 - val_loss: 0.2494 - val_auc: 0.7236\n",
      "Epoch 8/150\n",
      "345/345 [==============================] - 1s 2ms/step - loss: 0.2587 - auc: 0.7133 - val_loss: 0.2480 - val_auc: 0.7274\n",
      "Epoch 9/150\n",
      "345/345 [==============================] - 1s 2ms/step - loss: 0.2584 - auc: 0.7138 - val_loss: 0.2476 - val_auc: 0.7286\n",
      "Epoch 10/150\n",
      "345/345 [==============================] - 1s 2ms/step - loss: 0.2581 - auc: 0.7149 - val_loss: 0.2478 - val_auc: 0.7280\n",
      "Epoch 11/150\n",
      "345/345 [==============================] - 1s 2ms/step - loss: 0.2579 - auc: 0.7162 - val_loss: 0.2472 - val_auc: 0.7298\n",
      "Epoch 12/150\n",
      "345/345 [==============================] - 1s 2ms/step - loss: 0.2576 - auc: 0.7166 - val_loss: 0.2477 - val_auc: 0.7280\n",
      "Epoch 13/150\n",
      "345/345 [==============================] - 1s 2ms/step - loss: 0.2574 - auc: 0.7179 - val_loss: 0.2476 - val_auc: 0.7249\n",
      "Epoch 14/150\n",
      "345/345 [==============================] - 1s 2ms/step - loss: 0.2572 - auc: 0.7185 - val_loss: 0.2471 - val_auc: 0.7304\n",
      "Epoch 15/150\n",
      "345/345 [==============================] - 1s 2ms/step - loss: 0.2570 - auc: 0.7196 - val_loss: 0.2482 - val_auc: 0.7290\n",
      "Epoch 16/150\n",
      "345/345 [==============================] - 1s 2ms/step - loss: 0.2571 - auc: 0.7184 - val_loss: 0.2468 - val_auc: 0.7315\n",
      "Epoch 17/150\n",
      "345/345 [==============================] - 1s 2ms/step - loss: 0.2567 - auc: 0.7207 - val_loss: 0.2476 - val_auc: 0.7288\n",
      "Epoch 18/150\n",
      "345/345 [==============================] - 1s 2ms/step - loss: 0.2565 - auc: 0.7207 - val_loss: 0.2473 - val_auc: 0.7286\n",
      "Epoch 19/150\n",
      "345/345 [==============================] - 1s 2ms/step - loss: 0.2564 - auc: 0.7214 - val_loss: 0.2474 - val_auc: 0.7287\n",
      "Epoch 20/150\n",
      "345/345 [==============================] - 1s 2ms/step - loss: 0.2564 - auc: 0.7213 - val_loss: 0.2472 - val_auc: 0.7293\n",
      "Epoch 21/150\n",
      "345/345 [==============================] - 1s 2ms/step - loss: 0.2563 - auc: 0.7211 - val_loss: 0.2473 - val_auc: 0.7290\n",
      "Epoch 22/150\n",
      "345/345 [==============================] - 1s 2ms/step - loss: 0.2561 - auc: 0.7224 - val_loss: 0.2473 - val_auc: 0.7305\n",
      "Epoch 23/150\n",
      "345/345 [==============================] - 1s 2ms/step - loss: 0.2561 - auc: 0.7228 - val_loss: 0.2471 - val_auc: 0.7286\n",
      "Epoch 24/150\n",
      "345/345 [==============================] - 1s 2ms/step - loss: 0.2558 - auc: 0.7238 - val_loss: 0.2472 - val_auc: 0.7296\n",
      "Epoch 25/150\n",
      "345/345 [==============================] - 1s 2ms/step - loss: 0.2558 - auc: 0.7231 - val_loss: 0.2472 - val_auc: 0.7292\n",
      "Epoch 26/150\n",
      "345/345 [==============================] - 1s 2ms/step - loss: 0.2560 - auc: 0.7228 - val_loss: 0.2469 - val_auc: 0.7304\n",
      "Epoch 27/150\n",
      "345/345 [==============================] - 1s 2ms/step - loss: 0.2558 - auc: 0.7238 - val_loss: 0.2474 - val_auc: 0.7274\n",
      "Epoch 28/150\n",
      "345/345 [==============================] - 1s 2ms/step - loss: 0.2557 - auc: 0.7235 - val_loss: 0.2476 - val_auc: 0.7263\n",
      "Epoch 29/150\n",
      "345/345 [==============================] - 1s 2ms/step - loss: 0.2556 - auc: 0.7245 - val_loss: 0.2476 - val_auc: 0.7279\n",
      "Epoch 30/150\n",
      "345/345 [==============================] - 1s 2ms/step - loss: 0.2556 - auc: 0.7237 - val_loss: 0.2473 - val_auc: 0.7294\n",
      "Epoch 31/150\n",
      "345/345 [==============================] - 1s 2ms/step - loss: 0.2555 - auc: 0.7253 - val_loss: 0.2473 - val_auc: 0.7283\n",
      "Epoch 32/150\n",
      "345/345 [==============================] - 1s 2ms/step - loss: 0.2556 - auc: 0.7243 - val_loss: 0.2471 - val_auc: 0.7296\n",
      "Epoch 33/150\n",
      "345/345 [==============================] - 1s 2ms/step - loss: 0.2554 - auc: 0.7251 - val_loss: 0.2480 - val_auc: 0.7279\n",
      "Epoch 34/150\n",
      "345/345 [==============================] - 1s 2ms/step - loss: 0.2554 - auc: 0.7252 - val_loss: 0.2473 - val_auc: 0.7301\n",
      "Epoch 35/150\n",
      "345/345 [==============================] - 1s 2ms/step - loss: 0.2553 - auc: 0.7259 - val_loss: 0.2492 - val_auc: 0.7264\n",
      "Epoch 36/150\n",
      "345/345 [==============================] - 1s 2ms/step - loss: 0.2554 - auc: 0.7253 - val_loss: 0.2471 - val_auc: 0.7317\n",
      "Epoch 37/150\n",
      "345/345 [==============================] - 1s 2ms/step - loss: 0.2552 - auc: 0.7255 - val_loss: 0.2479 - val_auc: 0.7293\n",
      "Epoch 38/150\n",
      "345/345 [==============================] - 1s 2ms/step - loss: 0.2553 - auc: 0.7255 - val_loss: 0.2471 - val_auc: 0.7299\n",
      "Epoch 39/150\n",
      "345/345 [==============================] - 1s 2ms/step - loss: 0.2549 - auc: 0.7267 - val_loss: 0.2470 - val_auc: 0.7302\n",
      "Epoch 40/150\n",
      "345/345 [==============================] - 1s 2ms/step - loss: 0.2551 - auc: 0.7265 - val_loss: 0.2471 - val_auc: 0.7304\n",
      "Epoch 41/150\n",
      "345/345 [==============================] - 1s 2ms/step - loss: 0.2549 - auc: 0.7267 - val_loss: 0.2480 - val_auc: 0.7260\n",
      "Epoch 42/150\n",
      "345/345 [==============================] - 1s 2ms/step - loss: 0.2550 - auc: 0.7263 - val_loss: 0.2471 - val_auc: 0.7304\n",
      "Epoch 43/150\n",
      "345/345 [==============================] - 1s 2ms/step - loss: 0.2549 - auc: 0.7268 - val_loss: 0.2492 - val_auc: 0.7218\n",
      "Epoch 44/150\n",
      "345/345 [==============================] - 1s 2ms/step - loss: 0.2551 - auc: 0.7267 - val_loss: 0.2467 - val_auc: 0.7308\n",
      "Epoch 45/150\n",
      "345/345 [==============================] - 1s 2ms/step - loss: 0.2548 - auc: 0.7282 - val_loss: 0.2485 - val_auc: 0.7295\n",
      "Epoch 46/150\n",
      "345/345 [==============================] - 1s 2ms/step - loss: 0.2548 - auc: 0.7275 - val_loss: 0.2477 - val_auc: 0.7242\n",
      "Epoch 47/150\n",
      "345/345 [==============================] - 1s 2ms/step - loss: 0.2548 - auc: 0.7274 - val_loss: 0.2483 - val_auc: 0.7246\n",
      "Epoch 48/150\n",
      "345/345 [==============================] - 1s 2ms/step - loss: 0.2548 - auc: 0.7270 - val_loss: 0.2475 - val_auc: 0.7291\n",
      "Epoch 49/150\n",
      "345/345 [==============================] - 1s 2ms/step - loss: 0.2547 - auc: 0.7277 - val_loss: 0.2473 - val_auc: 0.7278\n",
      "Epoch 50/150\n",
      "345/345 [==============================] - 1s 2ms/step - loss: 0.2547 - auc: 0.7280 - val_loss: 0.2470 - val_auc: 0.7295\n",
      "Epoch 51/150\n",
      "345/345 [==============================] - 1s 2ms/step - loss: 0.2547 - auc: 0.7272 - val_loss: 0.2484 - val_auc: 0.7213\n",
      "Epoch 52/150\n",
      "345/345 [==============================] - 1s 2ms/step - loss: 0.2548 - auc: 0.7273 - val_loss: 0.2473 - val_auc: 0.7266\n",
      "Epoch 53/150\n",
      "345/345 [==============================] - 1s 2ms/step - loss: 0.2549 - auc: 0.7269 - val_loss: 0.2479 - val_auc: 0.7289\n"
     ]
    }
   ],
   "source": [
    "history = model.fit(train_data,\n",
    "                    y_train,\n",
    "                    epochs=150,\n",
    "                    validation_data=(validation_data, y_valid),\n",
    "                    batch_size=256,\n",
    "                    callbacks=[callback],\n",
    "                    verbose=1)"
   ]
  },
  {
   "cell_type": "code",
   "execution_count": 200,
   "metadata": {
    "execution": {
     "iopub.execute_input": "2020-10-04T18:26:07.074308Z",
     "iopub.status.busy": "2020-10-04T18:26:07.073740Z",
     "iopub.status.idle": "2020-10-04T18:26:08.776953Z",
     "shell.execute_reply": "2020-10-04T18:26:08.776140Z"
    },
    "papermill": {
     "duration": 2.041045,
     "end_time": "2020-10-04T18:26:08.777109",
     "exception": false,
     "start_time": "2020-10-04T18:26:06.736064",
     "status": "completed"
    },
    "tags": []
   },
   "outputs": [],
   "source": [
    "tr_prediction_nn = model.predict(X_sc)\n",
    "\n",
    "tr_prediction_nn = tr_prediction_nn.reshape(tr_prediction_nn.shape[0])\n",
    "\n",
    "tr_prediction_nn[tr_prediction_nn < 0] = 0\n",
    "tr_prediction_nn[tr_prediction_nn > 1] = 1"
   ]
  },
  {
   "cell_type": "code",
   "execution_count": 201,
   "metadata": {
    "execution": {
     "iopub.execute_input": "2020-10-04T18:26:09.464776Z",
     "iopub.status.busy": "2020-10-04T18:26:09.464112Z",
     "iopub.status.idle": "2020-10-04T18:26:12.001445Z",
     "shell.execute_reply": "2020-10-04T18:26:12.002021Z"
    },
    "papermill": {
     "duration": 2.891818,
     "end_time": "2020-10-04T18:26:12.002157",
     "exception": false,
     "start_time": "2020-10-04T18:26:09.110339",
     "status": "completed"
    },
    "tags": []
   },
   "outputs": [
    {
     "data": {
      "text/html": [
       "<div>\n",
       "<style scoped>\n",
       "    .dataframe tbody tr th:only-of-type {\n",
       "        vertical-align: middle;\n",
       "    }\n",
       "\n",
       "    .dataframe tbody tr th {\n",
       "        vertical-align: top;\n",
       "    }\n",
       "\n",
       "    .dataframe thead th {\n",
       "        text-align: right;\n",
       "    }\n",
       "</style>\n",
       "<table border=\"1\" class=\"dataframe\">\n",
       "  <thead>\n",
       "    <tr style=\"text-align: right;\">\n",
       "      <th></th>\n",
       "      <th>APPLICATION_NUMBER</th>\n",
       "      <th>TARGET</th>\n",
       "    </tr>\n",
       "  </thead>\n",
       "  <tbody>\n",
       "    <tr>\n",
       "      <th>0</th>\n",
       "      <td>123724268</td>\n",
       "      <td>0.071663</td>\n",
       "    </tr>\n",
       "    <tr>\n",
       "      <th>1</th>\n",
       "      <td>123456549</td>\n",
       "      <td>0.250021</td>\n",
       "    </tr>\n",
       "    <tr>\n",
       "      <th>2</th>\n",
       "      <td>123428178</td>\n",
       "      <td>0.215225</td>\n",
       "    </tr>\n",
       "    <tr>\n",
       "      <th>3</th>\n",
       "      <td>123619984</td>\n",
       "      <td>0.095458</td>\n",
       "    </tr>\n",
       "    <tr>\n",
       "      <th>4</th>\n",
       "      <td>123671104</td>\n",
       "      <td>0.024774</td>\n",
       "    </tr>\n",
       "  </tbody>\n",
       "</table>\n",
       "</div>"
      ],
      "text/plain": [
       "   APPLICATION_NUMBER    TARGET\n",
       "0           123724268  0.071663\n",
       "1           123456549  0.250021\n",
       "2           123428178  0.215225\n",
       "3           123619984  0.095458\n",
       "4           123671104  0.024774"
      ]
     },
     "execution_count": 201,
     "metadata": {},
     "output_type": "execute_result"
    }
   ],
   "source": [
    "test_prediction_nn = model.predict(X_test_sc)\n",
    "\n",
    "test_prediction_nn = test_prediction_nn.reshape(test_prediction_nn.shape[0])\n",
    "\n",
    "test_prediction_nn[test_prediction_nn < 0] = 0\n",
    "test_prediction_nn[test_prediction_nn > 1] = 1\n",
    "\n",
    "prediction_nn = test_prep[['APPLICATION_NUMBER']].copy()\n",
    "prediction_nn[\"TARGET\"] = test_prediction_nn\n",
    "prediction_nn.head()"
   ]
  },
  {
   "cell_type": "code",
   "execution_count": 202,
   "metadata": {
    "execution": {
     "iopub.execute_input": "2020-10-04T18:26:12.673947Z",
     "iopub.status.busy": "2020-10-04T18:26:12.673332Z",
     "iopub.status.idle": "2020-10-04T18:26:13.034540Z",
     "shell.execute_reply": "2020-10-04T18:26:13.033513Z"
    },
    "papermill": {
     "duration": 0.699634,
     "end_time": "2020-10-04T18:26:13.034666",
     "exception": false,
     "start_time": "2020-10-04T18:26:12.335032",
     "status": "completed"
    },
    "tags": []
   },
   "outputs": [],
   "source": [
    "prediction_nn.to_csv(working_dir + \"prediction_nn.csv\", sep=\",\", index=False)"
   ]
  },
  {
   "cell_type": "markdown",
   "metadata": {
    "papermill": {
     "duration": 0.336671,
     "end_time": "2020-10-04T18:26:13.710784",
     "exception": false,
     "start_time": "2020-10-04T18:26:13.374113",
     "status": "completed"
    },
    "tags": []
   },
   "source": [
    "## Свёрточная нейронная сеть"
   ]
  },
  {
   "cell_type": "code",
   "execution_count": 203,
   "metadata": {
    "execution": {
     "iopub.execute_input": "2020-10-04T18:26:14.393240Z",
     "iopub.status.busy": "2020-10-04T18:26:14.391153Z",
     "iopub.status.idle": "2020-10-04T18:26:14.395391Z",
     "shell.execute_reply": "2020-10-04T18:26:14.394919Z"
    },
    "papermill": {
     "duration": 0.345031,
     "end_time": "2020-10-04T18:26:14.395528",
     "exception": false,
     "start_time": "2020-10-04T18:26:14.050497",
     "status": "completed"
    },
    "tags": []
   },
   "outputs": [
    {
     "data": {
      "text/plain": [
       "(88074, 31, 1)"
      ]
     },
     "execution_count": 203,
     "metadata": {},
     "output_type": "execute_result"
    }
   ],
   "source": [
    "tr_data = train_data.reshape(train_data.shape[0], train_data.shape[1], 1)\n",
    "vd_data = validation_data.reshape(validation_data.shape[0], validation_data.shape[1], 1)\n",
    "tr_data.shape"
   ]
  },
  {
   "cell_type": "code",
   "execution_count": 204,
   "metadata": {
    "execution": {
     "iopub.execute_input": "2020-10-04T18:26:15.078048Z",
     "iopub.status.busy": "2020-10-04T18:26:15.077460Z",
     "iopub.status.idle": "2020-10-04T18:26:15.080207Z",
     "shell.execute_reply": "2020-10-04T18:26:15.080646Z"
    },
    "papermill": {
     "duration": 0.346383,
     "end_time": "2020-10-04T18:26:15.080788",
     "exception": false,
     "start_time": "2020-10-04T18:26:14.734405",
     "status": "completed"
    },
    "tags": []
   },
   "outputs": [],
   "source": [
    "def net_gen(lay_cnt=1, filters=32, neurons=32):\n",
    "    # конфигурирование слоев нейросети\n",
    "    model = Sequential()\n",
    "\n",
    "    # слои нейросети отвественные за свертку и max-pooling\n",
    "    model.add(Conv1D(64, 3, padding='same', activation='relu', input_shape=(tr_data.shape[1], 1)))\n",
    "    # model.add(Conv1D(64, 3, activation='relu'))\n",
    "    model.add(MaxPooling1D(pool_size=2))\n",
    "    model.add(Dropout(0.25))\n",
    "    if lay_cnt == 2:\n",
    "        model.add(Conv1D(64, 3, padding='same', activation='relu'))\n",
    "        model.add(MaxPooling1D(pool_size=2))\n",
    "        model.add(Dropout(0.25))\n",
    "\n",
    "    # полносвязные слои нейронной сети\n",
    "    model.add(Flatten())\n",
    "    model.add(Dense(64, activation='relu'))\n",
    "    # model.add(Dense(32, activation='relu'))))\n",
    "    model.add(Dropout(0.5))\n",
    "    model.add(Dense(1, activation='sigmoid')) # sigmoid'))\n",
    "\n",
    "    # компиляция модели\n",
    "    model.compile(optimizer=tf.keras.optimizers.Adam(1e-3),#\n",
    "                  loss=tf.keras.losses.BinaryCrossentropy(),\n",
    "                  metrics=[tf.keras.metrics.AUC()])\n",
    "    return model"
   ]
  },
  {
   "cell_type": "code",
   "execution_count": 205,
   "metadata": {
    "execution": {
     "iopub.execute_input": "2020-10-04T18:26:15.746192Z",
     "iopub.status.busy": "2020-10-04T18:26:15.745559Z",
     "iopub.status.idle": "2020-10-04T18:26:15.750092Z",
     "shell.execute_reply": "2020-10-04T18:26:15.750540Z"
    },
    "papermill": {
     "duration": 0.341447,
     "end_time": "2020-10-04T18:26:15.750690",
     "exception": false,
     "start_time": "2020-10-04T18:26:15.409243",
     "status": "completed"
    },
    "tags": []
   },
   "outputs": [],
   "source": [
    "def net_iter(model, ep=10, batch_size=32):\n",
    "    history = model.fit(tr_data,\n",
    "                        y_train,\n",
    "                        batch_size=batch_size,\n",
    "                        epochs=ep,\n",
    "                        validation_data=(vd_data, y_valid),\n",
    "                        shuffle=True,\n",
    "                        verbose=0)    \n",
    "    return history.history"
   ]
  },
  {
   "cell_type": "code",
   "execution_count": 206,
   "metadata": {
    "execution": {
     "iopub.execute_input": "2020-10-04T18:26:16.454071Z",
     "iopub.status.busy": "2020-10-04T18:26:16.453372Z",
     "iopub.status.idle": "2020-10-04T18:26:16.455883Z",
     "shell.execute_reply": "2020-10-04T18:26:16.455262Z"
    },
    "papermill": {
     "duration": 0.356993,
     "end_time": "2020-10-04T18:26:16.455989",
     "exception": false,
     "start_time": "2020-10-04T18:26:16.098996",
     "status": "completed"
    },
    "tags": []
   },
   "outputs": [],
   "source": [
    "# summary_data = pd.DataFrame(data=[[0, 0, 0, 0, 0, 0, 0, 0]], \n",
    "#                             columns=['layers', 'filters', 'neurons', 'mean_train_score', 'mean_val_score', 'variance', 'l_b', 'r_b'])\n",
    "# cnt = 0\n",
    "# f_n = [32, 64]\n",
    "# l_c = [1, 2]\n",
    "# nr = [32, 64]\n",
    "# epochs = 15\n",
    "\n",
    "# # net_res = []\n",
    "\n",
    "# for l_c_i in l_c:\n",
    "#     for f_n_i in f_n:\n",
    "#         for nr_i in nr:\n",
    "#             err_score = []\n",
    "#             err_val_score = []\n",
    "#             print(f\"Модель: слоёв {l_c_i}, фильтров {f_n_i}, нейронов {nr_i}, эпох {epochs}\\n\")\n",
    "#             model = net_gen(filters=f_n_i, lay_cnt=l_c_i, neurons=nr_i)\n",
    "#             model.summary()\n",
    "#             for i in range(5):\n",
    "#                 print(f\"\\tИтерация: {i+1}\")\n",
    "#                 hist = net_iter(model, ep=epochs)\n",
    "#                 # net_res.append(hist)\n",
    "#                 err_score.append(hist[list(hist.keys())[1]][-1])\n",
    "#                 err_val_score.append(hist[list(hist.keys())[3]][-1])\n",
    "\n",
    "#             vr = np.var(err_val_score)\n",
    "#             l_b, r_b = calculate_confidence_interval(err_val_score)\n",
    "#             mean_err_score, mean_err_val_score = np.mean(err_score), np.mean(err_val_score)\n",
    "#             print(f\"Ошибки на train. Средняя: {mean_err_score} список: {err_score}\")\n",
    "#             print(f\"Ошибки на valid. Средняя: {mean_err_val_score} список: {err_val_score}\")\n",
    "#             print(f\"Дисперсия ошибки на valid: {vr}\")\n",
    "#             print(f\"Доверительный интервал: {l_b} - {r_b}\\n\\n\")\n",
    "#             summary_data.loc[cnt, ['layers', 'filters', 'neurons', 'mean_train_score', \n",
    "#                                     'mean_val_score', 'variance', 'l_b', 'r_b']] = [l_c_i, f_n_i, \n",
    "#                                     nr_i, np.mean(err_score), np.mean(err_val_score), vr, l_b, r_b]\n",
    "#             cnt += 1"
   ]
  },
  {
   "cell_type": "code",
   "execution_count": 207,
   "metadata": {
    "execution": {
     "iopub.execute_input": "2020-10-04T18:26:17.166209Z",
     "iopub.status.busy": "2020-10-04T18:26:17.165297Z",
     "iopub.status.idle": "2020-10-04T18:26:17.169021Z",
     "shell.execute_reply": "2020-10-04T18:26:17.169516Z"
    },
    "papermill": {
     "duration": 0.337594,
     "end_time": "2020-10-04T18:26:17.169646",
     "exception": false,
     "start_time": "2020-10-04T18:26:16.832052",
     "status": "completed"
    },
    "tags": []
   },
   "outputs": [],
   "source": [
    "# summary_data"
   ]
  },
  {
   "cell_type": "code",
   "execution_count": 208,
   "metadata": {
    "execution": {
     "iopub.execute_input": "2020-10-04T18:26:17.834823Z",
     "iopub.status.busy": "2020-10-04T18:26:17.833915Z",
     "iopub.status.idle": "2020-10-04T18:26:17.837628Z",
     "shell.execute_reply": "2020-10-04T18:26:17.838160Z"
    },
    "papermill": {
     "duration": 0.3393,
     "end_time": "2020-10-04T18:26:17.838290",
     "exception": false,
     "start_time": "2020-10-04T18:26:17.498990",
     "status": "completed"
    },
    "tags": []
   },
   "outputs": [],
   "source": [
    "# summary_data.sort_values('mean_val_score', ascending=False)"
   ]
  },
  {
   "cell_type": "code",
   "execution_count": 209,
   "metadata": {
    "execution": {
     "iopub.execute_input": "2020-10-04T18:26:18.505819Z",
     "iopub.status.busy": "2020-10-04T18:26:18.504822Z",
     "iopub.status.idle": "2020-10-04T18:26:18.592211Z",
     "shell.execute_reply": "2020-10-04T18:26:18.591726Z"
    },
    "papermill": {
     "duration": 0.423112,
     "end_time": "2020-10-04T18:26:18.592312",
     "exception": false,
     "start_time": "2020-10-04T18:26:18.169200",
     "status": "completed"
    },
    "tags": []
   },
   "outputs": [],
   "source": [
    "# конфигурирование слоев нейросети\n",
    "model = Sequential()\n",
    "\n",
    "# слои нейросети отвественные за свертку и max-pooling\n",
    "model.add(Conv1D(64, 3, padding='same', activation='relu', input_shape=(tr_data.shape[1], 1)))\n",
    "model.add(MaxPooling1D(pool_size=2))\n",
    "model.add(Dropout(0.25))\n",
    "model.add(Conv1D(64, 3, padding='same', activation='relu'))\n",
    "model.add(MaxPooling1D(pool_size=2))\n",
    "model.add(Dropout(0.25))\n",
    "\n",
    "# полносвязные слои нейронной сети\n",
    "model.add(Flatten())\n",
    "model.add(Dense(64, activation='relu'))\n",
    "# model.add(Dense(32, activation='relu'))))\n",
    "model.add(Dropout(0.5))\n",
    "model.add(Dense(1, activation='sigmoid')) # sigmoid'))\n",
    "\n",
    "# компиляция модели\n",
    "model.compile(optimizer=tf.keras.optimizers.Adam(1e-3),#\n",
    "              loss=tf.keras.losses.BinaryCrossentropy(),\n",
    "              metrics=[tf.keras.metrics.AUC()])"
   ]
  },
  {
   "cell_type": "code",
   "execution_count": 210,
   "metadata": {
    "execution": {
     "iopub.execute_input": "2020-10-04T18:26:19.323975Z",
     "iopub.status.busy": "2020-10-04T18:26:19.322270Z",
     "iopub.status.idle": "2020-10-04T18:26:19.330819Z",
     "shell.execute_reply": "2020-10-04T18:26:19.329938Z"
    },
    "papermill": {
     "duration": 0.404111,
     "end_time": "2020-10-04T18:26:19.330995",
     "exception": false,
     "start_time": "2020-10-04T18:26:18.926884",
     "status": "completed"
    },
    "tags": []
   },
   "outputs": [
    {
     "name": "stdout",
     "output_type": "stream",
     "text": [
      "Model: \"sequential_1\"\n",
      "_________________________________________________________________\n",
      "Layer (type)                 Output Shape              Param #   \n",
      "=================================================================\n",
      "conv1d (Conv1D)              (None, 31, 64)            256       \n",
      "_________________________________________________________________\n",
      "max_pooling1d (MaxPooling1D) (None, 15, 64)            0         \n",
      "_________________________________________________________________\n",
      "dropout (Dropout)            (None, 15, 64)            0         \n",
      "_________________________________________________________________\n",
      "conv1d_1 (Conv1D)            (None, 15, 64)            12352     \n",
      "_________________________________________________________________\n",
      "max_pooling1d_1 (MaxPooling1 (None, 7, 64)             0         \n",
      "_________________________________________________________________\n",
      "dropout_1 (Dropout)          (None, 7, 64)             0         \n",
      "_________________________________________________________________\n",
      "flatten (Flatten)            (None, 448)               0         \n",
      "_________________________________________________________________\n",
      "dense_2 (Dense)              (None, 64)                28736     \n",
      "_________________________________________________________________\n",
      "dropout_2 (Dropout)          (None, 64)                0         \n",
      "_________________________________________________________________\n",
      "dense_3 (Dense)              (None, 1)                 65        \n",
      "=================================================================\n",
      "Total params: 41,409\n",
      "Trainable params: 41,409\n",
      "Non-trainable params: 0\n",
      "_________________________________________________________________\n"
     ]
    }
   ],
   "source": [
    "model.summary()"
   ]
  },
  {
   "cell_type": "code",
   "execution_count": 211,
   "metadata": {
    "execution": {
     "iopub.execute_input": "2020-10-04T18:26:20.010047Z",
     "iopub.status.busy": "2020-10-04T18:26:20.009306Z",
     "iopub.status.idle": "2020-10-04T18:26:20.011787Z",
     "shell.execute_reply": "2020-10-04T18:26:20.012175Z"
    },
    "papermill": {
     "duration": 0.342781,
     "end_time": "2020-10-04T18:26:20.012313",
     "exception": false,
     "start_time": "2020-10-04T18:26:19.669532",
     "status": "completed"
    },
    "tags": []
   },
   "outputs": [],
   "source": [
    "callback = tf.keras.callbacks.EarlyStopping(monitor='loss', patience=3)"
   ]
  },
  {
   "cell_type": "code",
   "execution_count": 212,
   "metadata": {
    "execution": {
     "iopub.execute_input": "2020-10-04T18:26:20.678449Z",
     "iopub.status.busy": "2020-10-04T18:26:20.677599Z",
     "iopub.status.idle": "2020-10-04T18:29:32.547444Z",
     "shell.execute_reply": "2020-10-04T18:29:32.547991Z"
    },
    "papermill": {
     "duration": 192.204025,
     "end_time": "2020-10-04T18:29:32.548150",
     "exception": false,
     "start_time": "2020-10-04T18:26:20.344125",
     "status": "completed"
    },
    "tags": []
   },
   "outputs": [
    {
     "name": "stdout",
     "output_type": "stream",
     "text": [
      "Epoch 1/100\n",
      "1377/1377 [==============================] - 10s 7ms/step - loss: 0.2782 - auc_1: 0.6361 - val_loss: 0.2535 - val_auc_1: 0.7061\n",
      "Epoch 2/100\n",
      "1377/1377 [==============================] - 10s 7ms/step - loss: 0.2711 - auc_1: 0.6645 - val_loss: 0.2531 - val_auc_1: 0.7135\n",
      "Epoch 3/100\n",
      "1377/1377 [==============================] - 12s 9ms/step - loss: 0.2696 - auc_1: 0.6714 - val_loss: 0.2526 - val_auc_1: 0.7082\n",
      "Epoch 4/100\n",
      "1377/1377 [==============================] - 10s 7ms/step - loss: 0.2677 - auc_1: 0.6777 - val_loss: 0.2550 - val_auc_1: 0.7107\n",
      "Epoch 5/100\n",
      "1377/1377 [==============================] - 10s 7ms/step - loss: 0.2662 - auc_1: 0.6842 - val_loss: 0.2516 - val_auc_1: 0.7149\n",
      "Epoch 6/100\n",
      "1377/1377 [==============================] - 10s 7ms/step - loss: 0.2656 - auc_1: 0.6862 - val_loss: 0.2528 - val_auc_1: 0.7043\n",
      "Epoch 7/100\n",
      "1377/1377 [==============================] - 10s 7ms/step - loss: 0.2654 - auc_1: 0.6875 - val_loss: 0.2492 - val_auc_1: 0.7184\n",
      "Epoch 8/100\n",
      "1377/1377 [==============================] - 10s 7ms/step - loss: 0.2640 - auc_1: 0.6927 - val_loss: 0.2495 - val_auc_1: 0.7263\n",
      "Epoch 9/100\n",
      "1377/1377 [==============================] - 10s 7ms/step - loss: 0.2638 - auc_1: 0.6936 - val_loss: 0.2492 - val_auc_1: 0.7243\n",
      "Epoch 10/100\n",
      "1377/1377 [==============================] - 10s 7ms/step - loss: 0.2633 - auc_1: 0.6961 - val_loss: 0.2492 - val_auc_1: 0.7218\n",
      "Epoch 11/100\n",
      "1377/1377 [==============================] - 10s 7ms/step - loss: 0.2629 - auc_1: 0.6992 - val_loss: 0.2509 - val_auc_1: 0.7175\n",
      "Epoch 12/100\n",
      "1377/1377 [==============================] - 10s 7ms/step - loss: 0.2631 - auc_1: 0.6958 - val_loss: 0.2491 - val_auc_1: 0.7262\n",
      "Epoch 13/100\n",
      "1377/1377 [==============================] - 10s 8ms/step - loss: 0.2624 - auc_1: 0.6988 - val_loss: 0.2484 - val_auc_1: 0.7270\n",
      "Epoch 14/100\n",
      "1377/1377 [==============================] - 10s 7ms/step - loss: 0.2623 - auc_1: 0.7009 - val_loss: 0.2480 - val_auc_1: 0.7284\n",
      "Epoch 15/100\n",
      "1377/1377 [==============================] - 9s 7ms/step - loss: 0.2620 - auc_1: 0.7024 - val_loss: 0.2502 - val_auc_1: 0.7250\n",
      "Epoch 16/100\n",
      "1377/1377 [==============================] - 10s 7ms/step - loss: 0.2617 - auc_1: 0.7041 - val_loss: 0.2501 - val_auc_1: 0.7245\n",
      "Epoch 17/100\n",
      "1377/1377 [==============================] - 10s 7ms/step - loss: 0.2618 - auc_1: 0.7029 - val_loss: 0.2522 - val_auc_1: 0.7241\n",
      "Epoch 18/100\n",
      "1377/1377 [==============================] - 10s 7ms/step - loss: 0.2622 - auc_1: 0.7011 - val_loss: 0.2515 - val_auc_1: 0.7225\n",
      "Epoch 19/100\n",
      "1377/1377 [==============================] - 10s 7ms/step - loss: 0.2622 - auc_1: 0.7007 - val_loss: 0.2498 - val_auc_1: 0.7246\n"
     ]
    }
   ],
   "source": [
    "hist = model.fit(tr_data,\n",
    "                 y_train,\n",
    "                 batch_size=64,\n",
    "                 epochs=100,\n",
    "                 validation_data=(vd_data, y_valid),\n",
    "                 callbacks=[callback], \n",
    "                 shuffle=True,\n",
    "                 verbose=1)"
   ]
  },
  {
   "cell_type": "markdown",
   "metadata": {
    "papermill": {
     "duration": 1.102925,
     "end_time": "2020-10-04T18:29:34.775537",
     "exception": false,
     "start_time": "2020-10-04T18:29:33.672612",
     "status": "completed"
    },
    "tags": []
   },
   "source": [
    "### Данные для загрузки"
   ]
  },
  {
   "cell_type": "code",
   "execution_count": 213,
   "metadata": {
    "execution": {
     "iopub.execute_input": "2020-10-04T18:29:37.106219Z",
     "iopub.status.busy": "2020-10-04T18:29:37.105639Z",
     "iopub.status.idle": "2020-10-04T18:29:41.487455Z",
     "shell.execute_reply": "2020-10-04T18:29:41.486953Z"
    },
    "papermill": {
     "duration": 5.536459,
     "end_time": "2020-10-04T18:29:41.487583",
     "exception": false,
     "start_time": "2020-10-04T18:29:35.951124",
     "status": "completed"
    },
    "tags": []
   },
   "outputs": [],
   "source": [
    "f_data = X_sc.values\n",
    "f_data = f_data.reshape(f_data.shape[0], f_data.shape[1], 1)\n",
    "\n",
    "tr_prediction_cnn = model.predict(f_data)\n",
    "\n",
    "tr_prediction_cnn = tr_prediction_cnn.reshape(tr_prediction_cnn.shape[0])\n",
    "\n",
    "tr_prediction_cnn[tr_prediction_cnn < 0] = 0\n",
    "tr_prediction_cnn[tr_prediction_cnn > 1] = 1"
   ]
  },
  {
   "cell_type": "code",
   "execution_count": 214,
   "metadata": {
    "execution": {
     "iopub.execute_input": "2020-10-04T18:29:43.650644Z",
     "iopub.status.busy": "2020-10-04T18:29:43.650084Z",
     "iopub.status.idle": "2020-10-04T18:29:49.790049Z",
     "shell.execute_reply": "2020-10-04T18:29:49.789478Z"
    },
    "papermill": {
     "duration": 7.225036,
     "end_time": "2020-10-04T18:29:49.790154",
     "exception": false,
     "start_time": "2020-10-04T18:29:42.565118",
     "status": "completed"
    },
    "tags": []
   },
   "outputs": [
    {
     "data": {
      "text/html": [
       "<div>\n",
       "<style scoped>\n",
       "    .dataframe tbody tr th:only-of-type {\n",
       "        vertical-align: middle;\n",
       "    }\n",
       "\n",
       "    .dataframe tbody tr th {\n",
       "        vertical-align: top;\n",
       "    }\n",
       "\n",
       "    .dataframe thead th {\n",
       "        text-align: right;\n",
       "    }\n",
       "</style>\n",
       "<table border=\"1\" class=\"dataframe\">\n",
       "  <thead>\n",
       "    <tr style=\"text-align: right;\">\n",
       "      <th></th>\n",
       "      <th>APPLICATION_NUMBER</th>\n",
       "      <th>TARGET</th>\n",
       "    </tr>\n",
       "  </thead>\n",
       "  <tbody>\n",
       "    <tr>\n",
       "      <th>0</th>\n",
       "      <td>123724268</td>\n",
       "      <td>0.075855</td>\n",
       "    </tr>\n",
       "    <tr>\n",
       "      <th>1</th>\n",
       "      <td>123456549</td>\n",
       "      <td>0.217963</td>\n",
       "    </tr>\n",
       "    <tr>\n",
       "      <th>2</th>\n",
       "      <td>123428178</td>\n",
       "      <td>0.182016</td>\n",
       "    </tr>\n",
       "    <tr>\n",
       "      <th>3</th>\n",
       "      <td>123619984</td>\n",
       "      <td>0.098115</td>\n",
       "    </tr>\n",
       "    <tr>\n",
       "      <th>4</th>\n",
       "      <td>123671104</td>\n",
       "      <td>0.030668</td>\n",
       "    </tr>\n",
       "  </tbody>\n",
       "</table>\n",
       "</div>"
      ],
      "text/plain": [
       "   APPLICATION_NUMBER    TARGET\n",
       "0           123724268  0.075855\n",
       "1           123456549  0.217963\n",
       "2           123428178  0.182016\n",
       "3           123619984  0.098115\n",
       "4           123671104  0.030668"
      ]
     },
     "execution_count": 214,
     "metadata": {},
     "output_type": "execute_result"
    }
   ],
   "source": [
    "test_data = X_test_sc.values\n",
    "test_data = test_data.reshape(test_data.shape[0], test_data.shape[1], 1)\n",
    "\n",
    "test_prediction_cnn = model.predict(test_data)\n",
    "\n",
    "test_prediction_cnn = test_prediction_cnn.reshape(test_prediction_cnn.shape[0])\n",
    "\n",
    "test_prediction_cnn[test_prediction_cnn < 0] = 0\n",
    "test_prediction_cnn[test_prediction_cnn > 1] = 1\n",
    "\n",
    "prediction_cnn = test_prep[['APPLICATION_NUMBER']].copy()\n",
    "prediction_cnn[\"TARGET\"] = test_prediction_cnn\n",
    "prediction_cnn.head()"
   ]
  },
  {
   "cell_type": "code",
   "execution_count": 215,
   "metadata": {
    "execution": {
     "iopub.execute_input": "2020-10-04T18:29:52.013001Z",
     "iopub.status.busy": "2020-10-04T18:29:52.012022Z",
     "iopub.status.idle": "2020-10-04T18:29:52.370442Z",
     "shell.execute_reply": "2020-10-04T18:29:52.369937Z"
    },
    "papermill": {
     "duration": 1.455093,
     "end_time": "2020-10-04T18:29:52.370588",
     "exception": false,
     "start_time": "2020-10-04T18:29:50.915495",
     "status": "completed"
    },
    "tags": []
   },
   "outputs": [],
   "source": [
    "prediction_cnn.to_csv(working_dir + \"prediction_cnn.csv\", sep=\",\", index=False)"
   ]
  },
  {
   "cell_type": "markdown",
   "metadata": {
    "id": "nM7gFHyskSmN",
    "papermill": {
     "duration": 1.110574,
     "end_time": "2020-10-04T18:29:54.625920",
     "exception": false,
     "start_time": "2020-10-04T18:29:53.515346",
     "status": "completed"
    },
    "tags": []
   },
   "source": [
    "## Ансамбли"
   ]
  },
  {
   "cell_type": "code",
   "execution_count": 216,
   "metadata": {
    "execution": {
     "iopub.execute_input": "2020-10-04T18:29:56.890458Z",
     "iopub.status.busy": "2020-10-04T18:29:56.889587Z",
     "iopub.status.idle": "2020-10-04T18:29:56.904642Z",
     "shell.execute_reply": "2020-10-04T18:29:56.905223Z"
    },
    "id": "mAFmijoXnesM",
    "outputId": "622fbfed-9954-4125-b75d-da2fb5f88b7b",
    "papermill": {
     "duration": 1.182616,
     "end_time": "2020-10-04T18:29:56.905439",
     "exception": false,
     "start_time": "2020-10-04T18:29:55.722823",
     "status": "completed"
    },
    "tags": []
   },
   "outputs": [
    {
     "data": {
      "text/plain": [
       "array([[1.        , 0.93254362, 0.95124528, 0.88068229, 0.88511837],\n",
       "       [0.93254362, 1.        , 0.92678375, 0.86724618, 0.86103652],\n",
       "       [0.95124528, 0.92678375, 1.        , 0.91599355, 0.92637024],\n",
       "       [0.88068229, 0.86724618, 0.91599355, 1.        , 0.88895515],\n",
       "       [0.88511837, 0.86103652, 0.92637024, 0.88895515, 1.        ]])"
      ]
     },
     "execution_count": 216,
     "metadata": {},
     "output_type": "execute_result"
    }
   ],
   "source": [
    "np.corrcoef([oof_predictions_lgbm_c2, oof_predictions_xgb_c2, oof_preds_catb_f, tr_prediction_nn, tr_prediction_cnn])"
   ]
  },
  {
   "cell_type": "code",
   "execution_count": 217,
   "metadata": {
    "execution": {
     "iopub.execute_input": "2020-10-04T18:29:59.136356Z",
     "iopub.status.busy": "2020-10-04T18:29:59.135801Z",
     "iopub.status.idle": "2020-10-04T18:29:59.141612Z",
     "shell.execute_reply": "2020-10-04T18:29:59.141125Z"
    },
    "id": "5bds_2KbuK0n",
    "papermill": {
     "duration": 1.14445,
     "end_time": "2020-10-04T18:29:59.141722",
     "exception": false,
     "start_time": "2020-10-04T18:29:57.997272",
     "status": "completed"
    },
    "tags": []
   },
   "outputs": [],
   "source": [
    "all_model_pred = pd.DataFrame({\n",
    "    \"xgb_crop2\": oof_predictions_xgb_c2,\n",
    "    \"lgbm_crop2\": oof_predictions_lgbm_c2,\n",
    "    \"catb_crop2\": oof_preds_catb_c2,\n",
    "    \"catb_full\": oof_preds_catb_f,\n",
    "    \"catb_crop1\": oof_preds_catb_c1,\n",
    "    \"lgbm_full\": oof_predictions_lgbm_f,\n",
    "    \"lgbm_crop1\": oof_predictions_lgbm_c1,\n",
    "    \"xgb_crop1\": oof_predictions_xgb_c1,\n",
    "    \"nn\": tr_prediction_nn,\n",
    "    \"cnn\": tr_prediction_cnn\n",
    "})"
   ]
  },
  {
   "cell_type": "code",
   "execution_count": 218,
   "metadata": {
    "execution": {
     "iopub.execute_input": "2020-10-04T18:30:01.305514Z",
     "iopub.status.busy": "2020-10-04T18:30:01.304922Z",
     "iopub.status.idle": "2020-10-04T18:30:01.351613Z",
     "shell.execute_reply": "2020-10-04T18:30:01.352107Z"
    },
    "id": "N1dpKPQTqr8r",
    "outputId": "c3427a66-cd25-4c1d-bb0d-512826c08653",
    "papermill": {
     "duration": 1.128648,
     "end_time": "2020-10-04T18:30:01.352285",
     "exception": false,
     "start_time": "2020-10-04T18:30:00.223637",
     "status": "completed"
    },
    "tags": []
   },
   "outputs": [
    {
     "data": {
      "text/html": [
       "<div>\n",
       "<style scoped>\n",
       "    .dataframe tbody tr th:only-of-type {\n",
       "        vertical-align: middle;\n",
       "    }\n",
       "\n",
       "    .dataframe tbody tr th {\n",
       "        vertical-align: top;\n",
       "    }\n",
       "\n",
       "    .dataframe thead th {\n",
       "        text-align: right;\n",
       "    }\n",
       "</style>\n",
       "<table border=\"1\" class=\"dataframe\">\n",
       "  <thead>\n",
       "    <tr style=\"text-align: right;\">\n",
       "      <th></th>\n",
       "      <th>xgb_crop2</th>\n",
       "      <th>lgbm_crop2</th>\n",
       "      <th>catb_crop2</th>\n",
       "      <th>catb_full</th>\n",
       "      <th>catb_crop1</th>\n",
       "      <th>lgbm_full</th>\n",
       "      <th>lgbm_crop1</th>\n",
       "      <th>xgb_crop1</th>\n",
       "      <th>nn</th>\n",
       "      <th>cnn</th>\n",
       "    </tr>\n",
       "  </thead>\n",
       "  <tbody>\n",
       "    <tr>\n",
       "      <th>xgb_crop2</th>\n",
       "      <td>1.000000</td>\n",
       "      <td>0.932544</td>\n",
       "      <td>0.928486</td>\n",
       "      <td>0.926784</td>\n",
       "      <td>0.925428</td>\n",
       "      <td>0.923845</td>\n",
       "      <td>0.932384</td>\n",
       "      <td>0.947928</td>\n",
       "      <td>0.867246</td>\n",
       "      <td>0.861037</td>\n",
       "    </tr>\n",
       "    <tr>\n",
       "      <th>lgbm_crop2</th>\n",
       "      <td>0.932544</td>\n",
       "      <td>1.000000</td>\n",
       "      <td>0.952151</td>\n",
       "      <td>0.951245</td>\n",
       "      <td>0.950651</td>\n",
       "      <td>0.971969</td>\n",
       "      <td>0.984096</td>\n",
       "      <td>0.939341</td>\n",
       "      <td>0.880682</td>\n",
       "      <td>0.885118</td>\n",
       "    </tr>\n",
       "    <tr>\n",
       "      <th>catb_crop2</th>\n",
       "      <td>0.928486</td>\n",
       "      <td>0.952151</td>\n",
       "      <td>1.000000</td>\n",
       "      <td>0.995936</td>\n",
       "      <td>0.996424</td>\n",
       "      <td>0.939979</td>\n",
       "      <td>0.958133</td>\n",
       "      <td>0.939420</td>\n",
       "      <td>0.916659</td>\n",
       "      <td>0.925013</td>\n",
       "    </tr>\n",
       "    <tr>\n",
       "      <th>catb_full</th>\n",
       "      <td>0.926784</td>\n",
       "      <td>0.951245</td>\n",
       "      <td>0.995936</td>\n",
       "      <td>1.000000</td>\n",
       "      <td>0.997261</td>\n",
       "      <td>0.939285</td>\n",
       "      <td>0.957942</td>\n",
       "      <td>0.939306</td>\n",
       "      <td>0.915994</td>\n",
       "      <td>0.926370</td>\n",
       "    </tr>\n",
       "    <tr>\n",
       "      <th>catb_crop1</th>\n",
       "      <td>0.925428</td>\n",
       "      <td>0.950651</td>\n",
       "      <td>0.996424</td>\n",
       "      <td>0.997261</td>\n",
       "      <td>1.000000</td>\n",
       "      <td>0.938470</td>\n",
       "      <td>0.957882</td>\n",
       "      <td>0.938338</td>\n",
       "      <td>0.915376</td>\n",
       "      <td>0.928023</td>\n",
       "    </tr>\n",
       "    <tr>\n",
       "      <th>lgbm_full</th>\n",
       "      <td>0.923845</td>\n",
       "      <td>0.971969</td>\n",
       "      <td>0.939979</td>\n",
       "      <td>0.939285</td>\n",
       "      <td>0.938470</td>\n",
       "      <td>1.000000</td>\n",
       "      <td>0.973281</td>\n",
       "      <td>0.931773</td>\n",
       "      <td>0.871141</td>\n",
       "      <td>0.872044</td>\n",
       "    </tr>\n",
       "    <tr>\n",
       "      <th>lgbm_crop1</th>\n",
       "      <td>0.932384</td>\n",
       "      <td>0.984096</td>\n",
       "      <td>0.958133</td>\n",
       "      <td>0.957942</td>\n",
       "      <td>0.957882</td>\n",
       "      <td>0.973281</td>\n",
       "      <td>1.000000</td>\n",
       "      <td>0.941572</td>\n",
       "      <td>0.884543</td>\n",
       "      <td>0.892127</td>\n",
       "    </tr>\n",
       "    <tr>\n",
       "      <th>xgb_crop1</th>\n",
       "      <td>0.947928</td>\n",
       "      <td>0.939341</td>\n",
       "      <td>0.939420</td>\n",
       "      <td>0.939306</td>\n",
       "      <td>0.938338</td>\n",
       "      <td>0.931773</td>\n",
       "      <td>0.941572</td>\n",
       "      <td>1.000000</td>\n",
       "      <td>0.871847</td>\n",
       "      <td>0.874026</td>\n",
       "    </tr>\n",
       "    <tr>\n",
       "      <th>nn</th>\n",
       "      <td>0.867246</td>\n",
       "      <td>0.880682</td>\n",
       "      <td>0.916659</td>\n",
       "      <td>0.915994</td>\n",
       "      <td>0.915376</td>\n",
       "      <td>0.871141</td>\n",
       "      <td>0.884543</td>\n",
       "      <td>0.871847</td>\n",
       "      <td>1.000000</td>\n",
       "      <td>0.888955</td>\n",
       "    </tr>\n",
       "    <tr>\n",
       "      <th>cnn</th>\n",
       "      <td>0.861037</td>\n",
       "      <td>0.885118</td>\n",
       "      <td>0.925013</td>\n",
       "      <td>0.926370</td>\n",
       "      <td>0.928023</td>\n",
       "      <td>0.872044</td>\n",
       "      <td>0.892127</td>\n",
       "      <td>0.874026</td>\n",
       "      <td>0.888955</td>\n",
       "      <td>1.000000</td>\n",
       "    </tr>\n",
       "  </tbody>\n",
       "</table>\n",
       "</div>"
      ],
      "text/plain": [
       "            xgb_crop2  lgbm_crop2  catb_crop2  catb_full  catb_crop1  \\\n",
       "xgb_crop2    1.000000    0.932544    0.928486   0.926784    0.925428   \n",
       "lgbm_crop2   0.932544    1.000000    0.952151   0.951245    0.950651   \n",
       "catb_crop2   0.928486    0.952151    1.000000   0.995936    0.996424   \n",
       "catb_full    0.926784    0.951245    0.995936   1.000000    0.997261   \n",
       "catb_crop1   0.925428    0.950651    0.996424   0.997261    1.000000   \n",
       "lgbm_full    0.923845    0.971969    0.939979   0.939285    0.938470   \n",
       "lgbm_crop1   0.932384    0.984096    0.958133   0.957942    0.957882   \n",
       "xgb_crop1    0.947928    0.939341    0.939420   0.939306    0.938338   \n",
       "nn           0.867246    0.880682    0.916659   0.915994    0.915376   \n",
       "cnn          0.861037    0.885118    0.925013   0.926370    0.928023   \n",
       "\n",
       "            lgbm_full  lgbm_crop1  xgb_crop1        nn       cnn  \n",
       "xgb_crop2    0.923845    0.932384   0.947928  0.867246  0.861037  \n",
       "lgbm_crop2   0.971969    0.984096   0.939341  0.880682  0.885118  \n",
       "catb_crop2   0.939979    0.958133   0.939420  0.916659  0.925013  \n",
       "catb_full    0.939285    0.957942   0.939306  0.915994  0.926370  \n",
       "catb_crop1   0.938470    0.957882   0.938338  0.915376  0.928023  \n",
       "lgbm_full    1.000000    0.973281   0.931773  0.871141  0.872044  \n",
       "lgbm_crop1   0.973281    1.000000   0.941572  0.884543  0.892127  \n",
       "xgb_crop1    0.931773    0.941572   1.000000  0.871847  0.874026  \n",
       "nn           0.871141    0.884543   0.871847  1.000000  0.888955  \n",
       "cnn          0.872044    0.892127   0.874026  0.888955  1.000000  "
      ]
     },
     "execution_count": 218,
     "metadata": {},
     "output_type": "execute_result"
    }
   ],
   "source": [
    "all_model_pred.corr()"
   ]
  },
  {
   "cell_type": "code",
   "execution_count": 219,
   "metadata": {
    "execution": {
     "iopub.execute_input": "2020-10-04T18:30:03.607797Z",
     "iopub.status.busy": "2020-10-04T18:30:03.607165Z",
     "iopub.status.idle": "2020-10-04T18:30:04.263510Z",
     "shell.execute_reply": "2020-10-04T18:30:04.262766Z"
    },
    "id": "5IzRIyMoBu1H",
    "outputId": "cf1cb59b-d206-4231-9588-f0cc6a426de2",
    "papermill": {
     "duration": 1.776845,
     "end_time": "2020-10-04T18:30:04.263684",
     "exception": false,
     "start_time": "2020-10-04T18:30:02.486839",
     "status": "completed"
    },
    "tags": []
   },
   "outputs": [
    {
     "name": "stdout",
     "output_type": "stream",
     "text": [
      "xgb_crop2 & lgbm_crop2 mean 0.7269 geom 0.7271\n",
      "xgb_crop2 & catb_crop2 mean 0.7270 geom 0.7270\n",
      "xgb_crop2 & catb_full mean 0.7272 geom 0.7270\n",
      "xgb_crop2 & catb_crop1 mean 0.7269 geom 0.7269\n",
      "xgb_crop2 & lgbm_full mean 0.7272 geom 0.7275\n",
      "xgb_crop2 & lgbm_crop1 mean 0.7265 geom 0.7267\n",
      "xgb_crop2 & xgb_crop1 mean 0.7252 geom 0.7254\n",
      "xgb_crop2 & nn mean 0.7334 geom 0.7332\n",
      "xgb_crop2 & cnn mean 0.7287 geom 0.7288\n"
     ]
    }
   ],
   "source": [
    "for name in all_model_pred.columns[1:]:\n",
    "    mean_01 = (all_model_pred[all_model_pred.columns[0]] + all_model_pred[name]) / 2\n",
    "    geom_01 = abs(all_model_pred[all_model_pred.columns[0]] * all_model_pred[name]) ** 0.5\n",
    "    score_m = roc_auc_score(train_prep[\"TARGET\"].values, mean_01)\n",
    "    score_g = roc_auc_score(train_prep[\"TARGET\"].values, geom_01)\n",
    "    print(f\"{all_model_pred.columns[0]} & {name} mean {score_m:.4f} geom {score_g:.4f}\")"
   ]
  },
  {
   "cell_type": "code",
   "execution_count": 220,
   "metadata": {
    "execution": {
     "iopub.execute_input": "2020-10-04T18:30:06.468806Z",
     "iopub.status.busy": "2020-10-04T18:30:06.467863Z",
     "iopub.status.idle": "2020-10-04T18:30:06.481263Z",
     "shell.execute_reply": "2020-10-04T18:30:06.480794Z"
    },
    "id": "FKD648QYktNc",
    "papermill": {
     "duration": 1.113555,
     "end_time": "2020-10-04T18:30:06.481373",
     "exception": false,
     "start_time": "2020-10-04T18:30:05.367818",
     "status": "completed"
    },
    "tags": []
   },
   "outputs": [],
   "source": [
    "mean_predictions = all_model_pred.sum(axis=1)/len(all_model_pred.columns)\n",
    "# mean_predictions"
   ]
  },
  {
   "cell_type": "code",
   "execution_count": 221,
   "metadata": {
    "execution": {
     "iopub.execute_input": "2020-10-04T18:30:08.718404Z",
     "iopub.status.busy": "2020-10-04T18:30:08.717583Z",
     "iopub.status.idle": "2020-10-04T18:30:08.767099Z",
     "shell.execute_reply": "2020-10-04T18:30:08.767566Z"
    },
    "id": "Dl3Sif1CANP3",
    "outputId": "8dbffdd5-799d-4053-e2c1-bd93e2fc54f4",
    "papermill": {
     "duration": 1.150064,
     "end_time": "2020-10-04T18:30:08.767706",
     "exception": false,
     "start_time": "2020-10-04T18:30:07.617642",
     "status": "completed"
    },
    "tags": []
   },
   "outputs": [
    {
     "name": "stdout",
     "output_type": "stream",
     "text": [
      "OOF-score = 0.7299\n"
     ]
    }
   ],
   "source": [
    "score = roc_auc_score(train_prep[\"TARGET\"].values, mean_predictions)\n",
    "print(f\"OOF-score = {score:.4f}\")"
   ]
  },
  {
   "cell_type": "code",
   "execution_count": 222,
   "metadata": {
    "execution": {
     "iopub.execute_input": "2020-10-04T18:30:11.127135Z",
     "iopub.status.busy": "2020-10-04T18:30:11.125897Z",
     "iopub.status.idle": "2020-10-04T18:30:11.146968Z",
     "shell.execute_reply": "2020-10-04T18:30:11.146344Z"
    },
    "id": "Shl0p6D9kspZ",
    "papermill": {
     "duration": 1.171545,
     "end_time": "2020-10-04T18:30:11.147087",
     "exception": false,
     "start_time": "2020-10-04T18:30:09.975542",
     "status": "completed"
    },
    "tags": []
   },
   "outputs": [],
   "source": [
    "geom_predictions = abs(all_model_pred.product(axis=1)) ** (1/len(all_model_pred.columns))\n",
    "# geom_predictions"
   ]
  },
  {
   "cell_type": "code",
   "execution_count": 223,
   "metadata": {
    "execution": {
     "iopub.execute_input": "2020-10-04T18:30:13.505584Z",
     "iopub.status.busy": "2020-10-04T18:30:13.504688Z",
     "iopub.status.idle": "2020-10-04T18:30:13.546199Z",
     "shell.execute_reply": "2020-10-04T18:30:13.546958Z"
    },
    "id": "KIJz6JJg_8GR",
    "outputId": "d44d9cd7-f884-4522-e828-1d3c47b03bc2",
    "papermill": {
     "duration": 1.232239,
     "end_time": "2020-10-04T18:30:13.547152",
     "exception": false,
     "start_time": "2020-10-04T18:30:12.314913",
     "status": "completed"
    },
    "tags": []
   },
   "outputs": [
    {
     "name": "stdout",
     "output_type": "stream",
     "text": [
      "OOF-score = 0.7294\n"
     ]
    }
   ],
   "source": [
    "score = roc_auc_score(train_prep[\"TARGET\"].values, geom_predictions)\n",
    "print(f\"OOF-score = {score:.4f}\")"
   ]
  },
  {
   "cell_type": "code",
   "execution_count": 224,
   "metadata": {
    "execution": {
     "iopub.execute_input": "2020-10-04T18:30:15.716657Z",
     "iopub.status.busy": "2020-10-04T18:30:15.715974Z",
     "iopub.status.idle": "2020-10-04T18:30:15.731900Z",
     "shell.execute_reply": "2020-10-04T18:30:15.732441Z"
    },
    "id": "k7Yqg_-e-okd",
    "outputId": "02125feb-ac8e-47a2-9342-e0d2ac8126f4",
    "papermill": {
     "duration": 1.099642,
     "end_time": "2020-10-04T18:30:15.732574",
     "exception": false,
     "start_time": "2020-10-04T18:30:14.632932",
     "status": "completed"
    },
    "tags": []
   },
   "outputs": [
    {
     "data": {
      "text/html": [
       "<div>\n",
       "<style scoped>\n",
       "    .dataframe tbody tr th:only-of-type {\n",
       "        vertical-align: middle;\n",
       "    }\n",
       "\n",
       "    .dataframe tbody tr th {\n",
       "        vertical-align: top;\n",
       "    }\n",
       "\n",
       "    .dataframe thead th {\n",
       "        text-align: right;\n",
       "    }\n",
       "</style>\n",
       "<table border=\"1\" class=\"dataframe\">\n",
       "  <thead>\n",
       "    <tr style=\"text-align: right;\">\n",
       "      <th></th>\n",
       "      <th>xgb_crop2</th>\n",
       "      <th>lgbm_crop2</th>\n",
       "      <th>catb_crop2</th>\n",
       "      <th>catb_full</th>\n",
       "      <th>catb_crop1</th>\n",
       "      <th>lgbm_full</th>\n",
       "      <th>lgbm_crop1</th>\n",
       "      <th>xgb_crop1</th>\n",
       "      <th>nn</th>\n",
       "      <th>cnn</th>\n",
       "      <th>mean</th>\n",
       "      <th>geom</th>\n",
       "    </tr>\n",
       "  </thead>\n",
       "  <tbody>\n",
       "    <tr>\n",
       "      <th>0</th>\n",
       "      <td>0.013118</td>\n",
       "      <td>0.019700</td>\n",
       "      <td>0.019150</td>\n",
       "      <td>0.020611</td>\n",
       "      <td>0.024461</td>\n",
       "      <td>0.021430</td>\n",
       "      <td>0.022418</td>\n",
       "      <td>0.015952</td>\n",
       "      <td>0.019883</td>\n",
       "      <td>0.036405</td>\n",
       "      <td>0.021313</td>\n",
       "      <td>0.020612</td>\n",
       "    </tr>\n",
       "    <tr>\n",
       "      <th>1</th>\n",
       "      <td>0.082739</td>\n",
       "      <td>0.082078</td>\n",
       "      <td>0.085026</td>\n",
       "      <td>0.085034</td>\n",
       "      <td>0.084914</td>\n",
       "      <td>0.082577</td>\n",
       "      <td>0.082061</td>\n",
       "      <td>0.083136</td>\n",
       "      <td>0.095458</td>\n",
       "      <td>0.098115</td>\n",
       "      <td>0.086114</td>\n",
       "      <td>0.085949</td>\n",
       "    </tr>\n",
       "    <tr>\n",
       "      <th>2</th>\n",
       "      <td>0.041820</td>\n",
       "      <td>0.049804</td>\n",
       "      <td>0.049438</td>\n",
       "      <td>0.047656</td>\n",
       "      <td>0.047709</td>\n",
       "      <td>0.039696</td>\n",
       "      <td>0.048478</td>\n",
       "      <td>0.033553</td>\n",
       "      <td>0.080218</td>\n",
       "      <td>0.054934</td>\n",
       "      <td>0.049331</td>\n",
       "      <td>0.048123</td>\n",
       "    </tr>\n",
       "    <tr>\n",
       "      <th>3</th>\n",
       "      <td>0.125964</td>\n",
       "      <td>0.170812</td>\n",
       "      <td>0.239026</td>\n",
       "      <td>0.243118</td>\n",
       "      <td>0.236027</td>\n",
       "      <td>0.127717</td>\n",
       "      <td>0.152470</td>\n",
       "      <td>0.177084</td>\n",
       "      <td>0.285316</td>\n",
       "      <td>0.224293</td>\n",
       "      <td>0.198183</td>\n",
       "      <td>0.191150</td>\n",
       "    </tr>\n",
       "    <tr>\n",
       "      <th>4</th>\n",
       "      <td>0.082739</td>\n",
       "      <td>0.082078</td>\n",
       "      <td>0.083584</td>\n",
       "      <td>0.083509</td>\n",
       "      <td>0.083486</td>\n",
       "      <td>0.082577</td>\n",
       "      <td>0.082061</td>\n",
       "      <td>0.083136</td>\n",
       "      <td>0.095458</td>\n",
       "      <td>0.098115</td>\n",
       "      <td>0.085674</td>\n",
       "      <td>0.085502</td>\n",
       "    </tr>\n",
       "  </tbody>\n",
       "</table>\n",
       "</div>"
      ],
      "text/plain": [
       "   xgb_crop2  lgbm_crop2  catb_crop2  catb_full  catb_crop1  lgbm_full  \\\n",
       "0   0.013118    0.019700    0.019150   0.020611    0.024461   0.021430   \n",
       "1   0.082739    0.082078    0.085026   0.085034    0.084914   0.082577   \n",
       "2   0.041820    0.049804    0.049438   0.047656    0.047709   0.039696   \n",
       "3   0.125964    0.170812    0.239026   0.243118    0.236027   0.127717   \n",
       "4   0.082739    0.082078    0.083584   0.083509    0.083486   0.082577   \n",
       "\n",
       "   lgbm_crop1  xgb_crop1        nn       cnn      mean      geom  \n",
       "0    0.022418   0.015952  0.019883  0.036405  0.021313  0.020612  \n",
       "1    0.082061   0.083136  0.095458  0.098115  0.086114  0.085949  \n",
       "2    0.048478   0.033553  0.080218  0.054934  0.049331  0.048123  \n",
       "3    0.152470   0.177084  0.285316  0.224293  0.198183  0.191150  \n",
       "4    0.082061   0.083136  0.095458  0.098115  0.085674  0.085502  "
      ]
     },
     "execution_count": 224,
     "metadata": {},
     "output_type": "execute_result"
    }
   ],
   "source": [
    "all_model_pred['mean'] = mean_predictions\n",
    "all_model_pred['geom'] = geom_predictions\n",
    "all_model_pred.head()"
   ]
  },
  {
   "cell_type": "code",
   "execution_count": 225,
   "metadata": {
    "execution": {
     "iopub.execute_input": "2020-10-04T18:30:17.964579Z",
     "iopub.status.busy": "2020-10-04T18:30:17.963706Z",
     "iopub.status.idle": "2020-10-04T18:30:18.003544Z",
     "shell.execute_reply": "2020-10-04T18:30:18.002989Z"
    },
    "id": "yuqm33xc_ssw",
    "outputId": "54c08dbe-6837-4882-e5f8-6cc7a0b5ed3f",
    "papermill": {
     "duration": 1.137772,
     "end_time": "2020-10-04T18:30:18.003699",
     "exception": false,
     "start_time": "2020-10-04T18:30:16.865927",
     "status": "completed"
    },
    "tags": []
   },
   "outputs": [
    {
     "name": "stdout",
     "output_type": "stream",
     "text": [
      "OOF-score = 0.7276\n"
     ]
    }
   ],
   "source": [
    "mean3 = (oof_predictions_xgb_c2 + oof_predictions_lgbm_c2 + oof_preds_catb_f) / 3\n",
    "score = roc_auc_score(train_prep[\"TARGET\"].values, mean3)\n",
    "print(f\"OOF-score = {score:.4f}\")"
   ]
  },
  {
   "cell_type": "code",
   "execution_count": 226,
   "metadata": {
    "execution": {
     "iopub.execute_input": "2020-10-04T18:30:20.363691Z",
     "iopub.status.busy": "2020-10-04T18:30:20.363035Z",
     "iopub.status.idle": "2020-10-04T18:30:20.409749Z",
     "shell.execute_reply": "2020-10-04T18:30:20.409138Z"
    },
    "id": "8hWgig6GACnH",
    "outputId": "a1c6fc6b-0510-493f-8b3a-006ecd1d0135",
    "papermill": {
     "duration": 1.232231,
     "end_time": "2020-10-04T18:30:20.409917",
     "exception": false,
     "start_time": "2020-10-04T18:30:19.177686",
     "status": "completed"
    },
    "tags": []
   },
   "outputs": [
    {
     "name": "stdout",
     "output_type": "stream",
     "text": [
      "OOF-score = 0.7276\n"
     ]
    }
   ],
   "source": [
    "geom3 = abs(oof_predictions_xgb_c2 + oof_predictions_lgbm_c2 + oof_preds_catb_f) ** (1/3)\n",
    "score = roc_auc_score(train_prep[\"TARGET\"].values, geom3)\n",
    "print(f\"OOF-score = {score:.4f}\")"
   ]
  },
  {
   "cell_type": "code",
   "execution_count": 227,
   "metadata": {
    "execution": {
     "iopub.execute_input": "2020-10-04T18:30:22.644374Z",
     "iopub.status.busy": "2020-10-04T18:30:22.643574Z",
     "iopub.status.idle": "2020-10-04T18:30:22.681736Z",
     "shell.execute_reply": "2020-10-04T18:30:22.682145Z"
    },
    "papermill": {
     "duration": 1.153938,
     "end_time": "2020-10-04T18:30:22.682288",
     "exception": false,
     "start_time": "2020-10-04T18:30:21.528350",
     "status": "completed"
    },
    "tags": []
   },
   "outputs": [
    {
     "name": "stdout",
     "output_type": "stream",
     "text": [
      "OOF-score = 0.7330\n"
     ]
    }
   ],
   "source": [
    "mean3n = (oof_predictions_xgb_c2 + tr_prediction_nn + tr_prediction_cnn) / 3\n",
    "score = roc_auc_score(train_prep[\"TARGET\"].values, mean3n)\n",
    "print(f\"OOF-score = {score:.4f}\")"
   ]
  },
  {
   "cell_type": "code",
   "execution_count": 228,
   "metadata": {
    "execution": {
     "iopub.execute_input": "2020-10-04T18:30:24.909796Z",
     "iopub.status.busy": "2020-10-04T18:30:24.908241Z",
     "iopub.status.idle": "2020-10-04T18:30:24.931989Z",
     "shell.execute_reply": "2020-10-04T18:30:24.931364Z"
    },
    "id": "1st9GkhUAaoH",
    "outputId": "0414a289-873e-4e75-c5fe-d63b87bfc24f",
    "papermill": {
     "duration": 1.17403,
     "end_time": "2020-10-04T18:30:24.932112",
     "exception": false,
     "start_time": "2020-10-04T18:30:23.758082",
     "status": "completed"
    },
    "tags": []
   },
   "outputs": [
    {
     "data": {
      "text/html": [
       "<div>\n",
       "<style scoped>\n",
       "    .dataframe tbody tr th:only-of-type {\n",
       "        vertical-align: middle;\n",
       "    }\n",
       "\n",
       "    .dataframe tbody tr th {\n",
       "        vertical-align: top;\n",
       "    }\n",
       "\n",
       "    .dataframe thead th {\n",
       "        text-align: right;\n",
       "    }\n",
       "</style>\n",
       "<table border=\"1\" class=\"dataframe\">\n",
       "  <thead>\n",
       "    <tr style=\"text-align: right;\">\n",
       "      <th></th>\n",
       "      <th>xgb_crop2</th>\n",
       "      <th>lgbm_crop2</th>\n",
       "      <th>catb_crop2</th>\n",
       "      <th>catb_full</th>\n",
       "      <th>catb_crop1</th>\n",
       "      <th>lgbm_full</th>\n",
       "      <th>lgbm_crop1</th>\n",
       "      <th>xgb_crop1</th>\n",
       "      <th>nn</th>\n",
       "      <th>cnn</th>\n",
       "      <th>mean</th>\n",
       "      <th>geom</th>\n",
       "      <th>mean3</th>\n",
       "      <th>geom3</th>\n",
       "      <th>mean3n</th>\n",
       "    </tr>\n",
       "  </thead>\n",
       "  <tbody>\n",
       "    <tr>\n",
       "      <th>0</th>\n",
       "      <td>0.013118</td>\n",
       "      <td>0.019700</td>\n",
       "      <td>0.019150</td>\n",
       "      <td>0.020611</td>\n",
       "      <td>0.024461</td>\n",
       "      <td>0.021430</td>\n",
       "      <td>0.022418</td>\n",
       "      <td>0.015952</td>\n",
       "      <td>0.019883</td>\n",
       "      <td>0.036405</td>\n",
       "      <td>0.021313</td>\n",
       "      <td>0.020612</td>\n",
       "      <td>0.017810</td>\n",
       "      <td>0.376640</td>\n",
       "      <td>0.023136</td>\n",
       "    </tr>\n",
       "    <tr>\n",
       "      <th>1</th>\n",
       "      <td>0.082739</td>\n",
       "      <td>0.082078</td>\n",
       "      <td>0.085026</td>\n",
       "      <td>0.085034</td>\n",
       "      <td>0.084914</td>\n",
       "      <td>0.082577</td>\n",
       "      <td>0.082061</td>\n",
       "      <td>0.083136</td>\n",
       "      <td>0.095458</td>\n",
       "      <td>0.098115</td>\n",
       "      <td>0.086114</td>\n",
       "      <td>0.085949</td>\n",
       "      <td>0.083283</td>\n",
       "      <td>0.629835</td>\n",
       "      <td>0.092104</td>\n",
       "    </tr>\n",
       "    <tr>\n",
       "      <th>2</th>\n",
       "      <td>0.041820</td>\n",
       "      <td>0.049804</td>\n",
       "      <td>0.049438</td>\n",
       "      <td>0.047656</td>\n",
       "      <td>0.047709</td>\n",
       "      <td>0.039696</td>\n",
       "      <td>0.048478</td>\n",
       "      <td>0.033553</td>\n",
       "      <td>0.080218</td>\n",
       "      <td>0.054934</td>\n",
       "      <td>0.049331</td>\n",
       "      <td>0.048123</td>\n",
       "      <td>0.046427</td>\n",
       "      <td>0.518358</td>\n",
       "      <td>0.058991</td>\n",
       "    </tr>\n",
       "    <tr>\n",
       "      <th>3</th>\n",
       "      <td>0.125964</td>\n",
       "      <td>0.170812</td>\n",
       "      <td>0.239026</td>\n",
       "      <td>0.243118</td>\n",
       "      <td>0.236027</td>\n",
       "      <td>0.127717</td>\n",
       "      <td>0.152470</td>\n",
       "      <td>0.177084</td>\n",
       "      <td>0.285316</td>\n",
       "      <td>0.224293</td>\n",
       "      <td>0.198183</td>\n",
       "      <td>0.191150</td>\n",
       "      <td>0.179965</td>\n",
       "      <td>0.814272</td>\n",
       "      <td>0.211858</td>\n",
       "    </tr>\n",
       "    <tr>\n",
       "      <th>4</th>\n",
       "      <td>0.082739</td>\n",
       "      <td>0.082078</td>\n",
       "      <td>0.083584</td>\n",
       "      <td>0.083509</td>\n",
       "      <td>0.083486</td>\n",
       "      <td>0.082577</td>\n",
       "      <td>0.082061</td>\n",
       "      <td>0.083136</td>\n",
       "      <td>0.095458</td>\n",
       "      <td>0.098115</td>\n",
       "      <td>0.085674</td>\n",
       "      <td>0.085502</td>\n",
       "      <td>0.082775</td>\n",
       "      <td>0.628551</td>\n",
       "      <td>0.092104</td>\n",
       "    </tr>\n",
       "  </tbody>\n",
       "</table>\n",
       "</div>"
      ],
      "text/plain": [
       "   xgb_crop2  lgbm_crop2  catb_crop2  catb_full  catb_crop1  lgbm_full  \\\n",
       "0   0.013118    0.019700    0.019150   0.020611    0.024461   0.021430   \n",
       "1   0.082739    0.082078    0.085026   0.085034    0.084914   0.082577   \n",
       "2   0.041820    0.049804    0.049438   0.047656    0.047709   0.039696   \n",
       "3   0.125964    0.170812    0.239026   0.243118    0.236027   0.127717   \n",
       "4   0.082739    0.082078    0.083584   0.083509    0.083486   0.082577   \n",
       "\n",
       "   lgbm_crop1  xgb_crop1        nn       cnn      mean      geom     mean3  \\\n",
       "0    0.022418   0.015952  0.019883  0.036405  0.021313  0.020612  0.017810   \n",
       "1    0.082061   0.083136  0.095458  0.098115  0.086114  0.085949  0.083283   \n",
       "2    0.048478   0.033553  0.080218  0.054934  0.049331  0.048123  0.046427   \n",
       "3    0.152470   0.177084  0.285316  0.224293  0.198183  0.191150  0.179965   \n",
       "4    0.082061   0.083136  0.095458  0.098115  0.085674  0.085502  0.082775   \n",
       "\n",
       "      geom3    mean3n  \n",
       "0  0.376640  0.023136  \n",
       "1  0.629835  0.092104  \n",
       "2  0.518358  0.058991  \n",
       "3  0.814272  0.211858  \n",
       "4  0.628551  0.092104  "
      ]
     },
     "execution_count": 228,
     "metadata": {},
     "output_type": "execute_result"
    }
   ],
   "source": [
    "all_model_pred['mean3'] = mean3\n",
    "all_model_pred['geom3'] = geom3\n",
    "all_model_pred['mean3n'] = mean3n\n",
    "all_model_pred.head()"
   ]
  },
  {
   "cell_type": "markdown",
   "metadata": {
    "id": "Xq8utcjFkdE7",
    "papermill": {
     "duration": 1.094759,
     "end_time": "2020-10-04T18:30:27.113102",
     "exception": false,
     "start_time": "2020-10-04T18:30:26.018343",
     "status": "completed"
    },
    "tags": []
   },
   "source": [
    "### Отбор моделей"
   ]
  },
  {
   "cell_type": "code",
   "execution_count": 229,
   "metadata": {
    "execution": {
     "iopub.execute_input": "2020-10-04T18:30:29.350182Z",
     "iopub.status.busy": "2020-10-04T18:30:29.346985Z",
     "iopub.status.idle": "2020-10-04T18:30:29.991109Z",
     "shell.execute_reply": "2020-10-04T18:30:29.991772Z"
    },
    "id": "-2FMhgOonqjr",
    "papermill": {
     "duration": 1.774661,
     "end_time": "2020-10-04T18:30:29.991958",
     "exception": false,
     "start_time": "2020-10-04T18:30:28.217297",
     "status": "completed"
    },
    "tags": []
   },
   "outputs": [],
   "source": [
    "X_train, X_valid, y_train, y_valid = train_test_split(all_model_pred, \n",
    "                                                      train_prep[\"TARGET\"], \n",
    "                                                      test_size=0.2, \n",
    "                                                      random_state=42)\n",
    "\n",
    "train_data = lgbm.Dataset(X_train, label=y_train)\n",
    "test_data = lgbm.Dataset(X_valid, label=y_valid)\n",
    "\n",
    "model = lgbm.train(lgbm_params,\n",
    "                   train_data,\n",
    "                   valid_sets=test_data,\n",
    "                   num_boost_round=1000,\n",
    "                   early_stopping_rounds=50,\n",
    "                   verbose_eval=False)"
   ]
  },
  {
   "cell_type": "code",
   "execution_count": 230,
   "metadata": {
    "execution": {
     "iopub.execute_input": "2020-10-04T18:30:32.462757Z",
     "iopub.status.busy": "2020-10-04T18:30:32.461956Z",
     "iopub.status.idle": "2020-10-04T18:30:33.027627Z",
     "shell.execute_reply": "2020-10-04T18:30:33.028460Z"
    },
    "id": "yLp6cj4-qFsj",
    "outputId": "a99fde44-a7a0-47a7-ae31-6fad95c02cda",
    "papermill": {
     "duration": 1.779289,
     "end_time": "2020-10-04T18:30:33.028672",
     "exception": false,
     "start_time": "2020-10-04T18:30:31.249383",
     "status": "completed"
    },
    "tags": []
   },
   "outputs": [
    {
     "name": "stderr",
     "output_type": "stream",
     "text": [
      "100%|██████████| 15/15 [00:00<00:00, 27.92it/s]\n"
     ]
    }
   ],
   "source": [
    "perm_importance = calculate_permutation_importance(\n",
    "    estimator=model, metric=roc_auc_score, x_valid=X_valid, y_valid=y_valid\n",
    ")"
   ]
  },
  {
   "cell_type": "code",
   "execution_count": 231,
   "metadata": {
    "execution": {
     "iopub.execute_input": "2020-10-04T18:30:35.365339Z",
     "iopub.status.busy": "2020-10-04T18:30:35.364525Z",
     "iopub.status.idle": "2020-10-04T18:30:35.368865Z",
     "shell.execute_reply": "2020-10-04T18:30:35.368369Z"
    },
    "id": "CD9fc_VeqFLf",
    "outputId": "7f4b572d-49bf-4782-fd42-72a8027dd8d9",
    "papermill": {
     "duration": 1.087631,
     "end_time": "2020-10-04T18:30:35.368979",
     "exception": false,
     "start_time": "2020-10-04T18:30:34.281348",
     "status": "completed"
    },
    "tags": []
   },
   "outputs": [
    {
     "data": {
      "text/plain": [
       "mean3n        0.187328\n",
       "nn            0.029737\n",
       "catb_full     0.011347\n",
       "lgbm_full     0.006089\n",
       "catb_crop1    0.003894\n",
       "catb_crop2    0.003585\n",
       "xgb_crop1     0.003196\n",
       "geom          0.002816\n",
       "lgbm_crop1    0.001987\n",
       "cnn           0.001241\n",
       "mean          0.001175\n",
       "geom3         0.000082\n",
       "lgbm_crop2    0.000058\n",
       "mean3         0.000018\n",
       "xgb_crop2    -0.000450\n",
       "dtype: float64"
      ]
     },
     "execution_count": 231,
     "metadata": {},
     "output_type": "execute_result"
    }
   ],
   "source": [
    "perm_importance"
   ]
  },
  {
   "cell_type": "code",
   "execution_count": 232,
   "metadata": {
    "execution": {
     "iopub.execute_input": "2020-10-04T18:30:37.684247Z",
     "iopub.status.busy": "2020-10-04T18:30:37.682115Z",
     "iopub.status.idle": "2020-10-04T18:30:37.685255Z",
     "shell.execute_reply": "2020-10-04T18:30:37.684812Z"
    },
    "id": "KZuzvTo0qbkA",
    "papermill": {
     "duration": 1.180105,
     "end_time": "2020-10-04T18:30:37.685352",
     "exception": false,
     "start_time": "2020-10-04T18:30:36.505247",
     "status": "completed"
    },
    "tags": []
   },
   "outputs": [],
   "source": [
    "model_list = perm_importance[perm_importance > 0.0001].index"
   ]
  },
  {
   "cell_type": "code",
   "execution_count": 233,
   "metadata": {
    "execution": {
     "iopub.execute_input": "2020-10-04T18:30:39.905352Z",
     "iopub.status.busy": "2020-10-04T18:30:39.904446Z",
     "iopub.status.idle": "2020-10-04T18:30:39.906752Z",
     "shell.execute_reply": "2020-10-04T18:30:39.907178Z"
    },
    "id": "tsXJUxvsqbBl",
    "papermill": {
     "duration": 1.117089,
     "end_time": "2020-10-04T18:30:39.907306",
     "exception": false,
     "start_time": "2020-10-04T18:30:38.790217",
     "status": "completed"
    },
    "tags": []
   },
   "outputs": [],
   "source": [
    "model_list_crop = all_model_pred[model_list]"
   ]
  },
  {
   "cell_type": "code",
   "execution_count": 234,
   "metadata": {
    "execution": {
     "iopub.execute_input": "2020-10-04T18:30:42.201138Z",
     "iopub.status.busy": "2020-10-04T18:30:42.200529Z",
     "iopub.status.idle": "2020-10-04T18:30:42.204832Z",
     "shell.execute_reply": "2020-10-04T18:30:42.204289Z"
    },
    "id": "bKCZGIC7KBNG",
    "papermill": {
     "duration": 1.191029,
     "end_time": "2020-10-04T18:30:42.204951",
     "exception": false,
     "start_time": "2020-10-04T18:30:41.013922",
     "status": "completed"
    },
    "tags": []
   },
   "outputs": [],
   "source": [
    "lgbm_params =  {\n",
    "    'boosting_type': 'gbdt',\n",
    "    'objective': 'binary',\n",
    "    'metric': 'auc',\n",
    "    \"num_leaves\": 26,\n",
    "    \"learning_rate\": 0.05,\n",
    "    # \"n_estimators\": 100, # clf_l_c1.best_params_['n_estimators'],\n",
    "    \"random_state\": 42 \n",
    "    }"
   ]
  },
  {
   "cell_type": "code",
   "execution_count": 235,
   "metadata": {
    "execution": {
     "iopub.execute_input": "2020-10-04T18:30:44.529554Z",
     "iopub.status.busy": "2020-10-04T18:30:44.528876Z",
     "iopub.status.idle": "2020-10-04T18:30:48.165283Z",
     "shell.execute_reply": "2020-10-04T18:30:48.165947Z"
    },
    "id": "SI8aKSzeLxBG",
    "papermill": {
     "duration": 4.745623,
     "end_time": "2020-10-04T18:30:48.166137",
     "exception": false,
     "start_time": "2020-10-04T18:30:43.420514",
     "status": "completed"
    },
    "tags": []
   },
   "outputs": [],
   "source": [
    "dftrainLGB = lgbm.Dataset(data = model_list_crop, \n",
    "                          label = train_prep[\"TARGET\"])\n",
    "                        #   feature_name = list(x_train))\n",
    "\n",
    "cv_results = lgbm.cv(\n",
    "        lgbm_params,\n",
    "        dftrainLGB,\n",
    "        num_boost_round=2000,\n",
    "        nfold=5,\n",
    "        metrics='auc',\n",
    "        early_stopping_rounds=50\n",
    "        )"
   ]
  },
  {
   "cell_type": "code",
   "execution_count": 236,
   "metadata": {
    "execution": {
     "iopub.execute_input": "2020-10-04T18:30:50.446368Z",
     "iopub.status.busy": "2020-10-04T18:30:50.445799Z",
     "iopub.status.idle": "2020-10-04T18:30:50.450485Z",
     "shell.execute_reply": "2020-10-04T18:30:50.449892Z"
    },
    "id": "6B6ltitLMGUZ",
    "outputId": "4f0dd601-a9f6-4b1b-abfb-42422834238f",
    "papermill": {
     "duration": 1.139418,
     "end_time": "2020-10-04T18:30:50.450600",
     "exception": false,
     "start_time": "2020-10-04T18:30:49.311182",
     "status": "completed"
    },
    "tags": []
   },
   "outputs": [
    {
     "name": "stdout",
     "output_type": "stream",
     "text": [
      "lgbm.cv auc-mean: 0.7337, auc-stdv: 0.0066\n"
     ]
    }
   ],
   "source": [
    "print(f\"lgbm.cv auc-mean: {cv_results['auc-mean'][len(cv_results['auc-mean'])-1]:.4f}, \\\n",
    "auc-stdv: {cv_results['auc-stdv'][len(cv_results['auc-stdv'])-1]:.4f}\")"
   ]
  },
  {
   "cell_type": "markdown",
   "metadata": {
    "id": "b6bjXF5En1Yj",
    "papermill": {
     "duration": 1.197312,
     "end_time": "2020-10-04T18:30:52.845553",
     "exception": false,
     "start_time": "2020-10-04T18:30:51.648241",
     "status": "completed"
    },
    "tags": []
   },
   "source": [
    "### Ансамбли - данные для загрузки"
   ]
  },
  {
   "cell_type": "markdown",
   "metadata": {
    "id": "yATOwjqVNqO1",
    "papermill": {
     "duration": 1.085866,
     "end_time": "2020-10-04T18:30:55.069513",
     "exception": false,
     "start_time": "2020-10-04T18:30:53.983647",
     "status": "completed"
    },
    "tags": []
   },
   "source": [
    "#### Усреднение"
   ]
  },
  {
   "cell_type": "code",
   "execution_count": 237,
   "metadata": {
    "execution": {
     "iopub.execute_input": "2020-10-04T18:30:57.343360Z",
     "iopub.status.busy": "2020-10-04T18:30:57.342369Z",
     "iopub.status.idle": "2020-10-04T18:30:57.353199Z",
     "shell.execute_reply": "2020-10-04T18:30:57.352636Z"
    },
    "id": "dI4nPFovMzPI",
    "outputId": "e21ef8dc-d9fa-41b4-babc-216ebaa331c5",
    "papermill": {
     "duration": 1.193511,
     "end_time": "2020-10-04T18:30:57.353299",
     "exception": false,
     "start_time": "2020-10-04T18:30:56.159788",
     "status": "completed"
    },
    "tags": []
   },
   "outputs": [
    {
     "data": {
      "text/html": [
       "<div>\n",
       "<style scoped>\n",
       "    .dataframe tbody tr th:only-of-type {\n",
       "        vertical-align: middle;\n",
       "    }\n",
       "\n",
       "    .dataframe tbody tr th {\n",
       "        vertical-align: top;\n",
       "    }\n",
       "\n",
       "    .dataframe thead th {\n",
       "        text-align: right;\n",
       "    }\n",
       "</style>\n",
       "<table border=\"1\" class=\"dataframe\">\n",
       "  <thead>\n",
       "    <tr style=\"text-align: right;\">\n",
       "      <th></th>\n",
       "      <th>APPLICATION_NUMBER</th>\n",
       "      <th>TARGET</th>\n",
       "    </tr>\n",
       "  </thead>\n",
       "  <tbody>\n",
       "    <tr>\n",
       "      <th>0</th>\n",
       "      <td>123724268</td>\n",
       "      <td>0.057124</td>\n",
       "    </tr>\n",
       "    <tr>\n",
       "      <th>1</th>\n",
       "      <td>123456549</td>\n",
       "      <td>0.215820</td>\n",
       "    </tr>\n",
       "    <tr>\n",
       "      <th>2</th>\n",
       "      <td>123428178</td>\n",
       "      <td>0.188545</td>\n",
       "    </tr>\n",
       "    <tr>\n",
       "      <th>3</th>\n",
       "      <td>123619984</td>\n",
       "      <td>0.087148</td>\n",
       "    </tr>\n",
       "    <tr>\n",
       "      <th>4</th>\n",
       "      <td>123671104</td>\n",
       "      <td>0.028830</td>\n",
       "    </tr>\n",
       "  </tbody>\n",
       "</table>\n",
       "</div>"
      ],
      "text/plain": [
       "   APPLICATION_NUMBER    TARGET\n",
       "0           123724268  0.057124\n",
       "1           123456549  0.215820\n",
       "2           123428178  0.188545\n",
       "3           123619984  0.087148\n",
       "4           123671104  0.028830"
      ]
     },
     "execution_count": 237,
     "metadata": {},
     "output_type": "execute_result"
    }
   ],
   "source": [
    "prediction_mean3 = test_prep[['APPLICATION_NUMBER']].copy()\n",
    "prediction_mean3[\"TARGET\"] = (test_predictions_xgb_c2 + test_predictions_lgbm_c2 + test_preds_catb_f) / 3\n",
    "prediction_mean3.head()"
   ]
  },
  {
   "cell_type": "code",
   "execution_count": 238,
   "metadata": {
    "execution": {
     "iopub.execute_input": "2020-10-04T18:30:59.523328Z",
     "iopub.status.busy": "2020-10-04T18:30:59.522789Z",
     "iopub.status.idle": "2020-10-04T18:30:59.955610Z",
     "shell.execute_reply": "2020-10-04T18:30:59.956049Z"
    },
    "id": "fzsQYRNnM6rP",
    "papermill": {
     "duration": 1.518725,
     "end_time": "2020-10-04T18:30:59.956199",
     "exception": false,
     "start_time": "2020-10-04T18:30:58.437474",
     "status": "completed"
    },
    "tags": []
   },
   "outputs": [],
   "source": [
    "prediction_mean3.to_csv(working_dir + \"prediction_mean3.csv\", sep=\",\", index=False)"
   ]
  },
  {
   "cell_type": "code",
   "execution_count": 239,
   "metadata": {
    "execution": {
     "iopub.execute_input": "2020-10-04T18:31:02.131930Z",
     "iopub.status.busy": "2020-10-04T18:31:02.130967Z",
     "iopub.status.idle": "2020-10-04T18:31:02.140628Z",
     "shell.execute_reply": "2020-10-04T18:31:02.141107Z"
    },
    "papermill": {
     "duration": 1.092361,
     "end_time": "2020-10-04T18:31:02.141246",
     "exception": false,
     "start_time": "2020-10-04T18:31:01.048885",
     "status": "completed"
    },
    "tags": []
   },
   "outputs": [
    {
     "data": {
      "text/html": [
       "<div>\n",
       "<style scoped>\n",
       "    .dataframe tbody tr th:only-of-type {\n",
       "        vertical-align: middle;\n",
       "    }\n",
       "\n",
       "    .dataframe tbody tr th {\n",
       "        vertical-align: top;\n",
       "    }\n",
       "\n",
       "    .dataframe thead th {\n",
       "        text-align: right;\n",
       "    }\n",
       "</style>\n",
       "<table border=\"1\" class=\"dataframe\">\n",
       "  <thead>\n",
       "    <tr style=\"text-align: right;\">\n",
       "      <th></th>\n",
       "      <th>APPLICATION_NUMBER</th>\n",
       "      <th>TARGET</th>\n",
       "    </tr>\n",
       "  </thead>\n",
       "  <tbody>\n",
       "    <tr>\n",
       "      <th>0</th>\n",
       "      <td>123724268</td>\n",
       "      <td>0.059301</td>\n",
       "    </tr>\n",
       "    <tr>\n",
       "      <th>1</th>\n",
       "      <td>123456549</td>\n",
       "      <td>0.225865</td>\n",
       "    </tr>\n",
       "    <tr>\n",
       "      <th>2</th>\n",
       "      <td>123428178</td>\n",
       "      <td>0.156638</td>\n",
       "    </tr>\n",
       "    <tr>\n",
       "      <th>3</th>\n",
       "      <td>123619984</td>\n",
       "      <td>0.083759</td>\n",
       "    </tr>\n",
       "    <tr>\n",
       "      <th>4</th>\n",
       "      <td>123671104</td>\n",
       "      <td>0.019674</td>\n",
       "    </tr>\n",
       "  </tbody>\n",
       "</table>\n",
       "</div>"
      ],
      "text/plain": [
       "   APPLICATION_NUMBER    TARGET\n",
       "0           123724268  0.059301\n",
       "1           123456549  0.225865\n",
       "2           123428178  0.156638\n",
       "3           123619984  0.083759\n",
       "4           123671104  0.019674"
      ]
     },
     "execution_count": 239,
     "metadata": {},
     "output_type": "execute_result"
    }
   ],
   "source": [
    "prediction_mean2 = test_prep[['APPLICATION_NUMBER']].copy()\n",
    "prediction_mean2[\"TARGET\"] = (test_predictions_xgb_c2 + test_predictions_lgbm_c2) / 2\n",
    "prediction_mean2.head()"
   ]
  },
  {
   "cell_type": "code",
   "execution_count": 240,
   "metadata": {
    "execution": {
     "iopub.execute_input": "2020-10-04T18:31:04.393587Z",
     "iopub.status.busy": "2020-10-04T18:31:04.391619Z",
     "iopub.status.idle": "2020-10-04T18:31:04.865484Z",
     "shell.execute_reply": "2020-10-04T18:31:04.864939Z"
    },
    "papermill": {
     "duration": 1.570773,
     "end_time": "2020-10-04T18:31:04.865607",
     "exception": false,
     "start_time": "2020-10-04T18:31:03.294834",
     "status": "completed"
    },
    "tags": []
   },
   "outputs": [],
   "source": [
    "prediction_mean2.to_csv(working_dir + \"prediction_mean2.csv\", sep=\",\", index=False)"
   ]
  },
  {
   "cell_type": "code",
   "execution_count": 241,
   "metadata": {
    "execution": {
     "iopub.execute_input": "2020-10-04T18:31:07.063294Z",
     "iopub.status.busy": "2020-10-04T18:31:07.062213Z",
     "iopub.status.idle": "2020-10-04T18:31:07.072262Z",
     "shell.execute_reply": "2020-10-04T18:31:07.072848Z"
    },
    "papermill": {
     "duration": 1.100309,
     "end_time": "2020-10-04T18:31:07.072997",
     "exception": false,
     "start_time": "2020-10-04T18:31:05.972688",
     "status": "completed"
    },
    "tags": []
   },
   "outputs": [
    {
     "data": {
      "text/html": [
       "<div>\n",
       "<style scoped>\n",
       "    .dataframe tbody tr th:only-of-type {\n",
       "        vertical-align: middle;\n",
       "    }\n",
       "\n",
       "    .dataframe tbody tr th {\n",
       "        vertical-align: top;\n",
       "    }\n",
       "\n",
       "    .dataframe thead th {\n",
       "        text-align: right;\n",
       "    }\n",
       "</style>\n",
       "<table border=\"1\" class=\"dataframe\">\n",
       "  <thead>\n",
       "    <tr style=\"text-align: right;\">\n",
       "      <th></th>\n",
       "      <th>APPLICATION_NUMBER</th>\n",
       "      <th>TARGET</th>\n",
       "    </tr>\n",
       "  </thead>\n",
       "  <tbody>\n",
       "    <tr>\n",
       "      <th>0</th>\n",
       "      <td>123724268</td>\n",
       "      <td>0.069035</td>\n",
       "    </tr>\n",
       "    <tr>\n",
       "      <th>1</th>\n",
       "      <td>123456549</td>\n",
       "      <td>0.234344</td>\n",
       "    </tr>\n",
       "    <tr>\n",
       "      <th>2</th>\n",
       "      <td>123428178</td>\n",
       "      <td>0.186615</td>\n",
       "    </tr>\n",
       "    <tr>\n",
       "      <th>3</th>\n",
       "      <td>123619984</td>\n",
       "      <td>0.092586</td>\n",
       "    </tr>\n",
       "    <tr>\n",
       "      <th>4</th>\n",
       "      <td>123671104</td>\n",
       "      <td>0.025297</td>\n",
       "    </tr>\n",
       "  </tbody>\n",
       "</table>\n",
       "</div>"
      ],
      "text/plain": [
       "   APPLICATION_NUMBER    TARGET\n",
       "0           123724268  0.069035\n",
       "1           123456549  0.234344\n",
       "2           123428178  0.186615\n",
       "3           123619984  0.092586\n",
       "4           123671104  0.025297"
      ]
     },
     "execution_count": 241,
     "metadata": {},
     "output_type": "execute_result"
    }
   ],
   "source": [
    "prediction_mean3n = test_prep[['APPLICATION_NUMBER']].copy()\n",
    "prediction_mean3n[\"TARGET\"] = (test_predictions_xgb_c2 + test_prediction_nn + test_prediction_cnn) / 3\n",
    "prediction_mean3n.head()"
   ]
  },
  {
   "cell_type": "code",
   "execution_count": 242,
   "metadata": {
    "execution": {
     "iopub.execute_input": "2020-10-04T18:31:09.283960Z",
     "iopub.status.busy": "2020-10-04T18:31:09.282546Z",
     "iopub.status.idle": "2020-10-04T18:31:09.714768Z",
     "shell.execute_reply": "2020-10-04T18:31:09.715167Z"
    },
    "papermill": {
     "duration": 1.558496,
     "end_time": "2020-10-04T18:31:09.715309",
     "exception": false,
     "start_time": "2020-10-04T18:31:08.156813",
     "status": "completed"
    },
    "tags": []
   },
   "outputs": [],
   "source": [
    "prediction_mean3n.to_csv(working_dir + \"prediction_mean3n.csv\", sep=\",\", index=False)"
   ]
  },
  {
   "cell_type": "code",
   "execution_count": 243,
   "metadata": {
    "execution": {
     "iopub.execute_input": "2020-10-04T18:31:11.929475Z",
     "iopub.status.busy": "2020-10-04T18:31:11.928909Z",
     "iopub.status.idle": "2020-10-04T18:31:11.950371Z",
     "shell.execute_reply": "2020-10-04T18:31:11.949870Z"
    },
    "id": "pJN2Dkt7CgjV",
    "outputId": "d925742e-798c-4c4e-f888-6b6cdc121040",
    "papermill": {
     "duration": 1.148372,
     "end_time": "2020-10-04T18:31:11.950496",
     "exception": false,
     "start_time": "2020-10-04T18:31:10.802124",
     "status": "completed"
    },
    "tags": []
   },
   "outputs": [
    {
     "data": {
      "text/html": [
       "<div>\n",
       "<style scoped>\n",
       "    .dataframe tbody tr th:only-of-type {\n",
       "        vertical-align: middle;\n",
       "    }\n",
       "\n",
       "    .dataframe tbody tr th {\n",
       "        vertical-align: top;\n",
       "    }\n",
       "\n",
       "    .dataframe thead th {\n",
       "        text-align: right;\n",
       "    }\n",
       "</style>\n",
       "<table border=\"1\" class=\"dataframe\">\n",
       "  <thead>\n",
       "    <tr style=\"text-align: right;\">\n",
       "      <th></th>\n",
       "      <th>APPLICATION_NUMBER</th>\n",
       "      <th>TARGET</th>\n",
       "    </tr>\n",
       "  </thead>\n",
       "  <tbody>\n",
       "    <tr>\n",
       "      <th>0</th>\n",
       "      <td>123724268</td>\n",
       "      <td>0.057038</td>\n",
       "    </tr>\n",
       "    <tr>\n",
       "      <th>1</th>\n",
       "      <td>123456549</td>\n",
       "      <td>0.215218</td>\n",
       "    </tr>\n",
       "    <tr>\n",
       "      <th>2</th>\n",
       "      <td>123428178</td>\n",
       "      <td>0.183539</td>\n",
       "    </tr>\n",
       "    <tr>\n",
       "      <th>3</th>\n",
       "      <td>123619984</td>\n",
       "      <td>0.087018</td>\n",
       "    </tr>\n",
       "    <tr>\n",
       "      <th>4</th>\n",
       "      <td>123671104</td>\n",
       "      <td>0.026313</td>\n",
       "    </tr>\n",
       "  </tbody>\n",
       "</table>\n",
       "</div>"
      ],
      "text/plain": [
       "   APPLICATION_NUMBER    TARGET\n",
       "0           123724268  0.057038\n",
       "1           123456549  0.215218\n",
       "2           123428178  0.183539\n",
       "3           123619984  0.087018\n",
       "4           123671104  0.026313"
      ]
     },
     "execution_count": 243,
     "metadata": {},
     "output_type": "execute_result"
    }
   ],
   "source": [
    "prediction_geom3 = test_prep[['APPLICATION_NUMBER']].copy()\n",
    "prediction_geom3[\"TARGET\"] = abs(test_predictions_xgb_c2 * test_predictions_lgbm_c2 * test_preds_catb_f) ** (1/3)\n",
    "prediction_geom3.head()"
   ]
  },
  {
   "cell_type": "code",
   "execution_count": 244,
   "metadata": {
    "execution": {
     "iopub.execute_input": "2020-10-04T18:31:14.200066Z",
     "iopub.status.busy": "2020-10-04T18:31:14.199500Z",
     "iopub.status.idle": "2020-10-04T18:31:14.637407Z",
     "shell.execute_reply": "2020-10-04T18:31:14.636802Z"
    },
    "id": "o5hRnT7-CiJD",
    "papermill": {
     "duration": 1.561271,
     "end_time": "2020-10-04T18:31:14.637561",
     "exception": false,
     "start_time": "2020-10-04T18:31:13.076290",
     "status": "completed"
    },
    "tags": []
   },
   "outputs": [],
   "source": [
    "prediction_geom3.to_csv(working_dir + \"prediction_geom3.csv\", sep=\",\", index=False)"
   ]
  },
  {
   "cell_type": "code",
   "execution_count": 245,
   "metadata": {
    "execution": {
     "iopub.execute_input": "2020-10-04T18:31:16.961274Z",
     "iopub.status.busy": "2020-10-04T18:31:16.960584Z",
     "iopub.status.idle": "2020-10-04T18:31:16.970281Z",
     "shell.execute_reply": "2020-10-04T18:31:16.970720Z"
    },
    "papermill": {
     "duration": 1.145128,
     "end_time": "2020-10-04T18:31:16.970878",
     "exception": false,
     "start_time": "2020-10-04T18:31:15.825750",
     "status": "completed"
    },
    "tags": []
   },
   "outputs": [
    {
     "data": {
      "text/html": [
       "<div>\n",
       "<style scoped>\n",
       "    .dataframe tbody tr th:only-of-type {\n",
       "        vertical-align: middle;\n",
       "    }\n",
       "\n",
       "    .dataframe tbody tr th {\n",
       "        vertical-align: top;\n",
       "    }\n",
       "\n",
       "    .dataframe thead th {\n",
       "        text-align: right;\n",
       "    }\n",
       "</style>\n",
       "<table border=\"1\" class=\"dataframe\">\n",
       "  <thead>\n",
       "    <tr style=\"text-align: right;\">\n",
       "      <th></th>\n",
       "      <th>APPLICATION_NUMBER</th>\n",
       "      <th>TARGET</th>\n",
       "    </tr>\n",
       "  </thead>\n",
       "  <tbody>\n",
       "    <tr>\n",
       "      <th>0</th>\n",
       "      <td>123724268</td>\n",
       "      <td>0.059300</td>\n",
       "    </tr>\n",
       "    <tr>\n",
       "      <th>1</th>\n",
       "      <td>123456549</td>\n",
       "      <td>0.225678</td>\n",
       "    </tr>\n",
       "    <tr>\n",
       "      <th>2</th>\n",
       "      <td>123428178</td>\n",
       "      <td>0.156524</td>\n",
       "    </tr>\n",
       "    <tr>\n",
       "      <th>3</th>\n",
       "      <td>123619984</td>\n",
       "      <td>0.083758</td>\n",
       "    </tr>\n",
       "    <tr>\n",
       "      <th>4</th>\n",
       "      <td>123671104</td>\n",
       "      <td>0.019658</td>\n",
       "    </tr>\n",
       "  </tbody>\n",
       "</table>\n",
       "</div>"
      ],
      "text/plain": [
       "   APPLICATION_NUMBER    TARGET\n",
       "0           123724268  0.059300\n",
       "1           123456549  0.225678\n",
       "2           123428178  0.156524\n",
       "3           123619984  0.083758\n",
       "4           123671104  0.019658"
      ]
     },
     "execution_count": 245,
     "metadata": {},
     "output_type": "execute_result"
    }
   ],
   "source": [
    "prediction_geom2 = test_prep[['APPLICATION_NUMBER']].copy()\n",
    "prediction_geom2[\"TARGET\"] = abs(test_predictions_xgb_c2 * test_predictions_lgbm_c2) ** (1/2)\n",
    "prediction_geom2.head()"
   ]
  },
  {
   "cell_type": "code",
   "execution_count": 246,
   "metadata": {
    "execution": {
     "iopub.execute_input": "2020-10-04T18:31:19.152455Z",
     "iopub.status.busy": "2020-10-04T18:31:19.151754Z",
     "iopub.status.idle": "2020-10-04T18:31:19.588307Z",
     "shell.execute_reply": "2020-10-04T18:31:19.588773Z"
    },
    "papermill": {
     "duration": 1.522207,
     "end_time": "2020-10-04T18:31:19.588921",
     "exception": false,
     "start_time": "2020-10-04T18:31:18.066714",
     "status": "completed"
    },
    "tags": []
   },
   "outputs": [],
   "source": [
    "prediction_geom2.to_csv(working_dir + \"prediction_geom2.csv\", sep=\",\", index=False)"
   ]
  },
  {
   "cell_type": "markdown",
   "metadata": {
    "id": "yCw-KZxLNw92",
    "papermill": {
     "duration": 1.100125,
     "end_time": "2020-10-04T18:31:21.839745",
     "exception": false,
     "start_time": "2020-10-04T18:31:20.739620",
     "status": "completed"
    },
    "tags": []
   },
   "source": [
    "#### Стекинг"
   ]
  },
  {
   "cell_type": "code",
   "execution_count": 247,
   "metadata": {
    "execution": {
     "iopub.execute_input": "2020-10-04T18:31:24.056569Z",
     "iopub.status.busy": "2020-10-04T18:31:24.055931Z",
     "iopub.status.idle": "2020-10-04T18:31:24.064434Z",
     "shell.execute_reply": "2020-10-04T18:31:24.064840Z"
    },
    "id": "I6lTxY2An8Mm",
    "papermill": {
     "duration": 1.091802,
     "end_time": "2020-10-04T18:31:24.064983",
     "exception": false,
     "start_time": "2020-10-04T18:31:22.973181",
     "status": "completed"
    },
    "tags": []
   },
   "outputs": [],
   "source": [
    "all_model_test_pred = pd.DataFrame({\n",
    "    \"xgb_crop2\": test_predictions_xgb_c2,\n",
    "    \"lgbm_crop2\": test_predictions_lgbm_c2,\n",
    "    \"catb_crop2\": test_preds_catb_c2,\n",
    "    \"catb_full\": test_preds_catb_f,\n",
    "    \"catb_crop1\": test_preds_catb_c1,\n",
    "    \"lgbm_full\": test_predictions_lgbm_f,\n",
    "    \"lgbm_crop1\": test_predictions_lgbm_c1,\n",
    "    \"xgb_crop1\": test_predictions_xgb_c1,\n",
    "    \"nn\": test_prediction_nn,\n",
    "    \"cnn\": test_prediction_cnn\n",
    "})"
   ]
  },
  {
   "cell_type": "code",
   "execution_count": 248,
   "metadata": {
    "execution": {
     "iopub.execute_input": "2020-10-04T18:31:26.270805Z",
     "iopub.status.busy": "2020-10-04T18:31:26.270220Z",
     "iopub.status.idle": "2020-10-04T18:31:26.364162Z",
     "shell.execute_reply": "2020-10-04T18:31:26.363507Z"
    },
    "id": "F9_6fGOIKAoF",
    "outputId": "c23d3a8a-5551-46e4-b662-d532526f5942",
    "papermill": {
     "duration": 1.184989,
     "end_time": "2020-10-04T18:31:26.364276",
     "exception": false,
     "start_time": "2020-10-04T18:31:25.179287",
     "status": "completed"
    },
    "tags": []
   },
   "outputs": [
    {
     "data": {
      "text/html": [
       "<div>\n",
       "<style scoped>\n",
       "    .dataframe tbody tr th:only-of-type {\n",
       "        vertical-align: middle;\n",
       "    }\n",
       "\n",
       "    .dataframe tbody tr th {\n",
       "        vertical-align: top;\n",
       "    }\n",
       "\n",
       "    .dataframe thead th {\n",
       "        text-align: right;\n",
       "    }\n",
       "</style>\n",
       "<table border=\"1\" class=\"dataframe\">\n",
       "  <thead>\n",
       "    <tr style=\"text-align: right;\">\n",
       "      <th></th>\n",
       "      <th>xgb_crop2</th>\n",
       "      <th>lgbm_crop2</th>\n",
       "      <th>catb_crop2</th>\n",
       "      <th>catb_full</th>\n",
       "      <th>catb_crop1</th>\n",
       "      <th>lgbm_full</th>\n",
       "      <th>lgbm_crop1</th>\n",
       "      <th>xgb_crop1</th>\n",
       "      <th>nn</th>\n",
       "      <th>cnn</th>\n",
       "      <th>mean</th>\n",
       "      <th>geom</th>\n",
       "      <th>mean3</th>\n",
       "      <th>geom3</th>\n",
       "      <th>mean3n</th>\n",
       "    </tr>\n",
       "  </thead>\n",
       "  <tbody>\n",
       "    <tr>\n",
       "      <th>0</th>\n",
       "      <td>0.059588</td>\n",
       "      <td>0.059013</td>\n",
       "      <td>0.059567</td>\n",
       "      <td>0.052770</td>\n",
       "      <td>0.054802</td>\n",
       "      <td>0.052108</td>\n",
       "      <td>0.057782</td>\n",
       "      <td>0.053533</td>\n",
       "      <td>0.071663</td>\n",
       "      <td>0.075855</td>\n",
       "      <td>0.059668</td>\n",
       "      <td>0.059263</td>\n",
       "      <td>0.057124</td>\n",
       "      <td>0.057038</td>\n",
       "      <td>0.069035</td>\n",
       "    </tr>\n",
       "    <tr>\n",
       "      <th>1</th>\n",
       "      <td>0.235048</td>\n",
       "      <td>0.216681</td>\n",
       "      <td>0.208678</td>\n",
       "      <td>0.195730</td>\n",
       "      <td>0.202470</td>\n",
       "      <td>0.224168</td>\n",
       "      <td>0.211058</td>\n",
       "      <td>0.227791</td>\n",
       "      <td>0.250021</td>\n",
       "      <td>0.217963</td>\n",
       "      <td>0.218961</td>\n",
       "      <td>0.218488</td>\n",
       "      <td>0.215820</td>\n",
       "      <td>0.215218</td>\n",
       "      <td>0.234344</td>\n",
       "    </tr>\n",
       "    <tr>\n",
       "      <th>2</th>\n",
       "      <td>0.162605</td>\n",
       "      <td>0.150671</td>\n",
       "      <td>0.182488</td>\n",
       "      <td>0.252359</td>\n",
       "      <td>0.183067</td>\n",
       "      <td>0.152295</td>\n",
       "      <td>0.160347</td>\n",
       "      <td>0.149719</td>\n",
       "      <td>0.215225</td>\n",
       "      <td>0.182016</td>\n",
       "      <td>0.179079</td>\n",
       "      <td>0.176866</td>\n",
       "      <td>0.188545</td>\n",
       "      <td>0.183539</td>\n",
       "      <td>0.186615</td>\n",
       "    </tr>\n",
       "    <tr>\n",
       "      <th>3</th>\n",
       "      <td>0.084184</td>\n",
       "      <td>0.083334</td>\n",
       "      <td>0.084458</td>\n",
       "      <td>0.093925</td>\n",
       "      <td>0.084397</td>\n",
       "      <td>0.083556</td>\n",
       "      <td>0.083284</td>\n",
       "      <td>0.084376</td>\n",
       "      <td>0.095458</td>\n",
       "      <td>0.098115</td>\n",
       "      <td>0.087509</td>\n",
       "      <td>0.087355</td>\n",
       "      <td>0.087148</td>\n",
       "      <td>0.087018</td>\n",
       "      <td>0.092586</td>\n",
       "    </tr>\n",
       "    <tr>\n",
       "      <th>4</th>\n",
       "      <td>0.020450</td>\n",
       "      <td>0.018897</td>\n",
       "      <td>0.027025</td>\n",
       "      <td>0.047144</td>\n",
       "      <td>0.026974</td>\n",
       "      <td>0.019596</td>\n",
       "      <td>0.020910</td>\n",
       "      <td>0.015572</td>\n",
       "      <td>0.024774</td>\n",
       "      <td>0.030668</td>\n",
       "      <td>0.025201</td>\n",
       "      <td>0.024140</td>\n",
       "      <td>0.028830</td>\n",
       "      <td>0.026313</td>\n",
       "      <td>0.025297</td>\n",
       "    </tr>\n",
       "  </tbody>\n",
       "</table>\n",
       "</div>"
      ],
      "text/plain": [
       "   xgb_crop2  lgbm_crop2  catb_crop2  catb_full  catb_crop1  lgbm_full  \\\n",
       "0   0.059588    0.059013    0.059567   0.052770    0.054802   0.052108   \n",
       "1   0.235048    0.216681    0.208678   0.195730    0.202470   0.224168   \n",
       "2   0.162605    0.150671    0.182488   0.252359    0.183067   0.152295   \n",
       "3   0.084184    0.083334    0.084458   0.093925    0.084397   0.083556   \n",
       "4   0.020450    0.018897    0.027025   0.047144    0.026974   0.019596   \n",
       "\n",
       "   lgbm_crop1  xgb_crop1        nn       cnn      mean      geom     mean3  \\\n",
       "0    0.057782   0.053533  0.071663  0.075855  0.059668  0.059263  0.057124   \n",
       "1    0.211058   0.227791  0.250021  0.217963  0.218961  0.218488  0.215820   \n",
       "2    0.160347   0.149719  0.215225  0.182016  0.179079  0.176866  0.188545   \n",
       "3    0.083284   0.084376  0.095458  0.098115  0.087509  0.087355  0.087148   \n",
       "4    0.020910   0.015572  0.024774  0.030668  0.025201  0.024140  0.028830   \n",
       "\n",
       "      geom3    mean3n  \n",
       "0  0.057038  0.069035  \n",
       "1  0.215218  0.234344  \n",
       "2  0.183539  0.186615  \n",
       "3  0.087018  0.092586  \n",
       "4  0.026313  0.025297  "
      ]
     },
     "execution_count": 248,
     "metadata": {},
     "output_type": "execute_result"
    }
   ],
   "source": [
    "all_model_test_pred['mean'] = all_model_test_pred.sum(axis=1) / len(all_model_test_pred.columns)\n",
    "all_model_test_pred['geom'] = abs(all_model_test_pred.product(axis=1)) ** (1/len(all_model_test_pred.columns))\n",
    "all_model_test_pred['mean3'] = (test_predictions_xgb_c2 + test_predictions_lgbm_c2 + test_preds_catb_f) / 3\n",
    "all_model_test_pred['geom3'] = abs(test_predictions_xgb_c2 * test_predictions_lgbm_c2 * test_preds_catb_f) ** (1/3)\n",
    "all_model_test_pred['mean3n'] = (test_predictions_xgb_c2 + test_prediction_nn + test_prediction_cnn) / 3\n",
    "all_model_test_pred.head()"
   ]
  },
  {
   "cell_type": "code",
   "execution_count": 249,
   "metadata": {
    "execution": {
     "iopub.execute_input": "2020-10-04T18:31:28.628192Z",
     "iopub.status.busy": "2020-10-04T18:31:28.627587Z",
     "iopub.status.idle": "2020-10-04T18:31:29.175215Z",
     "shell.execute_reply": "2020-10-04T18:31:29.176198Z"
    },
    "id": "9WxN_OnuLhQE",
    "outputId": "b4d4069f-be73-4657-e511-4e4d59cb5b23",
    "papermill": {
     "duration": 1.690462,
     "end_time": "2020-10-04T18:31:29.176368",
     "exception": false,
     "start_time": "2020-10-04T18:31:27.485906",
     "status": "completed"
    },
    "tags": []
   },
   "outputs": [
    {
     "data": {
      "text/plain": [
       "LGBMRegressor(learning_rate=0.05, num_leaves=26, seed=42, subsample=0.5)"
      ]
     },
     "execution_count": 249,
     "metadata": {},
     "output_type": "execute_result"
    }
   ],
   "source": [
    "X_train, X_valid, y_train, y_valid = train_test_split(model_list_crop, \n",
    "                                                      train_prep[\"TARGET\"], \n",
    "                                                      test_size=0.2, \n",
    "                                                      random_state=42)\n",
    "\n",
    "# dftrainLGB = lgbm.Dataset(data = model_list_crop, label = train_prep[\"TARGET\"])\n",
    "\n",
    "model = lgbm.LGBMRegressor(num_leaves=26,\n",
    "                           n_estimators=100,\n",
    "                           learning_rate=0.05,\n",
    "                           subsample=0.5, \n",
    "                           seed=42)\n",
    "\n",
    "model.fit(X_train, y_train,\n",
    "          early_stopping_rounds=50, \n",
    "          eval_set = [(X_valid, y_valid)], \n",
    "          eval_metric = 'auc', \n",
    "          verbose=False)"
   ]
  },
  {
   "cell_type": "code",
   "execution_count": 250,
   "metadata": {
    "execution": {
     "iopub.execute_input": "2020-10-04T18:31:31.400779Z",
     "iopub.status.busy": "2020-10-04T18:31:31.400147Z",
     "iopub.status.idle": "2020-10-04T18:31:31.543919Z",
     "shell.execute_reply": "2020-10-04T18:31:31.544659Z"
    },
    "id": "9HfcIK_dN35t",
    "outputId": "e93c49a7-c8b4-40d0-a5b3-2520dce39a42",
    "papermill": {
     "duration": 1.230941,
     "end_time": "2020-10-04T18:31:31.544833",
     "exception": false,
     "start_time": "2020-10-04T18:31:30.313892",
     "status": "completed"
    },
    "tags": []
   },
   "outputs": [
    {
     "data": {
      "text/html": [
       "<div>\n",
       "<style scoped>\n",
       "    .dataframe tbody tr th:only-of-type {\n",
       "        vertical-align: middle;\n",
       "    }\n",
       "\n",
       "    .dataframe tbody tr th {\n",
       "        vertical-align: top;\n",
       "    }\n",
       "\n",
       "    .dataframe thead th {\n",
       "        text-align: right;\n",
       "    }\n",
       "</style>\n",
       "<table border=\"1\" class=\"dataframe\">\n",
       "  <thead>\n",
       "    <tr style=\"text-align: right;\">\n",
       "      <th></th>\n",
       "      <th>APPLICATION_NUMBER</th>\n",
       "      <th>TARGET</th>\n",
       "    </tr>\n",
       "  </thead>\n",
       "  <tbody>\n",
       "    <tr>\n",
       "      <th>0</th>\n",
       "      <td>123724268</td>\n",
       "      <td>0.062230</td>\n",
       "    </tr>\n",
       "    <tr>\n",
       "      <th>1</th>\n",
       "      <td>123456549</td>\n",
       "      <td>0.221280</td>\n",
       "    </tr>\n",
       "    <tr>\n",
       "      <th>2</th>\n",
       "      <td>123428178</td>\n",
       "      <td>0.205822</td>\n",
       "    </tr>\n",
       "    <tr>\n",
       "      <th>3</th>\n",
       "      <td>123619984</td>\n",
       "      <td>0.085772</td>\n",
       "    </tr>\n",
       "    <tr>\n",
       "      <th>4</th>\n",
       "      <td>123671104</td>\n",
       "      <td>0.021854</td>\n",
       "    </tr>\n",
       "  </tbody>\n",
       "</table>\n",
       "</div>"
      ],
      "text/plain": [
       "   APPLICATION_NUMBER    TARGET\n",
       "0           123724268  0.062230\n",
       "1           123456549  0.221280\n",
       "2           123428178  0.205822\n",
       "3           123619984  0.085772\n",
       "4           123671104  0.021854"
      ]
     },
     "execution_count": 250,
     "metadata": {},
     "output_type": "execute_result"
    }
   ],
   "source": [
    "prediction_st = test_prep[['APPLICATION_NUMBER']].copy()\n",
    "prediction_st[\"TARGET\"] = model.predict(all_model_test_pred[model_list])\n",
    "prediction_st.head()"
   ]
  },
  {
   "cell_type": "code",
   "execution_count": 251,
   "metadata": {
    "execution": {
     "iopub.execute_input": "2020-10-04T18:31:33.853932Z",
     "iopub.status.busy": "2020-10-04T18:31:33.853313Z",
     "iopub.status.idle": "2020-10-04T18:31:33.856164Z",
     "shell.execute_reply": "2020-10-04T18:31:33.856567Z"
    },
    "id": "yp4OrWRvN35y",
    "outputId": "6837382d-947e-4df7-d050-9ab6aa0863ac",
    "papermill": {
     "duration": 1.100862,
     "end_time": "2020-10-04T18:31:33.856712",
     "exception": false,
     "start_time": "2020-10-04T18:31:32.755850",
     "status": "completed"
    },
    "tags": []
   },
   "outputs": [
    {
     "data": {
      "text/html": [
       "<div>\n",
       "<style scoped>\n",
       "    .dataframe tbody tr th:only-of-type {\n",
       "        vertical-align: middle;\n",
       "    }\n",
       "\n",
       "    .dataframe tbody tr th {\n",
       "        vertical-align: top;\n",
       "    }\n",
       "\n",
       "    .dataframe thead th {\n",
       "        text-align: right;\n",
       "    }\n",
       "</style>\n",
       "<table border=\"1\" class=\"dataframe\">\n",
       "  <thead>\n",
       "    <tr style=\"text-align: right;\">\n",
       "      <th></th>\n",
       "      <th>APPLICATION_NUMBER</th>\n",
       "      <th>TARGET</th>\n",
       "    </tr>\n",
       "  </thead>\n",
       "  <tbody>\n",
       "    <tr>\n",
       "      <th>165136</th>\n",
       "      <td>123487967</td>\n",
       "      <td>0.085772</td>\n",
       "    </tr>\n",
       "    <tr>\n",
       "      <th>165137</th>\n",
       "      <td>123536402</td>\n",
       "      <td>0.049687</td>\n",
       "    </tr>\n",
       "    <tr>\n",
       "      <th>165138</th>\n",
       "      <td>123718238</td>\n",
       "      <td>0.085772</td>\n",
       "    </tr>\n",
       "    <tr>\n",
       "      <th>165139</th>\n",
       "      <td>123631557</td>\n",
       "      <td>0.021854</td>\n",
       "    </tr>\n",
       "    <tr>\n",
       "      <th>165140</th>\n",
       "      <td>123433260</td>\n",
       "      <td>0.035505</td>\n",
       "    </tr>\n",
       "  </tbody>\n",
       "</table>\n",
       "</div>"
      ],
      "text/plain": [
       "        APPLICATION_NUMBER    TARGET\n",
       "165136           123487967  0.085772\n",
       "165137           123536402  0.049687\n",
       "165138           123718238  0.085772\n",
       "165139           123631557  0.021854\n",
       "165140           123433260  0.035505"
      ]
     },
     "execution_count": 251,
     "metadata": {},
     "output_type": "execute_result"
    }
   ],
   "source": [
    "prediction_st.tail()"
   ]
  },
  {
   "cell_type": "code",
   "execution_count": 252,
   "metadata": {
    "execution": {
     "iopub.execute_input": "2020-10-04T18:31:36.099913Z",
     "iopub.status.busy": "2020-10-04T18:31:36.098745Z",
     "iopub.status.idle": "2020-10-04T18:31:36.532737Z",
     "shell.execute_reply": "2020-10-04T18:31:36.532190Z"
    },
    "id": "sK2dYH-3N352",
    "papermill": {
     "duration": 1.549583,
     "end_time": "2020-10-04T18:31:36.532864",
     "exception": false,
     "start_time": "2020-10-04T18:31:34.983281",
     "status": "completed"
    },
    "tags": []
   },
   "outputs": [],
   "source": [
    "prediction_st.to_csv(working_dir + \"prediction_st.csv\", sep=\",\", index=False)"
   ]
  },
  {
   "cell_type": "code",
   "execution_count": null,
   "metadata": {
    "id": "TFMH2YFON3bS",
    "papermill": {
     "duration": 1.124174,
     "end_time": "2020-10-04T18:31:38.773164",
     "exception": false,
     "start_time": "2020-10-04T18:31:37.648990",
     "status": "completed"
    },
    "tags": []
   },
   "outputs": [],
   "source": []
  }
 ],
 "metadata": {
  "kernelspec": {
   "display_name": "Python 3",
   "language": "python",
   "name": "python3"
  },
  "language_info": {
   "codemirror_mode": {
    "name": "ipython",
    "version": 3
   },
   "file_extension": ".py",
   "mimetype": "text/x-python",
   "name": "python",
   "nbconvert_exporter": "python",
   "pygments_lexer": "ipython3",
   "version": "3.8.5"
  },
  "papermill": {
   "duration": 2738.286934,
   "end_time": "2020-10-04T18:31:40.134640",
   "environment_variables": {},
   "exception": null,
   "input_path": "__notebook__.ipynb",
   "output_path": "__notebook__.ipynb",
   "parameters": {},
   "start_time": "2020-10-04T17:46:01.847706",
   "version": "2.1.0"
  }
 },
 "nbformat": 4,
 "nbformat_minor": 4
}
